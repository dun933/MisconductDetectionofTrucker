{
 "cells": [
  {
   "cell_type": "code",
   "execution_count": 3,
   "metadata": {},
   "outputs": [],
   "source": [
    "import time\n",
    "import win32api,win32gui,win32con, win32ui\n",
    "from ctypes import *\n",
    "import cv2\n",
    "import sys\n",
    "import numpy as np\n",
    "import os"
   ]
  },
  {
   "cell_type": "code",
   "execution_count": 8,
   "metadata": {},
   "outputs": [],
   "source": [
    "def window_capture(filename):\n",
    "    hwnd = 0 # 視窗的編號，0號表示當前活躍視窗\n",
    "    # 根據視窗控制代碼獲取視窗的裝置上下文DC（Divice Context）\n",
    "    hwndDC = win32gui.GetWindowDC(hwnd)\n",
    "    # 根據視窗的DC獲取mfcDC\n",
    "    mfcDC = win32ui.CreateDCFromHandle(hwndDC)\n",
    "    # mfcDC建立可相容的DC\n",
    "    saveDC = mfcDC.CreateCompatibleDC()\n",
    "    # 建立bigmap準備儲存圖片\n",
    "    saveBitMap = win32ui.CreateBitmap()\n",
    "    # 獲取監控器資訊\n",
    "    MoniterDev = win32api.EnumDisplayMonitors(None, None)\n",
    "    w = MoniterDev[1][2][2]\n",
    "    h = MoniterDev[1][2][3]\n",
    "    print(w,h)\n",
    "    print(MoniterDev)\n",
    "    # print w,h　　　#圖片大小\n",
    "    # 為bitmap開闢空間\n",
    "    saveBitMap.CreateCompatibleBitmap(mfcDC, w, h)\n",
    "    # 高度saveDC，將截圖儲存到saveBitmap中\n",
    "    saveDC.SelectObject(saveBitMap)\n",
    "    # 擷取從左上角（0，0）長寬為（w，h）的圖片\n",
    "#     w = 1640\n",
    "#     h = 289\n",
    "#     saveDC.BitBlt((260, 572), (w, h), mfcDC, (260, 572), win32con.SRCCOPY)\n",
    "    saveDC.BitBlt((0,0), (w, h), mfcDC, (0,0), win32con.SRCCOPY)\n",
    "    saveBitMap.SaveBitmapFile(saveDC, filename)"
   ]
  },
  {
   "cell_type": "code",
   "execution_count": 9,
   "metadata": {},
   "outputs": [
    {
     "name": "stdout",
     "output_type": "stream",
     "text": [
      "-288 2196\n",
      "[(<PyHANDLE:1692863387>, <PyHANDLE:0>, (-1440, 148, -288, 2196)), (<PyHANDLE:2088373047>, <PyHANDLE:0>, (0, 0, 1920, 1080))]\n"
     ]
    },
    {
     "ename": "error",
     "evalue": "CreateCompatibleDC failed",
     "output_type": "error",
     "traceback": [
      "\u001b[1;31m---------------------------------------------------------------------------\u001b[0m",
      "\u001b[1;31merror\u001b[0m                                     Traceback (most recent call last)",
      "\u001b[1;32m<ipython-input-9-9c6be10fd635>\u001b[0m in \u001b[0;36m<module>\u001b[1;34m\u001b[0m\n\u001b[1;32m----> 1\u001b[1;33m \u001b[0mwindow_capture\u001b[0m\u001b[1;33m(\u001b[0m\u001b[1;34m\"haha1.jpg\"\u001b[0m\u001b[1;33m)\u001b[0m\u001b[1;33m\u001b[0m\u001b[1;33m\u001b[0m\u001b[0m\n\u001b[0m",
      "\u001b[1;32m<ipython-input-8-d3db70b99579>\u001b[0m in \u001b[0;36mwindow_capture\u001b[1;34m(filename)\u001b[0m\n\u001b[0;32m     17\u001b[0m     \u001b[1;31m# print w,h　　　#圖片大小\u001b[0m\u001b[1;33m\u001b[0m\u001b[1;33m\u001b[0m\u001b[1;33m\u001b[0m\u001b[0m\n\u001b[0;32m     18\u001b[0m     \u001b[1;31m# 為bitmap開闢空間\u001b[0m\u001b[1;33m\u001b[0m\u001b[1;33m\u001b[0m\u001b[1;33m\u001b[0m\u001b[0m\n\u001b[1;32m---> 19\u001b[1;33m     \u001b[0msaveBitMap\u001b[0m\u001b[1;33m.\u001b[0m\u001b[0mCreateCompatibleBitmap\u001b[0m\u001b[1;33m(\u001b[0m\u001b[0mmfcDC\u001b[0m\u001b[1;33m,\u001b[0m \u001b[0mw\u001b[0m\u001b[1;33m,\u001b[0m \u001b[0mh\u001b[0m\u001b[1;33m)\u001b[0m\u001b[1;33m\u001b[0m\u001b[1;33m\u001b[0m\u001b[0m\n\u001b[0m\u001b[0;32m     20\u001b[0m     \u001b[1;31m# 高度saveDC，將截圖儲存到saveBitmap中\u001b[0m\u001b[1;33m\u001b[0m\u001b[1;33m\u001b[0m\u001b[1;33m\u001b[0m\u001b[0m\n\u001b[0;32m     21\u001b[0m     \u001b[0msaveDC\u001b[0m\u001b[1;33m.\u001b[0m\u001b[0mSelectObject\u001b[0m\u001b[1;33m(\u001b[0m\u001b[0msaveBitMap\u001b[0m\u001b[1;33m)\u001b[0m\u001b[1;33m\u001b[0m\u001b[1;33m\u001b[0m\u001b[0m\n",
      "\u001b[1;31merror\u001b[0m: CreateCompatibleDC failed"
     ]
    }
   ],
   "source": [
    "window_capture(\"haha1.jpg\")"
   ]
  },
  {
   "cell_type": "code",
   "execution_count": null,
   "metadata": {},
   "outputs": [],
   "source": []
  }
 ],
 "metadata": {
  "kernelspec": {
   "display_name": "Python 3",
   "language": "python",
   "name": "python3"
  },
  "language_info": {
   "codemirror_mode": {
    "name": "ipython",
    "version": 3
   },
   "file_extension": ".py",
   "mimetype": "text/x-python",
   "name": "python",
   "nbconvert_exporter": "python",
   "pygments_lexer": "ipython3",
   "version": "3.6.8"
  }
 },
 "nbformat": 4,
 "nbformat_minor": 2
}
