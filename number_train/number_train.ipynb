{
 "cells": [
  {
   "cell_type": "code",
   "execution_count": 1,
   "metadata": {},
   "outputs": [],
   "source": [
    "import sys\n",
    "import numpy as np\n",
    "import cv2"
   ]
  },
  {
   "cell_type": "code",
   "execution_count": 2,
   "metadata": {},
   "outputs": [],
   "source": [
    "im = cv2.imread('number4.png')\n",
    "im3 = im.copy()\n",
    "#ret,im = cv2.threshold(im,127,255,cv2.THRESH_BINARY_INV)\n",
    "gray = cv2.cvtColor(im,cv2.COLOR_BGR2GRAY)\n",
    "\n",
    "#blur = cv2.GaussianBlur(gray,(5,5),0)\n",
    "# thresh = cv2.adaptiveThreshold(blur,255,1,1,11,2)\n",
    "thresh = cv2.adaptiveThreshold(gray,255,1,1,11,2)\n",
    "# cv2.imshow('123',thresh)\n",
    "# cv2.waitKey(0)\n",
    "# cv2.destroyAllWindows()\n",
    "#thresh = cv2.adaptiveThreshold(gray,255,1,1,11,2)\n",
    "_,contours,_ = cv2.findContours(thresh,cv2.RETR_LIST,cv2.CHAIN_APPROX_SIMPLE)"
   ]
  },
  {
   "cell_type": "code",
   "execution_count": 3,
   "metadata": {},
   "outputs": [],
   "source": [
    "samples = np.empty((0,100))\n",
    "responses = []\n",
    "keys = [i for i in range(48,58)]"
   ]
  },
  {
   "cell_type": "code",
   "execution_count": 4,
   "metadata": {},
   "outputs": [
    {
     "name": "stdout",
     "output_type": "stream",
     "text": [
      "cnt 14.0\n",
      "size [333, 15, 5, 5]\n",
      "cnt 18.0\n",
      "size [245, 15, 5, 6]\n",
      "cnt 7.5\n",
      "size [155, 13, 4, 5]\n",
      "cnt 18.0\n",
      "size [379, 11, 5, 6]\n",
      "cnt 14.0\n",
      "size [333, 11, 5, 5]\n",
      "cnt 19.0\n",
      "size [245, 12, 5, 9]\n",
      "key 6\n",
      "cnt 1.0\n",
      "size [202, 12, 5, 9]\n",
      "key 5\n",
      "cnt 30.0\n",
      "size [431, 10, 5, 9]\n",
      "key 0\n",
      "cnt 19.0\n",
      "size [379, 11, 5, 9]\n",
      "key 9\n",
      "cnt 28.0\n",
      "size [333, 11, 5, 9]\n",
      "key 8\n",
      "cnt 1.0\n",
      "size [290, 11, 5, 9]\n",
      "key 7\n",
      "cnt 12.0\n",
      "size [155, 11, 5, 9]\n",
      "key 4\n",
      "cnt 1.5\n",
      "size [67, 11, 5, 9]\n",
      "key 2\n",
      "cnt 2.0\n",
      "size [22, 11, 3, 9]\n",
      "key 1\n",
      "cnt 30.0\n",
      "size [431, 10, 5, 9]\n",
      "key 0\n",
      "cnt 0.5\n",
      "size [113, 10, 5, 9]\n",
      "key 3\n"
     ]
    }
   ],
   "source": [
    "for cnt in contours:\n",
    "    print('cnt',cv2.contourArea(cnt))\n",
    "    if cv2.contourArea(cnt)>0:\n",
    "        [x,y,w,h] = cv2.boundingRect(cnt)\n",
    "        print('size',[x,y,w,h])\n",
    "        if h>8:\n",
    "            cv2.rectangle(im,(x,y),(x+w,y+h),(0,0,255),1)\n",
    "            roi = thresh[y:y+h,x:x+w]\n",
    "            roismall = cv2.resize(roi,(10,10))\n",
    "            cv2.imshow('norm',im)\n",
    "            key = cv2.waitKey(0)\n",
    "            \n",
    "            if key==27:\n",
    "                sys.exit()\n",
    "            elif key in keys:\n",
    "                responses.append(int(chr(key)))\n",
    "                print('key',chr(key))\n",
    "                sample = roismall.reshape((1,100))\n",
    "                samples = np.append(samples,sample,0)"
   ]
  },
  {
   "cell_type": "code",
   "execution_count": 5,
   "metadata": {},
   "outputs": [
    {
     "name": "stdout",
     "output_type": "stream",
     "text": [
      "training complete\n"
     ]
    }
   ],
   "source": [
    "responses = np.array(responses,np.float32)\n",
    "responses = responses.reshape((responses.size,1))\n",
    "print('training complete')"
   ]
  },
  {
   "cell_type": "code",
   "execution_count": 6,
   "metadata": {},
   "outputs": [],
   "source": [
    "np.savetxt('generalsamples.data',samples)\n",
    "np.savetxt('generalresponses.data',responses)\n",
    "cv2.waitKey(0)\n",
    "cv2.destroyAllWindows()"
   ]
  },
  {
   "cell_type": "code",
   "execution_count": null,
   "metadata": {},
   "outputs": [],
   "source": []
  },
  {
   "cell_type": "code",
   "execution_count": null,
   "metadata": {},
   "outputs": [],
   "source": []
  },
  {
   "cell_type": "code",
   "execution_count": null,
   "metadata": {},
   "outputs": [],
   "source": []
  }
 ],
 "metadata": {
  "kernelspec": {
   "display_name": "Python 3",
   "language": "python",
   "name": "python3"
  },
  "language_info": {
   "codemirror_mode": {
    "name": "ipython",
    "version": 3
   },
   "file_extension": ".py",
   "mimetype": "text/x-python",
   "name": "python",
   "nbconvert_exporter": "python",
   "pygments_lexer": "ipython3",
   "version": "3.6.6"
  }
 },
 "nbformat": 4,
 "nbformat_minor": 2
}
