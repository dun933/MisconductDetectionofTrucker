{
 "cells": [
  {
   "cell_type": "code",
   "execution_count": 1,
   "metadata": {},
   "outputs": [],
   "source": [
    "import sys\n",
    "import numpy as np\n",
    "import cv2"
   ]
  },
  {
   "cell_type": "code",
   "execution_count": 2,
   "metadata": {},
   "outputs": [
    {
     "data": {
      "text/plain": [
       "True"
      ]
     },
     "execution_count": 2,
     "metadata": {},
     "output_type": "execute_result"
    }
   ],
   "source": [
    "samples = np.loadtxt('generalsamples.data',np.float32)\n",
    "responses = np.loadtxt('generalresponses.data',np.float32)\n",
    "responses = responses.reshape((responses.size,1))\n",
    "model = cv2.ml.KNearest_create()\n",
    "model.train(samples,cv2.ml.ROW_SAMPLE,responses)"
   ]
  },
  {
   "cell_type": "code",
   "execution_count": 3,
   "metadata": {},
   "outputs": [],
   "source": [
    "source1 = 'number10.png'\n",
    "source2 = 'number13.png'"
   ]
  },
  {
   "cell_type": "markdown",
   "metadata": {},
   "source": [
    "## Year and Month"
   ]
  },
  {
   "cell_type": "code",
   "execution_count": 4,
   "metadata": {},
   "outputs": [],
   "source": [
    "im = cv2.imread(source1)\n",
    "out = np.zeros(im.shape,np.uint8)\n",
    "ret,im = cv2.threshold(im,127,255,cv2.THRESH_BINARY_INV)\n",
    "\n",
    "\n",
    "gray = cv2.cvtColor(im,cv2.COLOR_BGR2GRAY)\n",
    "thresh = cv2.adaptiveThreshold(gray,255,1,1,11,2)\n",
    "# cv2.imshow('123',thresh)\n",
    "# cv2.waitKey(0)\n",
    "# cv2.destroyAllWindows()\n",
    "_,contours,_ = cv2.findContours(thresh,cv2.RETR_LIST,cv2.CHAIN_APPROX_SIMPLE)"
   ]
  },
  {
   "cell_type": "code",
   "execution_count": 5,
   "metadata": {},
   "outputs": [],
   "source": [
    "count = 0\n",
    "num_str = 8*['0']"
   ]
  },
  {
   "cell_type": "code",
   "execution_count": 6,
   "metadata": {},
   "outputs": [
    {
     "name": "stdout",
     "output_type": "stream",
     "text": [
      "0.0\n",
      "54.0\n",
      "[52, 4, 7, 12]\n",
      "word 0\n",
      "34.0\n",
      "[31, 4, 7, 8]\n",
      "54.0\n",
      "[15, 4, 7, 12]\n",
      "word 0\n",
      "2.0\n",
      "[61, 4, 5, 12]\n",
      "word 1\n",
      "54.0\n",
      "[52, 4, 7, 12]\n",
      "word 0\n",
      "35.0\n",
      "[31, 4, 7, 12]\n",
      "word 9\n",
      "2.0\n",
      "[24, 4, 5, 12]\n",
      "word 1\n",
      "54.0\n",
      "[15, 4, 7, 12]\n",
      "word 0\n",
      "1.0\n",
      "[7, 4, 7, 12]\n",
      "word 2\n"
     ]
    }
   ],
   "source": [
    "for cnt in contours:\n",
    "    print(cv2.contourArea(cnt))\n",
    "    if cv2.contourArea(cnt)>0:\n",
    "        [x,y,w,h] = cv2.boundingRect(cnt)\n",
    "        print([x,y,w,h])\n",
    "        if h>10:\n",
    "            cv2.rectangle(im,(x,y),(x+w,y+h),(0,255,0),1)\n",
    "            roi = thresh[y:y+h,x:x+w]\n",
    "            roismall = cv2.resize(roi,(10,10))\n",
    "            roismall = roismall.reshape((1,100))\n",
    "            roismall = np.float32(roismall)\n",
    "            retval, results, neigh_resp, dists = model.findNearest(roismall, k=1)\n",
    "            string = str(int(results[0][0]))\n",
    "            print('word',string)\n",
    "            num_str[count] = string\n",
    "            count += 1\n",
    "            cv2.putText(out,string,(x,y+h),0,1,(0,255,0))\n",
    "           \n",
    "            "
   ]
  },
  {
   "cell_type": "code",
   "execution_count": 7,
   "metadata": {},
   "outputs": [
    {
     "name": "stdout",
     "output_type": "stream",
     "text": [
      "20190100\n"
     ]
    }
   ],
   "source": [
    "number = map(int, num_str)\n",
    "tmp = []\n",
    "for i in num_str:\n",
    "    tmp.append(i)\n",
    "tmp.reverse()\n",
    "temp_str = ''\n",
    "num_data = temp_str.join(tmp)\n",
    "print(num_data)\n",
    "num1 = num_data"
   ]
  },
  {
   "cell_type": "markdown",
   "metadata": {},
   "source": [
    "## Date"
   ]
  },
  {
   "cell_type": "code",
   "execution_count": 8,
   "metadata": {},
   "outputs": [],
   "source": [
    "im = cv2.imread(source2)\n",
    "out = np.zeros(im.shape,np.uint8)\n",
    "ret,im = cv2.threshold(im,127,255,cv2.THRESH_BINARY_INV)\n",
    "gray = cv2.cvtColor(im,cv2.COLOR_BGR2GRAY)\n",
    "thresh = cv2.adaptiveThreshold(gray,255,1,1,11,2)\n",
    "# cv2.imshow('123',thresh)\n",
    "# cv2.waitKey(0)\n",
    "# cv2.destroyAllWindows()\n",
    "_,contours,_ = cv2.findContours(thresh,cv2.RETR_LIST,cv2.CHAIN_APPROX_SIMPLE)\n"
   ]
  },
  {
   "cell_type": "code",
   "execution_count": 9,
   "metadata": {},
   "outputs": [],
   "source": [
    "count = 0\n",
    "num_str = 8*['0']"
   ]
  },
  {
   "cell_type": "code",
   "execution_count": 10,
   "metadata": {},
   "outputs": [
    {
     "name": "stdout",
     "output_type": "stream",
     "text": [
      "30.0\n",
      "[12, 5, 5, 9]\n",
      "word 0\n",
      "30.0\n",
      "[12, 5, 5, 9]\n",
      "1.5\n",
      "[6, 5, 5, 9]\n",
      "word 2\n"
     ]
    }
   ],
   "source": [
    "taboo = []\n",
    "for cnt in contours:\n",
    "    print(cv2.contourArea(cnt))\n",
    "    if cv2.contourArea(cnt)>0:\n",
    "        [x,y,w,h] = cv2.boundingRect(cnt)\n",
    "        print([x,y,w,h])\n",
    "        if h>6:\n",
    "            if [x,y,w,h] not in taboo:\n",
    "                taboo.append([x,y,w,h])\n",
    "                cv2.rectangle(im,(x,y),(x+w,y+h),(0,255,0),1)\n",
    "                roi = thresh[y:y+h,x:x+w]\n",
    "                roismall = cv2.resize(roi,(10,10))\n",
    "                roismall = roismall.reshape((1,100))\n",
    "                roismall = np.float32(roismall)\n",
    "                retval, results, neigh_resp, dists = model.findNearest(roismall, k=1)\n",
    "                string = str(int(results[0][0]))\n",
    "                print('word',string)\n",
    "                num_str[count] = string\n",
    "                count += 1\n",
    "                cv2.putText(out,string,(x,y+h),0,1,(0,255,0))\n",
    "           \n",
    "            "
   ]
  },
  {
   "cell_type": "code",
   "execution_count": 11,
   "metadata": {},
   "outputs": [
    {
     "name": "stdout",
     "output_type": "stream",
     "text": [
      "00000020\n"
     ]
    }
   ],
   "source": [
    "number = map(int, num_str)\n",
    "# cv2.imshow('im',im)\n",
    "# cv2.imshow('out',out)\n",
    "tmp = []\n",
    "for i in num_str:\n",
    "    tmp.append(i)\n",
    "tmp.reverse()\n",
    "temp_str = ''\n",
    "num_data = temp_str.join(tmp)\n",
    "print(num_data)\n",
    "num2 = num_data\n",
    "# cv2.waitKey(0)"
   ]
  },
  {
   "cell_type": "markdown",
   "metadata": {},
   "source": [
    "## Result"
   ]
  },
  {
   "cell_type": "code",
   "execution_count": 12,
   "metadata": {},
   "outputs": [
    {
     "name": "stdout",
     "output_type": "stream",
     "text": [
      "20190120\n"
     ]
    }
   ],
   "source": [
    "num = num1[:-2]+num2[-2:]\n",
    "print(num)"
   ]
  },
  {
   "cell_type": "code",
   "execution_count": 13,
   "metadata": {},
   "outputs": [],
   "source": [
    "with open('data.txt','w') as f:\n",
    "    f.write(num)\n",
    "    f.close()"
   ]
  },
  {
   "cell_type": "code",
   "execution_count": null,
   "metadata": {},
   "outputs": [],
   "source": []
  },
  {
   "cell_type": "code",
   "execution_count": null,
   "metadata": {},
   "outputs": [],
   "source": []
  },
  {
   "cell_type": "code",
   "execution_count": null,
   "metadata": {},
   "outputs": [],
   "source": []
  },
  {
   "cell_type": "code",
   "execution_count": null,
   "metadata": {},
   "outputs": [],
   "source": []
  },
  {
   "cell_type": "code",
   "execution_count": null,
   "metadata": {},
   "outputs": [],
   "source": []
  }
 ],
 "metadata": {
  "kernelspec": {
   "display_name": "Python 3",
   "language": "python",
   "name": "python3"
  },
  "language_info": {
   "codemirror_mode": {
    "name": "ipython",
    "version": 3
   },
   "file_extension": ".py",
   "mimetype": "text/x-python",
   "name": "python",
   "nbconvert_exporter": "python",
   "pygments_lexer": "ipython3",
   "version": "3.6.6"
  }
 },
 "nbformat": 4,
 "nbformat_minor": 2
}
