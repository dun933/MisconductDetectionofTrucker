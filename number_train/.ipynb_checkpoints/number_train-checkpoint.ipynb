{
 "cells": [
  {
   "cell_type": "code",
   "execution_count": 1,
   "metadata": {},
   "outputs": [],
   "source": [
    "import sys\n",
    "import numpy as np\n",
    "import cv2"
   ]
  },
  {
   "cell_type": "code",
   "execution_count": 2,
   "metadata": {},
   "outputs": [],
   "source": [
    "im = cv2.imread('number4.png')\n",
    "im3 = im.copy()\n",
    "gray = cv2.cvtColor(im,cv2.COLOR_BGR2GRAY)\n",
    "blur = cv2.GaussianBlur(gray,(5,5),0)\n",
    "thresh = cv2.adaptiveThreshold(blur,255,1,1,11,2)\n",
    "_,contours,_ = cv2.findContours(thresh,cv2.RETR_LIST,cv2.CHAIN_APPROX_SIMPLE)"
   ]
  },
  {
   "cell_type": "code",
   "execution_count": 3,
   "metadata": {},
   "outputs": [],
   "source": [
    "samples = np.empty((0,100))\n",
    "responses = []\n",
    "keys = [i for i in range(48,58)]"
   ]
  },
  {
   "cell_type": "code",
   "execution_count": 4,
   "metadata": {},
   "outputs": [],
   "source": [
    "for cnt in contours:\n",
    "    print(cv2.contourArea(cnt))\n",
    "    if cv2.contourArea(cnt)>50:\n",
    "        [x,y,w,h] = cv2.boundingRect(cnt)\n",
    "        print([x,y,w,h])\n",
    "        if h>36:\n",
    "            cv2.rectangle(im,(x,y),(x+w,y+h),(0,0,255),2)\n",
    "            roi = thresh[y:y+h,x:x+w]\n",
    "            roismall = cv2.resize(roi,(10,10))\n",
    "            cv2.imshow('norm',im)\n",
    "            key = cv2.waitKey(0)\n",
    "            \n",
    "            if key==27:\n",
    "                sys.exit()\n",
    "            elif key in keys:\n",
    "                responses.append(int(chr(key)))\n",
    "                sample = roismall.reshape((1,100))\n",
    "                samples = np.append(samples,sample,0)"
   ]
  },
  {
   "cell_type": "code",
   "execution_count": 5,
   "metadata": {},
   "outputs": [
    {
     "name": "stdout",
     "output_type": "stream",
     "text": [
      "training complete\n"
     ]
    }
   ],
   "source": [
    "responses = np.array(responses,np.float32)\n",
    "responses = responses.reshape((responses.size,1))\n",
    "print('training complete')"
   ]
  },
  {
   "cell_type": "code",
   "execution_count": 6,
   "metadata": {},
   "outputs": [],
   "source": [
    "np.savetxt('generalsamples.data',samples)\n",
    "np.savetxt('generalresponses.data',responses)\n",
    "cv2.waitKey(0)\n",
    "cv2.destroyAllWindows()"
   ]
  },
  {
   "cell_type": "code",
   "execution_count": null,
   "metadata": {},
   "outputs": [],
   "source": []
  },
  {
   "cell_type": "code",
   "execution_count": null,
   "metadata": {},
   "outputs": [],
   "source": []
  },
  {
   "cell_type": "code",
   "execution_count": null,
   "metadata": {},
   "outputs": [],
   "source": []
  }
 ],
 "metadata": {
  "kernelspec": {
   "display_name": "Python 3",
   "language": "python",
   "name": "python3"
  },
  "language_info": {
   "codemirror_mode": {
    "name": "ipython",
    "version": 3
   },
   "file_extension": ".py",
   "mimetype": "text/x-python",
   "name": "python",
   "nbconvert_exporter": "python",
   "pygments_lexer": "ipython3",
   "version": "3.6.6"
  }
 },
 "nbformat": 4,
 "nbformat_minor": 2
}
