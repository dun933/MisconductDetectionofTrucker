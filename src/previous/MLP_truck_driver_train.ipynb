{
 "cells": [
  {
   "cell_type": "code",
   "execution_count": 1,
   "metadata": {},
   "outputs": [],
   "source": [
    "%matplotlib inline\n",
    "import matplotlib.pyplot as plt\n",
    "import numpy as np\n",
    "import pandas as pd\n",
    "import cv2\n",
    "import tensorflow as tf\n",
    "import os\n",
    "from sklearn.model_selection import train_test_split\n",
    "from sklearn.metrics import f1_score\n",
    "os.chdir(\"D:/TruckDriver/darkflow/mlp-training\")\n",
    "path = \"D:/TruckDriver/darkflow/mlp-training/\"\n"
   ]
  },
  {
   "cell_type": "code",
   "execution_count": 2,
   "metadata": {},
   "outputs": [
    {
     "data": {
      "text/plain": [
       "<matplotlib.image.AxesImage at 0x2d3616973c8>"
      ]
     },
     "execution_count": 2,
     "metadata": {},
     "output_type": "execute_result"
    },
    {
     "data": {
      "image/png": "[encoded data removed]",
      "text/plain": [
       "<Figure size 432x288 with 1 Axes>"
      ]
     },
     "metadata": {
      "needs_background": "light"
     },
     "output_type": "display_data"
    }
   ],
   "source": [
    "img = cv2.imread(\"cellphone-0.jpg\",0)\n",
    "plt.imshow(img)"
   ]
  },
  {
   "cell_type": "code",
   "execution_count": 3,
   "metadata": {},
   "outputs": [],
   "source": [
    "img2 = cv2.resize(img, (100,100))\n",
    "#plt.imshow(img2)\n",
    "img2 = img2.flatten()"
   ]
  },
  {
   "cell_type": "code",
   "execution_count": 4,
   "metadata": {},
   "outputs": [],
   "source": [
    "from sklearn.utils import shuffle \n",
    "\n",
    "def simpson_train_batch_generator(x, y, bs, shape):\n",
    "    x_train = np.array([]).reshape((0, shape))\n",
    "    y_train = np.array([]).reshape((0, y.shape[1]))\n",
    "    while True:\n",
    "        new_ind = shuffle(range(len(x)))\n",
    "        x = x.take(new_ind)\n",
    "        y = np.take(y, new_ind, axis=0)\n",
    "        for i in range(len(x)):\n",
    "            dir_img =  x.img.iloc[i]\n",
    "            name = x.take([i])['img']\n",
    "            img = cv2.imread(dir_img,0)\n",
    "            img = cv2.resize(img, (100,100))\n",
    "            x_train = np.row_stack([x_train, img.flatten()])\n",
    "            y_train = np.row_stack([y_train, y[i]])\n",
    "            if x_train.shape[0] == bs:\n",
    "                x_batch = x_train.copy()\n",
    "                x_batch /= 255.\n",
    "                y_batch = y_train.copy()\n",
    "                x_train = np.array([]).reshape((0 ,shape))\n",
    "                y_train = np.array([]).reshape((0 ,y.shape[1]))        \n",
    "                yield x_batch, y_batch"
   ]
  },
  {
   "cell_type": "code",
   "execution_count": 5,
   "metadata": {},
   "outputs": [],
   "source": [
    "path = \"D:/TruckDriver/darkflow/mlp-training\"\n",
    "file = open(\"csv/truck_driver.csv\" ,'w')\n",
    "file.truncate(0)\n",
    "file.write(\"img\")\n",
    "file.write(\",\")\n",
    "file.write(\"class\")\n",
    "file.write(\"\\n\")\n",
    "for f in os.listdir(path):\n",
    "    if '.jpg' in f:\n",
    "        if 'cellphone' in f:\n",
    "            file.write(f)\n",
    "            file.write(\",\")\n",
    "            file.write(\"cellphone\")\n",
    "            file.write(\"\\n\")\n",
    "        else:\n",
    "            file.write(f)\n",
    "            file.write(\",\")\n",
    "            file.write(\"others\")\n",
    "            file.write(\"\\n\")\n",
    "file.close()\n"
   ]
  },
  {
   "cell_type": "code",
   "execution_count": 6,
   "metadata": {},
   "outputs": [
    {
     "name": "stdout",
     "output_type": "stream",
     "text": [
      "<bound method NDFrame.head of                           img      class\n",
      "0             cellphone-0.jpg  cellphone\n",
      "1             cellphone-1.jpg  cellphone\n",
      "2            cellphone-10.jpg  cellphone\n",
      "3           cellphone-100.jpg  cellphone\n",
      "4           cellphone-101.jpg  cellphone\n",
      "5           cellphone-102.jpg  cellphone\n",
      "6           cellphone-103.jpg  cellphone\n",
      "7           cellphone-104.jpg  cellphone\n",
      "8           cellphone-105.jpg  cellphone\n",
      "9           cellphone-106.jpg  cellphone\n",
      "10          cellphone-107.jpg  cellphone\n",
      "11          cellphone-108.jpg  cellphone\n",
      "12          cellphone-109.jpg  cellphone\n",
      "13           cellphone-11.jpg  cellphone\n",
      "14          cellphone-110.jpg  cellphone\n",
      "15          cellphone-111.jpg  cellphone\n",
      "16          cellphone-112.jpg  cellphone\n",
      "17          cellphone-113.jpg  cellphone\n",
      "18          cellphone-114.jpg  cellphone\n",
      "19          cellphone-115.jpg  cellphone\n",
      "20          cellphone-116.jpg  cellphone\n",
      "21          cellphone-117.jpg  cellphone\n",
      "22          cellphone-118.jpg  cellphone\n",
      "23          cellphone-119.jpg  cellphone\n",
      "24           cellphone-12.jpg  cellphone\n",
      "25          cellphone-120.jpg  cellphone\n",
      "26          cellphone-121.jpg  cellphone\n",
      "27          cellphone-122.jpg  cellphone\n",
      "28          cellphone-123.jpg  cellphone\n",
      "29          cellphone-124.jpg  cellphone\n",
      "..                        ...        ...\n",
      "426   paper-20180628_3_70.jpg     others\n",
      "427  paper-20180629_21_56.jpg     others\n",
      "428  paper-20180629_21_57.jpg     others\n",
      "429  paper-20180629_21_58.jpg     others\n",
      "430  paper-20180629_21_59.jpg     others\n",
      "431  paper-20180629_22_60.jpg     others\n",
      "432  paper-20180629_22_61.jpg     others\n",
      "433  paper-20180629_22_63.jpg     others\n",
      "434  paper-20180629_23_66.jpg     others\n",
      "435  paper-20180629_23_67.jpg     others\n",
      "436  paper-20180629_24_68.jpg     others\n",
      "437    paper-20180630_0_0.jpg     others\n",
      "438    paper-20180630_0_1.jpg     others\n",
      "439    paper-20180630_0_2.jpg     others\n",
      "440    paper-20180630_0_3.jpg     others\n",
      "441  paper-20180630_10_10.jpg     others\n",
      "442  paper-20180630_10_11.jpg     others\n",
      "443   paper-20180630_10_8.jpg     others\n",
      "444   paper-20180630_10_9.jpg     others\n",
      "445  paper-20180630_11_12.jpg     others\n",
      "446  paper-20180630_12_16.jpg     others\n",
      "447  paper-20180630_12_17.jpg     others\n",
      "448  paper-20180630_13_21.jpg     others\n",
      "449  paper-20180630_15_30.jpg     others\n",
      "450  paper-20180630_17_39.jpg     others\n",
      "451   paper-20180630_3_71.jpg     others\n",
      "452   paper-20180630_4_76.jpg     others\n",
      "453   paper-20180630_5_77.jpg     others\n",
      "454   paper-20180630_7_88.jpg     others\n",
      "455   paper-20180630_9_95.jpg     others\n",
      "\n",
      "[456 rows x 2 columns]>\n"
     ]
    }
   ],
   "source": [
    "imv_csv = pd.read_csv(\"csv/truck_driver.csv\")\n",
    "print(imv_csv.head)"
   ]
  },
  {
   "cell_type": "code",
   "execution_count": 7,
   "metadata": {},
   "outputs": [
    {
     "name": "stdout",
     "output_type": "stream",
     "text": [
      "[[1 0]\n",
      " [1 0]\n",
      " [1 0]\n",
      " [1 0]\n",
      " [1 0]\n",
      " [1 0]\n",
      " [1 0]\n",
      " [1 0]\n",
      " [1 0]\n",
      " [1 0]\n",
      " [1 0]\n",
      " [1 0]\n",
      " [1 0]\n",
      " [1 0]\n",
      " [1 0]\n",
      " [1 0]\n",
      " [1 0]\n",
      " [1 0]\n",
      " [1 0]\n",
      " [1 0]\n",
      " [1 0]\n",
      " [1 0]\n",
      " [1 0]\n",
      " [1 0]\n",
      " [1 0]\n",
      " [1 0]\n",
      " [1 0]\n",
      " [1 0]\n",
      " [1 0]\n",
      " [1 0]\n",
      " [1 0]\n",
      " [1 0]\n",
      " [1 0]\n",
      " [1 0]\n",
      " [1 0]\n",
      " [1 0]\n",
      " [1 0]\n",
      " [1 0]\n",
      " [1 0]\n",
      " [1 0]\n",
      " [1 0]\n",
      " [1 0]\n",
      " [1 0]\n",
      " [1 0]\n",
      " [1 0]\n",
      " [1 0]\n",
      " [1 0]\n",
      " [1 0]\n",
      " [1 0]\n",
      " [1 0]\n",
      " [1 0]\n",
      " [1 0]\n",
      " [1 0]\n",
      " [1 0]\n",
      " [1 0]\n",
      " [1 0]\n",
      " [1 0]\n",
      " [1 0]\n",
      " [1 0]\n",
      " [1 0]\n",
      " [1 0]\n",
      " [1 0]\n",
      " [1 0]\n",
      " [1 0]\n",
      " [1 0]\n",
      " [1 0]\n",
      " [1 0]\n",
      " [1 0]\n",
      " [1 0]\n",
      " [1 0]\n",
      " [1 0]\n",
      " [1 0]\n",
      " [1 0]\n",
      " [1 0]\n",
      " [1 0]\n",
      " [1 0]\n",
      " [1 0]\n",
      " [1 0]\n",
      " [1 0]\n",
      " [1 0]\n",
      " [1 0]\n",
      " [1 0]\n",
      " [1 0]\n",
      " [1 0]\n",
      " [1 0]\n",
      " [1 0]\n",
      " [1 0]\n",
      " [1 0]\n",
      " [1 0]\n",
      " [1 0]\n",
      " [1 0]\n",
      " [1 0]\n",
      " [1 0]\n",
      " [1 0]\n",
      " [1 0]\n",
      " [1 0]\n",
      " [1 0]\n",
      " [1 0]\n",
      " [1 0]\n",
      " [1 0]\n",
      " [1 0]\n",
      " [1 0]\n",
      " [1 0]\n",
      " [1 0]\n",
      " [1 0]\n",
      " [1 0]\n",
      " [1 0]\n",
      " [1 0]\n",
      " [1 0]\n",
      " [1 0]\n",
      " [1 0]\n",
      " [1 0]\n",
      " [1 0]\n",
      " [1 0]\n",
      " [1 0]\n",
      " [1 0]\n",
      " [1 0]\n",
      " [1 0]\n",
      " [1 0]\n",
      " [1 0]\n",
      " [1 0]\n",
      " [1 0]\n",
      " [1 0]\n",
      " [1 0]\n",
      " [1 0]\n",
      " [1 0]\n",
      " [1 0]\n",
      " [1 0]\n",
      " [1 0]\n",
      " [1 0]\n",
      " [1 0]\n",
      " [1 0]\n",
      " [1 0]\n",
      " [1 0]\n",
      " [1 0]\n",
      " [1 0]\n",
      " [1 0]\n",
      " [1 0]\n",
      " [1 0]\n",
      " [1 0]\n",
      " [1 0]\n",
      " [1 0]\n",
      " [1 0]\n",
      " [1 0]\n",
      " [1 0]\n",
      " [1 0]\n",
      " [1 0]\n",
      " [1 0]\n",
      " [1 0]\n",
      " [1 0]\n",
      " [1 0]\n",
      " [1 0]\n",
      " [1 0]\n",
      " [1 0]\n",
      " [1 0]\n",
      " [1 0]\n",
      " [1 0]\n",
      " [1 0]\n",
      " [1 0]\n",
      " [1 0]\n",
      " [1 0]\n",
      " [1 0]\n",
      " [1 0]\n",
      " [1 0]\n",
      " [1 0]\n",
      " [1 0]\n",
      " [1 0]\n",
      " [1 0]\n",
      " [1 0]\n",
      " [1 0]\n",
      " [1 0]\n",
      " [1 0]\n",
      " [1 0]\n",
      " [1 0]\n",
      " [1 0]\n",
      " [1 0]\n",
      " [0 1]\n",
      " [0 1]\n",
      " [0 1]\n",
      " [0 1]\n",
      " [0 1]\n",
      " [0 1]\n",
      " [0 1]\n",
      " [0 1]\n",
      " [0 1]\n",
      " [0 1]\n",
      " [0 1]\n",
      " [0 1]\n",
      " [0 1]\n",
      " [0 1]\n",
      " [0 1]\n",
      " [0 1]\n",
      " [0 1]\n",
      " [0 1]\n",
      " [0 1]\n",
      " [0 1]\n",
      " [0 1]\n",
      " [0 1]\n",
      " [0 1]\n",
      " [0 1]\n",
      " [0 1]\n",
      " [0 1]\n",
      " [0 1]\n",
      " [0 1]\n",
      " [0 1]\n",
      " [0 1]\n",
      " [0 1]\n",
      " [0 1]\n",
      " [0 1]\n",
      " [0 1]\n",
      " [0 1]\n",
      " [0 1]\n",
      " [0 1]\n",
      " [0 1]\n",
      " [0 1]\n",
      " [0 1]\n",
      " [0 1]\n",
      " [0 1]\n",
      " [0 1]\n",
      " [0 1]\n",
      " [0 1]\n",
      " [0 1]\n",
      " [0 1]\n",
      " [0 1]\n",
      " [0 1]\n",
      " [0 1]\n",
      " [0 1]\n",
      " [0 1]\n",
      " [0 1]\n",
      " [0 1]\n",
      " [0 1]\n",
      " [0 1]\n",
      " [0 1]\n",
      " [0 1]\n",
      " [0 1]\n",
      " [0 1]\n",
      " [0 1]\n",
      " [0 1]\n",
      " [0 1]\n",
      " [0 1]\n",
      " [0 1]\n",
      " [0 1]\n",
      " [0 1]\n",
      " [0 1]\n",
      " [0 1]\n",
      " [0 1]\n",
      " [0 1]\n",
      " [0 1]\n",
      " [0 1]\n",
      " [0 1]\n",
      " [0 1]\n",
      " [0 1]\n",
      " [0 1]\n",
      " [0 1]\n",
      " [0 1]\n",
      " [0 1]\n",
      " [0 1]\n",
      " [0 1]\n",
      " [0 1]\n",
      " [0 1]\n",
      " [0 1]\n",
      " [0 1]\n",
      " [0 1]\n",
      " [0 1]\n",
      " [0 1]\n",
      " [0 1]\n",
      " [0 1]\n",
      " [0 1]\n",
      " [0 1]\n",
      " [0 1]\n",
      " [0 1]\n",
      " [0 1]\n",
      " [0 1]\n",
      " [0 1]\n",
      " [0 1]\n",
      " [0 1]\n",
      " [0 1]\n",
      " [0 1]\n",
      " [0 1]\n",
      " [0 1]\n",
      " [0 1]\n",
      " [0 1]\n",
      " [0 1]\n",
      " [0 1]\n",
      " [0 1]\n",
      " [0 1]\n",
      " [0 1]\n",
      " [0 1]\n",
      " [0 1]\n",
      " [0 1]\n",
      " [0 1]\n",
      " [0 1]\n",
      " [0 1]\n",
      " [0 1]\n",
      " [0 1]\n",
      " [0 1]\n",
      " [0 1]\n",
      " [0 1]\n",
      " [0 1]\n",
      " [0 1]\n",
      " [0 1]\n",
      " [0 1]\n",
      " [0 1]\n",
      " [0 1]\n",
      " [0 1]\n",
      " [0 1]\n",
      " [0 1]\n",
      " [0 1]\n",
      " [0 1]\n",
      " [0 1]\n",
      " [0 1]\n",
      " [0 1]\n",
      " [0 1]\n",
      " [0 1]\n",
      " [0 1]\n",
      " [0 1]\n",
      " [0 1]\n",
      " [0 1]\n",
      " [0 1]\n",
      " [0 1]\n",
      " [0 1]\n",
      " [0 1]\n",
      " [0 1]\n",
      " [0 1]\n",
      " [0 1]\n",
      " [0 1]\n",
      " [0 1]\n",
      " [0 1]\n",
      " [0 1]\n",
      " [0 1]\n",
      " [0 1]\n",
      " [0 1]\n",
      " [0 1]\n",
      " [0 1]\n",
      " [0 1]\n",
      " [0 1]\n",
      " [0 1]\n",
      " [0 1]\n",
      " [0 1]\n",
      " [0 1]\n",
      " [0 1]\n",
      " [0 1]\n",
      " [0 1]\n",
      " [0 1]\n",
      " [0 1]\n",
      " [0 1]\n",
      " [0 1]\n",
      " [0 1]\n",
      " [0 1]\n",
      " [0 1]\n",
      " [0 1]\n",
      " [0 1]\n",
      " [0 1]\n",
      " [0 1]\n",
      " [0 1]\n",
      " [0 1]\n",
      " [0 1]\n",
      " [0 1]\n",
      " [0 1]\n",
      " [0 1]\n",
      " [0 1]\n",
      " [0 1]\n",
      " [0 1]\n",
      " [0 1]\n",
      " [0 1]\n",
      " [0 1]\n",
      " [0 1]\n",
      " [0 1]\n",
      " [0 1]\n",
      " [0 1]\n",
      " [0 1]\n",
      " [0 1]\n",
      " [0 1]\n",
      " [0 1]\n",
      " [0 1]\n",
      " [0 1]\n",
      " [0 1]\n",
      " [0 1]\n",
      " [0 1]\n",
      " [0 1]\n",
      " [0 1]\n",
      " [0 1]\n",
      " [0 1]\n",
      " [0 1]\n",
      " [0 1]\n",
      " [0 1]\n",
      " [0 1]\n",
      " [0 1]\n",
      " [0 1]\n",
      " [0 1]\n",
      " [0 1]\n",
      " [0 1]\n",
      " [0 1]\n",
      " [0 1]\n",
      " [0 1]\n",
      " [0 1]\n",
      " [0 1]\n",
      " [0 1]\n",
      " [0 1]\n",
      " [0 1]\n",
      " [0 1]\n",
      " [0 1]\n",
      " [0 1]\n",
      " [0 1]\n",
      " [0 1]\n",
      " [0 1]\n",
      " [0 1]\n",
      " [0 1]\n",
      " [0 1]\n",
      " [0 1]\n",
      " [0 1]\n",
      " [0 1]\n",
      " [0 1]\n",
      " [0 1]\n",
      " [0 1]\n",
      " [0 1]\n",
      " [0 1]\n",
      " [0 1]\n",
      " [0 1]\n",
      " [0 1]\n",
      " [0 1]\n",
      " [0 1]\n",
      " [0 1]\n",
      " [0 1]\n",
      " [0 1]\n",
      " [0 1]\n",
      " [0 1]\n",
      " [0 1]\n",
      " [0 1]\n",
      " [0 1]\n",
      " [0 1]\n",
      " [0 1]\n",
      " [0 1]\n",
      " [0 1]\n",
      " [0 1]\n",
      " [0 1]\n",
      " [0 1]\n",
      " [0 1]\n",
      " [0 1]\n",
      " [0 1]\n",
      " [0 1]\n",
      " [0 1]\n",
      " [0 1]\n",
      " [0 1]\n",
      " [0 1]\n",
      " [0 1]\n",
      " [0 1]\n",
      " [0 1]\n",
      " [0 1]\n",
      " [0 1]\n",
      " [0 1]\n",
      " [0 1]\n",
      " [0 1]\n",
      " [0 1]\n",
      " [0 1]\n",
      " [0 1]]\n"
     ]
    },
    {
     "name": "stderr",
     "output_type": "stream",
     "text": [
      "C:\\Users\\Yuga\\Anaconda3\\lib\\site-packages\\ipykernel_launcher.py:1: FutureWarning: Method .as_matrix will be removed in a future version. Use .values instead.\n",
      "  \"\"\"Entry point for launching an IPython kernel.\n"
     ]
    }
   ],
   "source": [
    "class_y = pd.get_dummies(imv_csv['class'], '').as_matrix()#將label做 one_hot encoding\n",
    "print(class_y)"
   ]
  },
  {
   "cell_type": "code",
   "execution_count": 10,
   "metadata": {},
   "outputs": [
    {
     "name": "stdout",
     "output_type": "stream",
     "text": [
      "                          img      class\n",
      "393  paper-20180626_15_30.jpg     others\n",
      "287     cup-20180628_3_71.jpg     others\n",
      "16          cellphone-112.jpg  cellphone\n",
      "422  paper-20180628_23_65.jpg     others\n",
      "430  paper-20180629_21_59.jpg     others\n",
      "352   paper-20180625_4_76.jpg     others\n",
      "3           cellphone-100.jpg  cellphone\n",
      "18          cellphone-114.jpg  cellphone\n",
      "437    paper-20180630_0_0.jpg     others\n",
      "60          cellphone-152.jpg  cellphone\n",
      "425  paper-20180628_24_68.jpg     others\n",
      "268    cup-20180628_21_56.jpg     others\n",
      "176    cup-20180627_13_23.jpg     others\n",
      "63          cellphone-155.jpg  cellphone\n",
      "110           cellphone-4.jpg  cellphone\n",
      "289     cup-20180628_4_73.jpg     others\n",
      "225    cup-20180628_11_13.jpg     others\n",
      "29          cellphone-124.jpg  cellphone\n",
      "196    cup-20180627_18_43.jpg     others\n",
      "195    cup-20180627_18_42.jpg     others\n",
      "26          cellphone-121.jpg  cellphone\n",
      "7           cellphone-104.jpg  cellphone\n",
      "415  paper-20180628_10_11.jpg     others\n",
      "108          cellphone-38.jpg  cellphone\n",
      "234    cup-20180628_13_22.jpg     others\n",
      "426   paper-20180628_3_70.jpg     others\n",
      "118          cellphone-47.jpg  cellphone\n",
      "114          cellphone-43.jpg  cellphone\n",
      "245    cup-20180628_16_33.jpg     others\n",
      "148          cellphone-74.jpg  cellphone\n",
      "..                        ...        ...\n",
      "21          cellphone-117.jpg  cellphone\n",
      "313  paper-20180625_12_17.jpg     others\n",
      "160          cellphone-85.jpg  cellphone\n",
      "276    cup-20180628_23_64.jpg     others\n",
      "191    cup-20180627_17_38.jpg     others\n",
      "385  paper-20180626_13_22.jpg     others\n",
      "293     cup-20180628_5_77.jpg     others\n",
      "413  paper-20180627_23_67.jpg     others\n",
      "343   paper-20180625_2_50.jpg     others\n",
      "257    cup-20180628_19_45.jpg     others\n",
      "308  paper-20180625_11_12.jpg     others\n",
      "149          cellphone-75.jpg  cellphone\n",
      "130          cellphone-58.jpg  cellphone\n",
      "151          cellphone-77.jpg  cellphone\n",
      "359   paper-20180625_6_83.jpg     others\n",
      "99            cellphone-3.jpg  cellphone\n",
      "372   paper-20180625_9_96.jpg     others\n",
      "87           cellphone-19.jpg  cellphone\n",
      "330  paper-20180625_16_34.jpg     others\n",
      "214    cup-20180627_23_67.jpg     others\n",
      "121           cellphone-5.jpg  cellphone\n",
      "455   paper-20180630_9_95.jpg     others\n",
      "20          cellphone-116.jpg  cellphone\n",
      "188    cup-20180627_16_35.jpg     others\n",
      "71          cellphone-162.jpg  cellphone\n",
      "106          cellphone-36.jpg  cellphone\n",
      "270    cup-20180628_21_58.jpg     others\n",
      "348   paper-20180625_3_72.jpg     others\n",
      "435  paper-20180629_23_67.jpg     others\n",
      "102          cellphone-32.jpg  cellphone\n",
      "\n",
      "[342 rows x 2 columns]\n"
     ]
    }
   ],
   "source": [
    "#x_train_list, y_train = imv_csv, class_y #資料切割\n",
    "#print(x_train_list)\n",
    "x_train_list, x_test, y_train, y_test = train_test_split(imv_csv,class_y,test_size=0.25, random_state=42)\n",
    "print(x_train_list)"
   ]
  },
  {
   "cell_type": "code",
   "execution_count": 11,
   "metadata": {},
   "outputs": [],
   "source": [
    "tf.reset_default_graph()"
   ]
  },
  {
   "cell_type": "code",
   "execution_count": 12,
   "metadata": {},
   "outputs": [],
   "source": [
    "#### define placeholder ####\n",
    "input_data = tf.placeholder(dtype=tf.float32, \n",
    "                           shape=[None, img2.shape[0]],\n",
    "                           name='input_data') #用來接 feature 資料進入 tensorflow \n",
    "\n",
    "y_true = tf.placeholder(dtype=tf.float32, \n",
    "                        shape=[None, y_train.shape[1]],\n",
    "                        name='y_true') #用來接 label 資料進入 tensorflow "
   ]
  },
  {
   "cell_type": "code",
   "execution_count": 13,
   "metadata": {},
   "outputs": [],
   "source": [
    "#### define variables(weight/bias) ####\n",
    "x1 = tf.layers.dense(input_data, 256, activation=tf.nn.sigmoid, name='hidden1') #第一層hidden layer\n",
    "x2 = tf.layers.dense(x1, 128, activation=tf.nn.sigmoid, name='hidden2') #第二層hidden layer\n",
    "x3 = tf.layers.dense(x2, 64, activation=tf.nn.sigmoid, name='hidden3')#第三層hidden layer\n",
    "out = tf.layers.dense(x3, y_train.shape[1], name='output')# output layer\n",
    "\n",
    "y_pred = out"
   ]
  },
  {
   "cell_type": "code",
   "execution_count": 14,
   "metadata": {},
   "outputs": [
    {
     "name": "stdout",
     "output_type": "stream",
     "text": [
      "WARNING:tensorflow:From <ipython-input-14-1a333ea57121>:2: softmax_cross_entropy_with_logits (from tensorflow.python.ops.nn_ops) is deprecated and will be removed in a future version.\n",
      "Instructions for updating:\n",
      "\n",
      "Future major versions of TensorFlow will allow gradients to flow\n",
      "into the labels input on backprop by default.\n",
      "\n",
      "See @{tf.nn.softmax_cross_entropy_with_logits_v2}.\n",
      "\n"
     ]
    }
   ],
   "source": [
    "#### calculate loss ####\n",
    "loss = tf.reduce_mean(tf.nn.softmax_cross_entropy_with_logits(labels=y_true, logits=y_pred))"
   ]
  },
  {
   "cell_type": "code",
   "execution_count": 15,
   "metadata": {},
   "outputs": [],
   "source": [
    "#### optimize variables ####\n",
    "opt = tf.train.GradientDescentOptimizer(learning_rate=0.001)\n",
    "update = opt.minimize(loss)"
   ]
  },
  {
   "cell_type": "code",
   "execution_count": 16,
   "metadata": {},
   "outputs": [],
   "source": [
    "#### init ####\n",
    "init = tf.global_variables_initializer()\n",
    "sess = tf.Session()\n",
    "sess.run(init)"
   ]
  },
  {
   "cell_type": "code",
   "execution_count": 17,
   "metadata": {},
   "outputs": [
    {
     "data": {
      "text/plain": [
       "[<tf.Variable 'hidden1/kernel:0' shape=(10000, 256) dtype=float32_ref>,\n",
       " <tf.Variable 'hidden1/bias:0' shape=(256,) dtype=float32_ref>,\n",
       " <tf.Variable 'hidden2/kernel:0' shape=(256, 128) dtype=float32_ref>,\n",
       " <tf.Variable 'hidden2/bias:0' shape=(128,) dtype=float32_ref>,\n",
       " <tf.Variable 'hidden3/kernel:0' shape=(128, 64) dtype=float32_ref>,\n",
       " <tf.Variable 'hidden3/bias:0' shape=(64,) dtype=float32_ref>,\n",
       " <tf.Variable 'output/kernel:0' shape=(64, 2) dtype=float32_ref>,\n",
       " <tf.Variable 'output/bias:0' shape=(2,) dtype=float32_ref>]"
      ]
     },
     "execution_count": 17,
     "metadata": {},
     "output_type": "execute_result"
    }
   ],
   "source": [
    "tf.global_variables() ## 檢查 graph 裏的 global variables"
   ]
  },
  {
   "cell_type": "code",
   "execution_count": 18,
   "metadata": {},
   "outputs": [
    {
     "name": "stdout",
     "output_type": "stream",
     "text": [
      "start modelling!\n"
     ]
    },
    {
     "data": {
      "application/vnd.jupyter.widget-view+json": {
       "model_id": "d8bd517793d4498b8d606154bb211505",
       "version_major": 2,
       "version_minor": 0
      },
      "text/plain": [
       "HBox(children=(IntProgress(value=0), HTML(value='')))"
      ]
     },
     "metadata": {},
     "output_type": "display_data"
    },
    {
     "name": "stdout",
     "output_type": "stream",
     "text": [
      "\n",
      "100\n",
      "epoch 1: training loss 0.7971233183145523\n"
     ]
    },
    {
     "data": {
      "application/vnd.jupyter.widget-view+json": {
       "model_id": "d9e44ce496464370a7f3f90e93aa7f26",
       "version_major": 2,
       "version_minor": 0
      },
      "text/plain": [
       "HBox(children=(IntProgress(value=0), HTML(value='')))"
      ]
     },
     "metadata": {},
     "output_type": "display_data"
    },
    {
     "name": "stdout",
     "output_type": "stream",
     "text": [
      "\n",
      "100\n",
      "epoch 2: training loss 0.6822382962703705\n"
     ]
    },
    {
     "data": {
      "application/vnd.jupyter.widget-view+json": {
       "model_id": "20741a60745a401d967ed4743d346dc5",
       "version_major": 2,
       "version_minor": 0
      },
      "text/plain": [
       "HBox(children=(IntProgress(value=0), HTML(value='')))"
      ]
     },
     "metadata": {},
     "output_type": "display_data"
    },
    {
     "name": "stdout",
     "output_type": "stream",
     "text": [
      "\n",
      "100\n",
      "epoch 3: training loss 0.6615412336587906\n"
     ]
    },
    {
     "data": {
      "application/vnd.jupyter.widget-view+json": {
       "model_id": "898a07ca83c043ea97ee99c39d722f1e",
       "version_major": 2,
       "version_minor": 0
      },
      "text/plain": [
       "HBox(children=(IntProgress(value=0), HTML(value='')))"
      ]
     },
     "metadata": {},
     "output_type": "display_data"
    },
    {
     "name": "stdout",
     "output_type": "stream",
     "text": [
      "\n",
      "100\n",
      "epoch 4: training loss 0.6592103165388107\n"
     ]
    },
    {
     "data": {
      "application/vnd.jupyter.widget-view+json": {
       "model_id": "8fff56d0745f452db9800516800e7fb8",
       "version_major": 2,
       "version_minor": 0
      },
      "text/plain": [
       "HBox(children=(IntProgress(value=0), HTML(value='')))"
      ]
     },
     "metadata": {},
     "output_type": "display_data"
    },
    {
     "name": "stdout",
     "output_type": "stream",
     "text": [
      "\n",
      "100\n",
      "epoch 5: training loss 0.6597181582450866\n"
     ]
    },
    {
     "data": {
      "application/vnd.jupyter.widget-view+json": {
       "model_id": "c57b4810c08d4d51aac912b601f07c19",
       "version_major": 2,
       "version_minor": 0
      },
      "text/plain": [
       "HBox(children=(IntProgress(value=0), HTML(value='')))"
      ]
     },
     "metadata": {},
     "output_type": "display_data"
    },
    {
     "name": "stdout",
     "output_type": "stream",
     "text": [
      "\n",
      "100\n",
      "epoch 6: training loss 0.6586039233207702\n"
     ]
    },
    {
     "data": {
      "application/vnd.jupyter.widget-view+json": {
       "model_id": "2793a176ab2f41e0834735e757c10207",
       "version_major": 2,
       "version_minor": 0
      },
      "text/plain": [
       "HBox(children=(IntProgress(value=0), HTML(value='')))"
      ]
     },
     "metadata": {},
     "output_type": "display_data"
    },
    {
     "name": "stdout",
     "output_type": "stream",
     "text": [
      "\n",
      "100\n",
      "epoch 7: training loss 0.6591661304235459\n"
     ]
    },
    {
     "data": {
      "application/vnd.jupyter.widget-view+json": {
       "model_id": "7573506e84d144ab9f527a4c83fbd923",
       "version_major": 2,
       "version_minor": 0
      },
      "text/plain": [
       "HBox(children=(IntProgress(value=0), HTML(value='')))"
      ]
     },
     "metadata": {},
     "output_type": "display_data"
    },
    {
     "name": "stdout",
     "output_type": "stream",
     "text": [
      "\n",
      "100\n",
      "epoch 8: training loss 0.6566217851638794\n"
     ]
    },
    {
     "data": {
      "application/vnd.jupyter.widget-view+json": {
       "model_id": "f2e1934a74034f3a9e80bb0e4987e16f",
       "version_major": 2,
       "version_minor": 0
      },
      "text/plain": [
       "HBox(children=(IntProgress(value=0), HTML(value='')))"
      ]
     },
     "metadata": {},
     "output_type": "display_data"
    },
    {
     "name": "stdout",
     "output_type": "stream",
     "text": [
      "\n",
      "100\n",
      "epoch 9: training loss 0.6577506762742996\n"
     ]
    },
    {
     "data": {
      "application/vnd.jupyter.widget-view+json": {
       "model_id": "1b61bb6637a24c958f192271737fd3f7",
       "version_major": 2,
       "version_minor": 0
      },
      "text/plain": [
       "HBox(children=(IntProgress(value=0), HTML(value='')))"
      ]
     },
     "metadata": {},
     "output_type": "display_data"
    },
    {
     "name": "stdout",
     "output_type": "stream",
     "text": [
      "\n",
      "100\n",
      "epoch 10: training loss 0.6585187840461731\n"
     ]
    },
    {
     "data": {
      "application/vnd.jupyter.widget-view+json": {
       "model_id": "c5b23a4ba5d145ad8fd6ab34670d7fb8",
       "version_major": 2,
       "version_minor": 0
      },
      "text/plain": [
       "HBox(children=(IntProgress(value=0), HTML(value='')))"
      ]
     },
     "metadata": {},
     "output_type": "display_data"
    },
    {
     "name": "stdout",
     "output_type": "stream",
     "text": [
      "\n",
      "100\n",
      "epoch 11: training loss 0.655312350988388\n"
     ]
    },
    {
     "data": {
      "application/vnd.jupyter.widget-view+json": {
       "model_id": "3925b0102bf94fd883d293ea504255e2",
       "version_major": 2,
       "version_minor": 0
      },
      "text/plain": [
       "HBox(children=(IntProgress(value=0), HTML(value='')))"
      ]
     },
     "metadata": {},
     "output_type": "display_data"
    },
    {
     "name": "stdout",
     "output_type": "stream",
     "text": [
      "\n",
      "100\n",
      "epoch 12: training loss 0.6573727065324784\n"
     ]
    },
    {
     "data": {
      "application/vnd.jupyter.widget-view+json": {
       "model_id": "fe78677bd3ae4e8a9593098c31332439",
       "version_major": 2,
       "version_minor": 0
      },
      "text/plain": [
       "HBox(children=(IntProgress(value=0), HTML(value='')))"
      ]
     },
     "metadata": {},
     "output_type": "display_data"
    },
    {
     "name": "stdout",
     "output_type": "stream",
     "text": [
      "\n",
      "100\n",
      "epoch 13: training loss 0.656609777212143\n"
     ]
    },
    {
     "data": {
      "application/vnd.jupyter.widget-view+json": {
       "model_id": "d68381855cf74e15915ab431102e2256",
       "version_major": 2,
       "version_minor": 0
      },
      "text/plain": [
       "HBox(children=(IntProgress(value=0), HTML(value='')))"
      ]
     },
     "metadata": {},
     "output_type": "display_data"
    },
    {
     "name": "stdout",
     "output_type": "stream",
     "text": [
      "\n",
      "100\n",
      "epoch 14: training loss 0.6537992191314698\n"
     ]
    },
    {
     "data": {
      "application/vnd.jupyter.widget-view+json": {
       "model_id": "39f0b66ab66c4a44aea293fa54c4371a",
       "version_major": 2,
       "version_minor": 0
      },
      "text/plain": [
       "HBox(children=(IntProgress(value=0), HTML(value='')))"
      ]
     },
     "metadata": {},
     "output_type": "display_data"
    },
    {
     "name": "stdout",
     "output_type": "stream",
     "text": [
      "\n",
      "100\n",
      "epoch 15: training loss 0.6553083407878876\n"
     ]
    },
    {
     "data": {
      "application/vnd.jupyter.widget-view+json": {
       "model_id": "a7993a9942984636a8373bcd60133256",
       "version_major": 2,
       "version_minor": 0
      },
      "text/plain": [
       "HBox(children=(IntProgress(value=0), HTML(value='')))"
      ]
     },
     "metadata": {},
     "output_type": "display_data"
    },
    {
     "name": "stdout",
     "output_type": "stream",
     "text": [
      "\n",
      "100\n",
      "epoch 16: training loss 0.6529336720705032\n"
     ]
    },
    {
     "data": {
      "application/vnd.jupyter.widget-view+json": {
       "model_id": "20fc1eb4558e416b9adf2ee96e503f5e",
       "version_major": 2,
       "version_minor": 0
      },
      "text/plain": [
       "HBox(children=(IntProgress(value=0), HTML(value='')))"
      ]
     },
     "metadata": {},
     "output_type": "display_data"
    },
    {
     "name": "stdout",
     "output_type": "stream",
     "text": [
      "\n",
      "100\n",
      "epoch 17: training loss 0.6552064615488052\n"
     ]
    },
    {
     "data": {
      "application/vnd.jupyter.widget-view+json": {
       "model_id": "a4074f87777f427bbe0bff324eb70c72",
       "version_major": 2,
       "version_minor": 0
      },
      "text/plain": [
       "HBox(children=(IntProgress(value=0), HTML(value='')))"
      ]
     },
     "metadata": {},
     "output_type": "display_data"
    },
    {
     "name": "stdout",
     "output_type": "stream",
     "text": [
      "\n",
      "100\n",
      "epoch 18: training loss 0.6534431046247482\n"
     ]
    },
    {
     "data": {
      "application/vnd.jupyter.widget-view+json": {
       "model_id": "b3b4644c280746efb6906cb4f59c8f3b",
       "version_major": 2,
       "version_minor": 0
      },
      "text/plain": [
       "HBox(children=(IntProgress(value=0), HTML(value='')))"
      ]
     },
     "metadata": {},
     "output_type": "display_data"
    },
    {
     "name": "stdout",
     "output_type": "stream",
     "text": [
      "\n",
      "100\n",
      "epoch 19: training loss 0.6535479837656021\n"
     ]
    },
    {
     "data": {
      "application/vnd.jupyter.widget-view+json": {
       "model_id": "068420f6e6454557bb2dd1e170fbe430",
       "version_major": 2,
       "version_minor": 0
      },
      "text/plain": [
       "HBox(children=(IntProgress(value=0), HTML(value='')))"
      ]
     },
     "metadata": {},
     "output_type": "display_data"
    },
    {
     "name": "stdout",
     "output_type": "stream",
     "text": [
      "\n",
      "100\n",
      "epoch 20: training loss 0.6514465641975403\n"
     ]
    },
    {
     "data": {
      "application/vnd.jupyter.widget-view+json": {
       "model_id": "72b6c1e3aef74fbba37e6fb740116d2d",
       "version_major": 2,
       "version_minor": 0
      },
      "text/plain": [
       "HBox(children=(IntProgress(value=0), HTML(value='')))"
      ]
     },
     "metadata": {},
     "output_type": "display_data"
    },
    {
     "name": "stdout",
     "output_type": "stream",
     "text": [
      "\n",
      "100\n",
      "epoch 21: training loss 0.6520821070671081\n"
     ]
    },
    {
     "data": {
      "application/vnd.jupyter.widget-view+json": {
       "model_id": "9866b5daf8bb48ffa35a189a95e607ac",
       "version_major": 2,
       "version_minor": 0
      },
      "text/plain": [
       "HBox(children=(IntProgress(value=0), HTML(value='')))"
      ]
     },
     "metadata": {},
     "output_type": "display_data"
    },
    {
     "name": "stdout",
     "output_type": "stream",
     "text": [
      "\n",
      "100\n",
      "epoch 22: training loss 0.6508165031671524\n"
     ]
    },
    {
     "data": {
      "application/vnd.jupyter.widget-view+json": {
       "model_id": "a9b5e7c248d54ba2a7805f3496181d2a",
       "version_major": 2,
       "version_minor": 0
      },
      "text/plain": [
       "HBox(children=(IntProgress(value=0), HTML(value='')))"
      ]
     },
     "metadata": {},
     "output_type": "display_data"
    },
    {
     "name": "stdout",
     "output_type": "stream",
     "text": [
      "\n",
      "100\n",
      "epoch 23: training loss 0.6519458162784576\n"
     ]
    },
    {
     "data": {
      "application/vnd.jupyter.widget-view+json": {
       "model_id": "fbacba25b5334bd28d46710979504712",
       "version_major": 2,
       "version_minor": 0
      },
      "text/plain": [
       "HBox(children=(IntProgress(value=0), HTML(value='')))"
      ]
     },
     "metadata": {},
     "output_type": "display_data"
    },
    {
     "name": "stdout",
     "output_type": "stream",
     "text": [
      "\n",
      "100\n",
      "epoch 24: training loss 0.6516931849718094\n"
     ]
    },
    {
     "data": {
      "application/vnd.jupyter.widget-view+json": {
       "model_id": "9161090172f64936874fc8a21774e93d",
       "version_major": 2,
       "version_minor": 0
      },
      "text/plain": [
       "HBox(children=(IntProgress(value=0), HTML(value='')))"
      ]
     },
     "metadata": {},
     "output_type": "display_data"
    },
    {
     "name": "stdout",
     "output_type": "stream",
     "text": [
      "\n",
      "100\n",
      "epoch 25: training loss 0.6481156688928604\n"
     ]
    },
    {
     "data": {
      "application/vnd.jupyter.widget-view+json": {
       "model_id": "f655bef8bb1c42b48695428cb470e12a",
       "version_major": 2,
       "version_minor": 0
      },
      "text/plain": [
       "HBox(children=(IntProgress(value=0), HTML(value='')))"
      ]
     },
     "metadata": {},
     "output_type": "display_data"
    },
    {
     "name": "stdout",
     "output_type": "stream",
     "text": [
      "\n",
      "100\n",
      "epoch 26: training loss 0.6504652374982833\n"
     ]
    },
    {
     "data": {
      "application/vnd.jupyter.widget-view+json": {
       "model_id": "ca50b94d478845bcbfdde2eace84f420",
       "version_major": 2,
       "version_minor": 0
      },
      "text/plain": [
       "HBox(children=(IntProgress(value=0), HTML(value='')))"
      ]
     },
     "metadata": {},
     "output_type": "display_data"
    },
    {
     "name": "stdout",
     "output_type": "stream",
     "text": [
      "\n",
      "100\n",
      "epoch 27: training loss 0.6496165317296981\n"
     ]
    },
    {
     "data": {
      "application/vnd.jupyter.widget-view+json": {
       "model_id": "c038edd032764279a2135af00e88d1d2",
       "version_major": 2,
       "version_minor": 0
      },
      "text/plain": [
       "HBox(children=(IntProgress(value=0), HTML(value='')))"
      ]
     },
     "metadata": {},
     "output_type": "display_data"
    },
    {
     "name": "stdout",
     "output_type": "stream",
     "text": [
      "\n",
      "100\n",
      "epoch 28: training loss 0.6469264960289002\n"
     ]
    },
    {
     "data": {
      "application/vnd.jupyter.widget-view+json": {
       "model_id": "5349fa4730c84dca88443e23a0407f85",
       "version_major": 2,
       "version_minor": 0
      },
      "text/plain": [
       "HBox(children=(IntProgress(value=0), HTML(value='')))"
      ]
     },
     "metadata": {},
     "output_type": "display_data"
    },
    {
     "name": "stdout",
     "output_type": "stream",
     "text": [
      "\n",
      "100\n",
      "epoch 29: training loss 0.6481046086549759\n"
     ]
    },
    {
     "data": {
      "application/vnd.jupyter.widget-view+json": {
       "model_id": "327f2544526747e3a30689d33e523228",
       "version_major": 2,
       "version_minor": 0
      },
      "text/plain": [
       "HBox(children=(IntProgress(value=0), HTML(value='')))"
      ]
     },
     "metadata": {},
     "output_type": "display_data"
    },
    {
     "name": "stdout",
     "output_type": "stream",
     "text": [
      "\n",
      "100\n",
      "epoch 30: training loss 0.6474681919813157\n"
     ]
    },
    {
     "data": {
      "application/vnd.jupyter.widget-view+json": {
       "model_id": "117be849f9ba42e28c929235ab842d9f",
       "version_major": 2,
       "version_minor": 0
      },
      "text/plain": [
       "HBox(children=(IntProgress(value=0), HTML(value='')))"
      ]
     },
     "metadata": {},
     "output_type": "display_data"
    },
    {
     "name": "stdout",
     "output_type": "stream",
     "text": [
      "\n",
      "100\n",
      "epoch 31: training loss 0.6478187191486359\n"
     ]
    },
    {
     "data": {
      "application/vnd.jupyter.widget-view+json": {
       "model_id": "cdc3f7ee6f0a4ff28d525e1b91e3ab32",
       "version_major": 2,
       "version_minor": 0
      },
      "text/plain": [
       "HBox(children=(IntProgress(value=0), HTML(value='')))"
      ]
     },
     "metadata": {},
     "output_type": "display_data"
    },
    {
     "name": "stdout",
     "output_type": "stream",
     "text": [
      "\n",
      "100\n",
      "epoch 32: training loss 0.6472888618707657\n"
     ]
    },
    {
     "data": {
      "application/vnd.jupyter.widget-view+json": {
       "model_id": "1e9c5d1b6f024d84bc35bf94b1fdac1d",
       "version_major": 2,
       "version_minor": 0
      },
      "text/plain": [
       "HBox(children=(IntProgress(value=0), HTML(value='')))"
      ]
     },
     "metadata": {},
     "output_type": "display_data"
    },
    {
     "name": "stdout",
     "output_type": "stream",
     "text": [
      "\n",
      "100\n",
      "epoch 33: training loss 0.6459565502405167\n"
     ]
    },
    {
     "data": {
      "application/vnd.jupyter.widget-view+json": {
       "model_id": "8ca02350de894553bcb75f26d4257939",
       "version_major": 2,
       "version_minor": 0
      },
      "text/plain": [
       "HBox(children=(IntProgress(value=0), HTML(value='')))"
      ]
     },
     "metadata": {},
     "output_type": "display_data"
    },
    {
     "name": "stdout",
     "output_type": "stream",
     "text": [
      "\n",
      "100\n",
      "epoch 34: training loss 0.644212976694107\n"
     ]
    },
    {
     "data": {
      "application/vnd.jupyter.widget-view+json": {
       "model_id": "ecde6f58e9344107ac49ec5797644e34",
       "version_major": 2,
       "version_minor": 0
      },
      "text/plain": [
       "HBox(children=(IntProgress(value=0), HTML(value='')))"
      ]
     },
     "metadata": {},
     "output_type": "display_data"
    },
    {
     "name": "stdout",
     "output_type": "stream",
     "text": [
      "\n",
      "100\n",
      "epoch 35: training loss 0.6459916138648987\n"
     ]
    },
    {
     "data": {
      "application/vnd.jupyter.widget-view+json": {
       "model_id": "7058eafe5a4547d4b53c50b016deaf4e",
       "version_major": 2,
       "version_minor": 0
      },
      "text/plain": [
       "HBox(children=(IntProgress(value=0), HTML(value='')))"
      ]
     },
     "metadata": {},
     "output_type": "display_data"
    },
    {
     "name": "stdout",
     "output_type": "stream",
     "text": [
      "\n",
      "100\n",
      "epoch 36: training loss 0.6438630533218384\n"
     ]
    },
    {
     "data": {
      "application/vnd.jupyter.widget-view+json": {
       "model_id": "2f8aec240c344088ba7c18a71ce0fde9",
       "version_major": 2,
       "version_minor": 0
      },
      "text/plain": [
       "HBox(children=(IntProgress(value=0), HTML(value='')))"
      ]
     },
     "metadata": {},
     "output_type": "display_data"
    },
    {
     "name": "stdout",
     "output_type": "stream",
     "text": [
      "\n",
      "100\n",
      "epoch 37: training loss 0.6453536820411682\n"
     ]
    },
    {
     "data": {
      "application/vnd.jupyter.widget-view+json": {
       "model_id": "969814d1b928473e9e2fa0dcd613a382",
       "version_major": 2,
       "version_minor": 0
      },
      "text/plain": [
       "HBox(children=(IntProgress(value=0), HTML(value='')))"
      ]
     },
     "metadata": {},
     "output_type": "display_data"
    },
    {
     "name": "stdout",
     "output_type": "stream",
     "text": [
      "\n",
      "100\n",
      "epoch 38: training loss 0.6429211890697479\n"
     ]
    },
    {
     "data": {
      "application/vnd.jupyter.widget-view+json": {
       "model_id": "72a1ee0e061a47acbec00a4bc79d027f",
       "version_major": 2,
       "version_minor": 0
      },
      "text/plain": [
       "HBox(children=(IntProgress(value=0), HTML(value='')))"
      ]
     },
     "metadata": {},
     "output_type": "display_data"
    },
    {
     "name": "stdout",
     "output_type": "stream",
     "text": [
      "\n",
      "100\n",
      "epoch 39: training loss 0.6435647988319397\n"
     ]
    },
    {
     "data": {
      "application/vnd.jupyter.widget-view+json": {
       "model_id": "756a7166ab49423fac65f02f922ea9c9",
       "version_major": 2,
       "version_minor": 0
      },
      "text/plain": [
       "HBox(children=(IntProgress(value=0), HTML(value='')))"
      ]
     },
     "metadata": {},
     "output_type": "display_data"
    },
    {
     "name": "stdout",
     "output_type": "stream",
     "text": [
      "\n",
      "100\n",
      "epoch 40: training loss 0.6437421804666519\n"
     ]
    },
    {
     "data": {
      "application/vnd.jupyter.widget-view+json": {
       "model_id": "c127c60876ec4aaf8ba0e660cfa2b20e",
       "version_major": 2,
       "version_minor": 0
      },
      "text/plain": [
       "HBox(children=(IntProgress(value=0), HTML(value='')))"
      ]
     },
     "metadata": {},
     "output_type": "display_data"
    },
    {
     "name": "stdout",
     "output_type": "stream",
     "text": [
      "\n",
      "100\n",
      "epoch 41: training loss 0.6414570313692093\n"
     ]
    },
    {
     "data": {
      "application/vnd.jupyter.widget-view+json": {
       "model_id": "aca50e1aad7a44658280eab3411b6463",
       "version_major": 2,
       "version_minor": 0
      },
      "text/plain": [
       "HBox(children=(IntProgress(value=0), HTML(value='')))"
      ]
     },
     "metadata": {},
     "output_type": "display_data"
    },
    {
     "name": "stdout",
     "output_type": "stream",
     "text": [
      "\n",
      "100\n",
      "epoch 42: training loss 0.6414256131649018\n"
     ]
    },
    {
     "data": {
      "application/vnd.jupyter.widget-view+json": {
       "model_id": "b958910004d5406ca388f6698648526e",
       "version_major": 2,
       "version_minor": 0
      },
      "text/plain": [
       "HBox(children=(IntProgress(value=0), HTML(value='')))"
      ]
     },
     "metadata": {},
     "output_type": "display_data"
    },
    {
     "name": "stdout",
     "output_type": "stream",
     "text": [
      "\n",
      "100\n",
      "epoch 43: training loss 0.6415733206272125\n"
     ]
    },
    {
     "data": {
      "application/vnd.jupyter.widget-view+json": {
       "model_id": "6d5f24b4858a4dda9d7a506bc3bad0d9",
       "version_major": 2,
       "version_minor": 0
      },
      "text/plain": [
       "HBox(children=(IntProgress(value=0), HTML(value='')))"
      ]
     },
     "metadata": {},
     "output_type": "display_data"
    },
    {
     "name": "stdout",
     "output_type": "stream",
     "text": [
      "\n",
      "100\n",
      "epoch 44: training loss 0.6394188180565834\n"
     ]
    },
    {
     "data": {
      "application/vnd.jupyter.widget-view+json": {
       "model_id": "22a3bd773bc6467283ddcd066bab3ee3",
       "version_major": 2,
       "version_minor": 0
      },
      "text/plain": [
       "HBox(children=(IntProgress(value=0), HTML(value='')))"
      ]
     },
     "metadata": {},
     "output_type": "display_data"
    },
    {
     "name": "stdout",
     "output_type": "stream",
     "text": [
      "\n",
      "100\n",
      "epoch 45: training loss 0.6410221564769745\n"
     ]
    },
    {
     "data": {
      "application/vnd.jupyter.widget-view+json": {
       "model_id": "26777d0df986449c92a4a59d195a22f7",
       "version_major": 2,
       "version_minor": 0
      },
      "text/plain": [
       "HBox(children=(IntProgress(value=0), HTML(value='')))"
      ]
     },
     "metadata": {},
     "output_type": "display_data"
    },
    {
     "name": "stdout",
     "output_type": "stream",
     "text": [
      "\n",
      "100\n",
      "epoch 46: training loss 0.640438541173935\n"
     ]
    },
    {
     "data": {
      "application/vnd.jupyter.widget-view+json": {
       "model_id": "1efb5c44a1264b9bbb804c4cf540f3ad",
       "version_major": 2,
       "version_minor": 0
      },
      "text/plain": [
       "HBox(children=(IntProgress(value=0), HTML(value='')))"
      ]
     },
     "metadata": {},
     "output_type": "display_data"
    },
    {
     "name": "stdout",
     "output_type": "stream",
     "text": [
      "\n",
      "100\n",
      "epoch 47: training loss 0.638595593571663\n"
     ]
    },
    {
     "data": {
      "application/vnd.jupyter.widget-view+json": {
       "model_id": "dfa5904a1dcf40eeb3e5453a740b6a53",
       "version_major": 2,
       "version_minor": 0
      },
      "text/plain": [
       "HBox(children=(IntProgress(value=0), HTML(value='')))"
      ]
     },
     "metadata": {},
     "output_type": "display_data"
    },
    {
     "name": "stdout",
     "output_type": "stream",
     "text": [
      "\n",
      "100\n",
      "epoch 48: training loss 0.637662832736969\n"
     ]
    },
    {
     "data": {
      "application/vnd.jupyter.widget-view+json": {
       "model_id": "ab85c1dd9d7441688eb487d816377987",
       "version_major": 2,
       "version_minor": 0
      },
      "text/plain": [
       "HBox(children=(IntProgress(value=0), HTML(value='')))"
      ]
     },
     "metadata": {},
     "output_type": "display_data"
    },
    {
     "name": "stdout",
     "output_type": "stream",
     "text": [
      "\n",
      "100\n",
      "epoch 49: training loss 0.6376289826631546\n"
     ]
    },
    {
     "data": {
      "application/vnd.jupyter.widget-view+json": {
       "model_id": "0f73a8c47fb343d29503fa7109402753",
       "version_major": 2,
       "version_minor": 0
      },
      "text/plain": [
       "HBox(children=(IntProgress(value=0), HTML(value='')))"
      ]
     },
     "metadata": {},
     "output_type": "display_data"
    },
    {
     "name": "stdout",
     "output_type": "stream",
     "text": [
      "\n",
      "100\n",
      "epoch 50: training loss 0.6384384316205979\n"
     ]
    },
    {
     "data": {
      "application/vnd.jupyter.widget-view+json": {
       "model_id": "fc3ce751340248d3a0bcd0a697782b7b",
       "version_major": 2,
       "version_minor": 0
      },
      "text/plain": [
       "HBox(children=(IntProgress(value=0), HTML(value='')))"
      ]
     },
     "metadata": {},
     "output_type": "display_data"
    },
    {
     "name": "stdout",
     "output_type": "stream",
     "text": [
      "\n",
      "100\n",
      "epoch 51: training loss 0.6358251965045929\n"
     ]
    },
    {
     "data": {
      "application/vnd.jupyter.widget-view+json": {
       "model_id": "1f69a241abc3480fbe35af430755e6e6",
       "version_major": 2,
       "version_minor": 0
      },
      "text/plain": [
       "HBox(children=(IntProgress(value=0), HTML(value='')))"
      ]
     },
     "metadata": {},
     "output_type": "display_data"
    },
    {
     "name": "stdout",
     "output_type": "stream",
     "text": [
      "\n",
      "100\n",
      "epoch 52: training loss 0.6366005545854568\n"
     ]
    },
    {
     "data": {
      "application/vnd.jupyter.widget-view+json": {
       "model_id": "4e32cc3e363e4af2a4e26673278d3b19",
       "version_major": 2,
       "version_minor": 0
      },
      "text/plain": [
       "HBox(children=(IntProgress(value=0), HTML(value='')))"
      ]
     },
     "metadata": {},
     "output_type": "display_data"
    },
    {
     "name": "stdout",
     "output_type": "stream",
     "text": [
      "\n",
      "100\n",
      "epoch 53: training loss 0.6349904578924179\n"
     ]
    },
    {
     "data": {
      "application/vnd.jupyter.widget-view+json": {
       "model_id": "9941d19f5e0d4cb0b8798172476c5d8d",
       "version_major": 2,
       "version_minor": 0
      },
      "text/plain": [
       "HBox(children=(IntProgress(value=0), HTML(value='')))"
      ]
     },
     "metadata": {},
     "output_type": "display_data"
    },
    {
     "name": "stdout",
     "output_type": "stream",
     "text": [
      "\n",
      "100\n",
      "epoch 54: training loss 0.6364805555343628\n"
     ]
    },
    {
     "data": {
      "application/vnd.jupyter.widget-view+json": {
       "model_id": "027a31fd50f14dc5806c07688a04e7d8",
       "version_major": 2,
       "version_minor": 0
      },
      "text/plain": [
       "HBox(children=(IntProgress(value=0), HTML(value='')))"
      ]
     },
     "metadata": {},
     "output_type": "display_data"
    },
    {
     "name": "stdout",
     "output_type": "stream",
     "text": [
      "\n",
      "100\n",
      "epoch 55: training loss 0.6333394157886505\n"
     ]
    },
    {
     "data": {
      "application/vnd.jupyter.widget-view+json": {
       "model_id": "2e2042ae69494f7b956715045f55815c",
       "version_major": 2,
       "version_minor": 0
      },
      "text/plain": [
       "HBox(children=(IntProgress(value=0), HTML(value='')))"
      ]
     },
     "metadata": {},
     "output_type": "display_data"
    },
    {
     "name": "stdout",
     "output_type": "stream",
     "text": [
      "\n",
      "100\n",
      "epoch 56: training loss 0.6350573283433915\n"
     ]
    },
    {
     "data": {
      "application/vnd.jupyter.widget-view+json": {
       "model_id": "3c4e07792618475db284017cdc888791",
       "version_major": 2,
       "version_minor": 0
      },
      "text/plain": [
       "HBox(children=(IntProgress(value=0), HTML(value='')))"
      ]
     },
     "metadata": {},
     "output_type": "display_data"
    },
    {
     "name": "stdout",
     "output_type": "stream",
     "text": [
      "\n",
      "100\n",
      "epoch 57: training loss 0.6334332031011581\n"
     ]
    },
    {
     "data": {
      "application/vnd.jupyter.widget-view+json": {
       "model_id": "84dcaadd5b034feca1addac5e406042f",
       "version_major": 2,
       "version_minor": 0
      },
      "text/plain": [
       "HBox(children=(IntProgress(value=0), HTML(value='')))"
      ]
     },
     "metadata": {},
     "output_type": "display_data"
    },
    {
     "name": "stdout",
     "output_type": "stream",
     "text": [
      "\n",
      "100\n",
      "epoch 58: training loss 0.6321343421936035\n"
     ]
    },
    {
     "data": {
      "application/vnd.jupyter.widget-view+json": {
       "model_id": "0292b5e9b718412fbab76bff71a2eb0b",
       "version_major": 2,
       "version_minor": 0
      },
      "text/plain": [
       "HBox(children=(IntProgress(value=0), HTML(value='')))"
      ]
     },
     "metadata": {},
     "output_type": "display_data"
    },
    {
     "name": "stdout",
     "output_type": "stream",
     "text": [
      "\n",
      "100\n",
      "epoch 59: training loss 0.6323415040969849\n"
     ]
    },
    {
     "data": {
      "application/vnd.jupyter.widget-view+json": {
       "model_id": "2b7247aa91054e4a8c532a27d24cdae9",
       "version_major": 2,
       "version_minor": 0
      },
      "text/plain": [
       "HBox(children=(IntProgress(value=0), HTML(value='')))"
      ]
     },
     "metadata": {},
     "output_type": "display_data"
    },
    {
     "name": "stdout",
     "output_type": "stream",
     "text": [
      "\n",
      "100\n",
      "epoch 60: training loss 0.6314249813556672\n"
     ]
    },
    {
     "data": {
      "application/vnd.jupyter.widget-view+json": {
       "model_id": "fedae220835945acae8358bb05a0a266",
       "version_major": 2,
       "version_minor": 0
      },
      "text/plain": [
       "HBox(children=(IntProgress(value=0), HTML(value='')))"
      ]
     },
     "metadata": {},
     "output_type": "display_data"
    },
    {
     "name": "stdout",
     "output_type": "stream",
     "text": [
      "\n",
      "100\n",
      "epoch 61: training loss 0.6302453643083572\n"
     ]
    },
    {
     "data": {
      "application/vnd.jupyter.widget-view+json": {
       "model_id": "f6e78dd40e9f491b8df944391bf57e8f",
       "version_major": 2,
       "version_minor": 0
      },
      "text/plain": [
       "HBox(children=(IntProgress(value=0), HTML(value='')))"
      ]
     },
     "metadata": {},
     "output_type": "display_data"
    },
    {
     "name": "stdout",
     "output_type": "stream",
     "text": [
      "\n",
      "100\n",
      "epoch 62: training loss 0.6308939719200134\n"
     ]
    },
    {
     "data": {
      "application/vnd.jupyter.widget-view+json": {
       "model_id": "c03c9fe38ec14ab59b113a7d6f4477fa",
       "version_major": 2,
       "version_minor": 0
      },
      "text/plain": [
       "HBox(children=(IntProgress(value=0), HTML(value='')))"
      ]
     },
     "metadata": {},
     "output_type": "display_data"
    },
    {
     "name": "stdout",
     "output_type": "stream",
     "text": [
      "\n",
      "100\n",
      "epoch 63: training loss 0.628292880654335\n"
     ]
    },
    {
     "data": {
      "application/vnd.jupyter.widget-view+json": {
       "model_id": "10c59a498921499a9b10b8fa57fb75cf",
       "version_major": 2,
       "version_minor": 0
      },
      "text/plain": [
       "HBox(children=(IntProgress(value=0), HTML(value='')))"
      ]
     },
     "metadata": {},
     "output_type": "display_data"
    },
    {
     "name": "stdout",
     "output_type": "stream",
     "text": [
      "\n",
      "100\n",
      "epoch 64: training loss 0.6294750332832336\n"
     ]
    },
    {
     "data": {
      "application/vnd.jupyter.widget-view+json": {
       "model_id": "53f06dec40c24d4b9fe3ceac8978edc4",
       "version_major": 2,
       "version_minor": 0
      },
      "text/plain": [
       "HBox(children=(IntProgress(value=0), HTML(value='')))"
      ]
     },
     "metadata": {},
     "output_type": "display_data"
    },
    {
     "name": "stdout",
     "output_type": "stream",
     "text": [
      "\n",
      "100\n",
      "epoch 65: training loss 0.628539742231369\n"
     ]
    },
    {
     "data": {
      "application/vnd.jupyter.widget-view+json": {
       "model_id": "825183961b8f478ba13aaf07dcea0e7e",
       "version_major": 2,
       "version_minor": 0
      },
      "text/plain": [
       "HBox(children=(IntProgress(value=0), HTML(value='')))"
      ]
     },
     "metadata": {},
     "output_type": "display_data"
    },
    {
     "name": "stdout",
     "output_type": "stream",
     "text": [
      "\n",
      "100\n",
      "epoch 66: training loss 0.6283056402206421\n"
     ]
    },
    {
     "data": {
      "application/vnd.jupyter.widget-view+json": {
       "model_id": "caa8401fa148425a95cd04cef6c70c9d",
       "version_major": 2,
       "version_minor": 0
      },
      "text/plain": [
       "HBox(children=(IntProgress(value=0), HTML(value='')))"
      ]
     },
     "metadata": {},
     "output_type": "display_data"
    },
    {
     "name": "stdout",
     "output_type": "stream",
     "text": [
      "\n",
      "100\n",
      "epoch 67: training loss 0.6259288746118545\n"
     ]
    },
    {
     "data": {
      "application/vnd.jupyter.widget-view+json": {
       "model_id": "d7a616085d604ff197b6aa6d335f6d55",
       "version_major": 2,
       "version_minor": 0
      },
      "text/plain": [
       "HBox(children=(IntProgress(value=0), HTML(value='')))"
      ]
     },
     "metadata": {},
     "output_type": "display_data"
    },
    {
     "name": "stdout",
     "output_type": "stream",
     "text": [
      "\n",
      "100\n",
      "epoch 68: training loss 0.626151270866394\n"
     ]
    },
    {
     "data": {
      "application/vnd.jupyter.widget-view+json": {
       "model_id": "6a44ca5b8a5f4732abd4f094ce80c0c9",
       "version_major": 2,
       "version_minor": 0
      },
      "text/plain": [
       "HBox(children=(IntProgress(value=0), HTML(value='')))"
      ]
     },
     "metadata": {},
     "output_type": "display_data"
    },
    {
     "name": "stdout",
     "output_type": "stream",
     "text": [
      "\n",
      "100\n",
      "epoch 69: training loss 0.6261065405607223\n"
     ]
    },
    {
     "data": {
      "application/vnd.jupyter.widget-view+json": {
       "model_id": "1dfaa8d402d74d63bdc441c45165ae47",
       "version_major": 2,
       "version_minor": 0
      },
      "text/plain": [
       "HBox(children=(IntProgress(value=0), HTML(value='')))"
      ]
     },
     "metadata": {},
     "output_type": "display_data"
    },
    {
     "name": "stdout",
     "output_type": "stream",
     "text": [
      "\n",
      "100\n",
      "epoch 70: training loss 0.6237937670946121\n"
     ]
    },
    {
     "data": {
      "application/vnd.jupyter.widget-view+json": {
       "model_id": "df2412ca09d940c28349083b1c8b1263",
       "version_major": 2,
       "version_minor": 0
      },
      "text/plain": [
       "HBox(children=(IntProgress(value=0), HTML(value='')))"
      ]
     },
     "metadata": {},
     "output_type": "display_data"
    },
    {
     "name": "stdout",
     "output_type": "stream",
     "text": [
      "\n",
      "100\n",
      "epoch 71: training loss 0.6229656821489334\n"
     ]
    },
    {
     "data": {
      "application/vnd.jupyter.widget-view+json": {
       "model_id": "0dc18dd859fd49cb8011e93b8b280586",
       "version_major": 2,
       "version_minor": 0
      },
      "text/plain": [
       "HBox(children=(IntProgress(value=0), HTML(value='')))"
      ]
     },
     "metadata": {},
     "output_type": "display_data"
    },
    {
     "name": "stdout",
     "output_type": "stream",
     "text": [
      "\n",
      "100\n",
      "epoch 72: training loss 0.6228770226240158\n"
     ]
    },
    {
     "data": {
      "application/vnd.jupyter.widget-view+json": {
       "model_id": "1b9aa6796dfc4b81996a916f7ec30214",
       "version_major": 2,
       "version_minor": 0
      },
      "text/plain": [
       "HBox(children=(IntProgress(value=0), HTML(value='')))"
      ]
     },
     "metadata": {},
     "output_type": "display_data"
    },
    {
     "name": "stdout",
     "output_type": "stream",
     "text": [
      "\n",
      "100\n",
      "epoch 73: training loss 0.6236165857315064\n"
     ]
    },
    {
     "data": {
      "application/vnd.jupyter.widget-view+json": {
       "model_id": "776866a040db403b9432fac9caa5a478",
       "version_major": 2,
       "version_minor": 0
      },
      "text/plain": [
       "HBox(children=(IntProgress(value=0), HTML(value='')))"
      ]
     },
     "metadata": {},
     "output_type": "display_data"
    },
    {
     "name": "stdout",
     "output_type": "stream",
     "text": [
      "\n",
      "100\n",
      "epoch 74: training loss 0.6206993687152863\n"
     ]
    },
    {
     "data": {
      "application/vnd.jupyter.widget-view+json": {
       "model_id": "5c7912a3e0d94a4d84a3d020a9140c3b",
       "version_major": 2,
       "version_minor": 0
      },
      "text/plain": [
       "HBox(children=(IntProgress(value=0), HTML(value='')))"
      ]
     },
     "metadata": {},
     "output_type": "display_data"
    },
    {
     "name": "stdout",
     "output_type": "stream",
     "text": [
      "\n",
      "100\n",
      "epoch 75: training loss 0.6218544453382492\n"
     ]
    },
    {
     "data": {
      "application/vnd.jupyter.widget-view+json": {
       "model_id": "8789f8d781e84bf09d47d9e17de2bedf",
       "version_major": 2,
       "version_minor": 0
      },
      "text/plain": [
       "HBox(children=(IntProgress(value=0), HTML(value='')))"
      ]
     },
     "metadata": {},
     "output_type": "display_data"
    },
    {
     "name": "stdout",
     "output_type": "stream",
     "text": [
      "\n",
      "100\n",
      "epoch 76: training loss 0.6186332255601883\n"
     ]
    },
    {
     "data": {
      "application/vnd.jupyter.widget-view+json": {
       "model_id": "2ae2b530055e403793cac3f2762a9748",
       "version_major": 2,
       "version_minor": 0
      },
      "text/plain": [
       "HBox(children=(IntProgress(value=0), HTML(value='')))"
      ]
     },
     "metadata": {},
     "output_type": "display_data"
    },
    {
     "name": "stdout",
     "output_type": "stream",
     "text": [
      "\n",
      "100\n",
      "epoch 77: training loss 0.6184197735786437\n"
     ]
    },
    {
     "data": {
      "application/vnd.jupyter.widget-view+json": {
       "model_id": "5602c94e395648b5bedb185f78b1a6a4",
       "version_major": 2,
       "version_minor": 0
      },
      "text/plain": [
       "HBox(children=(IntProgress(value=0), HTML(value='')))"
      ]
     },
     "metadata": {},
     "output_type": "display_data"
    },
    {
     "name": "stdout",
     "output_type": "stream",
     "text": [
      "\n",
      "100\n",
      "epoch 78: training loss 0.6200364965200424\n"
     ]
    },
    {
     "data": {
      "application/vnd.jupyter.widget-view+json": {
       "model_id": "d346d3f205e34cf8abab09ba8552f6b3",
       "version_major": 2,
       "version_minor": 0
      },
      "text/plain": [
       "HBox(children=(IntProgress(value=0), HTML(value='')))"
      ]
     },
     "metadata": {},
     "output_type": "display_data"
    },
    {
     "name": "stdout",
     "output_type": "stream",
     "text": [
      "\n",
      "100\n",
      "epoch 79: training loss 0.6169167309999466\n"
     ]
    },
    {
     "data": {
      "application/vnd.jupyter.widget-view+json": {
       "model_id": "8faf5f9e296640f6848147597c05fadd",
       "version_major": 2,
       "version_minor": 0
      },
      "text/plain": [
       "HBox(children=(IntProgress(value=0), HTML(value='')))"
      ]
     },
     "metadata": {},
     "output_type": "display_data"
    },
    {
     "name": "stdout",
     "output_type": "stream",
     "text": [
      "\n",
      "100\n",
      "epoch 80: training loss 0.6177730804681778\n"
     ]
    },
    {
     "data": {
      "application/vnd.jupyter.widget-view+json": {
       "model_id": "753ad4887b994dbe8f75001497be648b",
       "version_major": 2,
       "version_minor": 0
      },
      "text/plain": [
       "HBox(children=(IntProgress(value=0), HTML(value='')))"
      ]
     },
     "metadata": {},
     "output_type": "display_data"
    },
    {
     "name": "stdout",
     "output_type": "stream",
     "text": [
      "\n",
      "100\n",
      "epoch 81: training loss 0.6141960644721984\n"
     ]
    },
    {
     "data": {
      "application/vnd.jupyter.widget-view+json": {
       "model_id": "152e28edf24b4ad9ab81100e1cca4748",
       "version_major": 2,
       "version_minor": 0
      },
      "text/plain": [
       "HBox(children=(IntProgress(value=0), HTML(value='')))"
      ]
     },
     "metadata": {},
     "output_type": "display_data"
    },
    {
     "name": "stdout",
     "output_type": "stream",
     "text": [
      "\n",
      "100\n",
      "epoch 82: training loss 0.6157528680562973\n"
     ]
    },
    {
     "data": {
      "application/vnd.jupyter.widget-view+json": {
       "model_id": "51bac2a5ce674057805903fd6e6b6c0d",
       "version_major": 2,
       "version_minor": 0
      },
      "text/plain": [
       "HBox(children=(IntProgress(value=0), HTML(value='')))"
      ]
     },
     "metadata": {},
     "output_type": "display_data"
    },
    {
     "name": "stdout",
     "output_type": "stream",
     "text": [
      "\n",
      "100\n",
      "epoch 83: training loss 0.6117525434494019\n"
     ]
    },
    {
     "data": {
      "application/vnd.jupyter.widget-view+json": {
       "model_id": "b37e420df4ac4e92a88134752bb21c2e",
       "version_major": 2,
       "version_minor": 0
      },
      "text/plain": [
       "HBox(children=(IntProgress(value=0), HTML(value='')))"
      ]
     },
     "metadata": {},
     "output_type": "display_data"
    },
    {
     "name": "stdout",
     "output_type": "stream",
     "text": [
      "\n",
      "100\n",
      "epoch 84: training loss 0.6139087170362473\n"
     ]
    },
    {
     "data": {
      "application/vnd.jupyter.widget-view+json": {
       "model_id": "29e00dc43ed24b7aa404c327fa7a7c07",
       "version_major": 2,
       "version_minor": 0
      },
      "text/plain": [
       "HBox(children=(IntProgress(value=0), HTML(value='')))"
      ]
     },
     "metadata": {},
     "output_type": "display_data"
    },
    {
     "name": "stdout",
     "output_type": "stream",
     "text": [
      "\n",
      "100\n",
      "epoch 85: training loss 0.6105924832820893\n"
     ]
    },
    {
     "data": {
      "application/vnd.jupyter.widget-view+json": {
       "model_id": "db24e3e96335498791cfc7dab7389cb8",
       "version_major": 2,
       "version_minor": 0
      },
      "text/plain": [
       "HBox(children=(IntProgress(value=0), HTML(value='')))"
      ]
     },
     "metadata": {},
     "output_type": "display_data"
    },
    {
     "name": "stdout",
     "output_type": "stream",
     "text": [
      "\n",
      "100\n",
      "epoch 86: training loss 0.6129773515462875\n"
     ]
    },
    {
     "data": {
      "application/vnd.jupyter.widget-view+json": {
       "model_id": "ceaa9bf5cc9f4121a6d0e7f49e393549",
       "version_major": 2,
       "version_minor": 0
      },
      "text/plain": [
       "HBox(children=(IntProgress(value=0), HTML(value='')))"
      ]
     },
     "metadata": {},
     "output_type": "display_data"
    },
    {
     "name": "stdout",
     "output_type": "stream",
     "text": [
      "\n",
      "100\n",
      "epoch 87: training loss 0.6086668169498444\n"
     ]
    },
    {
     "data": {
      "application/vnd.jupyter.widget-view+json": {
       "model_id": "b9e6b174141542d1a0ff53086168ac72",
       "version_major": 2,
       "version_minor": 0
      },
      "text/plain": [
       "HBox(children=(IntProgress(value=0), HTML(value='')))"
      ]
     },
     "metadata": {},
     "output_type": "display_data"
    },
    {
     "name": "stdout",
     "output_type": "stream",
     "text": [
      "\n",
      "100\n",
      "epoch 88: training loss 0.6071749818325043\n"
     ]
    },
    {
     "data": {
      "application/vnd.jupyter.widget-view+json": {
       "model_id": "ffb90d802de44960abd756dd02c98bd3",
       "version_major": 2,
       "version_minor": 0
      },
      "text/plain": [
       "HBox(children=(IntProgress(value=0), HTML(value='')))"
      ]
     },
     "metadata": {},
     "output_type": "display_data"
    },
    {
     "name": "stdout",
     "output_type": "stream",
     "text": [
      "\n",
      "100\n",
      "epoch 89: training loss 0.6103152239322662\n"
     ]
    },
    {
     "data": {
      "application/vnd.jupyter.widget-view+json": {
       "model_id": "f2d3bbd01b0746bfb94f8afa53985e4b",
       "version_major": 2,
       "version_minor": 0
      },
      "text/plain": [
       "HBox(children=(IntProgress(value=0), HTML(value='')))"
      ]
     },
     "metadata": {},
     "output_type": "display_data"
    },
    {
     "name": "stdout",
     "output_type": "stream",
     "text": [
      "\n",
      "100\n",
      "epoch 90: training loss 0.6055858260393143\n"
     ]
    },
    {
     "data": {
      "application/vnd.jupyter.widget-view+json": {
       "model_id": "3857bf8598ac4050b433fe20aadf8e76",
       "version_major": 2,
       "version_minor": 0
      },
      "text/plain": [
       "HBox(children=(IntProgress(value=0), HTML(value='')))"
      ]
     },
     "metadata": {},
     "output_type": "display_data"
    },
    {
     "name": "stdout",
     "output_type": "stream",
     "text": [
      "\n",
      "100\n",
      "epoch 91: training loss 0.6045801931619644\n"
     ]
    },
    {
     "data": {
      "application/vnd.jupyter.widget-view+json": {
       "model_id": "10582c06abe84076ace091df00a27406",
       "version_major": 2,
       "version_minor": 0
      },
      "text/plain": [
       "HBox(children=(IntProgress(value=0), HTML(value='')))"
      ]
     },
     "metadata": {},
     "output_type": "display_data"
    },
    {
     "name": "stdout",
     "output_type": "stream",
     "text": [
      "\n",
      "100\n",
      "epoch 92: training loss 0.605378857254982\n"
     ]
    },
    {
     "data": {
      "application/vnd.jupyter.widget-view+json": {
       "model_id": "691570e12b9a4ea3b0a46b0b043377b9",
       "version_major": 2,
       "version_minor": 0
      },
      "text/plain": [
       "HBox(children=(IntProgress(value=0), HTML(value='')))"
      ]
     },
     "metadata": {},
     "output_type": "display_data"
    },
    {
     "name": "stdout",
     "output_type": "stream",
     "text": [
      "\n",
      "100\n",
      "epoch 93: training loss 0.6017726147174836\n"
     ]
    },
    {
     "data": {
      "application/vnd.jupyter.widget-view+json": {
       "model_id": "1a0aad607e7c46509437e5d5d6b5def3",
       "version_major": 2,
       "version_minor": 0
      },
      "text/plain": [
       "HBox(children=(IntProgress(value=0), HTML(value='')))"
      ]
     },
     "metadata": {},
     "output_type": "display_data"
    },
    {
     "name": "stdout",
     "output_type": "stream",
     "text": [
      "\n",
      "100\n",
      "epoch 94: training loss 0.6028568929433823\n"
     ]
    },
    {
     "data": {
      "application/vnd.jupyter.widget-view+json": {
       "model_id": "ebf7df63d86c4dd4bc0e52655737b1ca",
       "version_major": 2,
       "version_minor": 0
      },
      "text/plain": [
       "HBox(children=(IntProgress(value=0), HTML(value='')))"
      ]
     },
     "metadata": {},
     "output_type": "display_data"
    },
    {
     "name": "stdout",
     "output_type": "stream",
     "text": [
      "\n",
      "100\n",
      "epoch 95: training loss 0.6012846946716308\n"
     ]
    },
    {
     "data": {
      "application/vnd.jupyter.widget-view+json": {
       "model_id": "381480ad248a48c696851f83b0a3a1d4",
       "version_major": 2,
       "version_minor": 0
      },
      "text/plain": [
       "HBox(children=(IntProgress(value=0), HTML(value='')))"
      ]
     },
     "metadata": {},
     "output_type": "display_data"
    },
    {
     "name": "stdout",
     "output_type": "stream",
     "text": [
      "\n",
      "100\n",
      "epoch 96: training loss 0.5998957943916321\n"
     ]
    },
    {
     "data": {
      "application/vnd.jupyter.widget-view+json": {
       "model_id": "dd56d94bf73e417bb513761306452c2d",
       "version_major": 2,
       "version_minor": 0
      },
      "text/plain": [
       "HBox(children=(IntProgress(value=0), HTML(value='')))"
      ]
     },
     "metadata": {},
     "output_type": "display_data"
    },
    {
     "name": "stdout",
     "output_type": "stream",
     "text": [
      "\n",
      "100\n",
      "epoch 97: training loss 0.597729260623455\n"
     ]
    },
    {
     "data": {
      "application/vnd.jupyter.widget-view+json": {
       "model_id": "360a7988385b48adaa5d40f3285a0aa9",
       "version_major": 2,
       "version_minor": 0
      },
      "text/plain": [
       "HBox(children=(IntProgress(value=0), HTML(value='')))"
      ]
     },
     "metadata": {},
     "output_type": "display_data"
    },
    {
     "name": "stdout",
     "output_type": "stream",
     "text": [
      "\n",
      "100\n",
      "epoch 98: training loss 0.5976139903068542\n"
     ]
    },
    {
     "data": {
      "application/vnd.jupyter.widget-view+json": {
       "model_id": "165c35021a474df88acebdeb9b760562",
       "version_major": 2,
       "version_minor": 0
      },
      "text/plain": [
       "HBox(children=(IntProgress(value=0), HTML(value='')))"
      ]
     },
     "metadata": {},
     "output_type": "display_data"
    },
    {
     "name": "stdout",
     "output_type": "stream",
     "text": [
      "\n",
      "100\n",
      "epoch 99: training loss 0.5960690981149673\n"
     ]
    },
    {
     "data": {
      "application/vnd.jupyter.widget-view+json": {
       "model_id": "98f64e5e7b134a3e9c42d48b4c2e6221",
       "version_major": 2,
       "version_minor": 0
      },
      "text/plain": [
       "HBox(children=(IntProgress(value=0), HTML(value='')))"
      ]
     },
     "metadata": {},
     "output_type": "display_data"
    },
    {
     "name": "stdout",
     "output_type": "stream",
     "text": [
      "\n",
      "100\n",
      "epoch 100: training loss 0.5948607891798019\n"
     ]
    },
    {
     "data": {
      "application/vnd.jupyter.widget-view+json": {
       "model_id": "61d1f209a73c47e393b599b776d36699",
       "version_major": 2,
       "version_minor": 0
      },
      "text/plain": [
       "HBox(children=(IntProgress(value=0), HTML(value='')))"
      ]
     },
     "metadata": {},
     "output_type": "display_data"
    },
    {
     "name": "stdout",
     "output_type": "stream",
     "text": [
      "\n",
      "100\n",
      "epoch 101: training loss 0.5928033185005188\n"
     ]
    },
    {
     "data": {
      "application/vnd.jupyter.widget-view+json": {
       "model_id": "363e16caf86b42d3a6939bf5ee38f8d3",
       "version_major": 2,
       "version_minor": 0
      },
      "text/plain": [
       "HBox(children=(IntProgress(value=0), HTML(value='')))"
      ]
     },
     "metadata": {},
     "output_type": "display_data"
    },
    {
     "name": "stdout",
     "output_type": "stream",
     "text": [
      "\n",
      "100\n",
      "epoch 102: training loss 0.5905288064479828\n"
     ]
    },
    {
     "data": {
      "application/vnd.jupyter.widget-view+json": {
       "model_id": "cd7e0803f8a74ebc86442c20d6c9a297",
       "version_major": 2,
       "version_minor": 0
      },
      "text/plain": [
       "HBox(children=(IntProgress(value=0), HTML(value='')))"
      ]
     },
     "metadata": {},
     "output_type": "display_data"
    },
    {
     "name": "stdout",
     "output_type": "stream",
     "text": [
      "\n",
      "100\n",
      "epoch 103: training loss 0.592102672457695\n"
     ]
    },
    {
     "data": {
      "application/vnd.jupyter.widget-view+json": {
       "model_id": "22574b2a32604971ae5b3f13fbfe67ea",
       "version_major": 2,
       "version_minor": 0
      },
      "text/plain": [
       "HBox(children=(IntProgress(value=0), HTML(value='')))"
      ]
     },
     "metadata": {},
     "output_type": "display_data"
    },
    {
     "name": "stdout",
     "output_type": "stream",
     "text": [
      "\n",
      "100\n",
      "epoch 104: training loss 0.5887859132885933\n"
     ]
    },
    {
     "data": {
      "application/vnd.jupyter.widget-view+json": {
       "model_id": "a3762dd3cf424289b6069a73f74da442",
       "version_major": 2,
       "version_minor": 0
      },
      "text/plain": [
       "HBox(children=(IntProgress(value=0), HTML(value='')))"
      ]
     },
     "metadata": {},
     "output_type": "display_data"
    },
    {
     "name": "stdout",
     "output_type": "stream",
     "text": [
      "\n",
      "100\n",
      "epoch 105: training loss 0.5878685814142227\n"
     ]
    },
    {
     "data": {
      "application/vnd.jupyter.widget-view+json": {
       "model_id": "a2d67d73dd60434d9de992cea566bc58",
       "version_major": 2,
       "version_minor": 0
      },
      "text/plain": [
       "HBox(children=(IntProgress(value=0), HTML(value='')))"
      ]
     },
     "metadata": {},
     "output_type": "display_data"
    },
    {
     "name": "stdout",
     "output_type": "stream",
     "text": [
      "\n",
      "100\n",
      "epoch 106: training loss 0.5862320029735565\n"
     ]
    },
    {
     "data": {
      "application/vnd.jupyter.widget-view+json": {
       "model_id": "28469fd2536e484fb9f4073c70d2121d",
       "version_major": 2,
       "version_minor": 0
      },
      "text/plain": [
       "HBox(children=(IntProgress(value=0), HTML(value='')))"
      ]
     },
     "metadata": {},
     "output_type": "display_data"
    },
    {
     "name": "stdout",
     "output_type": "stream",
     "text": [
      "\n",
      "99\n",
      "epoch 107: training loss 0.5861687862873077\n"
     ]
    },
    {
     "data": {
      "application/vnd.jupyter.widget-view+json": {
       "model_id": "a1ba183cc0e6426682e9aad44104619d",
       "version_major": 2,
       "version_minor": 0
      },
      "text/plain": [
       "HBox(children=(IntProgress(value=0), HTML(value='')))"
      ]
     },
     "metadata": {},
     "output_type": "display_data"
    },
    {
     "name": "stdout",
     "output_type": "stream",
     "text": [
      "\n",
      "94\n",
      "epoch 108: training loss 0.5819973421096801\n"
     ]
    },
    {
     "data": {
      "application/vnd.jupyter.widget-view+json": {
       "model_id": "480f3a283f46400a8be03d1bc9afc57f",
       "version_major": 2,
       "version_minor": 0
      },
      "text/plain": [
       "HBox(children=(IntProgress(value=0), HTML(value='')))"
      ]
     },
     "metadata": {},
     "output_type": "display_data"
    },
    {
     "name": "stdout",
     "output_type": "stream",
     "text": [
      "\n",
      "89\n",
      "epoch 109: training loss 0.5819884580373764\n"
     ]
    },
    {
     "data": {
      "application/vnd.jupyter.widget-view+json": {
       "model_id": "c24703945e604ced81e80840d15cf566",
       "version_major": 2,
       "version_minor": 0
      },
      "text/plain": [
       "HBox(children=(IntProgress(value=0), HTML(value='')))"
      ]
     },
     "metadata": {},
     "output_type": "display_data"
    },
    {
     "name": "stdout",
     "output_type": "stream",
     "text": [
      "\n",
      "90\n",
      "epoch 110: training loss 0.5793890452384949\n"
     ]
    },
    {
     "data": {
      "application/vnd.jupyter.widget-view+json": {
       "model_id": "7db4ca5bca9f4c72ae835f68c06cb711",
       "version_major": 2,
       "version_minor": 0
      },
      "text/plain": [
       "HBox(children=(IntProgress(value=0), HTML(value='')))"
      ]
     },
     "metadata": {},
     "output_type": "display_data"
    },
    {
     "name": "stdout",
     "output_type": "stream",
     "text": [
      "\n",
      "79\n",
      "epoch 111: training loss 0.5781616044044494\n"
     ]
    },
    {
     "data": {
      "application/vnd.jupyter.widget-view+json": {
       "model_id": "eaa76ca4a8954ff2ab0fe6f0326c84a4",
       "version_major": 2,
       "version_minor": 0
      },
      "text/plain": [
       "HBox(children=(IntProgress(value=0), HTML(value='')))"
      ]
     },
     "metadata": {},
     "output_type": "display_data"
    },
    {
     "name": "stdout",
     "output_type": "stream",
     "text": [
      "\n",
      "64\n",
      "epoch 112: training loss 0.5774971899390221\n"
     ]
    },
    {
     "data": {
      "application/vnd.jupyter.widget-view+json": {
       "model_id": "4499ace92c91482f9774858829a2ddd0",
       "version_major": 2,
       "version_minor": 0
      },
      "text/plain": [
       "HBox(children=(IntProgress(value=0), HTML(value='')))"
      ]
     },
     "metadata": {},
     "output_type": "display_data"
    },
    {
     "name": "stdout",
     "output_type": "stream",
     "text": [
      "\n",
      "44\n",
      "epoch 113: training loss 0.5741032919287682\n"
     ]
    },
    {
     "data": {
      "application/vnd.jupyter.widget-view+json": {
       "model_id": "b3d7ea71f1f144139c582300531e827f",
       "version_major": 2,
       "version_minor": 0
      },
      "text/plain": [
       "HBox(children=(IntProgress(value=0), HTML(value='')))"
      ]
     },
     "metadata": {},
     "output_type": "display_data"
    },
    {
     "name": "stdout",
     "output_type": "stream",
     "text": [
      "\n",
      "37\n",
      "epoch 114: training loss 0.5747681167721749\n"
     ]
    },
    {
     "data": {
      "application/vnd.jupyter.widget-view+json": {
       "model_id": "c7d883b51db24ddeada1ac0328769f4a",
       "version_major": 2,
       "version_minor": 0
      },
      "text/plain": [
       "HBox(children=(IntProgress(value=0), HTML(value='')))"
      ]
     },
     "metadata": {},
     "output_type": "display_data"
    },
    {
     "name": "stdout",
     "output_type": "stream",
     "text": [
      "\n",
      "35\n",
      "epoch 115: training loss 0.5720949301123619\n"
     ]
    },
    {
     "data": {
      "application/vnd.jupyter.widget-view+json": {
       "model_id": "10fb38110cf642b9be2323d761dee98d",
       "version_major": 2,
       "version_minor": 0
      },
      "text/plain": [
       "HBox(children=(IntProgress(value=0), HTML(value='')))"
      ]
     },
     "metadata": {},
     "output_type": "display_data"
    },
    {
     "name": "stdout",
     "output_type": "stream",
     "text": [
      "\n",
      "20\n",
      "epoch 116: training loss 0.5686395478248596\n"
     ]
    },
    {
     "data": {
      "application/vnd.jupyter.widget-view+json": {
       "model_id": "ae68371a27d844f496ed296af192d74a",
       "version_major": 2,
       "version_minor": 0
      },
      "text/plain": [
       "HBox(children=(IntProgress(value=0), HTML(value='')))"
      ]
     },
     "metadata": {},
     "output_type": "display_data"
    },
    {
     "name": "stdout",
     "output_type": "stream",
     "text": [
      "\n",
      "16\n",
      "epoch 117: training loss 0.5694305011630059\n"
     ]
    },
    {
     "data": {
      "application/vnd.jupyter.widget-view+json": {
       "model_id": "3c69bcbf8062436aa5370a3a93d7cbe5",
       "version_major": 2,
       "version_minor": 0
      },
      "text/plain": [
       "HBox(children=(IntProgress(value=0), HTML(value='')))"
      ]
     },
     "metadata": {},
     "output_type": "display_data"
    },
    {
     "name": "stdout",
     "output_type": "stream",
     "text": [
      "\n",
      "5\n",
      "epoch 118: training loss 0.565852464735508\n"
     ]
    },
    {
     "data": {
      "application/vnd.jupyter.widget-view+json": {
       "model_id": "a07490b81ad440d988c9f2cb052ae269",
       "version_major": 2,
       "version_minor": 0
      },
      "text/plain": [
       "HBox(children=(IntProgress(value=0), HTML(value='')))"
      ]
     },
     "metadata": {},
     "output_type": "display_data"
    },
    {
     "name": "stdout",
     "output_type": "stream",
     "text": [
      "\n",
      "9\n",
      "epoch 119: training loss 0.5647271817922592\n"
     ]
    },
    {
     "data": {
      "application/vnd.jupyter.widget-view+json": {
       "model_id": "f9c4e9c65d4e466fb83f182393686f4e",
       "version_major": 2,
       "version_minor": 0
      },
      "text/plain": [
       "HBox(children=(IntProgress(value=0), HTML(value='')))"
      ]
     },
     "metadata": {},
     "output_type": "display_data"
    },
    {
     "name": "stdout",
     "output_type": "stream",
     "text": [
      "\n",
      "3\n",
      "epoch 120: training loss 0.5631067162752151\n"
     ]
    },
    {
     "data": {
      "application/vnd.jupyter.widget-view+json": {
       "model_id": "02015fdc45be460cb552d95d561b5190",
       "version_major": 2,
       "version_minor": 0
      },
      "text/plain": [
       "HBox(children=(IntProgress(value=0), HTML(value='')))"
      ]
     },
     "metadata": {},
     "output_type": "display_data"
    },
    {
     "name": "stdout",
     "output_type": "stream",
     "text": [
      "\n",
      "3\n",
      "epoch 121: training loss 0.5610056599974632\n"
     ]
    },
    {
     "data": {
      "application/vnd.jupyter.widget-view+json": {
       "model_id": "5e126ee79f084b3dad89783e8e84d831",
       "version_major": 2,
       "version_minor": 0
      },
      "text/plain": [
       "HBox(children=(IntProgress(value=0), HTML(value='')))"
      ]
     },
     "metadata": {},
     "output_type": "display_data"
    },
    {
     "name": "stdout",
     "output_type": "stream",
     "text": [
      "\n",
      "5\n",
      "epoch 122: training loss 0.5603628161549569\n"
     ]
    },
    {
     "data": {
      "application/vnd.jupyter.widget-view+json": {
       "model_id": "229b1cf931f2438383a455e42a075683",
       "version_major": 2,
       "version_minor": 0
      },
      "text/plain": [
       "HBox(children=(IntProgress(value=0), HTML(value='')))"
      ]
     },
     "metadata": {},
     "output_type": "display_data"
    },
    {
     "name": "stdout",
     "output_type": "stream",
     "text": [
      "\n",
      "3\n",
      "epoch 123: training loss 0.5555281248688698\n"
     ]
    },
    {
     "data": {
      "application/vnd.jupyter.widget-view+json": {
       "model_id": "66db182624184921a2e20f980b9a4cd1",
       "version_major": 2,
       "version_minor": 0
      },
      "text/plain": [
       "HBox(children=(IntProgress(value=0), HTML(value='')))"
      ]
     },
     "metadata": {},
     "output_type": "display_data"
    },
    {
     "name": "stdout",
     "output_type": "stream",
     "text": [
      "\n",
      "1\n",
      "epoch 124: training loss 0.5544730320572853\n"
     ]
    },
    {
     "data": {
      "application/vnd.jupyter.widget-view+json": {
       "model_id": "f42082be9e5242bd94089d851efcd1c4",
       "version_major": 2,
       "version_minor": 0
      },
      "text/plain": [
       "HBox(children=(IntProgress(value=0), HTML(value='')))"
      ]
     },
     "metadata": {},
     "output_type": "display_data"
    },
    {
     "name": "stdout",
     "output_type": "stream",
     "text": [
      "\n",
      "2\n",
      "epoch 125: training loss 0.5534353789687156\n"
     ]
    },
    {
     "data": {
      "application/vnd.jupyter.widget-view+json": {
       "model_id": "eefedfd5375f4809b9daaf81122a2db0",
       "version_major": 2,
       "version_minor": 0
      },
      "text/plain": [
       "HBox(children=(IntProgress(value=0), HTML(value='')))"
      ]
     },
     "metadata": {},
     "output_type": "display_data"
    },
    {
     "name": "stdout",
     "output_type": "stream",
     "text": [
      "\n",
      "2\n",
      "epoch 126: training loss 0.5509955576062202\n"
     ]
    },
    {
     "data": {
      "application/vnd.jupyter.widget-view+json": {
       "model_id": "bd50f1eead2046e6b2476c9241f9c179",
       "version_major": 2,
       "version_minor": 0
      },
      "text/plain": [
       "HBox(children=(IntProgress(value=0), HTML(value='')))"
      ]
     },
     "metadata": {},
     "output_type": "display_data"
    },
    {
     "name": "stdout",
     "output_type": "stream",
     "text": [
      "\n",
      "3\n",
      "epoch 127: training loss 0.5481278729438782\n"
     ]
    },
    {
     "data": {
      "application/vnd.jupyter.widget-view+json": {
       "model_id": "d3c60087542b472590d7984e0d118e33",
       "version_major": 2,
       "version_minor": 0
      },
      "text/plain": [
       "HBox(children=(IntProgress(value=0), HTML(value='')))"
      ]
     },
     "metadata": {},
     "output_type": "display_data"
    },
    {
     "name": "stdout",
     "output_type": "stream",
     "text": [
      "\n",
      "1\n",
      "epoch 128: training loss 0.5472104501724243\n"
     ]
    },
    {
     "data": {
      "application/vnd.jupyter.widget-view+json": {
       "model_id": "4b5dbade691945afacf9317010bd5871",
       "version_major": 2,
       "version_minor": 0
      },
      "text/plain": [
       "HBox(children=(IntProgress(value=0), HTML(value='')))"
      ]
     },
     "metadata": {},
     "output_type": "display_data"
    },
    {
     "name": "stdout",
     "output_type": "stream",
     "text": [
      "\n",
      "0\n",
      "epoch 129: training loss 0.5441162940859795\n"
     ]
    },
    {
     "data": {
      "application/vnd.jupyter.widget-view+json": {
       "model_id": "32b4888cd74344aea6034176ad5ea99b",
       "version_major": 2,
       "version_minor": 0
      },
      "text/plain": [
       "HBox(children=(IntProgress(value=0), HTML(value='')))"
      ]
     },
     "metadata": {},
     "output_type": "display_data"
    },
    {
     "name": "stdout",
     "output_type": "stream",
     "text": [
      "\n",
      "0\n",
      "epoch 130: training loss 0.5426495078206063\n"
     ]
    },
    {
     "data": {
      "application/vnd.jupyter.widget-view+json": {
       "model_id": "bf8197b27b4e47038b05906a20e17230",
       "version_major": 2,
       "version_minor": 0
      },
      "text/plain": [
       "HBox(children=(IntProgress(value=0), HTML(value='')))"
      ]
     },
     "metadata": {},
     "output_type": "display_data"
    },
    {
     "name": "stdout",
     "output_type": "stream",
     "text": [
      "\n",
      "0\n",
      "epoch 131: training loss 0.5399200129508972\n"
     ]
    },
    {
     "data": {
      "application/vnd.jupyter.widget-view+json": {
       "model_id": "8fbea24f66f24c8287e93c87a4c36924",
       "version_major": 2,
       "version_minor": 0
      },
      "text/plain": [
       "HBox(children=(IntProgress(value=0), HTML(value='')))"
      ]
     },
     "metadata": {},
     "output_type": "display_data"
    },
    {
     "name": "stdout",
     "output_type": "stream",
     "text": [
      "\n",
      "1\n",
      "epoch 132: training loss 0.5384712293744087\n"
     ]
    },
    {
     "data": {
      "application/vnd.jupyter.widget-view+json": {
       "model_id": "2206f5f06a4a48cdae6775412ef3cb3a",
       "version_major": 2,
       "version_minor": 0
      },
      "text/plain": [
       "HBox(children=(IntProgress(value=0), HTML(value='')))"
      ]
     },
     "metadata": {},
     "output_type": "display_data"
    },
    {
     "name": "stdout",
     "output_type": "stream",
     "text": [
      "\n",
      "0\n",
      "epoch 133: training loss 0.534992048740387\n"
     ]
    },
    {
     "data": {
      "application/vnd.jupyter.widget-view+json": {
       "model_id": "ad005cff42d54d119d196f4009345b5b",
       "version_major": 2,
       "version_minor": 0
      },
      "text/plain": [
       "HBox(children=(IntProgress(value=0), HTML(value='')))"
      ]
     },
     "metadata": {},
     "output_type": "display_data"
    },
    {
     "name": "stdout",
     "output_type": "stream",
     "text": [
      "\n",
      "0\n",
      "epoch 134: training loss 0.533159402012825\n"
     ]
    },
    {
     "data": {
      "application/vnd.jupyter.widget-view+json": {
       "model_id": "b029d43250bf4d3ba1f4afcbbcaa0568",
       "version_major": 2,
       "version_minor": 0
      },
      "text/plain": [
       "HBox(children=(IntProgress(value=0), HTML(value='')))"
      ]
     },
     "metadata": {},
     "output_type": "display_data"
    },
    {
     "name": "stdout",
     "output_type": "stream",
     "text": [
      "\n",
      "0\n",
      "epoch 135: training loss 0.5312494829297065\n"
     ]
    },
    {
     "data": {
      "application/vnd.jupyter.widget-view+json": {
       "model_id": "d79553a3e8de4354b8176139a6a8f4a1",
       "version_major": 2,
       "version_minor": 0
      },
      "text/plain": [
       "HBox(children=(IntProgress(value=0), HTML(value='')))"
      ]
     },
     "metadata": {},
     "output_type": "display_data"
    },
    {
     "name": "stdout",
     "output_type": "stream",
     "text": [
      "\n",
      "0\n",
      "epoch 136: training loss 0.5277593725919724\n"
     ]
    },
    {
     "data": {
      "application/vnd.jupyter.widget-view+json": {
       "model_id": "56ff5178d4e04a06af31c4eed2f9d3b6",
       "version_major": 2,
       "version_minor": 0
      },
      "text/plain": [
       "HBox(children=(IntProgress(value=0), HTML(value='')))"
      ]
     },
     "metadata": {},
     "output_type": "display_data"
    },
    {
     "name": "stdout",
     "output_type": "stream",
     "text": [
      "\n",
      "0\n",
      "epoch 137: training loss 0.5267164370417595\n"
     ]
    },
    {
     "data": {
      "application/vnd.jupyter.widget-view+json": {
       "model_id": "bf1b054bcd0340659178bc6c0acc1a28",
       "version_major": 2,
       "version_minor": 0
      },
      "text/plain": [
       "HBox(children=(IntProgress(value=0), HTML(value='')))"
      ]
     },
     "metadata": {},
     "output_type": "display_data"
    },
    {
     "name": "stdout",
     "output_type": "stream",
     "text": [
      "\n",
      "0\n",
      "epoch 138: training loss 0.5234463202953339\n"
     ]
    },
    {
     "data": {
      "application/vnd.jupyter.widget-view+json": {
       "model_id": "fab1398a69774535871da90999ff07a3",
       "version_major": 2,
       "version_minor": 0
      },
      "text/plain": [
       "HBox(children=(IntProgress(value=0), HTML(value='')))"
      ]
     },
     "metadata": {},
     "output_type": "display_data"
    },
    {
     "name": "stdout",
     "output_type": "stream",
     "text": [
      "\n",
      "0\n",
      "epoch 139: training loss 0.5222248515486717\n"
     ]
    },
    {
     "data": {
      "application/vnd.jupyter.widget-view+json": {
       "model_id": "32ed73c4675f4b27bab07f909871063e",
       "version_major": 2,
       "version_minor": 0
      },
      "text/plain": [
       "HBox(children=(IntProgress(value=0), HTML(value='')))"
      ]
     },
     "metadata": {},
     "output_type": "display_data"
    },
    {
     "name": "stdout",
     "output_type": "stream",
     "text": [
      "\n",
      "0\n",
      "epoch 140: training loss 0.5186221861839294\n"
     ]
    },
    {
     "data": {
      "application/vnd.jupyter.widget-view+json": {
       "model_id": "0180874433da4e4891ccb53292dad355",
       "version_major": 2,
       "version_minor": 0
      },
      "text/plain": [
       "HBox(children=(IntProgress(value=0), HTML(value='')))"
      ]
     },
     "metadata": {},
     "output_type": "display_data"
    },
    {
     "name": "stdout",
     "output_type": "stream",
     "text": [
      "\n",
      "0\n",
      "epoch 141: training loss 0.5163684424757957\n"
     ]
    },
    {
     "data": {
      "application/vnd.jupyter.widget-view+json": {
       "model_id": "09089612f42c402eb3f76ee26d36ef97",
       "version_major": 2,
       "version_minor": 0
      },
      "text/plain": [
       "HBox(children=(IntProgress(value=0), HTML(value='')))"
      ]
     },
     "metadata": {},
     "output_type": "display_data"
    },
    {
     "name": "stdout",
     "output_type": "stream",
     "text": [
      "\n",
      "0\n",
      "epoch 142: training loss 0.5139195477962494\n"
     ]
    },
    {
     "data": {
      "application/vnd.jupyter.widget-view+json": {
       "model_id": "562c52adbf064bbebf04ddbc6480bb44",
       "version_major": 2,
       "version_minor": 0
      },
      "text/plain": [
       "HBox(children=(IntProgress(value=0), HTML(value='')))"
      ]
     },
     "metadata": {},
     "output_type": "display_data"
    },
    {
     "name": "stdout",
     "output_type": "stream",
     "text": [
      "\n",
      "0\n",
      "epoch 143: training loss 0.510791826248169\n"
     ]
    },
    {
     "data": {
      "application/vnd.jupyter.widget-view+json": {
       "model_id": "3e09bb2f873a43e0941c02f99f8d090a",
       "version_major": 2,
       "version_minor": 0
      },
      "text/plain": [
       "HBox(children=(IntProgress(value=0), HTML(value='')))"
      ]
     },
     "metadata": {},
     "output_type": "display_data"
    },
    {
     "name": "stdout",
     "output_type": "stream",
     "text": [
      "\n",
      "0\n",
      "epoch 144: training loss 0.5083011299371719\n"
     ]
    },
    {
     "data": {
      "application/vnd.jupyter.widget-view+json": {
       "model_id": "d3c7412681854faba99639ea53900ea8",
       "version_major": 2,
       "version_minor": 0
      },
      "text/plain": [
       "HBox(children=(IntProgress(value=0), HTML(value='')))"
      ]
     },
     "metadata": {},
     "output_type": "display_data"
    },
    {
     "name": "stdout",
     "output_type": "stream",
     "text": [
      "\n",
      "0\n",
      "epoch 145: training loss 0.5058026021718979\n"
     ]
    },
    {
     "data": {
      "application/vnd.jupyter.widget-view+json": {
       "model_id": "34a6b15da9214764a2816bab19bd0a56",
       "version_major": 2,
       "version_minor": 0
      },
      "text/plain": [
       "HBox(children=(IntProgress(value=0), HTML(value='')))"
      ]
     },
     "metadata": {},
     "output_type": "display_data"
    },
    {
     "name": "stdout",
     "output_type": "stream",
     "text": [
      "\n",
      "0\n",
      "epoch 146: training loss 0.503494504392147\n"
     ]
    },
    {
     "data": {
      "application/vnd.jupyter.widget-view+json": {
       "model_id": "b9d5968678cb4e8899f7ab279be5fc31",
       "version_major": 2,
       "version_minor": 0
      },
      "text/plain": [
       "HBox(children=(IntProgress(value=0), HTML(value='')))"
      ]
     },
     "metadata": {},
     "output_type": "display_data"
    },
    {
     "name": "stdout",
     "output_type": "stream",
     "text": [
      "\n",
      "0\n",
      "epoch 147: training loss 0.5000158375501633\n"
     ]
    },
    {
     "data": {
      "application/vnd.jupyter.widget-view+json": {
       "model_id": "d2ba3655d3744376a1d8c29943e4bf2c",
       "version_major": 2,
       "version_minor": 0
      },
      "text/plain": [
       "HBox(children=(IntProgress(value=0), HTML(value='')))"
      ]
     },
     "metadata": {},
     "output_type": "display_data"
    },
    {
     "name": "stdout",
     "output_type": "stream",
     "text": [
      "\n",
      "0\n",
      "epoch 148: training loss 0.4993292525410652\n"
     ]
    },
    {
     "data": {
      "application/vnd.jupyter.widget-view+json": {
       "model_id": "1f09e800c21645d884a9c2d5ce05277f",
       "version_major": 2,
       "version_minor": 0
      },
      "text/plain": [
       "HBox(children=(IntProgress(value=0), HTML(value='')))"
      ]
     },
     "metadata": {},
     "output_type": "display_data"
    },
    {
     "name": "stdout",
     "output_type": "stream",
     "text": [
      "\n",
      "0\n",
      "epoch 149: training loss 0.4941487777233124\n"
     ]
    },
    {
     "data": {
      "application/vnd.jupyter.widget-view+json": {
       "model_id": "ff979d0bfa9c46169285d84b77cc422e",
       "version_major": 2,
       "version_minor": 0
      },
      "text/plain": [
       "HBox(children=(IntProgress(value=0), HTML(value='')))"
      ]
     },
     "metadata": {},
     "output_type": "display_data"
    },
    {
     "name": "stdout",
     "output_type": "stream",
     "text": [
      "\n",
      "0\n",
      "epoch 150: training loss 0.4928773418068886\n"
     ]
    },
    {
     "data": {
      "application/vnd.jupyter.widget-view+json": {
       "model_id": "49bd3db74ad645e09bf7f922af6712fd",
       "version_major": 2,
       "version_minor": 0
      },
      "text/plain": [
       "HBox(children=(IntProgress(value=0), HTML(value='')))"
      ]
     },
     "metadata": {},
     "output_type": "display_data"
    },
    {
     "name": "stdout",
     "output_type": "stream",
     "text": [
      "\n",
      "0\n",
      "epoch 151: training loss 0.4909229838848114\n"
     ]
    },
    {
     "data": {
      "application/vnd.jupyter.widget-view+json": {
       "model_id": "99959dafd43f4c4590fa61842d9f3355",
       "version_major": 2,
       "version_minor": 0
      },
      "text/plain": [
       "HBox(children=(IntProgress(value=0), HTML(value='')))"
      ]
     },
     "metadata": {},
     "output_type": "display_data"
    },
    {
     "name": "stdout",
     "output_type": "stream",
     "text": [
      "\n",
      "0\n",
      "epoch 152: training loss 0.4866067352890968\n"
     ]
    },
    {
     "data": {
      "application/vnd.jupyter.widget-view+json": {
       "model_id": "e25e53e65f6a4b54bece324b27fca2fd",
       "version_major": 2,
       "version_minor": 0
      },
      "text/plain": [
       "HBox(children=(IntProgress(value=0), HTML(value='')))"
      ]
     },
     "metadata": {},
     "output_type": "display_data"
    },
    {
     "name": "stdout",
     "output_type": "stream",
     "text": [
      "\n",
      "0\n",
      "epoch 153: training loss 0.48360218524932863\n"
     ]
    },
    {
     "data": {
      "application/vnd.jupyter.widget-view+json": {
       "model_id": "c391e19d56cd49bc8cb1f1100c61d617",
       "version_major": 2,
       "version_minor": 0
      },
      "text/plain": [
       "HBox(children=(IntProgress(value=0), HTML(value='')))"
      ]
     },
     "metadata": {},
     "output_type": "display_data"
    },
    {
     "name": "stdout",
     "output_type": "stream",
     "text": [
      "\n",
      "0\n",
      "epoch 154: training loss 0.48185211151838303\n"
     ]
    },
    {
     "data": {
      "application/vnd.jupyter.widget-view+json": {
       "model_id": "11b760fef790464a8d0b507f6f9d5791",
       "version_major": 2,
       "version_minor": 0
      },
      "text/plain": [
       "HBox(children=(IntProgress(value=0), HTML(value='')))"
      ]
     },
     "metadata": {},
     "output_type": "display_data"
    },
    {
     "name": "stdout",
     "output_type": "stream",
     "text": [
      "\n",
      "0\n",
      "epoch 155: training loss 0.4786978924274445\n"
     ]
    },
    {
     "data": {
      "application/vnd.jupyter.widget-view+json": {
       "model_id": "cbc4c6df944d404a86facb88cc250e7f",
       "version_major": 2,
       "version_minor": 0
      },
      "text/plain": [
       "HBox(children=(IntProgress(value=0), HTML(value='')))"
      ]
     },
     "metadata": {},
     "output_type": "display_data"
    },
    {
     "name": "stdout",
     "output_type": "stream",
     "text": [
      "\n",
      "0\n",
      "epoch 156: training loss 0.47630477845668795\n"
     ]
    },
    {
     "data": {
      "application/vnd.jupyter.widget-view+json": {
       "model_id": "ff29ecb64e36496285beffb9b5bb68df",
       "version_major": 2,
       "version_minor": 0
      },
      "text/plain": [
       "HBox(children=(IntProgress(value=0), HTML(value='')))"
      ]
     },
     "metadata": {},
     "output_type": "display_data"
    },
    {
     "name": "stdout",
     "output_type": "stream",
     "text": [
      "\n",
      "0\n",
      "epoch 157: training loss 0.4721167674660683\n"
     ]
    },
    {
     "data": {
      "application/vnd.jupyter.widget-view+json": {
       "model_id": "60f542ebee354dd2bee6bcaf426aaf29",
       "version_major": 2,
       "version_minor": 0
      },
      "text/plain": [
       "HBox(children=(IntProgress(value=0), HTML(value='')))"
      ]
     },
     "metadata": {},
     "output_type": "display_data"
    },
    {
     "name": "stdout",
     "output_type": "stream",
     "text": [
      "\n",
      "0\n",
      "epoch 158: training loss 0.46884181946516035\n"
     ]
    },
    {
     "data": {
      "application/vnd.jupyter.widget-view+json": {
       "model_id": "2b244729c6c2407d9076314b29339795",
       "version_major": 2,
       "version_minor": 0
      },
      "text/plain": [
       "HBox(children=(IntProgress(value=0), HTML(value='')))"
      ]
     },
     "metadata": {},
     "output_type": "display_data"
    },
    {
     "name": "stdout",
     "output_type": "stream",
     "text": [
      "\n",
      "0\n",
      "epoch 159: training loss 0.4675117290019989\n"
     ]
    },
    {
     "data": {
      "application/vnd.jupyter.widget-view+json": {
       "model_id": "31915c1e80744d8c93bb84d36cb510cf",
       "version_major": 2,
       "version_minor": 0
      },
      "text/plain": [
       "HBox(children=(IntProgress(value=0), HTML(value='')))"
      ]
     },
     "metadata": {},
     "output_type": "display_data"
    },
    {
     "name": "stdout",
     "output_type": "stream",
     "text": [
      "\n",
      "0\n",
      "epoch 160: training loss 0.4644646289944649\n"
     ]
    },
    {
     "data": {
      "application/vnd.jupyter.widget-view+json": {
       "model_id": "4716da16e7b94dffa3fefa932b61fb90",
       "version_major": 2,
       "version_minor": 0
      },
      "text/plain": [
       "HBox(children=(IntProgress(value=0), HTML(value='')))"
      ]
     },
     "metadata": {},
     "output_type": "display_data"
    },
    {
     "name": "stdout",
     "output_type": "stream",
     "text": [
      "\n",
      "0\n",
      "epoch 161: training loss 0.45996432870626447\n"
     ]
    },
    {
     "data": {
      "application/vnd.jupyter.widget-view+json": {
       "model_id": "6cbc26d1e9cf4e0fa68b467856b26064",
       "version_major": 2,
       "version_minor": 0
      },
      "text/plain": [
       "HBox(children=(IntProgress(value=0), HTML(value='')))"
      ]
     },
     "metadata": {},
     "output_type": "display_data"
    },
    {
     "name": "stdout",
     "output_type": "stream",
     "text": [
      "\n",
      "0\n",
      "epoch 162: training loss 0.45808191686868666\n"
     ]
    },
    {
     "data": {
      "application/vnd.jupyter.widget-view+json": {
       "model_id": "4bbd9d4c33b84b7196d7755dd5bc98ab",
       "version_major": 2,
       "version_minor": 0
      },
      "text/plain": [
       "HBox(children=(IntProgress(value=0), HTML(value='')))"
      ]
     },
     "metadata": {},
     "output_type": "display_data"
    },
    {
     "name": "stdout",
     "output_type": "stream",
     "text": [
      "\n",
      "0\n",
      "epoch 163: training loss 0.45580435067415237\n"
     ]
    },
    {
     "data": {
      "application/vnd.jupyter.widget-view+json": {
       "model_id": "3266162a8ff5424f80046df14d0712f2",
       "version_major": 2,
       "version_minor": 0
      },
      "text/plain": [
       "HBox(children=(IntProgress(value=0), HTML(value='')))"
      ]
     },
     "metadata": {},
     "output_type": "display_data"
    },
    {
     "name": "stdout",
     "output_type": "stream",
     "text": [
      "\n",
      "0\n",
      "epoch 164: training loss 0.45306271225214007\n"
     ]
    },
    {
     "data": {
      "application/vnd.jupyter.widget-view+json": {
       "model_id": "5e02028dfe2049a99eb0ae70942f13b8",
       "version_major": 2,
       "version_minor": 0
      },
      "text/plain": [
       "HBox(children=(IntProgress(value=0), HTML(value='')))"
      ]
     },
     "metadata": {},
     "output_type": "display_data"
    },
    {
     "name": "stdout",
     "output_type": "stream",
     "text": [
      "\n",
      "0\n",
      "epoch 165: training loss 0.44781278491020204\n"
     ]
    },
    {
     "data": {
      "application/vnd.jupyter.widget-view+json": {
       "model_id": "7a5bd32d530446b483f50c80f20bb010",
       "version_major": 2,
       "version_minor": 0
      },
      "text/plain": [
       "HBox(children=(IntProgress(value=0), HTML(value='')))"
      ]
     },
     "metadata": {},
     "output_type": "display_data"
    },
    {
     "name": "stdout",
     "output_type": "stream",
     "text": [
      "\n",
      "0\n",
      "epoch 166: training loss 0.4464995762705803\n"
     ]
    },
    {
     "data": {
      "application/vnd.jupyter.widget-view+json": {
       "model_id": "dcf31087fc364fdeb25c64dee169dba4",
       "version_major": 2,
       "version_minor": 0
      },
      "text/plain": [
       "HBox(children=(IntProgress(value=0), HTML(value='')))"
      ]
     },
     "metadata": {},
     "output_type": "display_data"
    },
    {
     "name": "stdout",
     "output_type": "stream",
     "text": [
      "\n",
      "0\n",
      "epoch 167: training loss 0.44249435514211655\n"
     ]
    },
    {
     "data": {
      "application/vnd.jupyter.widget-view+json": {
       "model_id": "0968e56b6ef1407f8f76a75ae01059fe",
       "version_major": 2,
       "version_minor": 0
      },
      "text/plain": [
       "HBox(children=(IntProgress(value=0), HTML(value='')))"
      ]
     },
     "metadata": {},
     "output_type": "display_data"
    },
    {
     "name": "stdout",
     "output_type": "stream",
     "text": [
      "\n",
      "0\n",
      "epoch 168: training loss 0.4405436509847641\n"
     ]
    },
    {
     "data": {
      "application/vnd.jupyter.widget-view+json": {
       "model_id": "cd1e9ccd42ea4b938e460e7318d0488a",
       "version_major": 2,
       "version_minor": 0
      },
      "text/plain": [
       "HBox(children=(IntProgress(value=0), HTML(value='')))"
      ]
     },
     "metadata": {},
     "output_type": "display_data"
    },
    {
     "name": "stdout",
     "output_type": "stream",
     "text": [
      "\n",
      "0\n",
      "epoch 169: training loss 0.43634249836206435\n"
     ]
    },
    {
     "data": {
      "application/vnd.jupyter.widget-view+json": {
       "model_id": "75f5ce4c801840479ddf8f72d918671b",
       "version_major": 2,
       "version_minor": 0
      },
      "text/plain": [
       "HBox(children=(IntProgress(value=0), HTML(value='')))"
      ]
     },
     "metadata": {},
     "output_type": "display_data"
    },
    {
     "name": "stdout",
     "output_type": "stream",
     "text": [
      "\n",
      "0\n",
      "epoch 170: training loss 0.43381593495607373\n"
     ]
    },
    {
     "data": {
      "application/vnd.jupyter.widget-view+json": {
       "model_id": "ef29a6a69f6d437a9d2865aebea34867",
       "version_major": 2,
       "version_minor": 0
      },
      "text/plain": [
       "HBox(children=(IntProgress(value=0), HTML(value='')))"
      ]
     },
     "metadata": {},
     "output_type": "display_data"
    },
    {
     "name": "stdout",
     "output_type": "stream",
     "text": [
      "\n",
      "0\n",
      "epoch 171: training loss 0.43095064014196394\n"
     ]
    },
    {
     "data": {
      "application/vnd.jupyter.widget-view+json": {
       "model_id": "98f0ec6366114ed5a6b002ea9b3772ea",
       "version_major": 2,
       "version_minor": 0
      },
      "text/plain": [
       "HBox(children=(IntProgress(value=0), HTML(value='')))"
      ]
     },
     "metadata": {},
     "output_type": "display_data"
    },
    {
     "name": "stdout",
     "output_type": "stream",
     "text": [
      "\n",
      "0\n",
      "epoch 172: training loss 0.4264875653386116\n"
     ]
    },
    {
     "data": {
      "application/vnd.jupyter.widget-view+json": {
       "model_id": "e87c604bd4044f86bdc6ea6d96b48fbc",
       "version_major": 2,
       "version_minor": 0
      },
      "text/plain": [
       "HBox(children=(IntProgress(value=0), HTML(value='')))"
      ]
     },
     "metadata": {},
     "output_type": "display_data"
    },
    {
     "name": "stdout",
     "output_type": "stream",
     "text": [
      "\n",
      "0\n",
      "epoch 173: training loss 0.42339914679527285\n"
     ]
    },
    {
     "data": {
      "application/vnd.jupyter.widget-view+json": {
       "model_id": "405ffd75a931474b9fdfacec2963f657",
       "version_major": 2,
       "version_minor": 0
      },
      "text/plain": [
       "HBox(children=(IntProgress(value=0), HTML(value='')))"
      ]
     },
     "metadata": {},
     "output_type": "display_data"
    },
    {
     "name": "stdout",
     "output_type": "stream",
     "text": [
      "\n",
      "0\n",
      "epoch 174: training loss 0.42335783392190934\n"
     ]
    },
    {
     "data": {
      "application/vnd.jupyter.widget-view+json": {
       "model_id": "84b2a2a85de240578658a04bc76b3fd6",
       "version_major": 2,
       "version_minor": 0
      },
      "text/plain": [
       "HBox(children=(IntProgress(value=0), HTML(value='')))"
      ]
     },
     "metadata": {},
     "output_type": "display_data"
    },
    {
     "name": "stdout",
     "output_type": "stream",
     "text": [
      "\n",
      "0\n",
      "epoch 175: training loss 0.4178443220257759\n"
     ]
    },
    {
     "data": {
      "application/vnd.jupyter.widget-view+json": {
       "model_id": "47e357aeafd948838c7087aca98bddf9",
       "version_major": 2,
       "version_minor": 0
      },
      "text/plain": [
       "HBox(children=(IntProgress(value=0), HTML(value='')))"
      ]
     },
     "metadata": {},
     "output_type": "display_data"
    },
    {
     "name": "stdout",
     "output_type": "stream",
     "text": [
      "\n",
      "0\n",
      "epoch 176: training loss 0.41588424384593964\n"
     ]
    },
    {
     "data": {
      "application/vnd.jupyter.widget-view+json": {
       "model_id": "a3d1ec8a0b8e4e18ae5dc03801a852c6",
       "version_major": 2,
       "version_minor": 0
      },
      "text/plain": [
       "HBox(children=(IntProgress(value=0), HTML(value='')))"
      ]
     },
     "metadata": {},
     "output_type": "display_data"
    },
    {
     "name": "stdout",
     "output_type": "stream",
     "text": [
      "\n",
      "0\n",
      "epoch 177: training loss 0.4110646504163742\n"
     ]
    },
    {
     "data": {
      "application/vnd.jupyter.widget-view+json": {
       "model_id": "0184784730024b7d88cf63d3715aad29",
       "version_major": 2,
       "version_minor": 0
      },
      "text/plain": [
       "HBox(children=(IntProgress(value=0), HTML(value='')))"
      ]
     },
     "metadata": {},
     "output_type": "display_data"
    },
    {
     "name": "stdout",
     "output_type": "stream",
     "text": [
      "\n",
      "0\n",
      "epoch 178: training loss 0.4097562697529793\n"
     ]
    },
    {
     "data": {
      "application/vnd.jupyter.widget-view+json": {
       "model_id": "a0a729e36b1d4bac984016db7f25900d",
       "version_major": 2,
       "version_minor": 0
      },
      "text/plain": [
       "HBox(children=(IntProgress(value=0), HTML(value='')))"
      ]
     },
     "metadata": {},
     "output_type": "display_data"
    },
    {
     "name": "stdout",
     "output_type": "stream",
     "text": [
      "\n",
      "0\n",
      "epoch 179: training loss 0.40496264785528185\n"
     ]
    },
    {
     "data": {
      "application/vnd.jupyter.widget-view+json": {
       "model_id": "c0f7c759b0114db9a21193ad6562b7f7",
       "version_major": 2,
       "version_minor": 0
      },
      "text/plain": [
       "HBox(children=(IntProgress(value=0), HTML(value='')))"
      ]
     },
     "metadata": {},
     "output_type": "display_data"
    },
    {
     "name": "stdout",
     "output_type": "stream",
     "text": [
      "\n",
      "0\n",
      "epoch 180: training loss 0.40101164251565935\n"
     ]
    },
    {
     "data": {
      "application/vnd.jupyter.widget-view+json": {
       "model_id": "1893e72bb6d041288d39c6052b800792",
       "version_major": 2,
       "version_minor": 0
      },
      "text/plain": [
       "HBox(children=(IntProgress(value=0), HTML(value='')))"
      ]
     },
     "metadata": {},
     "output_type": "display_data"
    },
    {
     "name": "stdout",
     "output_type": "stream",
     "text": [
      "\n",
      "0\n",
      "epoch 181: training loss 0.3994633659720421\n"
     ]
    },
    {
     "data": {
      "application/vnd.jupyter.widget-view+json": {
       "model_id": "e858815028514296a5107cbd2aa62390",
       "version_major": 2,
       "version_minor": 0
      },
      "text/plain": [
       "HBox(children=(IntProgress(value=0), HTML(value='')))"
      ]
     },
     "metadata": {},
     "output_type": "display_data"
    },
    {
     "name": "stdout",
     "output_type": "stream",
     "text": [
      "\n",
      "0\n",
      "epoch 182: training loss 0.3966878029704094\n"
     ]
    },
    {
     "data": {
      "application/vnd.jupyter.widget-view+json": {
       "model_id": "e3ca6a3756e14b1589fc2eaaf0b205ab",
       "version_major": 2,
       "version_minor": 0
      },
      "text/plain": [
       "HBox(children=(IntProgress(value=0), HTML(value='')))"
      ]
     },
     "metadata": {},
     "output_type": "display_data"
    },
    {
     "name": "stdout",
     "output_type": "stream",
     "text": [
      "\n",
      "0\n",
      "epoch 183: training loss 0.3917184260487556\n"
     ]
    },
    {
     "data": {
      "application/vnd.jupyter.widget-view+json": {
       "model_id": "ddb2adc0301646d388f427e66e0fe94f",
       "version_major": 2,
       "version_minor": 0
      },
      "text/plain": [
       "HBox(children=(IntProgress(value=0), HTML(value='')))"
      ]
     },
     "metadata": {},
     "output_type": "display_data"
    },
    {
     "name": "stdout",
     "output_type": "stream",
     "text": [
      "\n",
      "0\n",
      "epoch 184: training loss 0.3901288801431656\n"
     ]
    },
    {
     "data": {
      "application/vnd.jupyter.widget-view+json": {
       "model_id": "a75720eb413b4ba080e7f6bf7d83662f",
       "version_major": 2,
       "version_minor": 0
      },
      "text/plain": [
       "HBox(children=(IntProgress(value=0), HTML(value='')))"
      ]
     },
     "metadata": {},
     "output_type": "display_data"
    },
    {
     "name": "stdout",
     "output_type": "stream",
     "text": [
      "\n",
      "0\n",
      "epoch 185: training loss 0.3861350929737091\n"
     ]
    },
    {
     "data": {
      "application/vnd.jupyter.widget-view+json": {
       "model_id": "e5dec854be6e44889d9eaebe7190dd8c",
       "version_major": 2,
       "version_minor": 0
      },
      "text/plain": [
       "HBox(children=(IntProgress(value=0), HTML(value='')))"
      ]
     },
     "metadata": {},
     "output_type": "display_data"
    },
    {
     "name": "stdout",
     "output_type": "stream",
     "text": [
      "\n",
      "0\n",
      "epoch 186: training loss 0.38354917109012604\n"
     ]
    },
    {
     "data": {
      "application/vnd.jupyter.widget-view+json": {
       "model_id": "85b70a3cb67b4b7083f8c21132a3430a",
       "version_major": 2,
       "version_minor": 0
      },
      "text/plain": [
       "HBox(children=(IntProgress(value=0), HTML(value='')))"
      ]
     },
     "metadata": {},
     "output_type": "display_data"
    },
    {
     "name": "stdout",
     "output_type": "stream",
     "text": [
      "\n",
      "0\n",
      "epoch 187: training loss 0.37864537864923475\n"
     ]
    },
    {
     "data": {
      "application/vnd.jupyter.widget-view+json": {
       "model_id": "ec8cc22d47304f3ebed9aa916d901c97",
       "version_major": 2,
       "version_minor": 0
      },
      "text/plain": [
       "HBox(children=(IntProgress(value=0), HTML(value='')))"
      ]
     },
     "metadata": {},
     "output_type": "display_data"
    },
    {
     "name": "stdout",
     "output_type": "stream",
     "text": [
      "\n",
      "1\n",
      "epoch 188: training loss 0.37681895852088926\n"
     ]
    },
    {
     "data": {
      "application/vnd.jupyter.widget-view+json": {
       "model_id": "798ac8f435e44f11b6b19f6d00f22eb6",
       "version_major": 2,
       "version_minor": 0
      },
      "text/plain": [
       "HBox(children=(IntProgress(value=0), HTML(value='')))"
      ]
     },
     "metadata": {},
     "output_type": "display_data"
    },
    {
     "name": "stdout",
     "output_type": "stream",
     "text": [
      "\n",
      "0\n",
      "epoch 189: training loss 0.37326561003923414\n"
     ]
    },
    {
     "data": {
      "application/vnd.jupyter.widget-view+json": {
       "model_id": "0ce9b2f0f5004275bb73de8d30f1fd71",
       "version_major": 2,
       "version_minor": 0
      },
      "text/plain": [
       "HBox(children=(IntProgress(value=0), HTML(value='')))"
      ]
     },
     "metadata": {},
     "output_type": "display_data"
    },
    {
     "name": "stdout",
     "output_type": "stream",
     "text": [
      "\n",
      "0\n",
      "epoch 190: training loss 0.3699969083070755\n"
     ]
    },
    {
     "data": {
      "application/vnd.jupyter.widget-view+json": {
       "model_id": "a5545f39001348379130f414e77e3b4a",
       "version_major": 2,
       "version_minor": 0
      },
      "text/plain": [
       "HBox(children=(IntProgress(value=0), HTML(value='')))"
      ]
     },
     "metadata": {},
     "output_type": "display_data"
    },
    {
     "name": "stdout",
     "output_type": "stream",
     "text": [
      "\n",
      "0\n",
      "epoch 191: training loss 0.3654238691926002\n"
     ]
    },
    {
     "data": {
      "application/vnd.jupyter.widget-view+json": {
       "model_id": "dccdbb83d3ae4b53af1ddea0833acfe1",
       "version_major": 2,
       "version_minor": 0
      },
      "text/plain": [
       "HBox(children=(IntProgress(value=0), HTML(value='')))"
      ]
     },
     "metadata": {},
     "output_type": "display_data"
    },
    {
     "name": "stdout",
     "output_type": "stream",
     "text": [
      "\n",
      "0\n",
      "epoch 192: training loss 0.3639949154853821\n"
     ]
    },
    {
     "data": {
      "application/vnd.jupyter.widget-view+json": {
       "model_id": "fcc01cc02b114e928993f6ef8f87e6db",
       "version_major": 2,
       "version_minor": 0
      },
      "text/plain": [
       "HBox(children=(IntProgress(value=0), HTML(value='')))"
      ]
     },
     "metadata": {},
     "output_type": "display_data"
    },
    {
     "name": "stdout",
     "output_type": "stream",
     "text": [
      "\n",
      "0\n",
      "epoch 193: training loss 0.3589408707618713\n"
     ]
    },
    {
     "data": {
      "application/vnd.jupyter.widget-view+json": {
       "model_id": "c51b9353ca2a46adb303ff19575ed391",
       "version_major": 2,
       "version_minor": 0
      },
      "text/plain": [
       "HBox(children=(IntProgress(value=0), HTML(value='')))"
      ]
     },
     "metadata": {},
     "output_type": "display_data"
    },
    {
     "name": "stdout",
     "output_type": "stream",
     "text": [
      "\n",
      "0\n",
      "epoch 194: training loss 0.3574632224440575\n"
     ]
    },
    {
     "data": {
      "application/vnd.jupyter.widget-view+json": {
       "model_id": "87375a6922cf47df91ed98aee4f53921",
       "version_major": 2,
       "version_minor": 0
      },
      "text/plain": [
       "HBox(children=(IntProgress(value=0), HTML(value='')))"
      ]
     },
     "metadata": {},
     "output_type": "display_data"
    },
    {
     "name": "stdout",
     "output_type": "stream",
     "text": [
      "\n",
      "0\n",
      "epoch 195: training loss 0.35423202097415923\n"
     ]
    },
    {
     "data": {
      "application/vnd.jupyter.widget-view+json": {
       "model_id": "bbb8ddf9197548c1a6625aeae90619b2",
       "version_major": 2,
       "version_minor": 0
      },
      "text/plain": [
       "HBox(children=(IntProgress(value=0), HTML(value='')))"
      ]
     },
     "metadata": {},
     "output_type": "display_data"
    },
    {
     "name": "stdout",
     "output_type": "stream",
     "text": [
      "\n",
      "0\n",
      "epoch 196: training loss 0.3501174372434616\n"
     ]
    },
    {
     "data": {
      "application/vnd.jupyter.widget-view+json": {
       "model_id": "d17c35e3bfad4f6aa0c01e9cbfcdc0d2",
       "version_major": 2,
       "version_minor": 0
      },
      "text/plain": [
       "HBox(children=(IntProgress(value=0), HTML(value='')))"
      ]
     },
     "metadata": {},
     "output_type": "display_data"
    },
    {
     "name": "stdout",
     "output_type": "stream",
     "text": [
      "\n",
      "0\n",
      "epoch 197: training loss 0.34792878717184067\n"
     ]
    },
    {
     "data": {
      "application/vnd.jupyter.widget-view+json": {
       "model_id": "238219bb080c460eabd5f9a15b48bb6a",
       "version_major": 2,
       "version_minor": 0
      },
      "text/plain": [
       "HBox(children=(IntProgress(value=0), HTML(value='')))"
      ]
     },
     "metadata": {},
     "output_type": "display_data"
    },
    {
     "name": "stdout",
     "output_type": "stream",
     "text": [
      "\n",
      "0\n",
      "epoch 198: training loss 0.3411327454447746\n"
     ]
    },
    {
     "data": {
      "application/vnd.jupyter.widget-view+json": {
       "model_id": "33a69e09ca134760a375f9d8d72b08ca",
       "version_major": 2,
       "version_minor": 0
      },
      "text/plain": [
       "HBox(children=(IntProgress(value=0), HTML(value='')))"
      ]
     },
     "metadata": {},
     "output_type": "display_data"
    },
    {
     "name": "stdout",
     "output_type": "stream",
     "text": [
      "\n",
      "0\n",
      "epoch 199: training loss 0.3413393774628639\n"
     ]
    },
    {
     "data": {
      "application/vnd.jupyter.widget-view+json": {
       "model_id": "00664cac9d764a8486b51a025ca077a4",
       "version_major": 2,
       "version_minor": 0
      },
      "text/plain": [
       "HBox(children=(IntProgress(value=0), HTML(value='')))"
      ]
     },
     "metadata": {},
     "output_type": "display_data"
    },
    {
     "name": "stdout",
     "output_type": "stream",
     "text": [
      "\n",
      "0\n",
      "epoch 200: training loss 0.33501944959163665\n"
     ]
    },
    {
     "data": {
      "application/vnd.jupyter.widget-view+json": {
       "model_id": "c13dbec247864e90bc2be8082f03ad1b",
       "version_major": 2,
       "version_minor": 0
      },
      "text/plain": [
       "HBox(children=(IntProgress(value=0), HTML(value='')))"
      ]
     },
     "metadata": {},
     "output_type": "display_data"
    },
    {
     "name": "stdout",
     "output_type": "stream",
     "text": [
      "\n",
      "0\n",
      "epoch 201: training loss 0.3342981806397438\n"
     ]
    },
    {
     "data": {
      "application/vnd.jupyter.widget-view+json": {
       "model_id": "2f1223f15e924c6c9eead3369f2f606f",
       "version_major": 2,
       "version_minor": 0
      },
      "text/plain": [
       "HBox(children=(IntProgress(value=0), HTML(value='')))"
      ]
     },
     "metadata": {},
     "output_type": "display_data"
    },
    {
     "name": "stdout",
     "output_type": "stream",
     "text": [
      "\n",
      "0\n",
      "epoch 202: training loss 0.3310155369341373\n"
     ]
    },
    {
     "data": {
      "application/vnd.jupyter.widget-view+json": {
       "model_id": "0712f065e92944b78c1b114f0ecd6e08",
       "version_major": 2,
       "version_minor": 0
      },
      "text/plain": [
       "HBox(children=(IntProgress(value=0), HTML(value='')))"
      ]
     },
     "metadata": {},
     "output_type": "display_data"
    },
    {
     "name": "stdout",
     "output_type": "stream",
     "text": [
      "\n",
      "0\n",
      "epoch 203: training loss 0.3272904850542545\n"
     ]
    },
    {
     "data": {
      "application/vnd.jupyter.widget-view+json": {
       "model_id": "2938bffe14024fcb851136bfb3e4a945",
       "version_major": 2,
       "version_minor": 0
      },
      "text/plain": [
       "HBox(children=(IntProgress(value=0), HTML(value='')))"
      ]
     },
     "metadata": {},
     "output_type": "display_data"
    },
    {
     "name": "stdout",
     "output_type": "stream",
     "text": [
      "\n",
      "0\n",
      "epoch 204: training loss 0.3232975998520851\n"
     ]
    },
    {
     "data": {
      "application/vnd.jupyter.widget-view+json": {
       "model_id": "52c3b872832541f9a733b992e8e8457f",
       "version_major": 2,
       "version_minor": 0
      },
      "text/plain": [
       "HBox(children=(IntProgress(value=0), HTML(value='')))"
      ]
     },
     "metadata": {},
     "output_type": "display_data"
    },
    {
     "name": "stdout",
     "output_type": "stream",
     "text": [
      "\n",
      "0\n",
      "epoch 205: training loss 0.3198879577219486\n"
     ]
    },
    {
     "data": {
      "application/vnd.jupyter.widget-view+json": {
       "model_id": "3bbe08f1973347e892be66c683866ae1",
       "version_major": 2,
       "version_minor": 0
      },
      "text/plain": [
       "HBox(children=(IntProgress(value=0), HTML(value='')))"
      ]
     },
     "metadata": {},
     "output_type": "display_data"
    },
    {
     "name": "stdout",
     "output_type": "stream",
     "text": [
      "\n",
      "0\n",
      "epoch 206: training loss 0.31829032927751544\n"
     ]
    },
    {
     "data": {
      "application/vnd.jupyter.widget-view+json": {
       "model_id": "4842a651ef1c43ee9c29f2cc6203b8a8",
       "version_major": 2,
       "version_minor": 0
      },
      "text/plain": [
       "HBox(children=(IntProgress(value=0), HTML(value='')))"
      ]
     },
     "metadata": {},
     "output_type": "display_data"
    },
    {
     "name": "stdout",
     "output_type": "stream",
     "text": [
      "\n",
      "0\n",
      "epoch 207: training loss 0.31282198876142503\n"
     ]
    },
    {
     "data": {
      "application/vnd.jupyter.widget-view+json": {
       "model_id": "0963aeb14db84c67b236eb2a0a82d4b0",
       "version_major": 2,
       "version_minor": 0
      },
      "text/plain": [
       "HBox(children=(IntProgress(value=0), HTML(value='')))"
      ]
     },
     "metadata": {},
     "output_type": "display_data"
    },
    {
     "name": "stdout",
     "output_type": "stream",
     "text": [
      "\n",
      "0\n",
      "epoch 208: training loss 0.3111127613484859\n"
     ]
    },
    {
     "data": {
      "application/vnd.jupyter.widget-view+json": {
       "model_id": "1513b4d79b36447e9b50a936128fbc39",
       "version_major": 2,
       "version_minor": 0
      },
      "text/plain": [
       "HBox(children=(IntProgress(value=0), HTML(value='')))"
      ]
     },
     "metadata": {},
     "output_type": "display_data"
    },
    {
     "name": "stdout",
     "output_type": "stream",
     "text": [
      "\n",
      "0\n",
      "epoch 209: training loss 0.3074179258942604\n"
     ]
    },
    {
     "data": {
      "application/vnd.jupyter.widget-view+json": {
       "model_id": "57d7f141b366480689ff41ac22d1102c",
       "version_major": 2,
       "version_minor": 0
      },
      "text/plain": [
       "HBox(children=(IntProgress(value=0), HTML(value='')))"
      ]
     },
     "metadata": {},
     "output_type": "display_data"
    },
    {
     "name": "stdout",
     "output_type": "stream",
     "text": [
      "\n",
      "0\n",
      "epoch 210: training loss 0.3023834627866745\n"
     ]
    },
    {
     "data": {
      "application/vnd.jupyter.widget-view+json": {
       "model_id": "a71a39a7af314dd39e24564a0d1a89b4",
       "version_major": 2,
       "version_minor": 0
      },
      "text/plain": [
       "HBox(children=(IntProgress(value=0), HTML(value='')))"
      ]
     },
     "metadata": {},
     "output_type": "display_data"
    },
    {
     "name": "stdout",
     "output_type": "stream",
     "text": [
      "\n",
      "0\n",
      "epoch 211: training loss 0.30146596387028696\n"
     ]
    },
    {
     "data": {
      "application/vnd.jupyter.widget-view+json": {
       "model_id": "0017d9e41726426da540ccafc115653d",
       "version_major": 2,
       "version_minor": 0
      },
      "text/plain": [
       "HBox(children=(IntProgress(value=0), HTML(value='')))"
      ]
     },
     "metadata": {},
     "output_type": "display_data"
    },
    {
     "name": "stdout",
     "output_type": "stream",
     "text": [
      "\n",
      "0\n",
      "epoch 212: training loss 0.2959595187008381\n"
     ]
    },
    {
     "data": {
      "application/vnd.jupyter.widget-view+json": {
       "model_id": "1c11e9dde13d4ef684affed9e7a4e2b9",
       "version_major": 2,
       "version_minor": 0
      },
      "text/plain": [
       "HBox(children=(IntProgress(value=0), HTML(value='')))"
      ]
     },
     "metadata": {},
     "output_type": "display_data"
    },
    {
     "name": "stdout",
     "output_type": "stream",
     "text": [
      "\n",
      "0\n",
      "epoch 213: training loss 0.2939110088348389\n"
     ]
    },
    {
     "data": {
      "application/vnd.jupyter.widget-view+json": {
       "model_id": "6e8f859299a54fa0b195b885322ef656",
       "version_major": 2,
       "version_minor": 0
      },
      "text/plain": [
       "HBox(children=(IntProgress(value=0), HTML(value='')))"
      ]
     },
     "metadata": {},
     "output_type": "display_data"
    },
    {
     "name": "stdout",
     "output_type": "stream",
     "text": [
      "\n",
      "0\n",
      "epoch 214: training loss 0.292070305198431\n"
     ]
    },
    {
     "data": {
      "application/vnd.jupyter.widget-view+json": {
       "model_id": "2806869f25364270a78e5345af28c89f",
       "version_major": 2,
       "version_minor": 0
      },
      "text/plain": [
       "HBox(children=(IntProgress(value=0), HTML(value='')))"
      ]
     },
     "metadata": {},
     "output_type": "display_data"
    },
    {
     "name": "stdout",
     "output_type": "stream",
     "text": [
      "\n",
      "0\n",
      "epoch 215: training loss 0.2870922765135765\n"
     ]
    },
    {
     "data": {
      "application/vnd.jupyter.widget-view+json": {
       "model_id": "78183c5a16514e73afe3448d39644e9e",
       "version_major": 2,
       "version_minor": 0
      },
      "text/plain": [
       "HBox(children=(IntProgress(value=0), HTML(value='')))"
      ]
     },
     "metadata": {},
     "output_type": "display_data"
    },
    {
     "name": "stdout",
     "output_type": "stream",
     "text": [
      "\n",
      "0\n",
      "epoch 216: training loss 0.2837862628698349\n"
     ]
    },
    {
     "data": {
      "application/vnd.jupyter.widget-view+json": {
       "model_id": "b2b0dc25c6a1432f9b5c40c7049049c2",
       "version_major": 2,
       "version_minor": 0
      },
      "text/plain": [
       "HBox(children=(IntProgress(value=0), HTML(value='')))"
      ]
     },
     "metadata": {},
     "output_type": "display_data"
    },
    {
     "name": "stdout",
     "output_type": "stream",
     "text": [
      "\n",
      "0\n",
      "epoch 217: training loss 0.2795020496845245\n"
     ]
    },
    {
     "data": {
      "application/vnd.jupyter.widget-view+json": {
       "model_id": "d97981f087d244fbbb5e7033d6e035c5",
       "version_major": 2,
       "version_minor": 0
      },
      "text/plain": [
       "HBox(children=(IntProgress(value=0), HTML(value='')))"
      ]
     },
     "metadata": {},
     "output_type": "display_data"
    },
    {
     "name": "stdout",
     "output_type": "stream",
     "text": [
      "\n",
      "0\n",
      "epoch 218: training loss 0.2789404956996441\n"
     ]
    },
    {
     "data": {
      "application/vnd.jupyter.widget-view+json": {
       "model_id": "18fcf96af1564bb3a3bea700412be2a5",
       "version_major": 2,
       "version_minor": 0
      },
      "text/plain": [
       "HBox(children=(IntProgress(value=0), HTML(value='')))"
      ]
     },
     "metadata": {},
     "output_type": "display_data"
    },
    {
     "name": "stdout",
     "output_type": "stream",
     "text": [
      "\n",
      "0\n",
      "epoch 219: training loss 0.27442988827824594\n"
     ]
    },
    {
     "data": {
      "application/vnd.jupyter.widget-view+json": {
       "model_id": "c6e1c56375ad46308c1fdb848b467b00",
       "version_major": 2,
       "version_minor": 0
      },
      "text/plain": [
       "HBox(children=(IntProgress(value=0), HTML(value='')))"
      ]
     },
     "metadata": {},
     "output_type": "display_data"
    },
    {
     "name": "stdout",
     "output_type": "stream",
     "text": [
      "\n",
      "0\n",
      "epoch 220: training loss 0.2716889236867428\n"
     ]
    },
    {
     "data": {
      "application/vnd.jupyter.widget-view+json": {
       "model_id": "65966f3e303c46fdb46d6ce3a203a0f1",
       "version_major": 2,
       "version_minor": 0
      },
      "text/plain": [
       "HBox(children=(IntProgress(value=0), HTML(value='')))"
      ]
     },
     "metadata": {},
     "output_type": "display_data"
    },
    {
     "name": "stdout",
     "output_type": "stream",
     "text": [
      "\n",
      "0\n",
      "epoch 221: training loss 0.26704708322882653\n"
     ]
    },
    {
     "data": {
      "application/vnd.jupyter.widget-view+json": {
       "model_id": "30674867823748efbb397de1beea7987",
       "version_major": 2,
       "version_minor": 0
      },
      "text/plain": [
       "HBox(children=(IntProgress(value=0), HTML(value='')))"
      ]
     },
     "metadata": {},
     "output_type": "display_data"
    },
    {
     "name": "stdout",
     "output_type": "stream",
     "text": [
      "\n",
      "0\n",
      "epoch 222: training loss 0.26454578518867494\n"
     ]
    },
    {
     "data": {
      "application/vnd.jupyter.widget-view+json": {
       "model_id": "32d4aad4f179456ab64447f443fcf2b6",
       "version_major": 2,
       "version_minor": 0
      },
      "text/plain": [
       "HBox(children=(IntProgress(value=0), HTML(value='')))"
      ]
     },
     "metadata": {},
     "output_type": "display_data"
    },
    {
     "name": "stdout",
     "output_type": "stream",
     "text": [
      "\n",
      "0\n",
      "epoch 223: training loss 0.26033306315541266\n"
     ]
    },
    {
     "data": {
      "application/vnd.jupyter.widget-view+json": {
       "model_id": "5af0e9b35d6d422295520ca36c6b0ba6",
       "version_major": 2,
       "version_minor": 0
      },
      "text/plain": [
       "HBox(children=(IntProgress(value=0), HTML(value='')))"
      ]
     },
     "metadata": {},
     "output_type": "display_data"
    },
    {
     "name": "stdout",
     "output_type": "stream",
     "text": [
      "\n",
      "0\n",
      "epoch 224: training loss 0.2599744611978531\n"
     ]
    },
    {
     "data": {
      "application/vnd.jupyter.widget-view+json": {
       "model_id": "e6c9e0098c2c4f0c9a16fbf59efacbd2",
       "version_major": 2,
       "version_minor": 0
      },
      "text/plain": [
       "HBox(children=(IntProgress(value=0), HTML(value='')))"
      ]
     },
     "metadata": {},
     "output_type": "display_data"
    },
    {
     "name": "stdout",
     "output_type": "stream",
     "text": [
      "\n",
      "0\n",
      "epoch 225: training loss 0.25520239427685737\n"
     ]
    },
    {
     "data": {
      "application/vnd.jupyter.widget-view+json": {
       "model_id": "b89a354041b04eb3a7d366508c4a3bc3",
       "version_major": 2,
       "version_minor": 0
      },
      "text/plain": [
       "HBox(children=(IntProgress(value=0), HTML(value='')))"
      ]
     },
     "metadata": {},
     "output_type": "display_data"
    },
    {
     "name": "stdout",
     "output_type": "stream",
     "text": [
      "\n",
      "0\n",
      "epoch 226: training loss 0.2515177607536316\n"
     ]
    },
    {
     "data": {
      "application/vnd.jupyter.widget-view+json": {
       "model_id": "b60e404ca5824925b59a249794b6d77b",
       "version_major": 2,
       "version_minor": 0
      },
      "text/plain": [
       "HBox(children=(IntProgress(value=0), HTML(value='')))"
      ]
     },
     "metadata": {},
     "output_type": "display_data"
    },
    {
     "name": "stdout",
     "output_type": "stream",
     "text": [
      "\n",
      "0\n",
      "epoch 227: training loss 0.249828360080719\n"
     ]
    },
    {
     "data": {
      "application/vnd.jupyter.widget-view+json": {
       "model_id": "b096eba8c383489d94bbdee16132c0ae",
       "version_major": 2,
       "version_minor": 0
      },
      "text/plain": [
       "HBox(children=(IntProgress(value=0), HTML(value='')))"
      ]
     },
     "metadata": {},
     "output_type": "display_data"
    },
    {
     "name": "stdout",
     "output_type": "stream",
     "text": [
      "\n",
      "0\n",
      "epoch 228: training loss 0.24735479205846786\n"
     ]
    },
    {
     "data": {
      "application/vnd.jupyter.widget-view+json": {
       "model_id": "46e804acb0f34ceca7cac16bc7ac0a17",
       "version_major": 2,
       "version_minor": 0
      },
      "text/plain": [
       "HBox(children=(IntProgress(value=0), HTML(value='')))"
      ]
     },
     "metadata": {},
     "output_type": "display_data"
    },
    {
     "name": "stdout",
     "output_type": "stream",
     "text": [
      "\n",
      "0\n",
      "epoch 229: training loss 0.2424950422346592\n"
     ]
    },
    {
     "data": {
      "application/vnd.jupyter.widget-view+json": {
       "model_id": "476aedf3ec0d4303ae00d8e08a079cc6",
       "version_major": 2,
       "version_minor": 0
      },
      "text/plain": [
       "HBox(children=(IntProgress(value=0), HTML(value='')))"
      ]
     },
     "metadata": {},
     "output_type": "display_data"
    },
    {
     "name": "stdout",
     "output_type": "stream",
     "text": [
      "\n",
      "0\n",
      "epoch 230: training loss 0.23971278250217437\n"
     ]
    },
    {
     "data": {
      "application/vnd.jupyter.widget-view+json": {
       "model_id": "f88994654d78422782b460537e9e24e9",
       "version_major": 2,
       "version_minor": 0
      },
      "text/plain": [
       "HBox(children=(IntProgress(value=0), HTML(value='')))"
      ]
     },
     "metadata": {},
     "output_type": "display_data"
    },
    {
     "name": "stdout",
     "output_type": "stream",
     "text": [
      "\n",
      "0\n",
      "epoch 231: training loss 0.23770204082131385\n"
     ]
    },
    {
     "data": {
      "application/vnd.jupyter.widget-view+json": {
       "model_id": "cc0b5c077bd242b8acdbb580e9c19f38",
       "version_major": 2,
       "version_minor": 0
      },
      "text/plain": [
       "HBox(children=(IntProgress(value=0), HTML(value='')))"
      ]
     },
     "metadata": {},
     "output_type": "display_data"
    },
    {
     "name": "stdout",
     "output_type": "stream",
     "text": [
      "\n",
      "0\n",
      "epoch 232: training loss 0.23337934792041778\n"
     ]
    },
    {
     "data": {
      "application/vnd.jupyter.widget-view+json": {
       "model_id": "14e99960e2824ba49dbadb08f5bfd89b",
       "version_major": 2,
       "version_minor": 0
      },
      "text/plain": [
       "HBox(children=(IntProgress(value=0), HTML(value='')))"
      ]
     },
     "metadata": {},
     "output_type": "display_data"
    },
    {
     "name": "stdout",
     "output_type": "stream",
     "text": [
      "\n",
      "0\n",
      "epoch 233: training loss 0.2321445082128048\n"
     ]
    },
    {
     "data": {
      "application/vnd.jupyter.widget-view+json": {
       "model_id": "d14c516077444e0187a9f9eead8ad332",
       "version_major": 2,
       "version_minor": 0
      },
      "text/plain": [
       "HBox(children=(IntProgress(value=0), HTML(value='')))"
      ]
     },
     "metadata": {},
     "output_type": "display_data"
    },
    {
     "name": "stdout",
     "output_type": "stream",
     "text": [
      "\n",
      "0\n",
      "epoch 234: training loss 0.22975066363811492\n"
     ]
    },
    {
     "data": {
      "application/vnd.jupyter.widget-view+json": {
       "model_id": "30dd4ff607df43dba927992533fd30ac",
       "version_major": 2,
       "version_minor": 0
      },
      "text/plain": [
       "HBox(children=(IntProgress(value=0), HTML(value='')))"
      ]
     },
     "metadata": {},
     "output_type": "display_data"
    },
    {
     "name": "stdout",
     "output_type": "stream",
     "text": [
      "\n",
      "0\n",
      "epoch 235: training loss 0.2237202250957489\n"
     ]
    },
    {
     "data": {
      "application/vnd.jupyter.widget-view+json": {
       "model_id": "1726bc57daf04280b220b454ebfa01e6",
       "version_major": 2,
       "version_minor": 0
      },
      "text/plain": [
       "HBox(children=(IntProgress(value=0), HTML(value='')))"
      ]
     },
     "metadata": {},
     "output_type": "display_data"
    },
    {
     "name": "stdout",
     "output_type": "stream",
     "text": [
      "\n",
      "0\n",
      "epoch 236: training loss 0.22155826777219773\n"
     ]
    },
    {
     "data": {
      "application/vnd.jupyter.widget-view+json": {
       "model_id": "193211741e834ca98df4a935f3a3cf09",
       "version_major": 2,
       "version_minor": 0
      },
      "text/plain": [
       "HBox(children=(IntProgress(value=0), HTML(value='')))"
      ]
     },
     "metadata": {},
     "output_type": "display_data"
    },
    {
     "name": "stdout",
     "output_type": "stream",
     "text": [
      "\n",
      "0\n",
      "epoch 237: training loss 0.22145950719714164\n"
     ]
    },
    {
     "data": {
      "application/vnd.jupyter.widget-view+json": {
       "model_id": "a6658aee909a4bbbb7a3794c563920c2",
       "version_major": 2,
       "version_minor": 0
      },
      "text/plain": [
       "HBox(children=(IntProgress(value=0), HTML(value='')))"
      ]
     },
     "metadata": {},
     "output_type": "display_data"
    },
    {
     "name": "stdout",
     "output_type": "stream",
     "text": [
      "\n",
      "0\n",
      "epoch 238: training loss 0.21512389659881592\n"
     ]
    },
    {
     "data": {
      "application/vnd.jupyter.widget-view+json": {
       "model_id": "fae1be09d0b747eca0ded12daeeb3ad5",
       "version_major": 2,
       "version_minor": 0
      },
      "text/plain": [
       "HBox(children=(IntProgress(value=0), HTML(value='')))"
      ]
     },
     "metadata": {},
     "output_type": "display_data"
    },
    {
     "name": "stdout",
     "output_type": "stream",
     "text": [
      "\n",
      "0\n",
      "epoch 239: training loss 0.21421792939305306\n"
     ]
    },
    {
     "data": {
      "application/vnd.jupyter.widget-view+json": {
       "model_id": "8f9db1c8900148f484e48fff6b6e8c9e",
       "version_major": 2,
       "version_minor": 0
      },
      "text/plain": [
       "HBox(children=(IntProgress(value=0), HTML(value='')))"
      ]
     },
     "metadata": {},
     "output_type": "display_data"
    },
    {
     "name": "stdout",
     "output_type": "stream",
     "text": [
      "\n",
      "0\n",
      "epoch 240: training loss 0.21165428534150124\n"
     ]
    },
    {
     "data": {
      "application/vnd.jupyter.widget-view+json": {
       "model_id": "557b317b6cee475c893c0cba2d81c8cd",
       "version_major": 2,
       "version_minor": 0
      },
      "text/plain": [
       "HBox(children=(IntProgress(value=0), HTML(value='')))"
      ]
     },
     "metadata": {},
     "output_type": "display_data"
    },
    {
     "name": "stdout",
     "output_type": "stream",
     "text": [
      "\n",
      "0\n",
      "epoch 241: training loss 0.20857985958456993\n"
     ]
    },
    {
     "data": {
      "application/vnd.jupyter.widget-view+json": {
       "model_id": "9430afb39b9c4093a43ebca3e6cc5923",
       "version_major": 2,
       "version_minor": 0
      },
      "text/plain": [
       "HBox(children=(IntProgress(value=0), HTML(value='')))"
      ]
     },
     "metadata": {},
     "output_type": "display_data"
    },
    {
     "name": "stdout",
     "output_type": "stream",
     "text": [
      "\n",
      "0\n",
      "epoch 242: training loss 0.20646736085414885\n"
     ]
    },
    {
     "data": {
      "application/vnd.jupyter.widget-view+json": {
       "model_id": "2c7443cbd1364f868fb7591aebca8edb",
       "version_major": 2,
       "version_minor": 0
      },
      "text/plain": [
       "HBox(children=(IntProgress(value=0), HTML(value='')))"
      ]
     },
     "metadata": {},
     "output_type": "display_data"
    },
    {
     "name": "stdout",
     "output_type": "stream",
     "text": [
      "\n",
      "0\n",
      "epoch 243: training loss 0.20200133822858335\n"
     ]
    },
    {
     "data": {
      "application/vnd.jupyter.widget-view+json": {
       "model_id": "6c0e309b0a7e4e2195dabd807132ad74",
       "version_major": 2,
       "version_minor": 0
      },
      "text/plain": [
       "HBox(children=(IntProgress(value=0), HTML(value='')))"
      ]
     },
     "metadata": {},
     "output_type": "display_data"
    },
    {
     "name": "stdout",
     "output_type": "stream",
     "text": [
      "\n",
      "0\n",
      "epoch 244: training loss 0.20143593914806843\n"
     ]
    },
    {
     "data": {
      "application/vnd.jupyter.widget-view+json": {
       "model_id": "ae4413a95b5a41ef8edfba3e3246c207",
       "version_major": 2,
       "version_minor": 0
      },
      "text/plain": [
       "HBox(children=(IntProgress(value=0), HTML(value='')))"
      ]
     },
     "metadata": {},
     "output_type": "display_data"
    },
    {
     "name": "stdout",
     "output_type": "stream",
     "text": [
      "\n",
      "0\n",
      "epoch 245: training loss 0.19824011489748955\n"
     ]
    },
    {
     "data": {
      "application/vnd.jupyter.widget-view+json": {
       "model_id": "2f1fef0a37b5491aa02ba82e8c2e839a",
       "version_major": 2,
       "version_minor": 0
      },
      "text/plain": [
       "HBox(children=(IntProgress(value=0), HTML(value='')))"
      ]
     },
     "metadata": {},
     "output_type": "display_data"
    },
    {
     "name": "stdout",
     "output_type": "stream",
     "text": [
      "\n",
      "0\n",
      "epoch 246: training loss 0.19596408054232597\n"
     ]
    },
    {
     "data": {
      "application/vnd.jupyter.widget-view+json": {
       "model_id": "37e4b87b43a9411f89ef9ce64cdf412f",
       "version_major": 2,
       "version_minor": 0
      },
      "text/plain": [
       "HBox(children=(IntProgress(value=0), HTML(value='')))"
      ]
     },
     "metadata": {},
     "output_type": "display_data"
    },
    {
     "name": "stdout",
     "output_type": "stream",
     "text": [
      "\n",
      "0\n",
      "epoch 247: training loss 0.19193366467952727\n"
     ]
    },
    {
     "data": {
      "application/vnd.jupyter.widget-view+json": {
       "model_id": "0ef13f759dde4edfbc5f3ef035f8c018",
       "version_major": 2,
       "version_minor": 0
      },
      "text/plain": [
       "HBox(children=(IntProgress(value=0), HTML(value='')))"
      ]
     },
     "metadata": {},
     "output_type": "display_data"
    },
    {
     "name": "stdout",
     "output_type": "stream",
     "text": [
      "\n",
      "0\n",
      "epoch 248: training loss 0.1900505194813013\n"
     ]
    },
    {
     "data": {
      "application/vnd.jupyter.widget-view+json": {
       "model_id": "92b79bc01937460b89670eca70cf1aef",
       "version_major": 2,
       "version_minor": 0
      },
      "text/plain": [
       "HBox(children=(IntProgress(value=0), HTML(value='')))"
      ]
     },
     "metadata": {},
     "output_type": "display_data"
    },
    {
     "name": "stdout",
     "output_type": "stream",
     "text": [
      "\n",
      "0\n",
      "epoch 249: training loss 0.18846965283155442\n"
     ]
    },
    {
     "data": {
      "application/vnd.jupyter.widget-view+json": {
       "model_id": "9774c32522b44ab596b92d22891ce32c",
       "version_major": 2,
       "version_minor": 0
      },
      "text/plain": [
       "HBox(children=(IntProgress(value=0), HTML(value='')))"
      ]
     },
     "metadata": {},
     "output_type": "display_data"
    },
    {
     "name": "stdout",
     "output_type": "stream",
     "text": [
      "\n",
      "0\n",
      "epoch 250: training loss 0.18630724750459193\n"
     ]
    },
    {
     "data": {
      "application/vnd.jupyter.widget-view+json": {
       "model_id": "aa0c7c958879450aa295ee002bcbc317",
       "version_major": 2,
       "version_minor": 0
      },
      "text/plain": [
       "HBox(children=(IntProgress(value=0), HTML(value='')))"
      ]
     },
     "metadata": {},
     "output_type": "display_data"
    },
    {
     "name": "stdout",
     "output_type": "stream",
     "text": [
      "\n",
      "0\n",
      "epoch 251: training loss 0.18305170767009257\n"
     ]
    },
    {
     "data": {
      "application/vnd.jupyter.widget-view+json": {
       "model_id": "63b22160270e42efaf22e4d0a64e0226",
       "version_major": 2,
       "version_minor": 0
      },
      "text/plain": [
       "HBox(children=(IntProgress(value=0), HTML(value='')))"
      ]
     },
     "metadata": {},
     "output_type": "display_data"
    },
    {
     "name": "stdout",
     "output_type": "stream",
     "text": [
      "\n",
      "0\n",
      "epoch 252: training loss 0.18039986476302147\n"
     ]
    },
    {
     "data": {
      "application/vnd.jupyter.widget-view+json": {
       "model_id": "568a6c2e67294a0dae7301b3b4088577",
       "version_major": 2,
       "version_minor": 0
      },
      "text/plain": [
       "HBox(children=(IntProgress(value=0), HTML(value='')))"
      ]
     },
     "metadata": {},
     "output_type": "display_data"
    },
    {
     "name": "stdout",
     "output_type": "stream",
     "text": [
      "\n",
      "0\n",
      "epoch 253: training loss 0.17868826001882554\n"
     ]
    },
    {
     "data": {
      "application/vnd.jupyter.widget-view+json": {
       "model_id": "dcbd05ac0de541ef818b47bd952986c6",
       "version_major": 2,
       "version_minor": 0
      },
      "text/plain": [
       "HBox(children=(IntProgress(value=0), HTML(value='')))"
      ]
     },
     "metadata": {},
     "output_type": "display_data"
    },
    {
     "name": "stdout",
     "output_type": "stream",
     "text": [
      "\n",
      "0\n",
      "epoch 254: training loss 0.17733871959149838\n"
     ]
    },
    {
     "data": {
      "application/vnd.jupyter.widget-view+json": {
       "model_id": "2ebe1562b41b404d83fcdf2a5e4ebfab",
       "version_major": 2,
       "version_minor": 0
      },
      "text/plain": [
       "HBox(children=(IntProgress(value=0), HTML(value='')))"
      ]
     },
     "metadata": {},
     "output_type": "display_data"
    },
    {
     "name": "stdout",
     "output_type": "stream",
     "text": [
      "\n",
      "0\n",
      "epoch 255: training loss 0.1729980368167162\n"
     ]
    },
    {
     "data": {
      "application/vnd.jupyter.widget-view+json": {
       "model_id": "3e96d628dcf8423f8b4c615d47a3b928",
       "version_major": 2,
       "version_minor": 0
      },
      "text/plain": [
       "HBox(children=(IntProgress(value=0), HTML(value='')))"
      ]
     },
     "metadata": {},
     "output_type": "display_data"
    },
    {
     "name": "stdout",
     "output_type": "stream",
     "text": [
      "\n",
      "0\n",
      "epoch 256: training loss 0.1715376477688551\n"
     ]
    },
    {
     "data": {
      "application/vnd.jupyter.widget-view+json": {
       "model_id": "cfcd498738c948269f16aef3a2a14fe7",
       "version_major": 2,
       "version_minor": 0
      },
      "text/plain": [
       "HBox(children=(IntProgress(value=0), HTML(value='')))"
      ]
     },
     "metadata": {},
     "output_type": "display_data"
    },
    {
     "name": "stdout",
     "output_type": "stream",
     "text": [
      "\n",
      "0\n",
      "epoch 257: training loss 0.16962556466460227\n"
     ]
    },
    {
     "data": {
      "application/vnd.jupyter.widget-view+json": {
       "model_id": "5fb750e1c9194725a944d8c4012f6416",
       "version_major": 2,
       "version_minor": 0
      },
      "text/plain": [
       "HBox(children=(IntProgress(value=0), HTML(value='')))"
      ]
     },
     "metadata": {},
     "output_type": "display_data"
    },
    {
     "name": "stdout",
     "output_type": "stream",
     "text": [
      "\n",
      "0\n",
      "epoch 258: training loss 0.16757358454167842\n"
     ]
    },
    {
     "data": {
      "application/vnd.jupyter.widget-view+json": {
       "model_id": "53fff35ccd5a448da946e4fa330be46c",
       "version_major": 2,
       "version_minor": 0
      },
      "text/plain": [
       "HBox(children=(IntProgress(value=0), HTML(value='')))"
      ]
     },
     "metadata": {},
     "output_type": "display_data"
    },
    {
     "name": "stdout",
     "output_type": "stream",
     "text": [
      "\n",
      "0\n",
      "epoch 259: training loss 0.16483873091638088\n"
     ]
    },
    {
     "data": {
      "application/vnd.jupyter.widget-view+json": {
       "model_id": "b93fd6f100534418b4a6c8e511eb5c1c",
       "version_major": 2,
       "version_minor": 0
      },
      "text/plain": [
       "HBox(children=(IntProgress(value=0), HTML(value='')))"
      ]
     },
     "metadata": {},
     "output_type": "display_data"
    },
    {
     "name": "stdout",
     "output_type": "stream",
     "text": [
      "\n",
      "0\n",
      "epoch 260: training loss 0.16341892823576928\n"
     ]
    },
    {
     "data": {
      "application/vnd.jupyter.widget-view+json": {
       "model_id": "0a8bd5744a54480c987cf5e4ab98a1e7",
       "version_major": 2,
       "version_minor": 0
      },
      "text/plain": [
       "HBox(children=(IntProgress(value=0), HTML(value='')))"
      ]
     },
     "metadata": {},
     "output_type": "display_data"
    },
    {
     "name": "stdout",
     "output_type": "stream",
     "text": [
      "\n",
      "0\n",
      "epoch 261: training loss 0.1605546224862337\n"
     ]
    },
    {
     "data": {
      "application/vnd.jupyter.widget-view+json": {
       "model_id": "6399e3d3fbbd4cb39ebe473a227cff41",
       "version_major": 2,
       "version_minor": 0
      },
      "text/plain": [
       "HBox(children=(IntProgress(value=0), HTML(value='')))"
      ]
     },
     "metadata": {},
     "output_type": "display_data"
    },
    {
     "name": "stdout",
     "output_type": "stream",
     "text": [
      "\n",
      "0\n",
      "epoch 262: training loss 0.15869016230106353\n"
     ]
    },
    {
     "data": {
      "application/vnd.jupyter.widget-view+json": {
       "model_id": "ba711f39386e4e859b0f9ea2eed41bda",
       "version_major": 2,
       "version_minor": 0
      },
      "text/plain": [
       "HBox(children=(IntProgress(value=0), HTML(value='')))"
      ]
     },
     "metadata": {},
     "output_type": "display_data"
    },
    {
     "name": "stdout",
     "output_type": "stream",
     "text": [
      "\n",
      "0\n",
      "epoch 263: training loss 0.15749862253665925\n"
     ]
    },
    {
     "data": {
      "application/vnd.jupyter.widget-view+json": {
       "model_id": "f407fc53fcea463b9da3228c2f6d3cef",
       "version_major": 2,
       "version_minor": 0
      },
      "text/plain": [
       "HBox(children=(IntProgress(value=0), HTML(value='')))"
      ]
     },
     "metadata": {},
     "output_type": "display_data"
    },
    {
     "name": "stdout",
     "output_type": "stream",
     "text": [
      "\n",
      "0\n",
      "epoch 264: training loss 0.1544996800273657\n"
     ]
    },
    {
     "data": {
      "application/vnd.jupyter.widget-view+json": {
       "model_id": "f647e6185bf243ebb7ed955738392b55",
       "version_major": 2,
       "version_minor": 0
      },
      "text/plain": [
       "HBox(children=(IntProgress(value=0), HTML(value='')))"
      ]
     },
     "metadata": {},
     "output_type": "display_data"
    },
    {
     "name": "stdout",
     "output_type": "stream",
     "text": [
      "\n",
      "0\n",
      "epoch 265: training loss 0.15263297356665134\n"
     ]
    },
    {
     "data": {
      "application/vnd.jupyter.widget-view+json": {
       "model_id": "5a7ee2bbc37d4d24a5fcce587b1208f3",
       "version_major": 2,
       "version_minor": 0
      },
      "text/plain": [
       "HBox(children=(IntProgress(value=0), HTML(value='')))"
      ]
     },
     "metadata": {},
     "output_type": "display_data"
    },
    {
     "name": "stdout",
     "output_type": "stream",
     "text": [
      "\n",
      "0\n",
      "epoch 266: training loss 0.152331640124321\n"
     ]
    },
    {
     "data": {
      "application/vnd.jupyter.widget-view+json": {
       "model_id": "920ea62e421a49359548cf66b99e71b9",
       "version_major": 2,
       "version_minor": 0
      },
      "text/plain": [
       "HBox(children=(IntProgress(value=0), HTML(value='')))"
      ]
     },
     "metadata": {},
     "output_type": "display_data"
    },
    {
     "name": "stdout",
     "output_type": "stream",
     "text": [
      "\n",
      "0\n",
      "epoch 267: training loss 0.14874653965234758\n"
     ]
    },
    {
     "data": {
      "application/vnd.jupyter.widget-view+json": {
       "model_id": "bc8d4762e2f44434b21a036b10599607",
       "version_major": 2,
       "version_minor": 0
      },
      "text/plain": [
       "HBox(children=(IntProgress(value=0), HTML(value='')))"
      ]
     },
     "metadata": {},
     "output_type": "display_data"
    },
    {
     "name": "stdout",
     "output_type": "stream",
     "text": [
      "\n",
      "0\n",
      "epoch 268: training loss 0.14764593236148357\n"
     ]
    },
    {
     "data": {
      "application/vnd.jupyter.widget-view+json": {
       "model_id": "20634764a65b4613bfb53787fb2266d7",
       "version_major": 2,
       "version_minor": 0
      },
      "text/plain": [
       "HBox(children=(IntProgress(value=0), HTML(value='')))"
      ]
     },
     "metadata": {},
     "output_type": "display_data"
    },
    {
     "name": "stdout",
     "output_type": "stream",
     "text": [
      "\n",
      "0\n",
      "epoch 269: training loss 0.1450813043117523\n"
     ]
    },
    {
     "data": {
      "application/vnd.jupyter.widget-view+json": {
       "model_id": "a5682586312c4aa78f34e12988e27462",
       "version_major": 2,
       "version_minor": 0
      },
      "text/plain": [
       "HBox(children=(IntProgress(value=0), HTML(value='')))"
      ]
     },
     "metadata": {},
     "output_type": "display_data"
    },
    {
     "name": "stdout",
     "output_type": "stream",
     "text": [
      "\n",
      "0\n",
      "epoch 270: training loss 0.14398588329553605\n"
     ]
    },
    {
     "data": {
      "application/vnd.jupyter.widget-view+json": {
       "model_id": "654f12d8ef3f43a98cac5b1b327c5863",
       "version_major": 2,
       "version_minor": 0
      },
      "text/plain": [
       "HBox(children=(IntProgress(value=0), HTML(value='')))"
      ]
     },
     "metadata": {},
     "output_type": "display_data"
    },
    {
     "name": "stdout",
     "output_type": "stream",
     "text": [
      "\n",
      "0\n",
      "epoch 271: training loss 0.141227021291852\n"
     ]
    },
    {
     "data": {
      "application/vnd.jupyter.widget-view+json": {
       "model_id": "87268875365a47ce9d73f56e3cf01e33",
       "version_major": 2,
       "version_minor": 0
      },
      "text/plain": [
       "HBox(children=(IntProgress(value=0), HTML(value='')))"
      ]
     },
     "metadata": {},
     "output_type": "display_data"
    },
    {
     "name": "stdout",
     "output_type": "stream",
     "text": [
      "\n",
      "0\n",
      "epoch 272: training loss 0.14050365515053273\n"
     ]
    },
    {
     "data": {
      "application/vnd.jupyter.widget-view+json": {
       "model_id": "518b5ff9a8b84e408fb9d77c260c4b33",
       "version_major": 2,
       "version_minor": 0
      },
      "text/plain": [
       "HBox(children=(IntProgress(value=0), HTML(value='')))"
      ]
     },
     "metadata": {},
     "output_type": "display_data"
    },
    {
     "name": "stdout",
     "output_type": "stream",
     "text": [
      "\n",
      "0\n",
      "epoch 273: training loss 0.1384585902839899\n"
     ]
    },
    {
     "data": {
      "application/vnd.jupyter.widget-view+json": {
       "model_id": "67e2985cecb64dcbaa90d5fc404c7672",
       "version_major": 2,
       "version_minor": 0
      },
      "text/plain": [
       "HBox(children=(IntProgress(value=0), HTML(value='')))"
      ]
     },
     "metadata": {},
     "output_type": "display_data"
    },
    {
     "name": "stdout",
     "output_type": "stream",
     "text": [
      "\n",
      "0\n",
      "epoch 274: training loss 0.13670937463641167\n"
     ]
    },
    {
     "data": {
      "application/vnd.jupyter.widget-view+json": {
       "model_id": "d777373a8ad54516ba56a8d4efd62184",
       "version_major": 2,
       "version_minor": 0
      },
      "text/plain": [
       "HBox(children=(IntProgress(value=0), HTML(value='')))"
      ]
     },
     "metadata": {},
     "output_type": "display_data"
    },
    {
     "name": "stdout",
     "output_type": "stream",
     "text": [
      "\n",
      "0\n",
      "epoch 275: training loss 0.13560644090175628\n"
     ]
    },
    {
     "data": {
      "application/vnd.jupyter.widget-view+json": {
       "model_id": "d0fea5fe0aef4570929cf9837ae8c6c0",
       "version_major": 2,
       "version_minor": 0
      },
      "text/plain": [
       "HBox(children=(IntProgress(value=0), HTML(value='')))"
      ]
     },
     "metadata": {},
     "output_type": "display_data"
    },
    {
     "name": "stdout",
     "output_type": "stream",
     "text": [
      "\n",
      "0\n",
      "epoch 276: training loss 0.134012016877532\n"
     ]
    },
    {
     "data": {
      "application/vnd.jupyter.widget-view+json": {
       "model_id": "844f063a5dca4889949b8656d911b90d",
       "version_major": 2,
       "version_minor": 0
      },
      "text/plain": [
       "HBox(children=(IntProgress(value=0), HTML(value='')))"
      ]
     },
     "metadata": {},
     "output_type": "display_data"
    },
    {
     "name": "stdout",
     "output_type": "stream",
     "text": [
      "\n",
      "0\n",
      "epoch 277: training loss 0.1300151053071022\n"
     ]
    },
    {
     "data": {
      "application/vnd.jupyter.widget-view+json": {
       "model_id": "6efcd3d0c63144f88ad75b31e65d014b",
       "version_major": 2,
       "version_minor": 0
      },
      "text/plain": [
       "HBox(children=(IntProgress(value=0), HTML(value='')))"
      ]
     },
     "metadata": {},
     "output_type": "display_data"
    },
    {
     "name": "stdout",
     "output_type": "stream",
     "text": [
      "\n",
      "0\n",
      "epoch 278: training loss 0.13150102384388446\n"
     ]
    },
    {
     "data": {
      "application/vnd.jupyter.widget-view+json": {
       "model_id": "eda1e27867f546578d0d94ed3f3c5998",
       "version_major": 2,
       "version_minor": 0
      },
      "text/plain": [
       "HBox(children=(IntProgress(value=0), HTML(value='')))"
      ]
     },
     "metadata": {},
     "output_type": "display_data"
    },
    {
     "name": "stdout",
     "output_type": "stream",
     "text": [
      "\n",
      "0\n",
      "epoch 279: training loss 0.12902980238199235\n"
     ]
    },
    {
     "data": {
      "application/vnd.jupyter.widget-view+json": {
       "model_id": "d8ea393443ea445c985a2c65c6459fd6",
       "version_major": 2,
       "version_minor": 0
      },
      "text/plain": [
       "HBox(children=(IntProgress(value=0), HTML(value='')))"
      ]
     },
     "metadata": {},
     "output_type": "display_data"
    },
    {
     "name": "stdout",
     "output_type": "stream",
     "text": [
      "\n",
      "0\n",
      "epoch 280: training loss 0.12644580356776713\n"
     ]
    },
    {
     "data": {
      "application/vnd.jupyter.widget-view+json": {
       "model_id": "1e4604c435be4ee2a3dd3dce65c33794",
       "version_major": 2,
       "version_minor": 0
      },
      "text/plain": [
       "HBox(children=(IntProgress(value=0), HTML(value='')))"
      ]
     },
     "metadata": {},
     "output_type": "display_data"
    },
    {
     "name": "stdout",
     "output_type": "stream",
     "text": [
      "\n",
      "0\n",
      "epoch 281: training loss 0.12492526523768901\n"
     ]
    },
    {
     "data": {
      "application/vnd.jupyter.widget-view+json": {
       "model_id": "28fcfda3504745338d9400a9e18c84b8",
       "version_major": 2,
       "version_minor": 0
      },
      "text/plain": [
       "HBox(children=(IntProgress(value=0), HTML(value='')))"
      ]
     },
     "metadata": {},
     "output_type": "display_data"
    },
    {
     "name": "stdout",
     "output_type": "stream",
     "text": [
      "\n",
      "0\n",
      "epoch 282: training loss 0.12462412178516388\n"
     ]
    },
    {
     "data": {
      "application/vnd.jupyter.widget-view+json": {
       "model_id": "a6157fc9fdda4db6a3deb85c99df096e",
       "version_major": 2,
       "version_minor": 0
      },
      "text/plain": [
       "HBox(children=(IntProgress(value=0), HTML(value='')))"
      ]
     },
     "metadata": {},
     "output_type": "display_data"
    },
    {
     "name": "stdout",
     "output_type": "stream",
     "text": [
      "\n",
      "0\n",
      "epoch 283: training loss 0.12265602774918079\n"
     ]
    },
    {
     "data": {
      "application/vnd.jupyter.widget-view+json": {
       "model_id": "0d7e88e50019407a866cc9fb3b19e708",
       "version_major": 2,
       "version_minor": 0
      },
      "text/plain": [
       "HBox(children=(IntProgress(value=0), HTML(value='')))"
      ]
     },
     "metadata": {},
     "output_type": "display_data"
    },
    {
     "name": "stdout",
     "output_type": "stream",
     "text": [
      "\n",
      "0\n",
      "epoch 284: training loss 0.12156379669904709\n"
     ]
    },
    {
     "data": {
      "application/vnd.jupyter.widget-view+json": {
       "model_id": "5e27e36d80864194a3468232401cd698",
       "version_major": 2,
       "version_minor": 0
      },
      "text/plain": [
       "HBox(children=(IntProgress(value=0), HTML(value='')))"
      ]
     },
     "metadata": {},
     "output_type": "display_data"
    },
    {
     "name": "stdout",
     "output_type": "stream",
     "text": [
      "\n",
      "0\n",
      "epoch 285: training loss 0.11954163555055856\n"
     ]
    },
    {
     "data": {
      "application/vnd.jupyter.widget-view+json": {
       "model_id": "ddedb999faa74bf3be86b3da6db5a518",
       "version_major": 2,
       "version_minor": 0
      },
      "text/plain": [
       "HBox(children=(IntProgress(value=0), HTML(value='')))"
      ]
     },
     "metadata": {},
     "output_type": "display_data"
    },
    {
     "name": "stdout",
     "output_type": "stream",
     "text": [
      "\n",
      "0\n",
      "epoch 286: training loss 0.11808706887066364\n"
     ]
    },
    {
     "data": {
      "application/vnd.jupyter.widget-view+json": {
       "model_id": "b5d128f6c1764791bb2967b9331ba641",
       "version_major": 2,
       "version_minor": 0
      },
      "text/plain": [
       "HBox(children=(IntProgress(value=0), HTML(value='')))"
      ]
     },
     "metadata": {},
     "output_type": "display_data"
    },
    {
     "name": "stdout",
     "output_type": "stream",
     "text": [
      "\n",
      "0\n",
      "epoch 287: training loss 0.11669355034828185\n"
     ]
    },
    {
     "data": {
      "application/vnd.jupyter.widget-view+json": {
       "model_id": "d819a5a033d64c47b9488a7bff6655dc",
       "version_major": 2,
       "version_minor": 0
      },
      "text/plain": [
       "HBox(children=(IntProgress(value=0), HTML(value='')))"
      ]
     },
     "metadata": {},
     "output_type": "display_data"
    },
    {
     "name": "stdout",
     "output_type": "stream",
     "text": [
      "\n",
      "0\n",
      "epoch 288: training loss 0.11656205266714097\n"
     ]
    },
    {
     "data": {
      "application/vnd.jupyter.widget-view+json": {
       "model_id": "90207e8ec54c462fa770799bd7066d0e",
       "version_major": 2,
       "version_minor": 0
      },
      "text/plain": [
       "HBox(children=(IntProgress(value=0), HTML(value='')))"
      ]
     },
     "metadata": {},
     "output_type": "display_data"
    },
    {
     "name": "stdout",
     "output_type": "stream",
     "text": [
      "\n",
      "0\n",
      "epoch 289: training loss 0.11340265028178692\n"
     ]
    },
    {
     "data": {
      "application/vnd.jupyter.widget-view+json": {
       "model_id": "e409a1cea8e946898dde35527dadac1f",
       "version_major": 2,
       "version_minor": 0
      },
      "text/plain": [
       "HBox(children=(IntProgress(value=0), HTML(value='')))"
      ]
     },
     "metadata": {},
     "output_type": "display_data"
    },
    {
     "name": "stdout",
     "output_type": "stream",
     "text": [
      "\n",
      "0\n",
      "epoch 290: training loss 0.11269044015556574\n"
     ]
    },
    {
     "data": {
      "application/vnd.jupyter.widget-view+json": {
       "model_id": "d7c411978d0848aab40a66c3b70702f1",
       "version_major": 2,
       "version_minor": 0
      },
      "text/plain": [
       "HBox(children=(IntProgress(value=0), HTML(value='')))"
      ]
     },
     "metadata": {},
     "output_type": "display_data"
    },
    {
     "name": "stdout",
     "output_type": "stream",
     "text": [
      "\n",
      "0\n",
      "epoch 291: training loss 0.11205007258802652\n"
     ]
    },
    {
     "data": {
      "application/vnd.jupyter.widget-view+json": {
       "model_id": "3bb4644c83ff4a20a47d682872302388",
       "version_major": 2,
       "version_minor": 0
      },
      "text/plain": [
       "HBox(children=(IntProgress(value=0), HTML(value='')))"
      ]
     },
     "metadata": {},
     "output_type": "display_data"
    },
    {
     "name": "stdout",
     "output_type": "stream",
     "text": [
      "\n",
      "0\n",
      "epoch 292: training loss 0.1106349477916956\n"
     ]
    },
    {
     "data": {
      "application/vnd.jupyter.widget-view+json": {
       "model_id": "ea390fed5b8343e3a10ba0f1c74140fb",
       "version_major": 2,
       "version_minor": 0
      },
      "text/plain": [
       "HBox(children=(IntProgress(value=0), HTML(value='')))"
      ]
     },
     "metadata": {},
     "output_type": "display_data"
    },
    {
     "name": "stdout",
     "output_type": "stream",
     "text": [
      "\n",
      "0\n",
      "epoch 293: training loss 0.10869008339941502\n"
     ]
    },
    {
     "data": {
      "application/vnd.jupyter.widget-view+json": {
       "model_id": "34e84820602145f8988e7cb426d8f5e4",
       "version_major": 2,
       "version_minor": 0
      },
      "text/plain": [
       "HBox(children=(IntProgress(value=0), HTML(value='')))"
      ]
     },
     "metadata": {},
     "output_type": "display_data"
    },
    {
     "name": "stdout",
     "output_type": "stream",
     "text": [
      "\n",
      "0\n",
      "epoch 294: training loss 0.10745668992400169\n"
     ]
    },
    {
     "data": {
      "application/vnd.jupyter.widget-view+json": {
       "model_id": "139242b9288342c09fe4f6a8e27f4e5b",
       "version_major": 2,
       "version_minor": 0
      },
      "text/plain": [
       "HBox(children=(IntProgress(value=0), HTML(value='')))"
      ]
     },
     "metadata": {},
     "output_type": "display_data"
    },
    {
     "name": "stdout",
     "output_type": "stream",
     "text": [
      "\n",
      "0\n",
      "epoch 295: training loss 0.10673344366252423\n"
     ]
    },
    {
     "data": {
      "application/vnd.jupyter.widget-view+json": {
       "model_id": "22a83e437ffe44c599ecfa4659e00aa8",
       "version_major": 2,
       "version_minor": 0
      },
      "text/plain": [
       "HBox(children=(IntProgress(value=0), HTML(value='')))"
      ]
     },
     "metadata": {},
     "output_type": "display_data"
    },
    {
     "name": "stdout",
     "output_type": "stream",
     "text": [
      "\n",
      "0\n",
      "epoch 296: training loss 0.10605023063719272\n"
     ]
    },
    {
     "data": {
      "application/vnd.jupyter.widget-view+json": {
       "model_id": "7d1f9c927e9e457aac4d331fc229a1fa",
       "version_major": 2,
       "version_minor": 0
      },
      "text/plain": [
       "HBox(children=(IntProgress(value=0), HTML(value='')))"
      ]
     },
     "metadata": {},
     "output_type": "display_data"
    },
    {
     "name": "stdout",
     "output_type": "stream",
     "text": [
      "\n",
      "0\n",
      "epoch 297: training loss 0.10377239234745503\n"
     ]
    },
    {
     "data": {
      "application/vnd.jupyter.widget-view+json": {
       "model_id": "405e8652dda34d739a7d04acc08bb927",
       "version_major": 2,
       "version_minor": 0
      },
      "text/plain": [
       "HBox(children=(IntProgress(value=0), HTML(value='')))"
      ]
     },
     "metadata": {},
     "output_type": "display_data"
    },
    {
     "name": "stdout",
     "output_type": "stream",
     "text": [
      "\n",
      "0\n",
      "epoch 298: training loss 0.10309644762426615\n"
     ]
    },
    {
     "data": {
      "application/vnd.jupyter.widget-view+json": {
       "model_id": "d9685149e1b245e9ad985ac13efe3645",
       "version_major": 2,
       "version_minor": 0
      },
      "text/plain": [
       "HBox(children=(IntProgress(value=0), HTML(value='')))"
      ]
     },
     "metadata": {},
     "output_type": "display_data"
    },
    {
     "name": "stdout",
     "output_type": "stream",
     "text": [
      "\n",
      "0\n",
      "epoch 299: training loss 0.10151901468634605\n"
     ]
    },
    {
     "data": {
      "application/vnd.jupyter.widget-view+json": {
       "model_id": "83854c8b8d4b47cfb3e14dd2b224fdd0",
       "version_major": 2,
       "version_minor": 0
      },
      "text/plain": [
       "HBox(children=(IntProgress(value=0), HTML(value='')))"
      ]
     },
     "metadata": {},
     "output_type": "display_data"
    },
    {
     "name": "stdout",
     "output_type": "stream",
     "text": [
      "\n",
      "0\n",
      "epoch 300: training loss 0.10125727497041226\n"
     ]
    },
    {
     "data": {
      "application/vnd.jupyter.widget-view+json": {
       "model_id": "d4c84ec3112c4298bbc94158b248cc4d",
       "version_major": 2,
       "version_minor": 0
      },
      "text/plain": [
       "HBox(children=(IntProgress(value=0), HTML(value='')))"
      ]
     },
     "metadata": {},
     "output_type": "display_data"
    },
    {
     "name": "stdout",
     "output_type": "stream",
     "text": [
      "\n",
      "0\n",
      "epoch 301: training loss 0.09972594067454338\n"
     ]
    },
    {
     "data": {
      "application/vnd.jupyter.widget-view+json": {
       "model_id": "1e28d877d49d4d5a9cd390af77da8105",
       "version_major": 2,
       "version_minor": 0
      },
      "text/plain": [
       "HBox(children=(IntProgress(value=0), HTML(value='')))"
      ]
     },
     "metadata": {},
     "output_type": "display_data"
    },
    {
     "name": "stdout",
     "output_type": "stream",
     "text": [
      "\n",
      "0\n",
      "epoch 302: training loss 0.0989766963943839\n"
     ]
    },
    {
     "data": {
      "application/vnd.jupyter.widget-view+json": {
       "model_id": "ec02c40d5a604a50a79ed6d814902115",
       "version_major": 2,
       "version_minor": 0
      },
      "text/plain": [
       "HBox(children=(IntProgress(value=0), HTML(value='')))"
      ]
     },
     "metadata": {},
     "output_type": "display_data"
    },
    {
     "name": "stdout",
     "output_type": "stream",
     "text": [
      "\n",
      "0\n",
      "epoch 303: training loss 0.0971584689989686\n"
     ]
    },
    {
     "data": {
      "application/vnd.jupyter.widget-view+json": {
       "model_id": "94c1e8f97ca8479aafef41ee181c1b70",
       "version_major": 2,
       "version_minor": 0
      },
      "text/plain": [
       "HBox(children=(IntProgress(value=0), HTML(value='')))"
      ]
     },
     "metadata": {},
     "output_type": "display_data"
    },
    {
     "name": "stdout",
     "output_type": "stream",
     "text": [
      "\n",
      "0\n",
      "epoch 304: training loss 0.09539285354316235\n"
     ]
    },
    {
     "data": {
      "application/vnd.jupyter.widget-view+json": {
       "model_id": "f5e54a6400b34f6eb0402061c1cf5b79",
       "version_major": 2,
       "version_minor": 0
      },
      "text/plain": [
       "HBox(children=(IntProgress(value=0), HTML(value='')))"
      ]
     },
     "metadata": {},
     "output_type": "display_data"
    },
    {
     "name": "stdout",
     "output_type": "stream",
     "text": [
      "\n",
      "0\n",
      "epoch 305: training loss 0.0966261014714837\n"
     ]
    },
    {
     "data": {
      "application/vnd.jupyter.widget-view+json": {
       "model_id": "0160bab79ed749d3a7d817ef24f45ca8",
       "version_major": 2,
       "version_minor": 0
      },
      "text/plain": [
       "HBox(children=(IntProgress(value=0), HTML(value='')))"
      ]
     },
     "metadata": {},
     "output_type": "display_data"
    },
    {
     "name": "stdout",
     "output_type": "stream",
     "text": [
      "\n",
      "0\n",
      "epoch 306: training loss 0.09413861725479364\n"
     ]
    },
    {
     "data": {
      "application/vnd.jupyter.widget-view+json": {
       "model_id": "e0c555a714d1417db3affddd1d6e13e7",
       "version_major": 2,
       "version_minor": 0
      },
      "text/plain": [
       "HBox(children=(IntProgress(value=0), HTML(value='')))"
      ]
     },
     "metadata": {},
     "output_type": "display_data"
    },
    {
     "name": "stdout",
     "output_type": "stream",
     "text": [
      "\n",
      "0\n",
      "epoch 307: training loss 0.09240807220339775\n"
     ]
    },
    {
     "data": {
      "application/vnd.jupyter.widget-view+json": {
       "model_id": "841fb3b11e9642298f4e6896776ce55b",
       "version_major": 2,
       "version_minor": 0
      },
      "text/plain": [
       "HBox(children=(IntProgress(value=0), HTML(value='')))"
      ]
     },
     "metadata": {},
     "output_type": "display_data"
    },
    {
     "name": "stdout",
     "output_type": "stream",
     "text": [
      "\n",
      "0\n",
      "epoch 308: training loss 0.09258426446467638\n"
     ]
    },
    {
     "data": {
      "application/vnd.jupyter.widget-view+json": {
       "model_id": "64d5e8edeaed44fdb5f68c4fac26f09a",
       "version_major": 2,
       "version_minor": 0
      },
      "text/plain": [
       "HBox(children=(IntProgress(value=0), HTML(value='')))"
      ]
     },
     "metadata": {},
     "output_type": "display_data"
    },
    {
     "name": "stdout",
     "output_type": "stream",
     "text": [
      "\n",
      "0\n",
      "epoch 309: training loss 0.09229300763458013\n"
     ]
    },
    {
     "data": {
      "application/vnd.jupyter.widget-view+json": {
       "model_id": "6c4afb57f0de42daaed2b19632aec624",
       "version_major": 2,
       "version_minor": 0
      },
      "text/plain": [
       "HBox(children=(IntProgress(value=0), HTML(value='')))"
      ]
     },
     "metadata": {},
     "output_type": "display_data"
    },
    {
     "name": "stdout",
     "output_type": "stream",
     "text": [
      "\n",
      "0\n",
      "epoch 310: training loss 0.08983745135366916\n"
     ]
    },
    {
     "data": {
      "application/vnd.jupyter.widget-view+json": {
       "model_id": "d7b233c0b881468282218af3ada842ee",
       "version_major": 2,
       "version_minor": 0
      },
      "text/plain": [
       "HBox(children=(IntProgress(value=0), HTML(value='')))"
      ]
     },
     "metadata": {},
     "output_type": "display_data"
    },
    {
     "name": "stdout",
     "output_type": "stream",
     "text": [
      "\n",
      "0\n",
      "epoch 311: training loss 0.08968464344739914\n"
     ]
    },
    {
     "data": {
      "application/vnd.jupyter.widget-view+json": {
       "model_id": "2e01816cc23e43efb259b153079294bd",
       "version_major": 2,
       "version_minor": 0
      },
      "text/plain": [
       "HBox(children=(IntProgress(value=0), HTML(value='')))"
      ]
     },
     "metadata": {},
     "output_type": "display_data"
    },
    {
     "name": "stdout",
     "output_type": "stream",
     "text": [
      "\n",
      "0\n",
      "epoch 312: training loss 0.08817027721554041\n"
     ]
    },
    {
     "data": {
      "application/vnd.jupyter.widget-view+json": {
       "model_id": "d7974ed6bda24dacaf316de6de332a54",
       "version_major": 2,
       "version_minor": 0
      },
      "text/plain": [
       "HBox(children=(IntProgress(value=0), HTML(value='')))"
      ]
     },
     "metadata": {},
     "output_type": "display_data"
    },
    {
     "name": "stdout",
     "output_type": "stream",
     "text": [
      "\n",
      "0\n",
      "epoch 313: training loss 0.08740908306092024\n"
     ]
    },
    {
     "data": {
      "application/vnd.jupyter.widget-view+json": {
       "model_id": "d55f39fb19aa4af3b3b96f7609d41646",
       "version_major": 2,
       "version_minor": 0
      },
      "text/plain": [
       "HBox(children=(IntProgress(value=0), HTML(value='')))"
      ]
     },
     "metadata": {},
     "output_type": "display_data"
    },
    {
     "name": "stdout",
     "output_type": "stream",
     "text": [
      "\n",
      "0\n",
      "epoch 314: training loss 0.0866452730819583\n"
     ]
    },
    {
     "data": {
      "application/vnd.jupyter.widget-view+json": {
       "model_id": "d0794e3a7bf74a5ba080b4ebe8ebc9d6",
       "version_major": 2,
       "version_minor": 0
      },
      "text/plain": [
       "HBox(children=(IntProgress(value=0), HTML(value='')))"
      ]
     },
     "metadata": {},
     "output_type": "display_data"
    },
    {
     "name": "stdout",
     "output_type": "stream",
     "text": [
      "\n",
      "0\n",
      "epoch 315: training loss 0.08556421991437674\n"
     ]
    },
    {
     "data": {
      "application/vnd.jupyter.widget-view+json": {
       "model_id": "806ede85cb524ef7ab8e09cf764f1ae4",
       "version_major": 2,
       "version_minor": 0
      },
      "text/plain": [
       "HBox(children=(IntProgress(value=0), HTML(value='')))"
      ]
     },
     "metadata": {},
     "output_type": "display_data"
    },
    {
     "name": "stdout",
     "output_type": "stream",
     "text": [
      "\n",
      "0\n",
      "epoch 316: training loss 0.08443080347031355\n"
     ]
    },
    {
     "data": {
      "application/vnd.jupyter.widget-view+json": {
       "model_id": "5255770122f74d38bc0892275115db5d",
       "version_major": 2,
       "version_minor": 0
      },
      "text/plain": [
       "HBox(children=(IntProgress(value=0), HTML(value='')))"
      ]
     },
     "metadata": {},
     "output_type": "display_data"
    },
    {
     "name": "stdout",
     "output_type": "stream",
     "text": [
      "\n",
      "0\n",
      "epoch 317: training loss 0.08433494683355093\n"
     ]
    },
    {
     "data": {
      "application/vnd.jupyter.widget-view+json": {
       "model_id": "86eadd8268c14522825ae597cf8af6b7",
       "version_major": 2,
       "version_minor": 0
      },
      "text/plain": [
       "HBox(children=(IntProgress(value=0), HTML(value='')))"
      ]
     },
     "metadata": {},
     "output_type": "display_data"
    },
    {
     "name": "stdout",
     "output_type": "stream",
     "text": [
      "\n",
      "0\n",
      "epoch 318: training loss 0.08354606326669455\n"
     ]
    },
    {
     "data": {
      "application/vnd.jupyter.widget-view+json": {
       "model_id": "161552f7666544319bffe52b8f19729b",
       "version_major": 2,
       "version_minor": 0
      },
      "text/plain": [
       "HBox(children=(IntProgress(value=0), HTML(value='')))"
      ]
     },
     "metadata": {},
     "output_type": "display_data"
    },
    {
     "name": "stdout",
     "output_type": "stream",
     "text": [
      "\n",
      "0\n",
      "epoch 319: training loss 0.082163195759058\n"
     ]
    },
    {
     "data": {
      "application/vnd.jupyter.widget-view+json": {
       "model_id": "f173dd5ce98e4293a3c9b22d9d5dd367",
       "version_major": 2,
       "version_minor": 0
      },
      "text/plain": [
       "HBox(children=(IntProgress(value=0), HTML(value='')))"
      ]
     },
     "metadata": {},
     "output_type": "display_data"
    },
    {
     "name": "stdout",
     "output_type": "stream",
     "text": [
      "\n",
      "0\n",
      "epoch 320: training loss 0.08096993107348681\n"
     ]
    },
    {
     "data": {
      "application/vnd.jupyter.widget-view+json": {
       "model_id": "e364a093ebc84380813648285d71c093",
       "version_major": 2,
       "version_minor": 0
      },
      "text/plain": [
       "HBox(children=(IntProgress(value=0), HTML(value='')))"
      ]
     },
     "metadata": {},
     "output_type": "display_data"
    },
    {
     "name": "stdout",
     "output_type": "stream",
     "text": [
      "\n",
      "0\n",
      "epoch 321: training loss 0.08036483488976956\n"
     ]
    },
    {
     "data": {
      "application/vnd.jupyter.widget-view+json": {
       "model_id": "40b299555e3c48bfa28fe2a48034cb69",
       "version_major": 2,
       "version_minor": 0
      },
      "text/plain": [
       "HBox(children=(IntProgress(value=0), HTML(value='')))"
      ]
     },
     "metadata": {},
     "output_type": "display_data"
    },
    {
     "name": "stdout",
     "output_type": "stream",
     "text": [
      "\n",
      "0\n",
      "epoch 322: training loss 0.08051010940223932\n"
     ]
    },
    {
     "data": {
      "application/vnd.jupyter.widget-view+json": {
       "model_id": "738ffa58f7b34ab99d5ceaed5f5b4a97",
       "version_major": 2,
       "version_minor": 0
      },
      "text/plain": [
       "HBox(children=(IntProgress(value=0), HTML(value='')))"
      ]
     },
     "metadata": {},
     "output_type": "display_data"
    },
    {
     "name": "stdout",
     "output_type": "stream",
     "text": [
      "\n",
      "0\n",
      "epoch 323: training loss 0.07863709937781095\n"
     ]
    },
    {
     "data": {
      "application/vnd.jupyter.widget-view+json": {
       "model_id": "fc2272aef9044a1197c50477acb1a2b1",
       "version_major": 2,
       "version_minor": 0
      },
      "text/plain": [
       "HBox(children=(IntProgress(value=0), HTML(value='')))"
      ]
     },
     "metadata": {},
     "output_type": "display_data"
    },
    {
     "name": "stdout",
     "output_type": "stream",
     "text": [
      "\n",
      "0\n",
      "epoch 324: training loss 0.07802377820014954\n"
     ]
    },
    {
     "data": {
      "application/vnd.jupyter.widget-view+json": {
       "model_id": "0c5c71ef283749289827f2d5dfd09474",
       "version_major": 2,
       "version_minor": 0
      },
      "text/plain": [
       "HBox(children=(IntProgress(value=0), HTML(value='')))"
      ]
     },
     "metadata": {},
     "output_type": "display_data"
    },
    {
     "name": "stdout",
     "output_type": "stream",
     "text": [
      "\n",
      "0\n",
      "epoch 325: training loss 0.07728319466114045\n"
     ]
    },
    {
     "data": {
      "application/vnd.jupyter.widget-view+json": {
       "model_id": "d93951a3c9fb49f2a5c07f0b9984a805",
       "version_major": 2,
       "version_minor": 0
      },
      "text/plain": [
       "HBox(children=(IntProgress(value=0), HTML(value='')))"
      ]
     },
     "metadata": {},
     "output_type": "display_data"
    },
    {
     "name": "stdout",
     "output_type": "stream",
     "text": [
      "\n",
      "0\n",
      "epoch 326: training loss 0.07682804077863693\n"
     ]
    },
    {
     "data": {
      "application/vnd.jupyter.widget-view+json": {
       "model_id": "bc8fb990fd8f40ba9980cd53bcf0cb7e",
       "version_major": 2,
       "version_minor": 0
      },
      "text/plain": [
       "HBox(children=(IntProgress(value=0), HTML(value='')))"
      ]
     },
     "metadata": {},
     "output_type": "display_data"
    },
    {
     "name": "stdout",
     "output_type": "stream",
     "text": [
      "\n",
      "0\n",
      "epoch 327: training loss 0.07477293286472558\n"
     ]
    },
    {
     "data": {
      "application/vnd.jupyter.widget-view+json": {
       "model_id": "ecb97058dae54bd2b343d2f0ca672287",
       "version_major": 2,
       "version_minor": 0
      },
      "text/plain": [
       "HBox(children=(IntProgress(value=0), HTML(value='')))"
      ]
     },
     "metadata": {},
     "output_type": "display_data"
    },
    {
     "name": "stdout",
     "output_type": "stream",
     "text": [
      "\n",
      "0\n",
      "epoch 328: training loss 0.07582072846591473\n"
     ]
    },
    {
     "data": {
      "application/vnd.jupyter.widget-view+json": {
       "model_id": "5da40dc1beae4a49b3460239fa2cc770",
       "version_major": 2,
       "version_minor": 0
      },
      "text/plain": [
       "HBox(children=(IntProgress(value=0), HTML(value='')))"
      ]
     },
     "metadata": {},
     "output_type": "display_data"
    },
    {
     "name": "stdout",
     "output_type": "stream",
     "text": [
      "\n",
      "0\n",
      "epoch 329: training loss 0.07400191988795995\n"
     ]
    },
    {
     "data": {
      "application/vnd.jupyter.widget-view+json": {
       "model_id": "ad1d9181320040aeb08f458db462b9f7",
       "version_major": 2,
       "version_minor": 0
      },
      "text/plain": [
       "HBox(children=(IntProgress(value=0), HTML(value='')))"
      ]
     },
     "metadata": {},
     "output_type": "display_data"
    },
    {
     "name": "stdout",
     "output_type": "stream",
     "text": [
      "\n",
      "0\n",
      "epoch 330: training loss 0.07433730013668537\n"
     ]
    },
    {
     "data": {
      "application/vnd.jupyter.widget-view+json": {
       "model_id": "c88fce813d4f40dfb8dd3d62173ba241",
       "version_major": 2,
       "version_minor": 0
      },
      "text/plain": [
       "HBox(children=(IntProgress(value=0), HTML(value='')))"
      ]
     },
     "metadata": {},
     "output_type": "display_data"
    },
    {
     "name": "stdout",
     "output_type": "stream",
     "text": [
      "\n",
      "0\n",
      "epoch 331: training loss 0.07242914211004972\n"
     ]
    },
    {
     "data": {
      "application/vnd.jupyter.widget-view+json": {
       "model_id": "8ed9ebe395d54f488766c3bc575b8d27",
       "version_major": 2,
       "version_minor": 0
      },
      "text/plain": [
       "HBox(children=(IntProgress(value=0), HTML(value='')))"
      ]
     },
     "metadata": {},
     "output_type": "display_data"
    },
    {
     "name": "stdout",
     "output_type": "stream",
     "text": [
      "\n",
      "0\n",
      "epoch 332: training loss 0.07216556176543236\n"
     ]
    },
    {
     "data": {
      "application/vnd.jupyter.widget-view+json": {
       "model_id": "9d15a5cfa76947aca329f9de31a8e6a6",
       "version_major": 2,
       "version_minor": 0
      },
      "text/plain": [
       "HBox(children=(IntProgress(value=0), HTML(value='')))"
      ]
     },
     "metadata": {},
     "output_type": "display_data"
    },
    {
     "name": "stdout",
     "output_type": "stream",
     "text": [
      "\n",
      "0\n",
      "epoch 333: training loss 0.07157637741416693\n"
     ]
    },
    {
     "data": {
      "application/vnd.jupyter.widget-view+json": {
       "model_id": "a2a0a892f5dd44eebf8c25671a3bad93",
       "version_major": 2,
       "version_minor": 0
      },
      "text/plain": [
       "HBox(children=(IntProgress(value=0), HTML(value='')))"
      ]
     },
     "metadata": {},
     "output_type": "display_data"
    },
    {
     "name": "stdout",
     "output_type": "stream",
     "text": [
      "\n",
      "0\n",
      "epoch 334: training loss 0.07072041526436806\n"
     ]
    },
    {
     "data": {
      "application/vnd.jupyter.widget-view+json": {
       "model_id": "3da4bff271c049b4aaa9498630ab0acb",
       "version_major": 2,
       "version_minor": 0
      },
      "text/plain": [
       "HBox(children=(IntProgress(value=0), HTML(value='')))"
      ]
     },
     "metadata": {},
     "output_type": "display_data"
    },
    {
     "name": "stdout",
     "output_type": "stream",
     "text": [
      "\n",
      "0\n",
      "epoch 335: training loss 0.07037965718656779\n"
     ]
    },
    {
     "data": {
      "application/vnd.jupyter.widget-view+json": {
       "model_id": "580d4f658caa4b9c859319cba6fca7d4",
       "version_major": 2,
       "version_minor": 0
      },
      "text/plain": [
       "HBox(children=(IntProgress(value=0), HTML(value='')))"
      ]
     },
     "metadata": {},
     "output_type": "display_data"
    },
    {
     "name": "stdout",
     "output_type": "stream",
     "text": [
      "\n",
      "0\n",
      "epoch 336: training loss 0.06904670812189578\n"
     ]
    },
    {
     "data": {
      "application/vnd.jupyter.widget-view+json": {
       "model_id": "c25c03a3446f440aa8af28807af82208",
       "version_major": 2,
       "version_minor": 0
      },
      "text/plain": [
       "HBox(children=(IntProgress(value=0), HTML(value='')))"
      ]
     },
     "metadata": {},
     "output_type": "display_data"
    },
    {
     "name": "stdout",
     "output_type": "stream",
     "text": [
      "\n",
      "0\n",
      "epoch 337: training loss 0.06898164890706539\n"
     ]
    },
    {
     "data": {
      "application/vnd.jupyter.widget-view+json": {
       "model_id": "be3758ba10d440cf831f79f0b3b96b13",
       "version_major": 2,
       "version_minor": 0
      },
      "text/plain": [
       "HBox(children=(IntProgress(value=0), HTML(value='')))"
      ]
     },
     "metadata": {},
     "output_type": "display_data"
    },
    {
     "name": "stdout",
     "output_type": "stream",
     "text": [
      "\n",
      "0\n",
      "epoch 338: training loss 0.06793494371697306\n"
     ]
    },
    {
     "data": {
      "application/vnd.jupyter.widget-view+json": {
       "model_id": "8cabd09cbe314ed0a59ab6d4dca11460",
       "version_major": 2,
       "version_minor": 0
      },
      "text/plain": [
       "HBox(children=(IntProgress(value=0), HTML(value='')))"
      ]
     },
     "metadata": {},
     "output_type": "display_data"
    },
    {
     "name": "stdout",
     "output_type": "stream",
     "text": [
      "\n",
      "0\n",
      "epoch 339: training loss 0.06769307319074869\n"
     ]
    },
    {
     "data": {
      "application/vnd.jupyter.widget-view+json": {
       "model_id": "2920d793a3594be7a4fdc84a6e3f7bc7",
       "version_major": 2,
       "version_minor": 0
      },
      "text/plain": [
       "HBox(children=(IntProgress(value=0), HTML(value='')))"
      ]
     },
     "metadata": {},
     "output_type": "display_data"
    },
    {
     "name": "stdout",
     "output_type": "stream",
     "text": [
      "\n",
      "0\n",
      "epoch 340: training loss 0.06675079829990864\n"
     ]
    },
    {
     "data": {
      "application/vnd.jupyter.widget-view+json": {
       "model_id": "d0f3eb3542f343c38dec07f7f9732790",
       "version_major": 2,
       "version_minor": 0
      },
      "text/plain": [
       "HBox(children=(IntProgress(value=0), HTML(value='')))"
      ]
     },
     "metadata": {},
     "output_type": "display_data"
    },
    {
     "name": "stdout",
     "output_type": "stream",
     "text": [
      "\n",
      "0\n",
      "epoch 341: training loss 0.06620614061132074\n"
     ]
    },
    {
     "data": {
      "application/vnd.jupyter.widget-view+json": {
       "model_id": "4cde5655d4b54876a09f25dc958813c7",
       "version_major": 2,
       "version_minor": 0
      },
      "text/plain": [
       "HBox(children=(IntProgress(value=0), HTML(value='')))"
      ]
     },
     "metadata": {},
     "output_type": "display_data"
    },
    {
     "name": "stdout",
     "output_type": "stream",
     "text": [
      "\n",
      "0\n",
      "epoch 342: training loss 0.06561236977577209\n"
     ]
    },
    {
     "data": {
      "application/vnd.jupyter.widget-view+json": {
       "model_id": "b69af1921b9e4ef7a53c19a716d0a89c",
       "version_major": 2,
       "version_minor": 0
      },
      "text/plain": [
       "HBox(children=(IntProgress(value=0), HTML(value='')))"
      ]
     },
     "metadata": {},
     "output_type": "display_data"
    },
    {
     "name": "stdout",
     "output_type": "stream",
     "text": [
      "\n",
      "0\n",
      "epoch 343: training loss 0.06473082615062595\n"
     ]
    },
    {
     "data": {
      "application/vnd.jupyter.widget-view+json": {
       "model_id": "1c3c18171eeb462194475cb73ce5ec21",
       "version_major": 2,
       "version_minor": 0
      },
      "text/plain": [
       "HBox(children=(IntProgress(value=0), HTML(value='')))"
      ]
     },
     "metadata": {},
     "output_type": "display_data"
    },
    {
     "name": "stdout",
     "output_type": "stream",
     "text": [
      "\n",
      "0\n",
      "epoch 344: training loss 0.06468265078961849\n"
     ]
    },
    {
     "data": {
      "application/vnd.jupyter.widget-view+json": {
       "model_id": "1c76d6c92eed4e23a3468a8224ac7ded",
       "version_major": 2,
       "version_minor": 0
      },
      "text/plain": [
       "HBox(children=(IntProgress(value=0), HTML(value='')))"
      ]
     },
     "metadata": {},
     "output_type": "display_data"
    },
    {
     "name": "stdout",
     "output_type": "stream",
     "text": [
      "\n",
      "0\n",
      "epoch 345: training loss 0.06368105733767151\n"
     ]
    },
    {
     "data": {
      "application/vnd.jupyter.widget-view+json": {
       "model_id": "a6d5f6e267dd400b9036028a60db98e9",
       "version_major": 2,
       "version_minor": 0
      },
      "text/plain": [
       "HBox(children=(IntProgress(value=0), HTML(value='')))"
      ]
     },
     "metadata": {},
     "output_type": "display_data"
    },
    {
     "name": "stdout",
     "output_type": "stream",
     "text": [
      "\n",
      "0\n",
      "epoch 346: training loss 0.06306759934872389\n"
     ]
    },
    {
     "data": {
      "application/vnd.jupyter.widget-view+json": {
       "model_id": "184db88ddb2c4578b7198030630c6799",
       "version_major": 2,
       "version_minor": 0
      },
      "text/plain": [
       "HBox(children=(IntProgress(value=0), HTML(value='')))"
      ]
     },
     "metadata": {},
     "output_type": "display_data"
    },
    {
     "name": "stdout",
     "output_type": "stream",
     "text": [
      "\n",
      "0\n",
      "epoch 347: training loss 0.06296690344810486\n"
     ]
    },
    {
     "data": {
      "application/vnd.jupyter.widget-view+json": {
       "model_id": "c3b08b3e587a4c688195f9cd7673cce5",
       "version_major": 2,
       "version_minor": 0
      },
      "text/plain": [
       "HBox(children=(IntProgress(value=0), HTML(value='')))"
      ]
     },
     "metadata": {},
     "output_type": "display_data"
    },
    {
     "name": "stdout",
     "output_type": "stream",
     "text": [
      "\n",
      "0\n",
      "epoch 348: training loss 0.06189830332994461\n"
     ]
    },
    {
     "data": {
      "application/vnd.jupyter.widget-view+json": {
       "model_id": "fdb6b660069549db958d70ab4038999e",
       "version_major": 2,
       "version_minor": 0
      },
      "text/plain": [
       "HBox(children=(IntProgress(value=0), HTML(value='')))"
      ]
     },
     "metadata": {},
     "output_type": "display_data"
    },
    {
     "name": "stdout",
     "output_type": "stream",
     "text": [
      "\n",
      "0\n",
      "epoch 349: training loss 0.061962345205247404\n"
     ]
    },
    {
     "data": {
      "application/vnd.jupyter.widget-view+json": {
       "model_id": "630904504cf74a0fb55b4b8a5e70324f",
       "version_major": 2,
       "version_minor": 0
      },
      "text/plain": [
       "HBox(children=(IntProgress(value=0), HTML(value='')))"
      ]
     },
     "metadata": {},
     "output_type": "display_data"
    },
    {
     "name": "stdout",
     "output_type": "stream",
     "text": [
      "\n",
      "0\n",
      "epoch 350: training loss 0.06115362085402012\n"
     ]
    },
    {
     "data": {
      "application/vnd.jupyter.widget-view+json": {
       "model_id": "daa3a80afbf24b339e17dc79fe2c4753",
       "version_major": 2,
       "version_minor": 0
      },
      "text/plain": [
       "HBox(children=(IntProgress(value=0), HTML(value='')))"
      ]
     },
     "metadata": {},
     "output_type": "display_data"
    },
    {
     "name": "stdout",
     "output_type": "stream",
     "text": [
      "\n",
      "0\n",
      "epoch 351: training loss 0.059859661068767306\n"
     ]
    },
    {
     "data": {
      "application/vnd.jupyter.widget-view+json": {
       "model_id": "123ffd524bcb4d50b3e7302d9b8acf2b",
       "version_major": 2,
       "version_minor": 0
      },
      "text/plain": [
       "HBox(children=(IntProgress(value=0), HTML(value='')))"
      ]
     },
     "metadata": {},
     "output_type": "display_data"
    },
    {
     "name": "stdout",
     "output_type": "stream",
     "text": [
      "\n",
      "0\n",
      "epoch 352: training loss 0.06099426742643118\n"
     ]
    },
    {
     "data": {
      "application/vnd.jupyter.widget-view+json": {
       "model_id": "71159d26fffb4fc8b0fb5d18a50717bc",
       "version_major": 2,
       "version_minor": 0
      },
      "text/plain": [
       "HBox(children=(IntProgress(value=0), HTML(value='')))"
      ]
     },
     "metadata": {},
     "output_type": "display_data"
    },
    {
     "name": "stdout",
     "output_type": "stream",
     "text": [
      "\n",
      "0\n",
      "epoch 353: training loss 0.058124684263020754\n"
     ]
    },
    {
     "data": {
      "application/vnd.jupyter.widget-view+json": {
       "model_id": "5de5d2e8ae0f4632b2cdcfb4bde7b0b7",
       "version_major": 2,
       "version_minor": 0
      },
      "text/plain": [
       "HBox(children=(IntProgress(value=0), HTML(value='')))"
      ]
     },
     "metadata": {},
     "output_type": "display_data"
    },
    {
     "name": "stdout",
     "output_type": "stream",
     "text": [
      "\n",
      "0\n",
      "epoch 354: training loss 0.05908943083137274\n"
     ]
    },
    {
     "data": {
      "application/vnd.jupyter.widget-view+json": {
       "model_id": "ae19159b972149d6a5efdeb6b02a0a99",
       "version_major": 2,
       "version_minor": 0
      },
      "text/plain": [
       "HBox(children=(IntProgress(value=0), HTML(value='')))"
      ]
     },
     "metadata": {},
     "output_type": "display_data"
    },
    {
     "name": "stdout",
     "output_type": "stream",
     "text": [
      "\n",
      "0\n",
      "epoch 355: training loss 0.05879919651895762\n"
     ]
    },
    {
     "data": {
      "application/vnd.jupyter.widget-view+json": {
       "model_id": "7aeb1612c5114fc7bbe1bfe7444b5212",
       "version_major": 2,
       "version_minor": 0
      },
      "text/plain": [
       "HBox(children=(IntProgress(value=0), HTML(value='')))"
      ]
     },
     "metadata": {},
     "output_type": "display_data"
    },
    {
     "name": "stdout",
     "output_type": "stream",
     "text": [
      "\n",
      "0\n",
      "epoch 356: training loss 0.057757359594106675\n"
     ]
    },
    {
     "data": {
      "application/vnd.jupyter.widget-view+json": {
       "model_id": "bfb96637d6f348d1bf313dc1c0706f2d",
       "version_major": 2,
       "version_minor": 0
      },
      "text/plain": [
       "HBox(children=(IntProgress(value=0), HTML(value='')))"
      ]
     },
     "metadata": {},
     "output_type": "display_data"
    },
    {
     "name": "stdout",
     "output_type": "stream",
     "text": [
      "\n",
      "0\n",
      "epoch 357: training loss 0.05761440360918641\n"
     ]
    },
    {
     "data": {
      "application/vnd.jupyter.widget-view+json": {
       "model_id": "522ffe5a66ae4ce88aab990309120441",
       "version_major": 2,
       "version_minor": 0
      },
      "text/plain": [
       "HBox(children=(IntProgress(value=0), HTML(value='')))"
      ]
     },
     "metadata": {},
     "output_type": "display_data"
    },
    {
     "name": "stdout",
     "output_type": "stream",
     "text": [
      "\n",
      "0\n",
      "epoch 358: training loss 0.055980410743504766\n"
     ]
    },
    {
     "data": {
      "application/vnd.jupyter.widget-view+json": {
       "model_id": "d5e02ce9ce4a4b5fb22cf2845231b90a",
       "version_major": 2,
       "version_minor": 0
      },
      "text/plain": [
       "HBox(children=(IntProgress(value=0), HTML(value='')))"
      ]
     },
     "metadata": {},
     "output_type": "display_data"
    },
    {
     "name": "stdout",
     "output_type": "stream",
     "text": [
      "\n",
      "0\n",
      "epoch 359: training loss 0.05700407588854432\n"
     ]
    },
    {
     "data": {
      "application/vnd.jupyter.widget-view+json": {
       "model_id": "f6b41252d48c4994a0a70b289395e106",
       "version_major": 2,
       "version_minor": 0
      },
      "text/plain": [
       "HBox(children=(IntProgress(value=0), HTML(value='')))"
      ]
     },
     "metadata": {},
     "output_type": "display_data"
    },
    {
     "name": "stdout",
     "output_type": "stream",
     "text": [
      "\n",
      "0\n",
      "epoch 360: training loss 0.05540672030299902\n"
     ]
    },
    {
     "data": {
      "application/vnd.jupyter.widget-view+json": {
       "model_id": "0d06c3943a6c4f9bb08ee03c8e0d2d06",
       "version_major": 2,
       "version_minor": 0
      },
      "text/plain": [
       "HBox(children=(IntProgress(value=0), HTML(value='')))"
      ]
     },
     "metadata": {},
     "output_type": "display_data"
    },
    {
     "name": "stdout",
     "output_type": "stream",
     "text": [
      "\n",
      "0\n",
      "epoch 361: training loss 0.056415717527270315\n"
     ]
    },
    {
     "data": {
      "application/vnd.jupyter.widget-view+json": {
       "model_id": "b7f4617ac5834201a5850cc0929a6df5",
       "version_major": 2,
       "version_minor": 0
      },
      "text/plain": [
       "HBox(children=(IntProgress(value=0), HTML(value='')))"
      ]
     },
     "metadata": {},
     "output_type": "display_data"
    },
    {
     "name": "stdout",
     "output_type": "stream",
     "text": [
      "\n",
      "0\n",
      "epoch 362: training loss 0.054425193015486005\n"
     ]
    },
    {
     "data": {
      "application/vnd.jupyter.widget-view+json": {
       "model_id": "258fe34f98054647810b5cc3f873b811",
       "version_major": 2,
       "version_minor": 0
      },
      "text/plain": [
       "HBox(children=(IntProgress(value=0), HTML(value='')))"
      ]
     },
     "metadata": {},
     "output_type": "display_data"
    },
    {
     "name": "stdout",
     "output_type": "stream",
     "text": [
      "\n",
      "0\n",
      "epoch 363: training loss 0.05493388593196869\n"
     ]
    },
    {
     "data": {
      "application/vnd.jupyter.widget-view+json": {
       "model_id": "974ca7ff196d44058ba0a99bb89aef9c",
       "version_major": 2,
       "version_minor": 0
      },
      "text/plain": [
       "HBox(children=(IntProgress(value=0), HTML(value='')))"
      ]
     },
     "metadata": {},
     "output_type": "display_data"
    },
    {
     "name": "stdout",
     "output_type": "stream",
     "text": [
      "\n",
      "0\n",
      "epoch 364: training loss 0.05343874065205455\n"
     ]
    },
    {
     "data": {
      "application/vnd.jupyter.widget-view+json": {
       "model_id": "858d30cff2e642b78e256bd3f0af3123",
       "version_major": 2,
       "version_minor": 0
      },
      "text/plain": [
       "HBox(children=(IntProgress(value=0), HTML(value='')))"
      ]
     },
     "metadata": {},
     "output_type": "display_data"
    },
    {
     "name": "stdout",
     "output_type": "stream",
     "text": [
      "\n",
      "0\n",
      "epoch 365: training loss 0.053623761013150216\n"
     ]
    },
    {
     "data": {
      "application/vnd.jupyter.widget-view+json": {
       "model_id": "66b4d6f45e534145894a45a640d472ee",
       "version_major": 2,
       "version_minor": 0
      },
      "text/plain": [
       "HBox(children=(IntProgress(value=0), HTML(value='')))"
      ]
     },
     "metadata": {},
     "output_type": "display_data"
    },
    {
     "name": "stdout",
     "output_type": "stream",
     "text": [
      "\n",
      "0\n",
      "epoch 366: training loss 0.05348844826221466\n"
     ]
    },
    {
     "data": {
      "application/vnd.jupyter.widget-view+json": {
       "model_id": "adebb5dbf5a14184858c76035c574a3b",
       "version_major": 2,
       "version_minor": 0
      },
      "text/plain": [
       "HBox(children=(IntProgress(value=0), HTML(value='')))"
      ]
     },
     "metadata": {},
     "output_type": "display_data"
    },
    {
     "name": "stdout",
     "output_type": "stream",
     "text": [
      "\n",
      "0\n",
      "epoch 367: training loss 0.052553210109472275\n"
     ]
    },
    {
     "data": {
      "application/vnd.jupyter.widget-view+json": {
       "model_id": "f86b9ff942b24e24a685f7ca21a0f89f",
       "version_major": 2,
       "version_minor": 0
      },
      "text/plain": [
       "HBox(children=(IntProgress(value=0), HTML(value='')))"
      ]
     },
     "metadata": {},
     "output_type": "display_data"
    },
    {
     "name": "stdout",
     "output_type": "stream",
     "text": [
      "\n",
      "0\n",
      "epoch 368: training loss 0.0520655514113605\n"
     ]
    },
    {
     "data": {
      "application/vnd.jupyter.widget-view+json": {
       "model_id": "765154456e52441a9e5764285fb37c89",
       "version_major": 2,
       "version_minor": 0
      },
      "text/plain": [
       "HBox(children=(IntProgress(value=0), HTML(value='')))"
      ]
     },
     "metadata": {},
     "output_type": "display_data"
    },
    {
     "name": "stdout",
     "output_type": "stream",
     "text": [
      "\n",
      "0\n",
      "epoch 369: training loss 0.052067180164158344\n"
     ]
    },
    {
     "data": {
      "application/vnd.jupyter.widget-view+json": {
       "model_id": "fe52923d67be4b0daf252abcc04ad07f",
       "version_major": 2,
       "version_minor": 0
      },
      "text/plain": [
       "HBox(children=(IntProgress(value=0), HTML(value='')))"
      ]
     },
     "metadata": {},
     "output_type": "display_data"
    },
    {
     "name": "stdout",
     "output_type": "stream",
     "text": [
      "\n",
      "0\n",
      "epoch 370: training loss 0.05152706392109394\n"
     ]
    },
    {
     "data": {
      "application/vnd.jupyter.widget-view+json": {
       "model_id": "d368055c587c4f088b23bee6e7107d8a",
       "version_major": 2,
       "version_minor": 0
      },
      "text/plain": [
       "HBox(children=(IntProgress(value=0), HTML(value='')))"
      ]
     },
     "metadata": {},
     "output_type": "display_data"
    },
    {
     "name": "stdout",
     "output_type": "stream",
     "text": [
      "\n",
      "0\n",
      "epoch 371: training loss 0.05092233549803495\n"
     ]
    },
    {
     "data": {
      "application/vnd.jupyter.widget-view+json": {
       "model_id": "cab54223035f4f779b1dc3ef5254f097",
       "version_major": 2,
       "version_minor": 0
      },
      "text/plain": [
       "HBox(children=(IntProgress(value=0), HTML(value='')))"
      ]
     },
     "metadata": {},
     "output_type": "display_data"
    },
    {
     "name": "stdout",
     "output_type": "stream",
     "text": [
      "\n",
      "0\n",
      "epoch 372: training loss 0.05073001379147172\n"
     ]
    },
    {
     "data": {
      "application/vnd.jupyter.widget-view+json": {
       "model_id": "33cb068846f841b99b97ba50a8bf1dd5",
       "version_major": 2,
       "version_minor": 0
      },
      "text/plain": [
       "HBox(children=(IntProgress(value=0), HTML(value='')))"
      ]
     },
     "metadata": {},
     "output_type": "display_data"
    },
    {
     "name": "stdout",
     "output_type": "stream",
     "text": [
      "\n",
      "0\n",
      "epoch 373: training loss 0.05020019246265292\n"
     ]
    },
    {
     "data": {
      "application/vnd.jupyter.widget-view+json": {
       "model_id": "95b8dec78b7b41ee84aa196a7ce78029",
       "version_major": 2,
       "version_minor": 0
      },
      "text/plain": [
       "HBox(children=(IntProgress(value=0), HTML(value='')))"
      ]
     },
     "metadata": {},
     "output_type": "display_data"
    },
    {
     "name": "stdout",
     "output_type": "stream",
     "text": [
      "\n",
      "0\n",
      "epoch 374: training loss 0.05021856179460883\n"
     ]
    },
    {
     "data": {
      "application/vnd.jupyter.widget-view+json": {
       "model_id": "0a3f2b02649047bc9cb007b794cde6f8",
       "version_major": 2,
       "version_minor": 0
      },
      "text/plain": [
       "HBox(children=(IntProgress(value=0), HTML(value='')))"
      ]
     },
     "metadata": {},
     "output_type": "display_data"
    },
    {
     "name": "stdout",
     "output_type": "stream",
     "text": [
      "\n",
      "0\n",
      "epoch 375: training loss 0.0494961928576231\n"
     ]
    },
    {
     "data": {
      "application/vnd.jupyter.widget-view+json": {
       "model_id": "736851dcccd041579b5d7b749172b7ec",
       "version_major": 2,
       "version_minor": 0
      },
      "text/plain": [
       "HBox(children=(IntProgress(value=0), HTML(value='')))"
      ]
     },
     "metadata": {},
     "output_type": "display_data"
    },
    {
     "name": "stdout",
     "output_type": "stream",
     "text": [
      "\n",
      "0\n",
      "epoch 376: training loss 0.04836272838525474\n"
     ]
    },
    {
     "data": {
      "application/vnd.jupyter.widget-view+json": {
       "model_id": "4e4c7bb064674c4a834b1c2e49e30f29",
       "version_major": 2,
       "version_minor": 0
      },
      "text/plain": [
       "HBox(children=(IntProgress(value=0), HTML(value='')))"
      ]
     },
     "metadata": {},
     "output_type": "display_data"
    },
    {
     "name": "stdout",
     "output_type": "stream",
     "text": [
      "\n",
      "0\n",
      "epoch 377: training loss 0.048590959459543226\n"
     ]
    },
    {
     "data": {
      "application/vnd.jupyter.widget-view+json": {
       "model_id": "65e3db57795e46c798fda98712ebd934",
       "version_major": 2,
       "version_minor": 0
      },
      "text/plain": [
       "HBox(children=(IntProgress(value=0), HTML(value='')))"
      ]
     },
     "metadata": {},
     "output_type": "display_data"
    },
    {
     "name": "stdout",
     "output_type": "stream",
     "text": [
      "\n",
      "0\n",
      "epoch 378: training loss 0.048456999287009236\n"
     ]
    },
    {
     "data": {
      "application/vnd.jupyter.widget-view+json": {
       "model_id": "85f1cb825cf7415ab4227c4a3d1ff3dc",
       "version_major": 2,
       "version_minor": 0
      },
      "text/plain": [
       "HBox(children=(IntProgress(value=0), HTML(value='')))"
      ]
     },
     "metadata": {},
     "output_type": "display_data"
    },
    {
     "name": "stdout",
     "output_type": "stream",
     "text": [
      "\n",
      "0\n",
      "epoch 379: training loss 0.047900285702198744\n"
     ]
    },
    {
     "data": {
      "application/vnd.jupyter.widget-view+json": {
       "model_id": "aa795b4a4731466cafa013c2196e4af2",
       "version_major": 2,
       "version_minor": 0
      },
      "text/plain": [
       "HBox(children=(IntProgress(value=0), HTML(value='')))"
      ]
     },
     "metadata": {},
     "output_type": "display_data"
    },
    {
     "name": "stdout",
     "output_type": "stream",
     "text": [
      "\n",
      "0\n",
      "epoch 380: training loss 0.04723032480105758\n"
     ]
    },
    {
     "data": {
      "application/vnd.jupyter.widget-view+json": {
       "model_id": "52a8c3f814c1401b9212393b5ae933a9",
       "version_major": 2,
       "version_minor": 0
      },
      "text/plain": [
       "HBox(children=(IntProgress(value=0), HTML(value='')))"
      ]
     },
     "metadata": {},
     "output_type": "display_data"
    },
    {
     "name": "stdout",
     "output_type": "stream",
     "text": [
      "\n",
      "0\n",
      "epoch 381: training loss 0.047431486528366804\n"
     ]
    },
    {
     "data": {
      "application/vnd.jupyter.widget-view+json": {
       "model_id": "4253388dbfc74923b6de9ddfc0a93552",
       "version_major": 2,
       "version_minor": 0
      },
      "text/plain": [
       "HBox(children=(IntProgress(value=0), HTML(value='')))"
      ]
     },
     "metadata": {},
     "output_type": "display_data"
    },
    {
     "name": "stdout",
     "output_type": "stream",
     "text": [
      "\n",
      "0\n",
      "epoch 382: training loss 0.04644431419670582\n"
     ]
    },
    {
     "data": {
      "application/vnd.jupyter.widget-view+json": {
       "model_id": "25dbfcc9d1584a9bb3950d2d6dfb7a39",
       "version_major": 2,
       "version_minor": 0
      },
      "text/plain": [
       "HBox(children=(IntProgress(value=0), HTML(value='')))"
      ]
     },
     "metadata": {},
     "output_type": "display_data"
    },
    {
     "name": "stdout",
     "output_type": "stream",
     "text": [
      "\n",
      "0\n",
      "epoch 383: training loss 0.046479980517178776\n"
     ]
    },
    {
     "data": {
      "application/vnd.jupyter.widget-view+json": {
       "model_id": "67946893a4b34fefa031f08bafd9c549",
       "version_major": 2,
       "version_minor": 0
      },
      "text/plain": [
       "HBox(children=(IntProgress(value=0), HTML(value='')))"
      ]
     },
     "metadata": {},
     "output_type": "display_data"
    },
    {
     "name": "stdout",
     "output_type": "stream",
     "text": [
      "\n",
      "0\n",
      "epoch 384: training loss 0.046205267906188965\n"
     ]
    },
    {
     "data": {
      "application/vnd.jupyter.widget-view+json": {
       "model_id": "bbc5fa1ec0de46bea3f56932337fdc36",
       "version_major": 2,
       "version_minor": 0
      },
      "text/plain": [
       "HBox(children=(IntProgress(value=0), HTML(value='')))"
      ]
     },
     "metadata": {},
     "output_type": "display_data"
    },
    {
     "name": "stdout",
     "output_type": "stream",
     "text": [
      "\n",
      "0\n",
      "epoch 385: training loss 0.045529370419681074\n"
     ]
    },
    {
     "data": {
      "application/vnd.jupyter.widget-view+json": {
       "model_id": "a2662cded3114fafac7cae9d928adbf4",
       "version_major": 2,
       "version_minor": 0
      },
      "text/plain": [
       "HBox(children=(IntProgress(value=0), HTML(value='')))"
      ]
     },
     "metadata": {},
     "output_type": "display_data"
    },
    {
     "name": "stdout",
     "output_type": "stream",
     "text": [
      "\n",
      "0\n",
      "epoch 386: training loss 0.04514992706477642\n"
     ]
    },
    {
     "data": {
      "application/vnd.jupyter.widget-view+json": {
       "model_id": "54153b171f9648f89a63b98ea577393e",
       "version_major": 2,
       "version_minor": 0
      },
      "text/plain": [
       "HBox(children=(IntProgress(value=0), HTML(value='')))"
      ]
     },
     "metadata": {},
     "output_type": "display_data"
    },
    {
     "name": "stdout",
     "output_type": "stream",
     "text": [
      "\n",
      "0\n",
      "epoch 387: training loss 0.04526770988479257\n"
     ]
    },
    {
     "data": {
      "application/vnd.jupyter.widget-view+json": {
       "model_id": "df74fdf6163843ad883c198b01f40162",
       "version_major": 2,
       "version_minor": 0
      },
      "text/plain": [
       "HBox(children=(IntProgress(value=0), HTML(value='')))"
      ]
     },
     "metadata": {},
     "output_type": "display_data"
    },
    {
     "name": "stdout",
     "output_type": "stream",
     "text": [
      "\n",
      "0\n",
      "epoch 388: training loss 0.04432977475225926\n"
     ]
    },
    {
     "data": {
      "application/vnd.jupyter.widget-view+json": {
       "model_id": "c68bd9f870884a79956213ee45daedff",
       "version_major": 2,
       "version_minor": 0
      },
      "text/plain": [
       "HBox(children=(IntProgress(value=0), HTML(value='')))"
      ]
     },
     "metadata": {},
     "output_type": "display_data"
    },
    {
     "name": "stdout",
     "output_type": "stream",
     "text": [
      "\n",
      "0\n",
      "epoch 389: training loss 0.044492597319185735\n"
     ]
    },
    {
     "data": {
      "application/vnd.jupyter.widget-view+json": {
       "model_id": "957ad7ffa53642bb8b53fe19277f90d6",
       "version_major": 2,
       "version_minor": 0
      },
      "text/plain": [
       "HBox(children=(IntProgress(value=0), HTML(value='')))"
      ]
     },
     "metadata": {},
     "output_type": "display_data"
    },
    {
     "name": "stdout",
     "output_type": "stream",
     "text": [
      "\n",
      "0\n",
      "epoch 390: training loss 0.044415333215147255\n"
     ]
    },
    {
     "data": {
      "application/vnd.jupyter.widget-view+json": {
       "model_id": "d62de89131ca4da0b175424ff6f97059",
       "version_major": 2,
       "version_minor": 0
      },
      "text/plain": [
       "HBox(children=(IntProgress(value=0), HTML(value='')))"
      ]
     },
     "metadata": {},
     "output_type": "display_data"
    },
    {
     "name": "stdout",
     "output_type": "stream",
     "text": [
      "\n",
      "0\n",
      "epoch 391: training loss 0.04410241102799773\n"
     ]
    },
    {
     "data": {
      "application/vnd.jupyter.widget-view+json": {
       "model_id": "882dfef291a64c83841bd77e75b56f1b",
       "version_major": 2,
       "version_minor": 0
      },
      "text/plain": [
       "HBox(children=(IntProgress(value=0), HTML(value='')))"
      ]
     },
     "metadata": {},
     "output_type": "display_data"
    },
    {
     "name": "stdout",
     "output_type": "stream",
     "text": [
      "\n",
      "0\n",
      "epoch 392: training loss 0.04308993486687541\n"
     ]
    },
    {
     "data": {
      "application/vnd.jupyter.widget-view+json": {
       "model_id": "9ceefce9f65d4a1c89efac521014ef52",
       "version_major": 2,
       "version_minor": 0
      },
      "text/plain": [
       "HBox(children=(IntProgress(value=0), HTML(value='')))"
      ]
     },
     "metadata": {},
     "output_type": "display_data"
    },
    {
     "name": "stdout",
     "output_type": "stream",
     "text": [
      "\n",
      "0\n",
      "epoch 393: training loss 0.04298104856163263\n"
     ]
    },
    {
     "data": {
      "application/vnd.jupyter.widget-view+json": {
       "model_id": "faf4bb228ae54ad280cfb88277504fcc",
       "version_major": 2,
       "version_minor": 0
      },
      "text/plain": [
       "HBox(children=(IntProgress(value=0), HTML(value='')))"
      ]
     },
     "metadata": {},
     "output_type": "display_data"
    },
    {
     "name": "stdout",
     "output_type": "stream",
     "text": [
      "\n",
      "0\n",
      "epoch 394: training loss 0.04278028089553118\n"
     ]
    },
    {
     "data": {
      "application/vnd.jupyter.widget-view+json": {
       "model_id": "488b2aaced8d47b681bf32cd3c42f212",
       "version_major": 2,
       "version_minor": 0
      },
      "text/plain": [
       "HBox(children=(IntProgress(value=0), HTML(value='')))"
      ]
     },
     "metadata": {},
     "output_type": "display_data"
    },
    {
     "name": "stdout",
     "output_type": "stream",
     "text": [
      "\n",
      "0\n",
      "epoch 395: training loss 0.0423122345469892\n"
     ]
    },
    {
     "data": {
      "application/vnd.jupyter.widget-view+json": {
       "model_id": "9cc3709aa930459d9186c939eb47a32b",
       "version_major": 2,
       "version_minor": 0
      },
      "text/plain": [
       "HBox(children=(IntProgress(value=0), HTML(value='')))"
      ]
     },
     "metadata": {},
     "output_type": "display_data"
    },
    {
     "name": "stdout",
     "output_type": "stream",
     "text": [
      "\n",
      "0\n",
      "epoch 396: training loss 0.042060815393924714\n"
     ]
    },
    {
     "data": {
      "application/vnd.jupyter.widget-view+json": {
       "model_id": "e69f3813627c41dca93eca1c508abf86",
       "version_major": 2,
       "version_minor": 0
      },
      "text/plain": [
       "HBox(children=(IntProgress(value=0), HTML(value='')))"
      ]
     },
     "metadata": {},
     "output_type": "display_data"
    },
    {
     "name": "stdout",
     "output_type": "stream",
     "text": [
      "\n",
      "0\n",
      "epoch 397: training loss 0.041944422125816345\n"
     ]
    },
    {
     "data": {
      "application/vnd.jupyter.widget-view+json": {
       "model_id": "1a5f1dd9e9ec4f45811311b840d6e6d4",
       "version_major": 2,
       "version_minor": 0
      },
      "text/plain": [
       "HBox(children=(IntProgress(value=0), HTML(value='')))"
      ]
     },
     "metadata": {},
     "output_type": "display_data"
    },
    {
     "name": "stdout",
     "output_type": "stream",
     "text": [
      "\n",
      "0\n",
      "epoch 398: training loss 0.04156014281325042\n"
     ]
    },
    {
     "data": {
      "application/vnd.jupyter.widget-view+json": {
       "model_id": "0e1a2676d4604c4393ae7e337cd1efe4",
       "version_major": 2,
       "version_minor": 0
      },
      "text/plain": [
       "HBox(children=(IntProgress(value=0), HTML(value='')))"
      ]
     },
     "metadata": {},
     "output_type": "display_data"
    },
    {
     "name": "stdout",
     "output_type": "stream",
     "text": [
      "\n",
      "0\n",
      "epoch 399: training loss 0.04096019210293889\n"
     ]
    },
    {
     "data": {
      "application/vnd.jupyter.widget-view+json": {
       "model_id": "98a6eb6341b2471d9cfe807d1e98f445",
       "version_major": 2,
       "version_minor": 0
      },
      "text/plain": [
       "HBox(children=(IntProgress(value=0), HTML(value='')))"
      ]
     },
     "metadata": {},
     "output_type": "display_data"
    },
    {
     "name": "stdout",
     "output_type": "stream",
     "text": [
      "\n",
      "0\n",
      "epoch 400: training loss 0.041300793457776305\n"
     ]
    },
    {
     "data": {
      "application/vnd.jupyter.widget-view+json": {
       "model_id": "939f4fcc342045c6b68e5238862d90cf",
       "version_major": 2,
       "version_minor": 0
      },
      "text/plain": [
       "HBox(children=(IntProgress(value=0), HTML(value='')))"
      ]
     },
     "metadata": {},
     "output_type": "display_data"
    },
    {
     "name": "stdout",
     "output_type": "stream",
     "text": [
      "\n",
      "0\n",
      "epoch 401: training loss 0.040425422787666324\n"
     ]
    },
    {
     "data": {
      "application/vnd.jupyter.widget-view+json": {
       "model_id": "becac0e851794130b29a964a82d8fb70",
       "version_major": 2,
       "version_minor": 0
      },
      "text/plain": [
       "HBox(children=(IntProgress(value=0), HTML(value='')))"
      ]
     },
     "metadata": {},
     "output_type": "display_data"
    },
    {
     "name": "stdout",
     "output_type": "stream",
     "text": [
      "\n",
      "0\n",
      "epoch 402: training loss 0.04022205602377653\n"
     ]
    },
    {
     "data": {
      "application/vnd.jupyter.widget-view+json": {
       "model_id": "0f673fa45eb3439e9e0f07a05626fd25",
       "version_major": 2,
       "version_minor": 0
      },
      "text/plain": [
       "HBox(children=(IntProgress(value=0), HTML(value='')))"
      ]
     },
     "metadata": {},
     "output_type": "display_data"
    },
    {
     "name": "stdout",
     "output_type": "stream",
     "text": [
      "\n",
      "0\n",
      "epoch 403: training loss 0.04050666578114033\n"
     ]
    },
    {
     "data": {
      "application/vnd.jupyter.widget-view+json": {
       "model_id": "5607e14cd303451fa26c888824018edf",
       "version_major": 2,
       "version_minor": 0
      },
      "text/plain": [
       "HBox(children=(IntProgress(value=0), HTML(value='')))"
      ]
     },
     "metadata": {},
     "output_type": "display_data"
    },
    {
     "name": "stdout",
     "output_type": "stream",
     "text": [
      "\n",
      "0\n",
      "epoch 404: training loss 0.03947881661355496\n"
     ]
    },
    {
     "data": {
      "application/vnd.jupyter.widget-view+json": {
       "model_id": "90e0b83ee7724554b0daadf7ba781340",
       "version_major": 2,
       "version_minor": 0
      },
      "text/plain": [
       "HBox(children=(IntProgress(value=0), HTML(value='')))"
      ]
     },
     "metadata": {},
     "output_type": "display_data"
    },
    {
     "name": "stdout",
     "output_type": "stream",
     "text": [
      "\n",
      "0\n",
      "epoch 405: training loss 0.039637570651248094\n"
     ]
    },
    {
     "data": {
      "application/vnd.jupyter.widget-view+json": {
       "model_id": "a772a0285c5c447eaa70036b4d26e7f2",
       "version_major": 2,
       "version_minor": 0
      },
      "text/plain": [
       "HBox(children=(IntProgress(value=0), HTML(value='')))"
      ]
     },
     "metadata": {},
     "output_type": "display_data"
    },
    {
     "name": "stdout",
     "output_type": "stream",
     "text": [
      "\n",
      "0\n",
      "epoch 406: training loss 0.03948943117633462\n"
     ]
    },
    {
     "data": {
      "application/vnd.jupyter.widget-view+json": {
       "model_id": "52ddabd457d54b9498dc4b0668c4666c",
       "version_major": 2,
       "version_minor": 0
      },
      "text/plain": [
       "HBox(children=(IntProgress(value=0), HTML(value='')))"
      ]
     },
     "metadata": {},
     "output_type": "display_data"
    },
    {
     "name": "stdout",
     "output_type": "stream",
     "text": [
      "\n",
      "0\n",
      "epoch 407: training loss 0.03862407574430108\n"
     ]
    },
    {
     "data": {
      "application/vnd.jupyter.widget-view+json": {
       "model_id": "cd9fbefeea2f4950a44e8f2437dd2d20",
       "version_major": 2,
       "version_minor": 0
      },
      "text/plain": [
       "HBox(children=(IntProgress(value=0), HTML(value='')))"
      ]
     },
     "metadata": {},
     "output_type": "display_data"
    },
    {
     "name": "stdout",
     "output_type": "stream",
     "text": [
      "\n",
      "0\n",
      "epoch 408: training loss 0.039085074737668035\n"
     ]
    },
    {
     "data": {
      "application/vnd.jupyter.widget-view+json": {
       "model_id": "d548fd746bba4f57833f2caa263470ae",
       "version_major": 2,
       "version_minor": 0
      },
      "text/plain": [
       "HBox(children=(IntProgress(value=0), HTML(value='')))"
      ]
     },
     "metadata": {},
     "output_type": "display_data"
    },
    {
     "name": "stdout",
     "output_type": "stream",
     "text": [
      "\n",
      "0\n",
      "epoch 409: training loss 0.038221774138510224\n"
     ]
    },
    {
     "data": {
      "application/vnd.jupyter.widget-view+json": {
       "model_id": "cd16d2254ad7455dae04eb06cf75f1da",
       "version_major": 2,
       "version_minor": 0
      },
      "text/plain": [
       "HBox(children=(IntProgress(value=0), HTML(value='')))"
      ]
     },
     "metadata": {},
     "output_type": "display_data"
    },
    {
     "name": "stdout",
     "output_type": "stream",
     "text": [
      "\n",
      "0\n",
      "epoch 410: training loss 0.03801319630816579\n"
     ]
    },
    {
     "data": {
      "application/vnd.jupyter.widget-view+json": {
       "model_id": "4f41976dc66e458894621bf63306711b",
       "version_major": 2,
       "version_minor": 0
      },
      "text/plain": [
       "HBox(children=(IntProgress(value=0), HTML(value='')))"
      ]
     },
     "metadata": {},
     "output_type": "display_data"
    },
    {
     "name": "stdout",
     "output_type": "stream",
     "text": [
      "\n",
      "0\n",
      "epoch 411: training loss 0.03808576760813594\n"
     ]
    },
    {
     "data": {
      "application/vnd.jupyter.widget-view+json": {
       "model_id": "016e4f18b56c43bf8fd1768a41e42ee0",
       "version_major": 2,
       "version_minor": 0
      },
      "text/plain": [
       "HBox(children=(IntProgress(value=0), HTML(value='')))"
      ]
     },
     "metadata": {},
     "output_type": "display_data"
    },
    {
     "name": "stdout",
     "output_type": "stream",
     "text": [
      "\n",
      "0\n",
      "epoch 412: training loss 0.037580424062907694\n"
     ]
    },
    {
     "data": {
      "application/vnd.jupyter.widget-view+json": {
       "model_id": "6e6fb1fed67e44aea83a178690dc7054",
       "version_major": 2,
       "version_minor": 0
      },
      "text/plain": [
       "HBox(children=(IntProgress(value=0), HTML(value='')))"
      ]
     },
     "metadata": {},
     "output_type": "display_data"
    },
    {
     "name": "stdout",
     "output_type": "stream",
     "text": [
      "\n",
      "0\n",
      "epoch 413: training loss 0.03744238130748272\n"
     ]
    },
    {
     "data": {
      "application/vnd.jupyter.widget-view+json": {
       "model_id": "473aa6a7af2b46aa953a442dadb5153c",
       "version_major": 2,
       "version_minor": 0
      },
      "text/plain": [
       "HBox(children=(IntProgress(value=0), HTML(value='')))"
      ]
     },
     "metadata": {},
     "output_type": "display_data"
    },
    {
     "name": "stdout",
     "output_type": "stream",
     "text": [
      "\n",
      "0\n",
      "epoch 414: training loss 0.03695755086839199\n"
     ]
    },
    {
     "data": {
      "application/vnd.jupyter.widget-view+json": {
       "model_id": "71d05816f24c4e538791e956f7e50a73",
       "version_major": 2,
       "version_minor": 0
      },
      "text/plain": [
       "HBox(children=(IntProgress(value=0), HTML(value='')))"
      ]
     },
     "metadata": {},
     "output_type": "display_data"
    },
    {
     "name": "stdout",
     "output_type": "stream",
     "text": [
      "\n",
      "0\n",
      "epoch 415: training loss 0.037055401485413315\n"
     ]
    },
    {
     "data": {
      "application/vnd.jupyter.widget-view+json": {
       "model_id": "a852a1a3e4e64571941fdda75a81afa8",
       "version_major": 2,
       "version_minor": 0
      },
      "text/plain": [
       "HBox(children=(IntProgress(value=0), HTML(value='')))"
      ]
     },
     "metadata": {},
     "output_type": "display_data"
    },
    {
     "name": "stdout",
     "output_type": "stream",
     "text": [
      "\n",
      "0\n",
      "epoch 416: training loss 0.036575942169874906\n"
     ]
    },
    {
     "data": {
      "application/vnd.jupyter.widget-view+json": {
       "model_id": "6c2aecb94801480e9ce0ae758d63cbbb",
       "version_major": 2,
       "version_minor": 0
      },
      "text/plain": [
       "HBox(children=(IntProgress(value=0), HTML(value='')))"
      ]
     },
     "metadata": {},
     "output_type": "display_data"
    },
    {
     "name": "stdout",
     "output_type": "stream",
     "text": [
      "\n",
      "0\n",
      "epoch 417: training loss 0.03678158327937126\n"
     ]
    },
    {
     "data": {
      "application/vnd.jupyter.widget-view+json": {
       "model_id": "2929628fd6444e428e94871bdd2867a1",
       "version_major": 2,
       "version_minor": 0
      },
      "text/plain": [
       "HBox(children=(IntProgress(value=0), HTML(value='')))"
      ]
     },
     "metadata": {},
     "output_type": "display_data"
    },
    {
     "name": "stdout",
     "output_type": "stream",
     "text": [
      "\n",
      "0\n",
      "epoch 418: training loss 0.035877287397161124\n"
     ]
    },
    {
     "data": {
      "application/vnd.jupyter.widget-view+json": {
       "model_id": "2de5f46c3f25473d96fc60eb313ac838",
       "version_major": 2,
       "version_minor": 0
      },
      "text/plain": [
       "HBox(children=(IntProgress(value=0), HTML(value='')))"
      ]
     },
     "metadata": {},
     "output_type": "display_data"
    },
    {
     "name": "stdout",
     "output_type": "stream",
     "text": [
      "\n",
      "0\n",
      "epoch 419: training loss 0.03617271149531007\n"
     ]
    },
    {
     "data": {
      "application/vnd.jupyter.widget-view+json": {
       "model_id": "9a462a68c8344478bbbe42b841f1c401",
       "version_major": 2,
       "version_minor": 0
      },
      "text/plain": [
       "HBox(children=(IntProgress(value=0), HTML(value='')))"
      ]
     },
     "metadata": {},
     "output_type": "display_data"
    },
    {
     "name": "stdout",
     "output_type": "stream",
     "text": [
      "\n",
      "0\n",
      "epoch 420: training loss 0.03577158438041806\n"
     ]
    },
    {
     "data": {
      "application/vnd.jupyter.widget-view+json": {
       "model_id": "ead484e02d094c18a7e944bfb71e468e",
       "version_major": 2,
       "version_minor": 0
      },
      "text/plain": [
       "HBox(children=(IntProgress(value=0), HTML(value='')))"
      ]
     },
     "metadata": {},
     "output_type": "display_data"
    },
    {
     "name": "stdout",
     "output_type": "stream",
     "text": [
      "\n",
      "0\n",
      "epoch 421: training loss 0.03534235982224345\n"
     ]
    },
    {
     "data": {
      "application/vnd.jupyter.widget-view+json": {
       "model_id": "a920261b7fe241b4a8107d5ee82d7739",
       "version_major": 2,
       "version_minor": 0
      },
      "text/plain": [
       "HBox(children=(IntProgress(value=0), HTML(value='')))"
      ]
     },
     "metadata": {},
     "output_type": "display_data"
    },
    {
     "name": "stdout",
     "output_type": "stream",
     "text": [
      "\n",
      "0\n",
      "epoch 422: training loss 0.03523525996133685\n"
     ]
    },
    {
     "data": {
      "application/vnd.jupyter.widget-view+json": {
       "model_id": "f3ab5cf7466547168c38c69f4d5c4589",
       "version_major": 2,
       "version_minor": 0
      },
      "text/plain": [
       "HBox(children=(IntProgress(value=0), HTML(value='')))"
      ]
     },
     "metadata": {},
     "output_type": "display_data"
    },
    {
     "name": "stdout",
     "output_type": "stream",
     "text": [
      "\n",
      "0\n",
      "epoch 423: training loss 0.035071690017357465\n"
     ]
    },
    {
     "data": {
      "application/vnd.jupyter.widget-view+json": {
       "model_id": "233fe4bac5e441b6b7543e5f75817c9c",
       "version_major": 2,
       "version_minor": 0
      },
      "text/plain": [
       "HBox(children=(IntProgress(value=0), HTML(value='')))"
      ]
     },
     "metadata": {},
     "output_type": "display_data"
    },
    {
     "name": "stdout",
     "output_type": "stream",
     "text": [
      "\n",
      "0\n",
      "epoch 424: training loss 0.034403432365506886\n"
     ]
    },
    {
     "data": {
      "application/vnd.jupyter.widget-view+json": {
       "model_id": "6929b517597042c9b3964a6337ebf3b0",
       "version_major": 2,
       "version_minor": 0
      },
      "text/plain": [
       "HBox(children=(IntProgress(value=0), HTML(value='')))"
      ]
     },
     "metadata": {},
     "output_type": "display_data"
    },
    {
     "name": "stdout",
     "output_type": "stream",
     "text": [
      "\n",
      "0\n",
      "epoch 425: training loss 0.034870062544941904\n"
     ]
    },
    {
     "data": {
      "application/vnd.jupyter.widget-view+json": {
       "model_id": "7aa873f56e2d47c4904767674f5032b1",
       "version_major": 2,
       "version_minor": 0
      },
      "text/plain": [
       "HBox(children=(IntProgress(value=0), HTML(value='')))"
      ]
     },
     "metadata": {},
     "output_type": "display_data"
    },
    {
     "name": "stdout",
     "output_type": "stream",
     "text": [
      "\n",
      "0\n",
      "epoch 426: training loss 0.03431668812409043\n"
     ]
    },
    {
     "data": {
      "application/vnd.jupyter.widget-view+json": {
       "model_id": "e2d2cde729be4345abf6fb05a21cb274",
       "version_major": 2,
       "version_minor": 0
      },
      "text/plain": [
       "HBox(children=(IntProgress(value=0), HTML(value='')))"
      ]
     },
     "metadata": {},
     "output_type": "display_data"
    },
    {
     "name": "stdout",
     "output_type": "stream",
     "text": [
      "\n",
      "0\n",
      "epoch 427: training loss 0.033942790534347296\n"
     ]
    },
    {
     "data": {
      "application/vnd.jupyter.widget-view+json": {
       "model_id": "2932f21d810841a996072fdf53ffabac",
       "version_major": 2,
       "version_minor": 0
      },
      "text/plain": [
       "HBox(children=(IntProgress(value=0), HTML(value='')))"
      ]
     },
     "metadata": {},
     "output_type": "display_data"
    },
    {
     "name": "stdout",
     "output_type": "stream",
     "text": [
      "\n",
      "0\n",
      "epoch 428: training loss 0.03366701864637434\n"
     ]
    },
    {
     "data": {
      "application/vnd.jupyter.widget-view+json": {
       "model_id": "9cb40f0506524774a0c7d2f3161ba4bb",
       "version_major": 2,
       "version_minor": 0
      },
      "text/plain": [
       "HBox(children=(IntProgress(value=0), HTML(value='')))"
      ]
     },
     "metadata": {},
     "output_type": "display_data"
    },
    {
     "name": "stdout",
     "output_type": "stream",
     "text": [
      "\n",
      "0\n",
      "epoch 429: training loss 0.03404400051571429\n"
     ]
    },
    {
     "data": {
      "application/vnd.jupyter.widget-view+json": {
       "model_id": "ab9df0c7a7a04be98b0f2d2d713c712a",
       "version_major": 2,
       "version_minor": 0
      },
      "text/plain": [
       "HBox(children=(IntProgress(value=0), HTML(value='')))"
      ]
     },
     "metadata": {},
     "output_type": "display_data"
    },
    {
     "name": "stdout",
     "output_type": "stream",
     "text": [
      "\n",
      "0\n",
      "epoch 430: training loss 0.0331229858379811\n"
     ]
    },
    {
     "data": {
      "application/vnd.jupyter.widget-view+json": {
       "model_id": "52ce35ff3baa4e2eb524e94d112ed1b9",
       "version_major": 2,
       "version_minor": 0
      },
      "text/plain": [
       "HBox(children=(IntProgress(value=0), HTML(value='')))"
      ]
     },
     "metadata": {},
     "output_type": "display_data"
    },
    {
     "name": "stdout",
     "output_type": "stream",
     "text": [
      "\n",
      "0\n",
      "epoch 431: training loss 0.033790075527504085\n"
     ]
    },
    {
     "data": {
      "application/vnd.jupyter.widget-view+json": {
       "model_id": "66a7e25fe7c348be9f0c04fb8c4d8204",
       "version_major": 2,
       "version_minor": 0
      },
      "text/plain": [
       "HBox(children=(IntProgress(value=0), HTML(value='')))"
      ]
     },
     "metadata": {},
     "output_type": "display_data"
    },
    {
     "name": "stdout",
     "output_type": "stream",
     "text": [
      "\n",
      "0\n",
      "epoch 432: training loss 0.0329104311298579\n"
     ]
    },
    {
     "data": {
      "application/vnd.jupyter.widget-view+json": {
       "model_id": "e25e9cc479cd42bc8a029eda5f552af3",
       "version_major": 2,
       "version_minor": 0
      },
      "text/plain": [
       "HBox(children=(IntProgress(value=0), HTML(value='')))"
      ]
     },
     "metadata": {},
     "output_type": "display_data"
    },
    {
     "name": "stdout",
     "output_type": "stream",
     "text": [
      "\n",
      "0\n",
      "epoch 433: training loss 0.032569689974188805\n"
     ]
    },
    {
     "data": {
      "application/vnd.jupyter.widget-view+json": {
       "model_id": "c0b873d6e5984de7ab8b84b835d736e7",
       "version_major": 2,
       "version_minor": 0
      },
      "text/plain": [
       "HBox(children=(IntProgress(value=0), HTML(value='')))"
      ]
     },
     "metadata": {},
     "output_type": "display_data"
    },
    {
     "name": "stdout",
     "output_type": "stream",
     "text": [
      "\n",
      "0\n",
      "epoch 434: training loss 0.03299852652475238\n"
     ]
    },
    {
     "data": {
      "application/vnd.jupyter.widget-view+json": {
       "model_id": "b1eed0cfc99548b1aea2bf36100d9dc3",
       "version_major": 2,
       "version_minor": 0
      },
      "text/plain": [
       "HBox(children=(IntProgress(value=0), HTML(value='')))"
      ]
     },
     "metadata": {},
     "output_type": "display_data"
    },
    {
     "name": "stdout",
     "output_type": "stream",
     "text": [
      "\n",
      "0\n",
      "epoch 435: training loss 0.032272634357213975\n"
     ]
    },
    {
     "data": {
      "application/vnd.jupyter.widget-view+json": {
       "model_id": "1a029c386596493bb15a0cdb39f56d5a",
       "version_major": 2,
       "version_minor": 0
      },
      "text/plain": [
       "HBox(children=(IntProgress(value=0), HTML(value='')))"
      ]
     },
     "metadata": {},
     "output_type": "display_data"
    },
    {
     "name": "stdout",
     "output_type": "stream",
     "text": [
      "\n",
      "0\n",
      "epoch 436: training loss 0.03271808575838804\n"
     ]
    },
    {
     "data": {
      "application/vnd.jupyter.widget-view+json": {
       "model_id": "5e10b7e8cac4474ab7b5e403f0193cb2",
       "version_major": 2,
       "version_minor": 0
      },
      "text/plain": [
       "HBox(children=(IntProgress(value=0), HTML(value='')))"
      ]
     },
     "metadata": {},
     "output_type": "display_data"
    },
    {
     "name": "stdout",
     "output_type": "stream",
     "text": [
      "\n",
      "0\n",
      "epoch 437: training loss 0.03167111194692552\n"
     ]
    },
    {
     "data": {
      "application/vnd.jupyter.widget-view+json": {
       "model_id": "c35900a7ff024d33a5020bf3503b6434",
       "version_major": 2,
       "version_minor": 0
      },
      "text/plain": [
       "HBox(children=(IntProgress(value=0), HTML(value='')))"
      ]
     },
     "metadata": {},
     "output_type": "display_data"
    },
    {
     "name": "stdout",
     "output_type": "stream",
     "text": [
      "\n",
      "0\n",
      "epoch 438: training loss 0.03194527587853372\n"
     ]
    },
    {
     "data": {
      "application/vnd.jupyter.widget-view+json": {
       "model_id": "461c8dae3da94b939db771fe13307dcd",
       "version_major": 2,
       "version_minor": 0
      },
      "text/plain": [
       "HBox(children=(IntProgress(value=0), HTML(value='')))"
      ]
     },
     "metadata": {},
     "output_type": "display_data"
    },
    {
     "name": "stdout",
     "output_type": "stream",
     "text": [
      "\n",
      "0\n",
      "epoch 439: training loss 0.031801228560507294\n"
     ]
    },
    {
     "data": {
      "application/vnd.jupyter.widget-view+json": {
       "model_id": "0ae2b041bfde4fad889b9fefd54b269c",
       "version_major": 2,
       "version_minor": 0
      },
      "text/plain": [
       "HBox(children=(IntProgress(value=0), HTML(value='')))"
      ]
     },
     "metadata": {},
     "output_type": "display_data"
    },
    {
     "name": "stdout",
     "output_type": "stream",
     "text": [
      "\n",
      "0\n",
      "epoch 440: training loss 0.03134602182544768\n"
     ]
    },
    {
     "data": {
      "application/vnd.jupyter.widget-view+json": {
       "model_id": "6076d2b6f7db4cfab96b51c9d42c4472",
       "version_major": 2,
       "version_minor": 0
      },
      "text/plain": [
       "HBox(children=(IntProgress(value=0), HTML(value='')))"
      ]
     },
     "metadata": {},
     "output_type": "display_data"
    },
    {
     "name": "stdout",
     "output_type": "stream",
     "text": [
      "\n",
      "0\n",
      "epoch 441: training loss 0.03143142575398088\n"
     ]
    },
    {
     "data": {
      "application/vnd.jupyter.widget-view+json": {
       "model_id": "91aa01073cea442bb5177c04189b1c03",
       "version_major": 2,
       "version_minor": 0
      },
      "text/plain": [
       "HBox(children=(IntProgress(value=0), HTML(value='')))"
      ]
     },
     "metadata": {},
     "output_type": "display_data"
    },
    {
     "name": "stdout",
     "output_type": "stream",
     "text": [
      "\n",
      "0\n",
      "epoch 442: training loss 0.030794322453439237\n"
     ]
    },
    {
     "data": {
      "application/vnd.jupyter.widget-view+json": {
       "model_id": "4a70ab7be0184b74b98cb6c400efef69",
       "version_major": 2,
       "version_minor": 0
      },
      "text/plain": [
       "HBox(children=(IntProgress(value=0), HTML(value='')))"
      ]
     },
     "metadata": {},
     "output_type": "display_data"
    },
    {
     "name": "stdout",
     "output_type": "stream",
     "text": [
      "\n",
      "0\n",
      "epoch 443: training loss 0.030922302175313235\n"
     ]
    },
    {
     "data": {
      "application/vnd.jupyter.widget-view+json": {
       "model_id": "d7f35c4d7133480c8ab061780d72e565",
       "version_major": 2,
       "version_minor": 0
      },
      "text/plain": [
       "HBox(children=(IntProgress(value=0), HTML(value='')))"
      ]
     },
     "metadata": {},
     "output_type": "display_data"
    },
    {
     "name": "stdout",
     "output_type": "stream",
     "text": [
      "\n",
      "0\n",
      "epoch 444: training loss 0.030452619949355723\n"
     ]
    },
    {
     "data": {
      "application/vnd.jupyter.widget-view+json": {
       "model_id": "3de99330e8974100b5d2f7cd2254b384",
       "version_major": 2,
       "version_minor": 0
      },
      "text/plain": [
       "HBox(children=(IntProgress(value=0), HTML(value='')))"
      ]
     },
     "metadata": {},
     "output_type": "display_data"
    },
    {
     "name": "stdout",
     "output_type": "stream",
     "text": [
      "\n",
      "0\n",
      "epoch 445: training loss 0.030882889833301307\n"
     ]
    },
    {
     "data": {
      "application/vnd.jupyter.widget-view+json": {
       "model_id": "84b496e17ff14fdebe307c5c34c7e852",
       "version_major": 2,
       "version_minor": 0
      },
      "text/plain": [
       "HBox(children=(IntProgress(value=0), HTML(value='')))"
      ]
     },
     "metadata": {},
     "output_type": "display_data"
    },
    {
     "name": "stdout",
     "output_type": "stream",
     "text": [
      "\n",
      "0\n",
      "epoch 446: training loss 0.03034525320865214\n"
     ]
    },
    {
     "data": {
      "application/vnd.jupyter.widget-view+json": {
       "model_id": "7e4e24d8b9de4f2383129a966a220f1e",
       "version_major": 2,
       "version_minor": 0
      },
      "text/plain": [
       "HBox(children=(IntProgress(value=0), HTML(value='')))"
      ]
     },
     "metadata": {},
     "output_type": "display_data"
    },
    {
     "name": "stdout",
     "output_type": "stream",
     "text": [
      "\n",
      "0\n",
      "epoch 447: training loss 0.030337450057268144\n"
     ]
    },
    {
     "data": {
      "application/vnd.jupyter.widget-view+json": {
       "model_id": "e4cb3f8a6d1d48998d4c5e8aaf860b34",
       "version_major": 2,
       "version_minor": 0
      },
      "text/plain": [
       "HBox(children=(IntProgress(value=0), HTML(value='')))"
      ]
     },
     "metadata": {},
     "output_type": "display_data"
    },
    {
     "name": "stdout",
     "output_type": "stream",
     "text": [
      "\n",
      "0\n",
      "epoch 448: training loss 0.029782797377556562\n"
     ]
    },
    {
     "data": {
      "application/vnd.jupyter.widget-view+json": {
       "model_id": "231253b77fbb41f3aa424e5cf764e1ab",
       "version_major": 2,
       "version_minor": 0
      },
      "text/plain": [
       "HBox(children=(IntProgress(value=0), HTML(value='')))"
      ]
     },
     "metadata": {},
     "output_type": "display_data"
    },
    {
     "name": "stdout",
     "output_type": "stream",
     "text": [
      "\n",
      "0\n",
      "epoch 449: training loss 0.03005195304751396\n"
     ]
    },
    {
     "data": {
      "application/vnd.jupyter.widget-view+json": {
       "model_id": "34cefafdbc944ebfab3a14d8be268e32",
       "version_major": 2,
       "version_minor": 0
      },
      "text/plain": [
       "HBox(children=(IntProgress(value=0), HTML(value='')))"
      ]
     },
     "metadata": {},
     "output_type": "display_data"
    },
    {
     "name": "stdout",
     "output_type": "stream",
     "text": [
      "\n",
      "0\n",
      "epoch 450: training loss 0.029085132088512183\n"
     ]
    },
    {
     "data": {
      "application/vnd.jupyter.widget-view+json": {
       "model_id": "96444164d7e04aef91f8a8b88397e196",
       "version_major": 2,
       "version_minor": 0
      },
      "text/plain": [
       "HBox(children=(IntProgress(value=0), HTML(value='')))"
      ]
     },
     "metadata": {},
     "output_type": "display_data"
    },
    {
     "name": "stdout",
     "output_type": "stream",
     "text": [
      "\n",
      "0\n",
      "epoch 451: training loss 0.029786181151866913\n"
     ]
    },
    {
     "data": {
      "application/vnd.jupyter.widget-view+json": {
       "model_id": "cbaef37391d84d918b40ce1354e8bfed",
       "version_major": 2,
       "version_minor": 0
      },
      "text/plain": [
       "HBox(children=(IntProgress(value=0), HTML(value='')))"
      ]
     },
     "metadata": {},
     "output_type": "display_data"
    },
    {
     "name": "stdout",
     "output_type": "stream",
     "text": [
      "\n",
      "0\n",
      "epoch 452: training loss 0.02928884444758296\n"
     ]
    },
    {
     "data": {
      "application/vnd.jupyter.widget-view+json": {
       "model_id": "f5fccc2f112b41dbac27ced835e97115",
       "version_major": 2,
       "version_minor": 0
      },
      "text/plain": [
       "HBox(children=(IntProgress(value=0), HTML(value='')))"
      ]
     },
     "metadata": {},
     "output_type": "display_data"
    },
    {
     "name": "stdout",
     "output_type": "stream",
     "text": [
      "\n",
      "0\n",
      "epoch 453: training loss 0.02846744201146066\n"
     ]
    },
    {
     "data": {
      "application/vnd.jupyter.widget-view+json": {
       "model_id": "1ab507005510460f8e7a96d244b97ba1",
       "version_major": 2,
       "version_minor": 0
      },
      "text/plain": [
       "HBox(children=(IntProgress(value=0), HTML(value='')))"
      ]
     },
     "metadata": {},
     "output_type": "display_data"
    },
    {
     "name": "stdout",
     "output_type": "stream",
     "text": [
      "\n",
      "0\n",
      "epoch 454: training loss 0.029542889911681414\n"
     ]
    },
    {
     "data": {
      "application/vnd.jupyter.widget-view+json": {
       "model_id": "5098e3c4113c46d0966448ebf14c38dd",
       "version_major": 2,
       "version_minor": 0
      },
      "text/plain": [
       "HBox(children=(IntProgress(value=0), HTML(value='')))"
      ]
     },
     "metadata": {},
     "output_type": "display_data"
    },
    {
     "name": "stdout",
     "output_type": "stream",
     "text": [
      "\n",
      "0\n",
      "epoch 455: training loss 0.028842128412798047\n"
     ]
    },
    {
     "data": {
      "application/vnd.jupyter.widget-view+json": {
       "model_id": "34604980a2f244c09ca3adcc115d96c9",
       "version_major": 2,
       "version_minor": 0
      },
      "text/plain": [
       "HBox(children=(IntProgress(value=0), HTML(value='')))"
      ]
     },
     "metadata": {},
     "output_type": "display_data"
    },
    {
     "name": "stdout",
     "output_type": "stream",
     "text": [
      "\n",
      "0\n",
      "epoch 456: training loss 0.02834705307148397\n"
     ]
    },
    {
     "data": {
      "application/vnd.jupyter.widget-view+json": {
       "model_id": "fbba5997de044de4af34cab271197271",
       "version_major": 2,
       "version_minor": 0
      },
      "text/plain": [
       "HBox(children=(IntProgress(value=0), HTML(value='')))"
      ]
     },
     "metadata": {},
     "output_type": "display_data"
    },
    {
     "name": "stdout",
     "output_type": "stream",
     "text": [
      "\n",
      "0\n",
      "epoch 457: training loss 0.02843701245263219\n"
     ]
    },
    {
     "data": {
      "application/vnd.jupyter.widget-view+json": {
       "model_id": "15988dff6a3a463fbf7bdfc0d7b3cbbc",
       "version_major": 2,
       "version_minor": 0
      },
      "text/plain": [
       "HBox(children=(IntProgress(value=0), HTML(value='')))"
      ]
     },
     "metadata": {},
     "output_type": "display_data"
    },
    {
     "name": "stdout",
     "output_type": "stream",
     "text": [
      "\n",
      "0\n",
      "epoch 458: training loss 0.02815023362636566\n"
     ]
    },
    {
     "data": {
      "application/vnd.jupyter.widget-view+json": {
       "model_id": "25d642c711294a9880f004105095b4ce",
       "version_major": 2,
       "version_minor": 0
      },
      "text/plain": [
       "HBox(children=(IntProgress(value=0), HTML(value='')))"
      ]
     },
     "metadata": {},
     "output_type": "display_data"
    },
    {
     "name": "stdout",
     "output_type": "stream",
     "text": [
      "\n",
      "0\n",
      "epoch 459: training loss 0.028496674792841077\n"
     ]
    },
    {
     "data": {
      "application/vnd.jupyter.widget-view+json": {
       "model_id": "eb7742f37ba7449094bccd822a47dc23",
       "version_major": 2,
       "version_minor": 0
      },
      "text/plain": [
       "HBox(children=(IntProgress(value=0), HTML(value='')))"
      ]
     },
     "metadata": {},
     "output_type": "display_data"
    },
    {
     "name": "stdout",
     "output_type": "stream",
     "text": [
      "\n",
      "0\n",
      "epoch 460: training loss 0.02764501690864563\n"
     ]
    },
    {
     "data": {
      "application/vnd.jupyter.widget-view+json": {
       "model_id": "9083854772864fc6be133140991411c8",
       "version_major": 2,
       "version_minor": 0
      },
      "text/plain": [
       "HBox(children=(IntProgress(value=0), HTML(value='')))"
      ]
     },
     "metadata": {},
     "output_type": "display_data"
    },
    {
     "name": "stdout",
     "output_type": "stream",
     "text": [
      "\n",
      "0\n",
      "epoch 461: training loss 0.028109016334638\n"
     ]
    },
    {
     "data": {
      "application/vnd.jupyter.widget-view+json": {
       "model_id": "98cf4058fadc4ba0a1afbb8c088da2f3",
       "version_major": 2,
       "version_minor": 0
      },
      "text/plain": [
       "HBox(children=(IntProgress(value=0), HTML(value='')))"
      ]
     },
     "metadata": {},
     "output_type": "display_data"
    },
    {
     "name": "stdout",
     "output_type": "stream",
     "text": [
      "\n",
      "0\n",
      "epoch 462: training loss 0.027525452822446825\n"
     ]
    },
    {
     "data": {
      "application/vnd.jupyter.widget-view+json": {
       "model_id": "fafb639dc396411e9a60f9a0e9c972fa",
       "version_major": 2,
       "version_minor": 0
      },
      "text/plain": [
       "HBox(children=(IntProgress(value=0), HTML(value='')))"
      ]
     },
     "metadata": {},
     "output_type": "display_data"
    },
    {
     "name": "stdout",
     "output_type": "stream",
     "text": [
      "\n",
      "0\n",
      "epoch 463: training loss 0.02721317688934505\n"
     ]
    },
    {
     "data": {
      "application/vnd.jupyter.widget-view+json": {
       "model_id": "c9edfa631c99427bb002d066094a57b9",
       "version_major": 2,
       "version_minor": 0
      },
      "text/plain": [
       "HBox(children=(IntProgress(value=0), HTML(value='')))"
      ]
     },
     "metadata": {},
     "output_type": "display_data"
    },
    {
     "name": "stdout",
     "output_type": "stream",
     "text": [
      "\n",
      "0\n",
      "epoch 464: training loss 0.02749505642801523\n"
     ]
    },
    {
     "data": {
      "application/vnd.jupyter.widget-view+json": {
       "model_id": "8ec534d96ff549c094171ee925073ed7",
       "version_major": 2,
       "version_minor": 0
      },
      "text/plain": [
       "HBox(children=(IntProgress(value=0), HTML(value='')))"
      ]
     },
     "metadata": {},
     "output_type": "display_data"
    },
    {
     "name": "stdout",
     "output_type": "stream",
     "text": [
      "\n",
      "0\n",
      "epoch 465: training loss 0.027079320354387162\n"
     ]
    },
    {
     "data": {
      "application/vnd.jupyter.widget-view+json": {
       "model_id": "8e0bcfb489a641bdb0c9c523a7434ab0",
       "version_major": 2,
       "version_minor": 0
      },
      "text/plain": [
       "HBox(children=(IntProgress(value=0), HTML(value='')))"
      ]
     },
     "metadata": {},
     "output_type": "display_data"
    },
    {
     "name": "stdout",
     "output_type": "stream",
     "text": [
      "\n",
      "0\n",
      "epoch 466: training loss 0.02701295687817037\n"
     ]
    },
    {
     "data": {
      "application/vnd.jupyter.widget-view+json": {
       "model_id": "38711f16b6174596a6d111974318c726",
       "version_major": 2,
       "version_minor": 0
      },
      "text/plain": [
       "HBox(children=(IntProgress(value=0), HTML(value='')))"
      ]
     },
     "metadata": {},
     "output_type": "display_data"
    },
    {
     "name": "stdout",
     "output_type": "stream",
     "text": [
      "\n",
      "0\n",
      "epoch 467: training loss 0.026970448410138487\n"
     ]
    },
    {
     "data": {
      "application/vnd.jupyter.widget-view+json": {
       "model_id": "f1a87e7958764d98b8e6298e081eae75",
       "version_major": 2,
       "version_minor": 0
      },
      "text/plain": [
       "HBox(children=(IntProgress(value=0), HTML(value='')))"
      ]
     },
     "metadata": {},
     "output_type": "display_data"
    },
    {
     "name": "stdout",
     "output_type": "stream",
     "text": [
      "\n",
      "0\n",
      "epoch 468: training loss 0.02644336530007422\n"
     ]
    },
    {
     "data": {
      "application/vnd.jupyter.widget-view+json": {
       "model_id": "96630c5bd8df41cf80c2d35eab075eb4",
       "version_major": 2,
       "version_minor": 0
      },
      "text/plain": [
       "HBox(children=(IntProgress(value=0), HTML(value='')))"
      ]
     },
     "metadata": {},
     "output_type": "display_data"
    },
    {
     "name": "stdout",
     "output_type": "stream",
     "text": [
      "\n",
      "0\n",
      "epoch 469: training loss 0.026630313722416758\n"
     ]
    },
    {
     "data": {
      "application/vnd.jupyter.widget-view+json": {
       "model_id": "1a14f0ddbb13441cbe855347328d5dc8",
       "version_major": 2,
       "version_minor": 0
      },
      "text/plain": [
       "HBox(children=(IntProgress(value=0), HTML(value='')))"
      ]
     },
     "metadata": {},
     "output_type": "display_data"
    },
    {
     "name": "stdout",
     "output_type": "stream",
     "text": [
      "\n",
      "0\n",
      "epoch 470: training loss 0.026319786263629793\n"
     ]
    },
    {
     "data": {
      "application/vnd.jupyter.widget-view+json": {
       "model_id": "6efffb397a374b97839484370e9a8429",
       "version_major": 2,
       "version_minor": 0
      },
      "text/plain": [
       "HBox(children=(IntProgress(value=0), HTML(value='')))"
      ]
     },
     "metadata": {},
     "output_type": "display_data"
    },
    {
     "name": "stdout",
     "output_type": "stream",
     "text": [
      "\n",
      "0\n",
      "epoch 471: training loss 0.026535793375223875\n"
     ]
    },
    {
     "data": {
      "application/vnd.jupyter.widget-view+json": {
       "model_id": "adb473c87ff44a608bcf3d45265b2df8",
       "version_major": 2,
       "version_minor": 0
      },
      "text/plain": [
       "HBox(children=(IntProgress(value=0), HTML(value='')))"
      ]
     },
     "metadata": {},
     "output_type": "display_data"
    },
    {
     "name": "stdout",
     "output_type": "stream",
     "text": [
      "\n",
      "0\n",
      "epoch 472: training loss 0.026241822177544238\n"
     ]
    },
    {
     "data": {
      "application/vnd.jupyter.widget-view+json": {
       "model_id": "9d85538040c7480492ac00548d6df682",
       "version_major": 2,
       "version_minor": 0
      },
      "text/plain": [
       "HBox(children=(IntProgress(value=0), HTML(value='')))"
      ]
     },
     "metadata": {},
     "output_type": "display_data"
    },
    {
     "name": "stdout",
     "output_type": "stream",
     "text": [
      "\n",
      "0\n",
      "epoch 473: training loss 0.025903030354529618\n"
     ]
    },
    {
     "data": {
      "application/vnd.jupyter.widget-view+json": {
       "model_id": "1dc84f70412a4d7fad1285c314658583",
       "version_major": 2,
       "version_minor": 0
      },
      "text/plain": [
       "HBox(children=(IntProgress(value=0), HTML(value='')))"
      ]
     },
     "metadata": {},
     "output_type": "display_data"
    },
    {
     "name": "stdout",
     "output_type": "stream",
     "text": [
      "\n",
      "0\n",
      "epoch 474: training loss 0.025757139110937716\n"
     ]
    },
    {
     "data": {
      "application/vnd.jupyter.widget-view+json": {
       "model_id": "69b69f2889e3436f9ecc81af97740a93",
       "version_major": 2,
       "version_minor": 0
      },
      "text/plain": [
       "HBox(children=(IntProgress(value=0), HTML(value='')))"
      ]
     },
     "metadata": {},
     "output_type": "display_data"
    },
    {
     "name": "stdout",
     "output_type": "stream",
     "text": [
      "\n",
      "0\n",
      "epoch 475: training loss 0.025696817114949227\n"
     ]
    },
    {
     "data": {
      "application/vnd.jupyter.widget-view+json": {
       "model_id": "2b473f625a744214918234e16f5c6b4c",
       "version_major": 2,
       "version_minor": 0
      },
      "text/plain": [
       "HBox(children=(IntProgress(value=0), HTML(value='')))"
      ]
     },
     "metadata": {},
     "output_type": "display_data"
    },
    {
     "name": "stdout",
     "output_type": "stream",
     "text": [
      "\n",
      "0\n",
      "epoch 476: training loss 0.025689442167058586\n"
     ]
    },
    {
     "data": {
      "application/vnd.jupyter.widget-view+json": {
       "model_id": "fbf3bba71f8f472caffddea7f05622b5",
       "version_major": 2,
       "version_minor": 0
      },
      "text/plain": [
       "HBox(children=(IntProgress(value=0), HTML(value='')))"
      ]
     },
     "metadata": {},
     "output_type": "display_data"
    },
    {
     "name": "stdout",
     "output_type": "stream",
     "text": [
      "\n",
      "0\n",
      "epoch 477: training loss 0.025173370502889158\n"
     ]
    },
    {
     "data": {
      "application/vnd.jupyter.widget-view+json": {
       "model_id": "c49c9363b3b24fd0bfe87e23fef531ef",
       "version_major": 2,
       "version_minor": 0
      },
      "text/plain": [
       "HBox(children=(IntProgress(value=0), HTML(value='')))"
      ]
     },
     "metadata": {},
     "output_type": "display_data"
    },
    {
     "name": "stdout",
     "output_type": "stream",
     "text": [
      "\n",
      "0\n",
      "epoch 478: training loss 0.025369189344346524\n"
     ]
    },
    {
     "data": {
      "application/vnd.jupyter.widget-view+json": {
       "model_id": "8f3d90a5f4cc48e8943422232210b31e",
       "version_major": 2,
       "version_minor": 0
      },
      "text/plain": [
       "HBox(children=(IntProgress(value=0), HTML(value='')))"
      ]
     },
     "metadata": {},
     "output_type": "display_data"
    },
    {
     "name": "stdout",
     "output_type": "stream",
     "text": [
      "\n",
      "0\n",
      "epoch 479: training loss 0.02493133008480072\n"
     ]
    },
    {
     "data": {
      "application/vnd.jupyter.widget-view+json": {
       "model_id": "bad898212b7f4616b2bb15f2d6c7c4ee",
       "version_major": 2,
       "version_minor": 0
      },
      "text/plain": [
       "HBox(children=(IntProgress(value=0), HTML(value='')))"
      ]
     },
     "metadata": {},
     "output_type": "display_data"
    },
    {
     "name": "stdout",
     "output_type": "stream",
     "text": [
      "\n",
      "0\n",
      "epoch 480: training loss 0.025671714767813682\n"
     ]
    },
    {
     "data": {
      "application/vnd.jupyter.widget-view+json": {
       "model_id": "56faf55b00074e1aac2ab841dbe842cd",
       "version_major": 2,
       "version_minor": 0
      },
      "text/plain": [
       "HBox(children=(IntProgress(value=0), HTML(value='')))"
      ]
     },
     "metadata": {},
     "output_type": "display_data"
    },
    {
     "name": "stdout",
     "output_type": "stream",
     "text": [
      "\n",
      "0\n",
      "epoch 481: training loss 0.024557696394622325\n"
     ]
    },
    {
     "data": {
      "application/vnd.jupyter.widget-view+json": {
       "model_id": "68399cdfd91f4cdfb8783574c406ed1e",
       "version_major": 2,
       "version_minor": 0
      },
      "text/plain": [
       "HBox(children=(IntProgress(value=0), HTML(value='')))"
      ]
     },
     "metadata": {},
     "output_type": "display_data"
    },
    {
     "name": "stdout",
     "output_type": "stream",
     "text": [
      "\n",
      "0\n",
      "epoch 482: training loss 0.024338963571935893\n"
     ]
    },
    {
     "data": {
      "application/vnd.jupyter.widget-view+json": {
       "model_id": "78adb87e66cf44e0b4d3ce07a22a6da6",
       "version_major": 2,
       "version_minor": 0
      },
      "text/plain": [
       "HBox(children=(IntProgress(value=0), HTML(value='')))"
      ]
     },
     "metadata": {},
     "output_type": "display_data"
    },
    {
     "name": "stdout",
     "output_type": "stream",
     "text": [
      "\n",
      "0\n",
      "epoch 483: training loss 0.02497253400273621\n"
     ]
    },
    {
     "data": {
      "application/vnd.jupyter.widget-view+json": {
       "model_id": "4c562690508548da90874ebd764b3876",
       "version_major": 2,
       "version_minor": 0
      },
      "text/plain": [
       "HBox(children=(IntProgress(value=0), HTML(value='')))"
      ]
     },
     "metadata": {},
     "output_type": "display_data"
    },
    {
     "name": "stdout",
     "output_type": "stream",
     "text": [
      "\n",
      "0\n",
      "epoch 484: training loss 0.02418330829590559\n"
     ]
    },
    {
     "data": {
      "application/vnd.jupyter.widget-view+json": {
       "model_id": "c1fbaf11541e4970b0a9b2cc01bad7d4",
       "version_major": 2,
       "version_minor": 0
      },
      "text/plain": [
       "HBox(children=(IntProgress(value=0), HTML(value='')))"
      ]
     },
     "metadata": {},
     "output_type": "display_data"
    },
    {
     "name": "stdout",
     "output_type": "stream",
     "text": [
      "\n",
      "0\n",
      "epoch 485: training loss 0.024623614572919904\n"
     ]
    },
    {
     "data": {
      "application/vnd.jupyter.widget-view+json": {
       "model_id": "d5a039f8f56943c8b22df26389aba332",
       "version_major": 2,
       "version_minor": 0
      },
      "text/plain": [
       "HBox(children=(IntProgress(value=0), HTML(value='')))"
      ]
     },
     "metadata": {},
     "output_type": "display_data"
    },
    {
     "name": "stdout",
     "output_type": "stream",
     "text": [
      "\n",
      "0\n",
      "epoch 486: training loss 0.024386983662843705\n"
     ]
    },
    {
     "data": {
      "application/vnd.jupyter.widget-view+json": {
       "model_id": "503290689f934791825879421b8dd4ca",
       "version_major": 2,
       "version_minor": 0
      },
      "text/plain": [
       "HBox(children=(IntProgress(value=0), HTML(value='')))"
      ]
     },
     "metadata": {},
     "output_type": "display_data"
    },
    {
     "name": "stdout",
     "output_type": "stream",
     "text": [
      "\n",
      "0\n",
      "epoch 487: training loss 0.024207828305661677\n"
     ]
    },
    {
     "data": {
      "application/vnd.jupyter.widget-view+json": {
       "model_id": "ca7f760b774d40d1b52c33bafd1ceb24",
       "version_major": 2,
       "version_minor": 0
      },
      "text/plain": [
       "HBox(children=(IntProgress(value=0), HTML(value='')))"
      ]
     },
     "metadata": {},
     "output_type": "display_data"
    },
    {
     "name": "stdout",
     "output_type": "stream",
     "text": [
      "\n",
      "0\n",
      "epoch 488: training loss 0.023911123517900704\n"
     ]
    },
    {
     "data": {
      "application/vnd.jupyter.widget-view+json": {
       "model_id": "2cda0895610e4d578e6234058e4687d1",
       "version_major": 2,
       "version_minor": 0
      },
      "text/plain": [
       "HBox(children=(IntProgress(value=0), HTML(value='')))"
      ]
     },
     "metadata": {},
     "output_type": "display_data"
    },
    {
     "name": "stdout",
     "output_type": "stream",
     "text": [
      "\n",
      "0\n",
      "epoch 489: training loss 0.023620224762707948\n"
     ]
    },
    {
     "data": {
      "application/vnd.jupyter.widget-view+json": {
       "model_id": "763b2db5f13f464086245391c1ba6e09",
       "version_major": 2,
       "version_minor": 0
      },
      "text/plain": [
       "HBox(children=(IntProgress(value=0), HTML(value='')))"
      ]
     },
     "metadata": {},
     "output_type": "display_data"
    },
    {
     "name": "stdout",
     "output_type": "stream",
     "text": [
      "\n",
      "0\n",
      "epoch 490: training loss 0.02389493999071419\n"
     ]
    },
    {
     "data": {
      "application/vnd.jupyter.widget-view+json": {
       "model_id": "769c286034424281ab16a85b0e87b9b9",
       "version_major": 2,
       "version_minor": 0
      },
      "text/plain": [
       "HBox(children=(IntProgress(value=0), HTML(value='')))"
      ]
     },
     "metadata": {},
     "output_type": "display_data"
    },
    {
     "name": "stdout",
     "output_type": "stream",
     "text": [
      "\n",
      "0\n",
      "epoch 491: training loss 0.02373610554262996\n"
     ]
    },
    {
     "data": {
      "application/vnd.jupyter.widget-view+json": {
       "model_id": "1adafa085b624b47bba7efc6328f6d15",
       "version_major": 2,
       "version_minor": 0
      },
      "text/plain": [
       "HBox(children=(IntProgress(value=0), HTML(value='')))"
      ]
     },
     "metadata": {},
     "output_type": "display_data"
    },
    {
     "name": "stdout",
     "output_type": "stream",
     "text": [
      "\n",
      "0\n",
      "epoch 492: training loss 0.02330370618030429\n"
     ]
    },
    {
     "data": {
      "application/vnd.jupyter.widget-view+json": {
       "model_id": "41c8784fc2d74a78a56250d4c68c5e8c",
       "version_major": 2,
       "version_minor": 0
      },
      "text/plain": [
       "HBox(children=(IntProgress(value=0), HTML(value='')))"
      ]
     },
     "metadata": {},
     "output_type": "display_data"
    },
    {
     "name": "stdout",
     "output_type": "stream",
     "text": [
      "\n",
      "0\n",
      "epoch 493: training loss 0.023217628160491586\n"
     ]
    },
    {
     "data": {
      "application/vnd.jupyter.widget-view+json": {
       "model_id": "a05f3081db5d42eead8ad3cb93e877a9",
       "version_major": 2,
       "version_minor": 0
      },
      "text/plain": [
       "HBox(children=(IntProgress(value=0), HTML(value='')))"
      ]
     },
     "metadata": {},
     "output_type": "display_data"
    },
    {
     "name": "stdout",
     "output_type": "stream",
     "text": [
      "\n",
      "0\n",
      "epoch 494: training loss 0.02358479348011315\n"
     ]
    },
    {
     "data": {
      "application/vnd.jupyter.widget-view+json": {
       "model_id": "95c82cdef1644de8bce0aa8535beff55",
       "version_major": 2,
       "version_minor": 0
      },
      "text/plain": [
       "HBox(children=(IntProgress(value=0), HTML(value='')))"
      ]
     },
     "metadata": {},
     "output_type": "display_data"
    },
    {
     "name": "stdout",
     "output_type": "stream",
     "text": [
      "\n",
      "0\n",
      "epoch 495: training loss 0.023000886365771293\n"
     ]
    },
    {
     "data": {
      "application/vnd.jupyter.widget-view+json": {
       "model_id": "f0ab40e439b0430bb6ffa408f75816cc",
       "version_major": 2,
       "version_minor": 0
      },
      "text/plain": [
       "HBox(children=(IntProgress(value=0), HTML(value='')))"
      ]
     },
     "metadata": {},
     "output_type": "display_data"
    },
    {
     "name": "stdout",
     "output_type": "stream",
     "text": [
      "\n",
      "0\n",
      "epoch 496: training loss 0.022896854961290954\n"
     ]
    },
    {
     "data": {
      "application/vnd.jupyter.widget-view+json": {
       "model_id": "d38e6854218f4ea2aa1b63fa941a05de",
       "version_major": 2,
       "version_minor": 0
      },
      "text/plain": [
       "HBox(children=(IntProgress(value=0), HTML(value='')))"
      ]
     },
     "metadata": {},
     "output_type": "display_data"
    },
    {
     "name": "stdout",
     "output_type": "stream",
     "text": [
      "\n",
      "0\n",
      "epoch 497: training loss 0.022540036225691437\n"
     ]
    },
    {
     "data": {
      "application/vnd.jupyter.widget-view+json": {
       "model_id": "bbd6e014621c40b2818f143383d7f57a",
       "version_major": 2,
       "version_minor": 0
      },
      "text/plain": [
       "HBox(children=(IntProgress(value=0), HTML(value='')))"
      ]
     },
     "metadata": {},
     "output_type": "display_data"
    },
    {
     "name": "stdout",
     "output_type": "stream",
     "text": [
      "\n",
      "0\n",
      "epoch 498: training loss 0.023298230981454254\n"
     ]
    },
    {
     "data": {
      "application/vnd.jupyter.widget-view+json": {
       "model_id": "3da3bf21b23a4d009fc3f20a2b50bf47",
       "version_major": 2,
       "version_minor": 0
      },
      "text/plain": [
       "HBox(children=(IntProgress(value=0), HTML(value='')))"
      ]
     },
     "metadata": {},
     "output_type": "display_data"
    },
    {
     "name": "stdout",
     "output_type": "stream",
     "text": [
      "\n",
      "0\n",
      "epoch 499: training loss 0.022350800847634675\n"
     ]
    },
    {
     "data": {
      "application/vnd.jupyter.widget-view+json": {
       "model_id": "6fb625ff78cc49609d11fbd4c13f8f51",
       "version_major": 2,
       "version_minor": 0
      },
      "text/plain": [
       "HBox(children=(IntProgress(value=0), HTML(value='')))"
      ]
     },
     "metadata": {},
     "output_type": "display_data"
    },
    {
     "name": "stdout",
     "output_type": "stream",
     "text": [
      "\n",
      "0\n",
      "epoch 500: training loss 0.02249355096835643\n"
     ]
    },
    {
     "data": {
      "application/vnd.jupyter.widget-view+json": {
       "model_id": "bfa3ab024a9e477ebad9b1cd29eeefa0",
       "version_major": 2,
       "version_minor": 0
      },
      "text/plain": [
       "HBox(children=(IntProgress(value=0), HTML(value='')))"
      ]
     },
     "metadata": {},
     "output_type": "display_data"
    },
    {
     "name": "stdout",
     "output_type": "stream",
     "text": [
      "\n",
      "0\n",
      "epoch 501: training loss 0.022490642499178648\n"
     ]
    },
    {
     "data": {
      "application/vnd.jupyter.widget-view+json": {
       "model_id": "5b2b92d7fc6e4ce697e65cc563d91c0c",
       "version_major": 2,
       "version_minor": 0
      },
      "text/plain": [
       "HBox(children=(IntProgress(value=0), HTML(value='')))"
      ]
     },
     "metadata": {},
     "output_type": "display_data"
    },
    {
     "name": "stdout",
     "output_type": "stream",
     "text": [
      "\n",
      "0\n",
      "epoch 502: training loss 0.022140148459002376\n"
     ]
    },
    {
     "data": {
      "application/vnd.jupyter.widget-view+json": {
       "model_id": "deace56c30354b2aaa9bb3ef3c4c200d",
       "version_major": 2,
       "version_minor": 0
      },
      "text/plain": [
       "HBox(children=(IntProgress(value=0), HTML(value='')))"
      ]
     },
     "metadata": {},
     "output_type": "display_data"
    },
    {
     "name": "stdout",
     "output_type": "stream",
     "text": [
      "\n",
      "0\n",
      "epoch 503: training loss 0.0220103646395728\n"
     ]
    },
    {
     "data": {
      "application/vnd.jupyter.widget-view+json": {
       "model_id": "fc7ae5a4a1f248f2906377a4655212cc",
       "version_major": 2,
       "version_minor": 0
      },
      "text/plain": [
       "HBox(children=(IntProgress(value=0), HTML(value='')))"
      ]
     },
     "metadata": {},
     "output_type": "display_data"
    },
    {
     "name": "stdout",
     "output_type": "stream",
     "text": [
      "\n",
      "0\n",
      "epoch 504: training loss 0.022386100571602584\n"
     ]
    },
    {
     "data": {
      "application/vnd.jupyter.widget-view+json": {
       "model_id": "05436b2cdf6d46b9ba481f6722a6ac44",
       "version_major": 2,
       "version_minor": 0
      },
      "text/plain": [
       "HBox(children=(IntProgress(value=0), HTML(value='')))"
      ]
     },
     "metadata": {},
     "output_type": "display_data"
    },
    {
     "name": "stdout",
     "output_type": "stream",
     "text": [
      "\n",
      "0\n",
      "epoch 505: training loss 0.021708039538934826\n"
     ]
    },
    {
     "data": {
      "application/vnd.jupyter.widget-view+json": {
       "model_id": "891b73dda33d4f3f88d0a1ba9fe92bf4",
       "version_major": 2,
       "version_minor": 0
      },
      "text/plain": [
       "HBox(children=(IntProgress(value=0), HTML(value='')))"
      ]
     },
     "metadata": {},
     "output_type": "display_data"
    },
    {
     "name": "stdout",
     "output_type": "stream",
     "text": [
      "\n",
      "0\n",
      "epoch 506: training loss 0.02214975825510919\n"
     ]
    },
    {
     "data": {
      "application/vnd.jupyter.widget-view+json": {
       "model_id": "3d3773a7e264498facb9896e083fca19",
       "version_major": 2,
       "version_minor": 0
      },
      "text/plain": [
       "HBox(children=(IntProgress(value=0), HTML(value='')))"
      ]
     },
     "metadata": {},
     "output_type": "display_data"
    },
    {
     "name": "stdout",
     "output_type": "stream",
     "text": [
      "\n",
      "0\n",
      "epoch 507: training loss 0.02160049288533628\n"
     ]
    },
    {
     "data": {
      "application/vnd.jupyter.widget-view+json": {
       "model_id": "04d3d0e1f3854420a0e4887e98bacb98",
       "version_major": 2,
       "version_minor": 0
      },
      "text/plain": [
       "HBox(children=(IntProgress(value=0), HTML(value='')))"
      ]
     },
     "metadata": {},
     "output_type": "display_data"
    },
    {
     "name": "stdout",
     "output_type": "stream",
     "text": [
      "\n",
      "0\n",
      "epoch 508: training loss 0.02148065107874572\n"
     ]
    },
    {
     "data": {
      "application/vnd.jupyter.widget-view+json": {
       "model_id": "66df8a6478ec4b9c8994f0f55e213ac6",
       "version_major": 2,
       "version_minor": 0
      },
      "text/plain": [
       "HBox(children=(IntProgress(value=0), HTML(value='')))"
      ]
     },
     "metadata": {},
     "output_type": "display_data"
    },
    {
     "name": "stdout",
     "output_type": "stream",
     "text": [
      "\n",
      "0\n",
      "epoch 509: training loss 0.02144614029210061\n"
     ]
    },
    {
     "data": {
      "application/vnd.jupyter.widget-view+json": {
       "model_id": "197dfc21e45f42cca958522f97fd6aa0",
       "version_major": 2,
       "version_minor": 0
      },
      "text/plain": [
       "HBox(children=(IntProgress(value=0), HTML(value='')))"
      ]
     },
     "metadata": {},
     "output_type": "display_data"
    },
    {
     "name": "stdout",
     "output_type": "stream",
     "text": [
      "\n",
      "0\n",
      "epoch 510: training loss 0.02151086288038641\n"
     ]
    },
    {
     "data": {
      "application/vnd.jupyter.widget-view+json": {
       "model_id": "659932e1b8ee45e19615746e107f9bd0",
       "version_major": 2,
       "version_minor": 0
      },
      "text/plain": [
       "HBox(children=(IntProgress(value=0), HTML(value='')))"
      ]
     },
     "metadata": {},
     "output_type": "display_data"
    },
    {
     "name": "stdout",
     "output_type": "stream",
     "text": [
      "\n",
      "0\n",
      "epoch 511: training loss 0.021161100515164434\n"
     ]
    },
    {
     "data": {
      "application/vnd.jupyter.widget-view+json": {
       "model_id": "cf3bb80294504e8fb8351fa27b31a001",
       "version_major": 2,
       "version_minor": 0
      },
      "text/plain": [
       "HBox(children=(IntProgress(value=0), HTML(value='')))"
      ]
     },
     "metadata": {},
     "output_type": "display_data"
    },
    {
     "name": "stdout",
     "output_type": "stream",
     "text": [
      "\n",
      "0\n",
      "epoch 512: training loss 0.021564379329793156\n"
     ]
    },
    {
     "data": {
      "application/vnd.jupyter.widget-view+json": {
       "model_id": "5358a862c9f243c9bd54aa71a954ee4a",
       "version_major": 2,
       "version_minor": 0
      },
      "text/plain": [
       "HBox(children=(IntProgress(value=0), HTML(value='')))"
      ]
     },
     "metadata": {},
     "output_type": "display_data"
    },
    {
     "name": "stdout",
     "output_type": "stream",
     "text": [
      "\n",
      "0\n",
      "epoch 513: training loss 0.02097507717087865\n"
     ]
    },
    {
     "data": {
      "application/vnd.jupyter.widget-view+json": {
       "model_id": "204f08a83ce44047932afe9a5b53e271",
       "version_major": 2,
       "version_minor": 0
      },
      "text/plain": [
       "HBox(children=(IntProgress(value=0), HTML(value='')))"
      ]
     },
     "metadata": {},
     "output_type": "display_data"
    },
    {
     "name": "stdout",
     "output_type": "stream",
     "text": [
      "\n",
      "0\n",
      "epoch 514: training loss 0.021191191649995743\n"
     ]
    },
    {
     "data": {
      "application/vnd.jupyter.widget-view+json": {
       "model_id": "27d253a88b1546bead8b9d18822da47c",
       "version_major": 2,
       "version_minor": 0
      },
      "text/plain": [
       "HBox(children=(IntProgress(value=0), HTML(value='')))"
      ]
     },
     "metadata": {},
     "output_type": "display_data"
    },
    {
     "name": "stdout",
     "output_type": "stream",
     "text": [
      "\n",
      "0\n",
      "epoch 515: training loss 0.020869159800931812\n"
     ]
    },
    {
     "data": {
      "application/vnd.jupyter.widget-view+json": {
       "model_id": "e37bf5390af74a07a0093c5d5885e1f0",
       "version_major": 2,
       "version_minor": 0
      },
      "text/plain": [
       "HBox(children=(IntProgress(value=0), HTML(value='')))"
      ]
     },
     "metadata": {},
     "output_type": "display_data"
    },
    {
     "name": "stdout",
     "output_type": "stream",
     "text": [
      "\n",
      "0\n",
      "epoch 516: training loss 0.020776483728550375\n"
     ]
    },
    {
     "data": {
      "application/vnd.jupyter.widget-view+json": {
       "model_id": "55d8ffd10b864b869065079657ddda74",
       "version_major": 2,
       "version_minor": 0
      },
      "text/plain": [
       "HBox(children=(IntProgress(value=0), HTML(value='')))"
      ]
     },
     "metadata": {},
     "output_type": "display_data"
    },
    {
     "name": "stdout",
     "output_type": "stream",
     "text": [
      "\n",
      "0\n",
      "epoch 517: training loss 0.02060409789904952\n"
     ]
    },
    {
     "data": {
      "application/vnd.jupyter.widget-view+json": {
       "model_id": "294f8c80ef8b4eeca212c65c9f7617a5",
       "version_major": 2,
       "version_minor": 0
      },
      "text/plain": [
       "HBox(children=(IntProgress(value=0), HTML(value='')))"
      ]
     },
     "metadata": {},
     "output_type": "display_data"
    },
    {
     "name": "stdout",
     "output_type": "stream",
     "text": [
      "\n",
      "0\n",
      "epoch 518: training loss 0.020615185042843223\n"
     ]
    },
    {
     "data": {
      "application/vnd.jupyter.widget-view+json": {
       "model_id": "f4a971dbaef7467d949db027c2d2c5bb",
       "version_major": 2,
       "version_minor": 0
      },
      "text/plain": [
       "HBox(children=(IntProgress(value=0), HTML(value='')))"
      ]
     },
     "metadata": {},
     "output_type": "display_data"
    },
    {
     "name": "stdout",
     "output_type": "stream",
     "text": [
      "\n",
      "0\n",
      "epoch 519: training loss 0.020399838662706317\n"
     ]
    },
    {
     "data": {
      "application/vnd.jupyter.widget-view+json": {
       "model_id": "772fce402b0a44979f29abee1ed94a86",
       "version_major": 2,
       "version_minor": 0
      },
      "text/plain": [
       "HBox(children=(IntProgress(value=0), HTML(value='')))"
      ]
     },
     "metadata": {},
     "output_type": "display_data"
    },
    {
     "name": "stdout",
     "output_type": "stream",
     "text": [
      "\n",
      "0\n",
      "epoch 520: training loss 0.020383205572143195\n"
     ]
    },
    {
     "data": {
      "application/vnd.jupyter.widget-view+json": {
       "model_id": "ec123772e37b44f39c065fc18e2bb15d",
       "version_major": 2,
       "version_minor": 0
      },
      "text/plain": [
       "HBox(children=(IntProgress(value=0), HTML(value='')))"
      ]
     },
     "metadata": {},
     "output_type": "display_data"
    },
    {
     "name": "stdout",
     "output_type": "stream",
     "text": [
      "\n",
      "0\n",
      "epoch 521: training loss 0.020419436851516367\n"
     ]
    },
    {
     "data": {
      "application/vnd.jupyter.widget-view+json": {
       "model_id": "0ea013abff754049869f7616278cb49a",
       "version_major": 2,
       "version_minor": 0
      },
      "text/plain": [
       "HBox(children=(IntProgress(value=0), HTML(value='')))"
      ]
     },
     "metadata": {},
     "output_type": "display_data"
    },
    {
     "name": "stdout",
     "output_type": "stream",
     "text": [
      "\n",
      "0\n",
      "epoch 522: training loss 0.0199997074669227\n"
     ]
    },
    {
     "data": {
      "application/vnd.jupyter.widget-view+json": {
       "model_id": "1a2c6a1b53034675b435dcd62fa206e1",
       "version_major": 2,
       "version_minor": 0
      },
      "text/plain": [
       "HBox(children=(IntProgress(value=0), HTML(value='')))"
      ]
     },
     "metadata": {},
     "output_type": "display_data"
    },
    {
     "name": "stdout",
     "output_type": "stream",
     "text": [
      "\n",
      "0\n",
      "epoch 523: training loss 0.020225317389704286\n"
     ]
    },
    {
     "data": {
      "application/vnd.jupyter.widget-view+json": {
       "model_id": "68204b90269843e0b8c1373dcbcd7c82",
       "version_major": 2,
       "version_minor": 0
      },
      "text/plain": [
       "HBox(children=(IntProgress(value=0), HTML(value='')))"
      ]
     },
     "metadata": {},
     "output_type": "display_data"
    },
    {
     "name": "stdout",
     "output_type": "stream",
     "text": [
      "\n",
      "0\n",
      "epoch 524: training loss 0.019883782044053076\n"
     ]
    },
    {
     "data": {
      "application/vnd.jupyter.widget-view+json": {
       "model_id": "5c7adab302c64569ac79b3648942ea0e",
       "version_major": 2,
       "version_minor": 0
      },
      "text/plain": [
       "HBox(children=(IntProgress(value=0), HTML(value='')))"
      ]
     },
     "metadata": {},
     "output_type": "display_data"
    },
    {
     "name": "stdout",
     "output_type": "stream",
     "text": [
      "\n",
      "0\n",
      "epoch 525: training loss 0.019687581933103503\n"
     ]
    },
    {
     "data": {
      "application/vnd.jupyter.widget-view+json": {
       "model_id": "fe873e9b98ae4441a3020679c52132cb",
       "version_major": 2,
       "version_minor": 0
      },
      "text/plain": [
       "HBox(children=(IntProgress(value=0), HTML(value='')))"
      ]
     },
     "metadata": {},
     "output_type": "display_data"
    },
    {
     "name": "stdout",
     "output_type": "stream",
     "text": [
      "\n",
      "0\n",
      "epoch 526: training loss 0.019953781035728754\n"
     ]
    },
    {
     "data": {
      "application/vnd.jupyter.widget-view+json": {
       "model_id": "db484350a1af458d9dba01ffc183bbce",
       "version_major": 2,
       "version_minor": 0
      },
      "text/plain": [
       "HBox(children=(IntProgress(value=0), HTML(value='')))"
      ]
     },
     "metadata": {},
     "output_type": "display_data"
    },
    {
     "name": "stdout",
     "output_type": "stream",
     "text": [
      "\n",
      "0\n",
      "epoch 527: training loss 0.01981796688400209\n"
     ]
    },
    {
     "data": {
      "application/vnd.jupyter.widget-view+json": {
       "model_id": "1cc6de3bd8ea436eb24a800f96acbfca",
       "version_major": 2,
       "version_minor": 0
      },
      "text/plain": [
       "HBox(children=(IntProgress(value=0), HTML(value='')))"
      ]
     },
     "metadata": {},
     "output_type": "display_data"
    },
    {
     "name": "stdout",
     "output_type": "stream",
     "text": [
      "\n",
      "0\n",
      "epoch 528: training loss 0.01969400593545288\n"
     ]
    },
    {
     "data": {
      "application/vnd.jupyter.widget-view+json": {
       "model_id": "64fff8c0abd24e5f8308ac4a07e210ae",
       "version_major": 2,
       "version_minor": 0
      },
      "text/plain": [
       "HBox(children=(IntProgress(value=0), HTML(value='')))"
      ]
     },
     "metadata": {},
     "output_type": "display_data"
    },
    {
     "name": "stdout",
     "output_type": "stream",
     "text": [
      "\n",
      "0\n",
      "epoch 529: training loss 0.019545868039131165\n"
     ]
    },
    {
     "data": {
      "application/vnd.jupyter.widget-view+json": {
       "model_id": "59111d26c1c941c18080db3ecbc6bcf4",
       "version_major": 2,
       "version_minor": 0
      },
      "text/plain": [
       "HBox(children=(IntProgress(value=0), HTML(value='')))"
      ]
     },
     "metadata": {},
     "output_type": "display_data"
    },
    {
     "name": "stdout",
     "output_type": "stream",
     "text": [
      "\n",
      "0\n",
      "epoch 530: training loss 0.019323356254026293\n"
     ]
    },
    {
     "data": {
      "application/vnd.jupyter.widget-view+json": {
       "model_id": "240f3d6914634f3ab9750385dd44341b",
       "version_major": 2,
       "version_minor": 0
      },
      "text/plain": [
       "HBox(children=(IntProgress(value=0), HTML(value='')))"
      ]
     },
     "metadata": {},
     "output_type": "display_data"
    },
    {
     "name": "stdout",
     "output_type": "stream",
     "text": [
      "\n",
      "0\n",
      "epoch 531: training loss 0.01922844443935901\n"
     ]
    },
    {
     "data": {
      "application/vnd.jupyter.widget-view+json": {
       "model_id": "154a7cef963845ba8be0b92c61752384",
       "version_major": 2,
       "version_minor": 0
      },
      "text/plain": [
       "HBox(children=(IntProgress(value=0), HTML(value='')))"
      ]
     },
     "metadata": {},
     "output_type": "display_data"
    },
    {
     "name": "stdout",
     "output_type": "stream",
     "text": [
      "\n",
      "0\n",
      "epoch 532: training loss 0.0191083002416417\n"
     ]
    },
    {
     "data": {
      "application/vnd.jupyter.widget-view+json": {
       "model_id": "d0e74820d7c3449e8590921dcd1f761d",
       "version_major": 2,
       "version_minor": 0
      },
      "text/plain": [
       "HBox(children=(IntProgress(value=0), HTML(value='')))"
      ]
     },
     "metadata": {},
     "output_type": "display_data"
    },
    {
     "name": "stdout",
     "output_type": "stream",
     "text": [
      "\n",
      "0\n",
      "epoch 533: training loss 0.01938897604588419\n"
     ]
    },
    {
     "data": {
      "application/vnd.jupyter.widget-view+json": {
       "model_id": "4773e944ada543f19fa75ddc3fe61c59",
       "version_major": 2,
       "version_minor": 0
      },
      "text/plain": [
       "HBox(children=(IntProgress(value=0), HTML(value='')))"
      ]
     },
     "metadata": {},
     "output_type": "display_data"
    },
    {
     "name": "stdout",
     "output_type": "stream",
     "text": [
      "\n",
      "0\n",
      "epoch 534: training loss 0.019223983874544503\n"
     ]
    },
    {
     "data": {
      "application/vnd.jupyter.widget-view+json": {
       "model_id": "55add7305d294427926a323bfc88ce1a",
       "version_major": 2,
       "version_minor": 0
      },
      "text/plain": [
       "HBox(children=(IntProgress(value=0), HTML(value='')))"
      ]
     },
     "metadata": {},
     "output_type": "display_data"
    },
    {
     "name": "stdout",
     "output_type": "stream",
     "text": [
      "\n",
      "0\n",
      "epoch 535: training loss 0.018993510832078755\n"
     ]
    },
    {
     "data": {
      "application/vnd.jupyter.widget-view+json": {
       "model_id": "94cbadd8832e4f5d9fa3cf9c1135ad4c",
       "version_major": 2,
       "version_minor": 0
      },
      "text/plain": [
       "HBox(children=(IntProgress(value=0), HTML(value='')))"
      ]
     },
     "metadata": {},
     "output_type": "display_data"
    },
    {
     "name": "stdout",
     "output_type": "stream",
     "text": [
      "\n",
      "0\n",
      "epoch 536: training loss 0.01890852406155318\n"
     ]
    },
    {
     "data": {
      "application/vnd.jupyter.widget-view+json": {
       "model_id": "30c65a9bab3e4fc6b189a074c9245e3e",
       "version_major": 2,
       "version_minor": 0
      },
      "text/plain": [
       "HBox(children=(IntProgress(value=0), HTML(value='')))"
      ]
     },
     "metadata": {},
     "output_type": "display_data"
    },
    {
     "name": "stdout",
     "output_type": "stream",
     "text": [
      "\n",
      "0\n",
      "epoch 537: training loss 0.018531947517767548\n"
     ]
    },
    {
     "data": {
      "application/vnd.jupyter.widget-view+json": {
       "model_id": "d1dd6c0dbd8b41fc8b64d07ac748463a",
       "version_major": 2,
       "version_minor": 0
      },
      "text/plain": [
       "HBox(children=(IntProgress(value=0), HTML(value='')))"
      ]
     },
     "metadata": {},
     "output_type": "display_data"
    },
    {
     "name": "stdout",
     "output_type": "stream",
     "text": [
      "\n",
      "0\n",
      "epoch 538: training loss 0.018799212244339288\n"
     ]
    },
    {
     "data": {
      "application/vnd.jupyter.widget-view+json": {
       "model_id": "7496b70662eb4cfb9710e8eb1de50b7c",
       "version_major": 2,
       "version_minor": 0
      },
      "text/plain": [
       "HBox(children=(IntProgress(value=0), HTML(value='')))"
      ]
     },
     "metadata": {},
     "output_type": "display_data"
    },
    {
     "name": "stdout",
     "output_type": "stream",
     "text": [
      "\n",
      "0\n",
      "epoch 539: training loss 0.018704538401216268\n"
     ]
    },
    {
     "data": {
      "application/vnd.jupyter.widget-view+json": {
       "model_id": "0ada4855e9964f1ea70454f73ec68716",
       "version_major": 2,
       "version_minor": 0
      },
      "text/plain": [
       "HBox(children=(IntProgress(value=0), HTML(value='')))"
      ]
     },
     "metadata": {},
     "output_type": "display_data"
    },
    {
     "name": "stdout",
     "output_type": "stream",
     "text": [
      "\n",
      "0\n",
      "epoch 540: training loss 0.018736358573660253\n"
     ]
    },
    {
     "data": {
      "application/vnd.jupyter.widget-view+json": {
       "model_id": "ee9ac2d240e842fb90d81f97cdcda49a",
       "version_major": 2,
       "version_minor": 0
      },
      "text/plain": [
       "HBox(children=(IntProgress(value=0), HTML(value='')))"
      ]
     },
     "metadata": {},
     "output_type": "display_data"
    },
    {
     "name": "stdout",
     "output_type": "stream",
     "text": [
      "\n",
      "0\n",
      "epoch 541: training loss 0.01812204378657043\n"
     ]
    },
    {
     "data": {
      "application/vnd.jupyter.widget-view+json": {
       "model_id": "6ee70ca78b0142fe8c08ab749c0bd7fc",
       "version_major": 2,
       "version_minor": 0
      },
      "text/plain": [
       "HBox(children=(IntProgress(value=0), HTML(value='')))"
      ]
     },
     "metadata": {},
     "output_type": "display_data"
    },
    {
     "name": "stdout",
     "output_type": "stream",
     "text": [
      "\n",
      "0\n",
      "epoch 542: training loss 0.018569814544171094\n"
     ]
    },
    {
     "data": {
      "application/vnd.jupyter.widget-view+json": {
       "model_id": "d4e1962714474fe4bd16d9e049f6e4fc",
       "version_major": 2,
       "version_minor": 0
      },
      "text/plain": [
       "HBox(children=(IntProgress(value=0), HTML(value='')))"
      ]
     },
     "metadata": {},
     "output_type": "display_data"
    },
    {
     "name": "stdout",
     "output_type": "stream",
     "text": [
      "\n",
      "0\n",
      "epoch 543: training loss 0.01809939009603113\n"
     ]
    },
    {
     "data": {
      "application/vnd.jupyter.widget-view+json": {
       "model_id": "58cee13190714ded9a0e05eaa862167e",
       "version_major": 2,
       "version_minor": 0
      },
      "text/plain": [
       "HBox(children=(IntProgress(value=0), HTML(value='')))"
      ]
     },
     "metadata": {},
     "output_type": "display_data"
    },
    {
     "name": "stdout",
     "output_type": "stream",
     "text": [
      "\n",
      "0\n",
      "epoch 544: training loss 0.018463618722744286\n"
     ]
    },
    {
     "data": {
      "application/vnd.jupyter.widget-view+json": {
       "model_id": "c5faca6c8c4347e7b188311c92008410",
       "version_major": 2,
       "version_minor": 0
      },
      "text/plain": [
       "HBox(children=(IntProgress(value=0), HTML(value='')))"
      ]
     },
     "metadata": {},
     "output_type": "display_data"
    },
    {
     "name": "stdout",
     "output_type": "stream",
     "text": [
      "\n",
      "0\n",
      "epoch 545: training loss 0.017978710564784707\n"
     ]
    },
    {
     "data": {
      "application/vnd.jupyter.widget-view+json": {
       "model_id": "022c70db24884c369180b5d00c21dcf5",
       "version_major": 2,
       "version_minor": 0
      },
      "text/plain": [
       "HBox(children=(IntProgress(value=0), HTML(value='')))"
      ]
     },
     "metadata": {},
     "output_type": "display_data"
    },
    {
     "name": "stdout",
     "output_type": "stream",
     "text": [
      "\n",
      "0\n",
      "epoch 546: training loss 0.018282464775256812\n"
     ]
    },
    {
     "data": {
      "application/vnd.jupyter.widget-view+json": {
       "model_id": "6e9c56e960b24f79a12dfeb46ec11b6b",
       "version_major": 2,
       "version_minor": 0
      },
      "text/plain": [
       "HBox(children=(IntProgress(value=0), HTML(value='')))"
      ]
     },
     "metadata": {},
     "output_type": "display_data"
    },
    {
     "name": "stdout",
     "output_type": "stream",
     "text": [
      "\n",
      "0\n",
      "epoch 547: training loss 0.017932194769382476\n"
     ]
    },
    {
     "data": {
      "application/vnd.jupyter.widget-view+json": {
       "model_id": "bad472058b1a43e9acfc971f0ea464cd",
       "version_major": 2,
       "version_minor": 0
      },
      "text/plain": [
       "HBox(children=(IntProgress(value=0), HTML(value='')))"
      ]
     },
     "metadata": {},
     "output_type": "display_data"
    },
    {
     "name": "stdout",
     "output_type": "stream",
     "text": [
      "\n",
      "0\n",
      "epoch 548: training loss 0.017920116856694222\n"
     ]
    },
    {
     "data": {
      "application/vnd.jupyter.widget-view+json": {
       "model_id": "040486b99dcf465d9f8d0fecbc309db9",
       "version_major": 2,
       "version_minor": 0
      },
      "text/plain": [
       "HBox(children=(IntProgress(value=0), HTML(value='')))"
      ]
     },
     "metadata": {},
     "output_type": "display_data"
    },
    {
     "name": "stdout",
     "output_type": "stream",
     "text": [
      "\n",
      "0\n",
      "epoch 549: training loss 0.01756387059111148\n"
     ]
    },
    {
     "data": {
      "application/vnd.jupyter.widget-view+json": {
       "model_id": "e5c3db46d1224a7b89847bfe86357d9d",
       "version_major": 2,
       "version_minor": 0
      },
      "text/plain": [
       "HBox(children=(IntProgress(value=0), HTML(value='')))"
      ]
     },
     "metadata": {},
     "output_type": "display_data"
    },
    {
     "name": "stdout",
     "output_type": "stream",
     "text": [
      "\n",
      "0\n",
      "epoch 550: training loss 0.01778367496561259\n"
     ]
    },
    {
     "data": {
      "application/vnd.jupyter.widget-view+json": {
       "model_id": "5ac9f183395147a1abad2344887dcf51",
       "version_major": 2,
       "version_minor": 0
      },
      "text/plain": [
       "HBox(children=(IntProgress(value=0), HTML(value='')))"
      ]
     },
     "metadata": {},
     "output_type": "display_data"
    },
    {
     "name": "stdout",
     "output_type": "stream",
     "text": [
      "\n",
      "0\n",
      "epoch 551: training loss 0.01773469177540392\n"
     ]
    },
    {
     "data": {
      "application/vnd.jupyter.widget-view+json": {
       "model_id": "db2983dbbe3e431e9aaffd4f2ad2ebc6",
       "version_major": 2,
       "version_minor": 0
      },
      "text/plain": [
       "HBox(children=(IntProgress(value=0), HTML(value='')))"
      ]
     },
     "metadata": {},
     "output_type": "display_data"
    },
    {
     "name": "stdout",
     "output_type": "stream",
     "text": [
      "\n",
      "0\n",
      "epoch 552: training loss 0.017381554963067175\n"
     ]
    },
    {
     "data": {
      "application/vnd.jupyter.widget-view+json": {
       "model_id": "8b9bc110f2ab4b7481a44fd2356e2f52",
       "version_major": 2,
       "version_minor": 0
      },
      "text/plain": [
       "HBox(children=(IntProgress(value=0), HTML(value='')))"
      ]
     },
     "metadata": {},
     "output_type": "display_data"
    },
    {
     "name": "stdout",
     "output_type": "stream",
     "text": [
      "\n",
      "0\n",
      "epoch 553: training loss 0.01745372112840414\n"
     ]
    },
    {
     "data": {
      "application/vnd.jupyter.widget-view+json": {
       "model_id": "04d024ef85164ef186077add45ab2097",
       "version_major": 2,
       "version_minor": 0
      },
      "text/plain": [
       "HBox(children=(IntProgress(value=0), HTML(value='')))"
      ]
     },
     "metadata": {},
     "output_type": "display_data"
    },
    {
     "name": "stdout",
     "output_type": "stream",
     "text": [
      "\n",
      "0\n",
      "epoch 554: training loss 0.017582054249942303\n"
     ]
    },
    {
     "data": {
      "application/vnd.jupyter.widget-view+json": {
       "model_id": "6eee924fb6424d3984df90b518425e9e",
       "version_major": 2,
       "version_minor": 0
      },
      "text/plain": [
       "HBox(children=(IntProgress(value=0), HTML(value='')))"
      ]
     },
     "metadata": {},
     "output_type": "display_data"
    },
    {
     "name": "stdout",
     "output_type": "stream",
     "text": [
      "\n",
      "0\n",
      "epoch 555: training loss 0.017269573830999432\n"
     ]
    },
    {
     "data": {
      "application/vnd.jupyter.widget-view+json": {
       "model_id": "eeb6fd3b7b1748e2bb2d17e097a052ec",
       "version_major": 2,
       "version_minor": 0
      },
      "text/plain": [
       "HBox(children=(IntProgress(value=0), HTML(value='')))"
      ]
     },
     "metadata": {},
     "output_type": "display_data"
    },
    {
     "name": "stdout",
     "output_type": "stream",
     "text": [
      "\n",
      "0\n",
      "epoch 556: training loss 0.017529738845769315\n"
     ]
    },
    {
     "data": {
      "application/vnd.jupyter.widget-view+json": {
       "model_id": "1087069a2a6f43f0b64f1997b14855d0",
       "version_major": 2,
       "version_minor": 0
      },
      "text/plain": [
       "HBox(children=(IntProgress(value=0), HTML(value='')))"
      ]
     },
     "metadata": {},
     "output_type": "display_data"
    },
    {
     "name": "stdout",
     "output_type": "stream",
     "text": [
      "\n",
      "0\n",
      "epoch 557: training loss 0.01712319937068969\n"
     ]
    },
    {
     "data": {
      "application/vnd.jupyter.widget-view+json": {
       "model_id": "73ad63302afe4ccca18cd6dce004bbc1",
       "version_major": 2,
       "version_minor": 0
      },
      "text/plain": [
       "HBox(children=(IntProgress(value=0), HTML(value='')))"
      ]
     },
     "metadata": {},
     "output_type": "display_data"
    },
    {
     "name": "stdout",
     "output_type": "stream",
     "text": [
      "\n",
      "0\n",
      "epoch 558: training loss 0.016886898293159903\n"
     ]
    },
    {
     "data": {
      "application/vnd.jupyter.widget-view+json": {
       "model_id": "90e20adc49af43a8a4eeba889563ae6d",
       "version_major": 2,
       "version_minor": 0
      },
      "text/plain": [
       "HBox(children=(IntProgress(value=0), HTML(value='')))"
      ]
     },
     "metadata": {},
     "output_type": "display_data"
    },
    {
     "name": "stdout",
     "output_type": "stream",
     "text": [
      "\n",
      "0\n",
      "epoch 559: training loss 0.017076888089068234\n"
     ]
    },
    {
     "data": {
      "application/vnd.jupyter.widget-view+json": {
       "model_id": "79e7b08bf1a246ffbca9543130e1d6df",
       "version_major": 2,
       "version_minor": 0
      },
      "text/plain": [
       "HBox(children=(IntProgress(value=0), HTML(value='')))"
      ]
     },
     "metadata": {},
     "output_type": "display_data"
    },
    {
     "name": "stdout",
     "output_type": "stream",
     "text": [
      "\n",
      "0\n",
      "epoch 560: training loss 0.016971783824265004\n"
     ]
    },
    {
     "data": {
      "application/vnd.jupyter.widget-view+json": {
       "model_id": "b02e71175c8f4798ae2829c5838625c9",
       "version_major": 2,
       "version_minor": 0
      },
      "text/plain": [
       "HBox(children=(IntProgress(value=0), HTML(value='')))"
      ]
     },
     "metadata": {},
     "output_type": "display_data"
    },
    {
     "name": "stdout",
     "output_type": "stream",
     "text": [
      "\n",
      "0\n",
      "epoch 561: training loss 0.0167464695032686\n"
     ]
    },
    {
     "data": {
      "application/vnd.jupyter.widget-view+json": {
       "model_id": "afc95a5499864e57a550134553e03d65",
       "version_major": 2,
       "version_minor": 0
      },
      "text/plain": [
       "HBox(children=(IntProgress(value=0), HTML(value='')))"
      ]
     },
     "metadata": {},
     "output_type": "display_data"
    },
    {
     "name": "stdout",
     "output_type": "stream",
     "text": [
      "\n",
      "0\n",
      "epoch 562: training loss 0.01688791555352509\n"
     ]
    },
    {
     "data": {
      "application/vnd.jupyter.widget-view+json": {
       "model_id": "22a8c157e718404dbfef048c6961ed41",
       "version_major": 2,
       "version_minor": 0
      },
      "text/plain": [
       "HBox(children=(IntProgress(value=0), HTML(value='')))"
      ]
     },
     "metadata": {},
     "output_type": "display_data"
    },
    {
     "name": "stdout",
     "output_type": "stream",
     "text": [
      "\n",
      "0\n",
      "epoch 563: training loss 0.016729749543592333\n"
     ]
    },
    {
     "data": {
      "application/vnd.jupyter.widget-view+json": {
       "model_id": "4cb5feb9b3c84307bed3a74d5972048f",
       "version_major": 2,
       "version_minor": 0
      },
      "text/plain": [
       "HBox(children=(IntProgress(value=0), HTML(value='')))"
      ]
     },
     "metadata": {},
     "output_type": "display_data"
    },
    {
     "name": "stdout",
     "output_type": "stream",
     "text": [
      "\n",
      "0\n",
      "epoch 564: training loss 0.016546890777535735\n"
     ]
    },
    {
     "data": {
      "application/vnd.jupyter.widget-view+json": {
       "model_id": "bbfd17bb2e874ad2be3d695887053a23",
       "version_major": 2,
       "version_minor": 0
      },
      "text/plain": [
       "HBox(children=(IntProgress(value=0), HTML(value='')))"
      ]
     },
     "metadata": {},
     "output_type": "display_data"
    },
    {
     "name": "stdout",
     "output_type": "stream",
     "text": [
      "\n",
      "0\n",
      "epoch 565: training loss 0.01684366423636675\n"
     ]
    },
    {
     "data": {
      "application/vnd.jupyter.widget-view+json": {
       "model_id": "6cbd92292eb540e1a73136bd9d31f1db",
       "version_major": 2,
       "version_minor": 0
      },
      "text/plain": [
       "HBox(children=(IntProgress(value=0), HTML(value='')))"
      ]
     },
     "metadata": {},
     "output_type": "display_data"
    },
    {
     "name": "stdout",
     "output_type": "stream",
     "text": [
      "\n",
      "0\n",
      "epoch 566: training loss 0.016357552078552544\n"
     ]
    },
    {
     "data": {
      "application/vnd.jupyter.widget-view+json": {
       "model_id": "6c83f45b045e4788b335faa96e584279",
       "version_major": 2,
       "version_minor": 0
      },
      "text/plain": [
       "HBox(children=(IntProgress(value=0), HTML(value='')))"
      ]
     },
     "metadata": {},
     "output_type": "display_data"
    },
    {
     "name": "stdout",
     "output_type": "stream",
     "text": [
      "\n",
      "0\n",
      "epoch 567: training loss 0.016425831308588386\n"
     ]
    },
    {
     "data": {
      "application/vnd.jupyter.widget-view+json": {
       "model_id": "79f81943e26147b5bb1e0396323dedcf",
       "version_major": 2,
       "version_minor": 0
      },
      "text/plain": [
       "HBox(children=(IntProgress(value=0), HTML(value='')))"
      ]
     },
     "metadata": {},
     "output_type": "display_data"
    },
    {
     "name": "stdout",
     "output_type": "stream",
     "text": [
      "\n",
      "0\n",
      "epoch 568: training loss 0.016594484322704373\n"
     ]
    },
    {
     "data": {
      "application/vnd.jupyter.widget-view+json": {
       "model_id": "f7791e5321554efa8349057d37f6a6c5",
       "version_major": 2,
       "version_minor": 0
      },
      "text/plain": [
       "HBox(children=(IntProgress(value=0), HTML(value='')))"
      ]
     },
     "metadata": {},
     "output_type": "display_data"
    },
    {
     "name": "stdout",
     "output_type": "stream",
     "text": [
      "\n",
      "0\n",
      "epoch 569: training loss 0.01604578929487616\n"
     ]
    },
    {
     "data": {
      "application/vnd.jupyter.widget-view+json": {
       "model_id": "6660d5751661403091b392a6dcf4397f",
       "version_major": 2,
       "version_minor": 0
      },
      "text/plain": [
       "HBox(children=(IntProgress(value=0), HTML(value='')))"
      ]
     },
     "metadata": {},
     "output_type": "display_data"
    },
    {
     "name": "stdout",
     "output_type": "stream",
     "text": [
      "\n",
      "0\n",
      "epoch 570: training loss 0.016160348188132046\n"
     ]
    },
    {
     "data": {
      "application/vnd.jupyter.widget-view+json": {
       "model_id": "191dd9aefe894dbe87f5f04bf1afe160",
       "version_major": 2,
       "version_minor": 0
      },
      "text/plain": [
       "HBox(children=(IntProgress(value=0), HTML(value='')))"
      ]
     },
     "metadata": {},
     "output_type": "display_data"
    },
    {
     "name": "stdout",
     "output_type": "stream",
     "text": [
      "\n",
      "0\n",
      "epoch 571: training loss 0.016383642735891043\n"
     ]
    },
    {
     "data": {
      "application/vnd.jupyter.widget-view+json": {
       "model_id": "4c3d49a8534e498a9e51f7ebf5ceef55",
       "version_major": 2,
       "version_minor": 0
      },
      "text/plain": [
       "HBox(children=(IntProgress(value=0), HTML(value='')))"
      ]
     },
     "metadata": {},
     "output_type": "display_data"
    },
    {
     "name": "stdout",
     "output_type": "stream",
     "text": [
      "\n",
      "0\n",
      "epoch 572: training loss 0.0159734267834574\n"
     ]
    },
    {
     "data": {
      "application/vnd.jupyter.widget-view+json": {
       "model_id": "73f5f7a5f441476aa015e70f8778a95a",
       "version_major": 2,
       "version_minor": 0
      },
      "text/plain": [
       "HBox(children=(IntProgress(value=0), HTML(value='')))"
      ]
     },
     "metadata": {},
     "output_type": "display_data"
    },
    {
     "name": "stdout",
     "output_type": "stream",
     "text": [
      "\n",
      "0\n",
      "epoch 573: training loss 0.01590192918665707\n"
     ]
    },
    {
     "data": {
      "application/vnd.jupyter.widget-view+json": {
       "model_id": "c028e5910318455f90133d60b2d8d1ed",
       "version_major": 2,
       "version_minor": 0
      },
      "text/plain": [
       "HBox(children=(IntProgress(value=0), HTML(value='')))"
      ]
     },
     "metadata": {},
     "output_type": "display_data"
    },
    {
     "name": "stdout",
     "output_type": "stream",
     "text": [
      "\n",
      "0\n",
      "epoch 574: training loss 0.01617293297778815\n"
     ]
    },
    {
     "data": {
      "application/vnd.jupyter.widget-view+json": {
       "model_id": "eee1de32dbb64146b675a36b82ac2495",
       "version_major": 2,
       "version_minor": 0
      },
      "text/plain": [
       "HBox(children=(IntProgress(value=0), HTML(value='')))"
      ]
     },
     "metadata": {},
     "output_type": "display_data"
    },
    {
     "name": "stdout",
     "output_type": "stream",
     "text": [
      "\n",
      "0\n",
      "epoch 575: training loss 0.015730681591667236\n"
     ]
    },
    {
     "data": {
      "application/vnd.jupyter.widget-view+json": {
       "model_id": "48dd5fdbd8ad4e818606a1f1e98d41ed",
       "version_major": 2,
       "version_minor": 0
      },
      "text/plain": [
       "HBox(children=(IntProgress(value=0), HTML(value='')))"
      ]
     },
     "metadata": {},
     "output_type": "display_data"
    },
    {
     "name": "stdout",
     "output_type": "stream",
     "text": [
      "\n",
      "0\n",
      "epoch 576: training loss 0.01575370568782091\n"
     ]
    },
    {
     "data": {
      "application/vnd.jupyter.widget-view+json": {
       "model_id": "4339d850ce9547c19a19a7263582797e",
       "version_major": 2,
       "version_minor": 0
      },
      "text/plain": [
       "HBox(children=(IntProgress(value=0), HTML(value='')))"
      ]
     },
     "metadata": {},
     "output_type": "display_data"
    },
    {
     "name": "stdout",
     "output_type": "stream",
     "text": [
      "\n",
      "0\n",
      "epoch 577: training loss 0.015868449481204153\n"
     ]
    },
    {
     "data": {
      "application/vnd.jupyter.widget-view+json": {
       "model_id": "7885c194d71844968e581f8580804e32",
       "version_major": 2,
       "version_minor": 0
      },
      "text/plain": [
       "HBox(children=(IntProgress(value=0), HTML(value='')))"
      ]
     },
     "metadata": {},
     "output_type": "display_data"
    },
    {
     "name": "stdout",
     "output_type": "stream",
     "text": [
      "\n",
      "0\n",
      "epoch 578: training loss 0.015558940880000592\n"
     ]
    },
    {
     "data": {
      "application/vnd.jupyter.widget-view+json": {
       "model_id": "aebc284c172f4f519fc64e84285c964e",
       "version_major": 2,
       "version_minor": 0
      },
      "text/plain": [
       "HBox(children=(IntProgress(value=0), HTML(value='')))"
      ]
     },
     "metadata": {},
     "output_type": "display_data"
    },
    {
     "name": "stdout",
     "output_type": "stream",
     "text": [
      "\n",
      "0\n",
      "epoch 579: training loss 0.015626796730794014\n"
     ]
    },
    {
     "data": {
      "application/vnd.jupyter.widget-view+json": {
       "model_id": "9a11a0326db549b5a8fcb05c6242e5f7",
       "version_major": 2,
       "version_minor": 0
      },
      "text/plain": [
       "HBox(children=(IntProgress(value=0), HTML(value='')))"
      ]
     },
     "metadata": {},
     "output_type": "display_data"
    },
    {
     "name": "stdout",
     "output_type": "stream",
     "text": [
      "\n",
      "0\n",
      "epoch 580: training loss 0.015705324611626565\n"
     ]
    },
    {
     "data": {
      "application/vnd.jupyter.widget-view+json": {
       "model_id": "e19562b91a2f4f97b96b07704d5e57a9",
       "version_major": 2,
       "version_minor": 0
      },
      "text/plain": [
       "HBox(children=(IntProgress(value=0), HTML(value='')))"
      ]
     },
     "metadata": {},
     "output_type": "display_data"
    },
    {
     "name": "stdout",
     "output_type": "stream",
     "text": [
      "\n",
      "0\n",
      "epoch 581: training loss 0.01542012371122837\n"
     ]
    },
    {
     "data": {
      "application/vnd.jupyter.widget-view+json": {
       "model_id": "0c6a0f251c3c47d4a830b9ef1c40bfce",
       "version_major": 2,
       "version_minor": 0
      },
      "text/plain": [
       "HBox(children=(IntProgress(value=0), HTML(value='')))"
      ]
     },
     "metadata": {},
     "output_type": "display_data"
    },
    {
     "name": "stdout",
     "output_type": "stream",
     "text": [
      "\n",
      "0\n",
      "epoch 582: training loss 0.015488823945634066\n"
     ]
    },
    {
     "data": {
      "application/vnd.jupyter.widget-view+json": {
       "model_id": "2e3472d44e724e24a7908d5645743f8e",
       "version_major": 2,
       "version_minor": 0
      },
      "text/plain": [
       "HBox(children=(IntProgress(value=0), HTML(value='')))"
      ]
     },
     "metadata": {},
     "output_type": "display_data"
    },
    {
     "name": "stdout",
     "output_type": "stream",
     "text": [
      "\n",
      "0\n",
      "epoch 583: training loss 0.015337118580937385\n"
     ]
    },
    {
     "data": {
      "application/vnd.jupyter.widget-view+json": {
       "model_id": "e74e25a22dfd4919bbb281c20ea4e64e",
       "version_major": 2,
       "version_minor": 0
      },
      "text/plain": [
       "HBox(children=(IntProgress(value=0), HTML(value='')))"
      ]
     },
     "metadata": {},
     "output_type": "display_data"
    },
    {
     "name": "stdout",
     "output_type": "stream",
     "text": [
      "\n",
      "0\n",
      "epoch 584: training loss 0.015297805755399168\n"
     ]
    },
    {
     "data": {
      "application/vnd.jupyter.widget-view+json": {
       "model_id": "02e16ced9b0e4c2b8a0cf5683af158f2",
       "version_major": 2,
       "version_minor": 0
      },
      "text/plain": [
       "HBox(children=(IntProgress(value=0), HTML(value='')))"
      ]
     },
     "metadata": {},
     "output_type": "display_data"
    },
    {
     "name": "stdout",
     "output_type": "stream",
     "text": [
      "\n",
      "0\n",
      "epoch 585: training loss 0.01513588816858828\n"
     ]
    },
    {
     "data": {
      "application/vnd.jupyter.widget-view+json": {
       "model_id": "c75ca14c56e0419ab8bfe38d857cebae",
       "version_major": 2,
       "version_minor": 0
      },
      "text/plain": [
       "HBox(children=(IntProgress(value=0), HTML(value='')))"
      ]
     },
     "metadata": {},
     "output_type": "display_data"
    },
    {
     "name": "stdout",
     "output_type": "stream",
     "text": [
      "\n",
      "0\n",
      "epoch 586: training loss 0.015292380461469293\n"
     ]
    },
    {
     "data": {
      "application/vnd.jupyter.widget-view+json": {
       "model_id": "f1e9210bd84d4213b6f99cd67bc60895",
       "version_major": 2,
       "version_minor": 0
      },
      "text/plain": [
       "HBox(children=(IntProgress(value=0), HTML(value='')))"
      ]
     },
     "metadata": {},
     "output_type": "display_data"
    },
    {
     "name": "stdout",
     "output_type": "stream",
     "text": [
      "\n",
      "0\n",
      "epoch 587: training loss 0.015126185240224004\n"
     ]
    },
    {
     "data": {
      "application/vnd.jupyter.widget-view+json": {
       "model_id": "730315d6617647eb889a0043a0e035f5",
       "version_major": 2,
       "version_minor": 0
      },
      "text/plain": [
       "HBox(children=(IntProgress(value=0), HTML(value='')))"
      ]
     },
     "metadata": {},
     "output_type": "display_data"
    },
    {
     "name": "stdout",
     "output_type": "stream",
     "text": [
      "\n",
      "0\n",
      "epoch 588: training loss 0.014987388732843101\n"
     ]
    },
    {
     "data": {
      "application/vnd.jupyter.widget-view+json": {
       "model_id": "c6d20d0c02094f759bc3ff333aec982d",
       "version_major": 2,
       "version_minor": 0
      },
      "text/plain": [
       "HBox(children=(IntProgress(value=0), HTML(value='')))"
      ]
     },
     "metadata": {},
     "output_type": "display_data"
    },
    {
     "name": "stdout",
     "output_type": "stream",
     "text": [
      "\n",
      "0\n",
      "epoch 589: training loss 0.01500053213443607\n"
     ]
    },
    {
     "data": {
      "application/vnd.jupyter.widget-view+json": {
       "model_id": "d93742880e4c4690bd25f0a2291c0655",
       "version_major": 2,
       "version_minor": 0
      },
      "text/plain": [
       "HBox(children=(IntProgress(value=0), HTML(value='')))"
      ]
     },
     "metadata": {},
     "output_type": "display_data"
    },
    {
     "name": "stdout",
     "output_type": "stream",
     "text": [
      "\n",
      "0\n",
      "epoch 590: training loss 0.014911857624538243\n"
     ]
    },
    {
     "data": {
      "application/vnd.jupyter.widget-view+json": {
       "model_id": "d82145b250ac4adcbe1500a7a862e61b",
       "version_major": 2,
       "version_minor": 0
      },
      "text/plain": [
       "HBox(children=(IntProgress(value=0), HTML(value='')))"
      ]
     },
     "metadata": {},
     "output_type": "display_data"
    },
    {
     "name": "stdout",
     "output_type": "stream",
     "text": [
      "\n",
      "0\n",
      "epoch 591: training loss 0.014861651258543133\n"
     ]
    },
    {
     "data": {
      "application/vnd.jupyter.widget-view+json": {
       "model_id": "37bf7e91c2164a19a7fc88fe28b47caa",
       "version_major": 2,
       "version_minor": 0
      },
      "text/plain": [
       "HBox(children=(IntProgress(value=0), HTML(value='')))"
      ]
     },
     "metadata": {},
     "output_type": "display_data"
    },
    {
     "name": "stdout",
     "output_type": "stream",
     "text": [
      "\n",
      "0\n",
      "epoch 592: training loss 0.014869396495632826\n"
     ]
    },
    {
     "data": {
      "application/vnd.jupyter.widget-view+json": {
       "model_id": "b8fe8420e5bc4b759cbc841e8226b8a3",
       "version_major": 2,
       "version_minor": 0
      },
      "text/plain": [
       "HBox(children=(IntProgress(value=0), HTML(value='')))"
      ]
     },
     "metadata": {},
     "output_type": "display_data"
    },
    {
     "name": "stdout",
     "output_type": "stream",
     "text": [
      "\n",
      "0\n",
      "epoch 593: training loss 0.014528002981096506\n"
     ]
    },
    {
     "data": {
      "application/vnd.jupyter.widget-view+json": {
       "model_id": "c813538e3d4843d49490152271b515b5",
       "version_major": 2,
       "version_minor": 0
      },
      "text/plain": [
       "HBox(children=(IntProgress(value=0), HTML(value='')))"
      ]
     },
     "metadata": {},
     "output_type": "display_data"
    },
    {
     "name": "stdout",
     "output_type": "stream",
     "text": [
      "\n",
      "0\n",
      "epoch 594: training loss 0.014839410143904387\n"
     ]
    },
    {
     "data": {
      "application/vnd.jupyter.widget-view+json": {
       "model_id": "11e8f1d482ba4c00a10f017ae9c7518e",
       "version_major": 2,
       "version_minor": 0
      },
      "text/plain": [
       "HBox(children=(IntProgress(value=0), HTML(value='')))"
      ]
     },
     "metadata": {},
     "output_type": "display_data"
    },
    {
     "name": "stdout",
     "output_type": "stream",
     "text": [
      "\n",
      "0\n",
      "epoch 595: training loss 0.014545341660268605\n"
     ]
    },
    {
     "data": {
      "application/vnd.jupyter.widget-view+json": {
       "model_id": "67c32b05fec343acbe1ac1155009123b",
       "version_major": 2,
       "version_minor": 0
      },
      "text/plain": [
       "HBox(children=(IntProgress(value=0), HTML(value='')))"
      ]
     },
     "metadata": {},
     "output_type": "display_data"
    },
    {
     "name": "stdout",
     "output_type": "stream",
     "text": [
      "\n",
      "0\n",
      "epoch 596: training loss 0.014572141445241868\n"
     ]
    },
    {
     "data": {
      "application/vnd.jupyter.widget-view+json": {
       "model_id": "3942fc4246a34542808fa8508047ab5e",
       "version_major": 2,
       "version_minor": 0
      },
      "text/plain": [
       "HBox(children=(IntProgress(value=0), HTML(value='')))"
      ]
     },
     "metadata": {},
     "output_type": "display_data"
    },
    {
     "name": "stdout",
     "output_type": "stream",
     "text": [
      "\n",
      "0\n",
      "epoch 597: training loss 0.014559732098132373\n"
     ]
    },
    {
     "data": {
      "application/vnd.jupyter.widget-view+json": {
       "model_id": "29d68d112f064fca83a1037d17d5f6b5",
       "version_major": 2,
       "version_minor": 0
      },
      "text/plain": [
       "HBox(children=(IntProgress(value=0), HTML(value='')))"
      ]
     },
     "metadata": {},
     "output_type": "display_data"
    },
    {
     "name": "stdout",
     "output_type": "stream",
     "text": [
      "\n",
      "0\n",
      "epoch 598: training loss 0.014442853457294404\n"
     ]
    },
    {
     "data": {
      "application/vnd.jupyter.widget-view+json": {
       "model_id": "2856ba36457948549defa46e0e26c60e",
       "version_major": 2,
       "version_minor": 0
      },
      "text/plain": [
       "HBox(children=(IntProgress(value=0), HTML(value='')))"
      ]
     },
     "metadata": {},
     "output_type": "display_data"
    },
    {
     "name": "stdout",
     "output_type": "stream",
     "text": [
      "\n",
      "0\n",
      "epoch 599: training loss 0.014278578541707247\n"
     ]
    },
    {
     "data": {
      "application/vnd.jupyter.widget-view+json": {
       "model_id": "4e6c42e76bbd4b55a925e95a62c9db5f",
       "version_major": 2,
       "version_minor": 0
      },
      "text/plain": [
       "HBox(children=(IntProgress(value=0), HTML(value='')))"
      ]
     },
     "metadata": {},
     "output_type": "display_data"
    },
    {
     "name": "stdout",
     "output_type": "stream",
     "text": [
      "\n",
      "0\n",
      "epoch 600: training loss 0.014390991921536624\n"
     ]
    },
    {
     "data": {
      "application/vnd.jupyter.widget-view+json": {
       "model_id": "86dc7eb251324cfe8a48801d3a73ef31",
       "version_major": 2,
       "version_minor": 0
      },
      "text/plain": [
       "HBox(children=(IntProgress(value=0), HTML(value='')))"
      ]
     },
     "metadata": {},
     "output_type": "display_data"
    },
    {
     "name": "stdout",
     "output_type": "stream",
     "text": [
      "\n",
      "0\n",
      "epoch 601: training loss 0.014290512804873288\n"
     ]
    },
    {
     "data": {
      "application/vnd.jupyter.widget-view+json": {
       "model_id": "977fa58bc272453cab001baa6d23d180",
       "version_major": 2,
       "version_minor": 0
      },
      "text/plain": [
       "HBox(children=(IntProgress(value=0), HTML(value='')))"
      ]
     },
     "metadata": {},
     "output_type": "display_data"
    },
    {
     "name": "stdout",
     "output_type": "stream",
     "text": [
      "\n",
      "0\n",
      "epoch 602: training loss 0.014271021438762545\n"
     ]
    },
    {
     "data": {
      "application/vnd.jupyter.widget-view+json": {
       "model_id": "7c9e96a11d4d4bdfa87d1b5c38f6d489",
       "version_major": 2,
       "version_minor": 0
      },
      "text/plain": [
       "HBox(children=(IntProgress(value=0), HTML(value='')))"
      ]
     },
     "metadata": {},
     "output_type": "display_data"
    },
    {
     "name": "stdout",
     "output_type": "stream",
     "text": [
      "\n",
      "0\n",
      "epoch 603: training loss 0.014061204134486615\n"
     ]
    },
    {
     "data": {
      "application/vnd.jupyter.widget-view+json": {
       "model_id": "69f6304e4172487ca21c99212aaa0a5b",
       "version_major": 2,
       "version_minor": 0
      },
      "text/plain": [
       "HBox(children=(IntProgress(value=0), HTML(value='')))"
      ]
     },
     "metadata": {},
     "output_type": "display_data"
    },
    {
     "name": "stdout",
     "output_type": "stream",
     "text": [
      "\n",
      "0\n",
      "epoch 604: training loss 0.01411239730194211\n"
     ]
    },
    {
     "data": {
      "application/vnd.jupyter.widget-view+json": {
       "model_id": "0789ee71884744ec99553c8f0a5e62b3",
       "version_major": 2,
       "version_minor": 0
      },
      "text/plain": [
       "HBox(children=(IntProgress(value=0), HTML(value='')))"
      ]
     },
     "metadata": {},
     "output_type": "display_data"
    },
    {
     "name": "stdout",
     "output_type": "stream",
     "text": [
      "\n",
      "0\n",
      "epoch 605: training loss 0.014153023241087795\n"
     ]
    },
    {
     "data": {
      "application/vnd.jupyter.widget-view+json": {
       "model_id": "5cc133ef2b924a0ba7380041032c1543",
       "version_major": 2,
       "version_minor": 0
      },
      "text/plain": [
       "HBox(children=(IntProgress(value=0), HTML(value='')))"
      ]
     },
     "metadata": {},
     "output_type": "display_data"
    },
    {
     "name": "stdout",
     "output_type": "stream",
     "text": [
      "\n",
      "0\n",
      "epoch 606: training loss 0.013818916424643248\n"
     ]
    },
    {
     "data": {
      "application/vnd.jupyter.widget-view+json": {
       "model_id": "40c38171d6af46328a133463918f5649",
       "version_major": 2,
       "version_minor": 0
      },
      "text/plain": [
       "HBox(children=(IntProgress(value=0), HTML(value='')))"
      ]
     },
     "metadata": {},
     "output_type": "display_data"
    },
    {
     "name": "stdout",
     "output_type": "stream",
     "text": [
      "\n",
      "0\n",
      "epoch 607: training loss 0.014009381104260683\n"
     ]
    },
    {
     "data": {
      "application/vnd.jupyter.widget-view+json": {
       "model_id": "abf5b244fb9445219fb6f0a14332f9d0",
       "version_major": 2,
       "version_minor": 0
      },
      "text/plain": [
       "HBox(children=(IntProgress(value=0), HTML(value='')))"
      ]
     },
     "metadata": {},
     "output_type": "display_data"
    },
    {
     "name": "stdout",
     "output_type": "stream",
     "text": [
      "\n",
      "0\n",
      "epoch 608: training loss 0.013912827135063708\n"
     ]
    },
    {
     "data": {
      "application/vnd.jupyter.widget-view+json": {
       "model_id": "4978c690f76b4bae9ddb93abaa38409c",
       "version_major": 2,
       "version_minor": 0
      },
      "text/plain": [
       "HBox(children=(IntProgress(value=0), HTML(value='')))"
      ]
     },
     "metadata": {},
     "output_type": "display_data"
    },
    {
     "name": "stdout",
     "output_type": "stream",
     "text": [
      "\n",
      "0\n",
      "epoch 609: training loss 0.013905182252638043\n"
     ]
    },
    {
     "data": {
      "application/vnd.jupyter.widget-view+json": {
       "model_id": "d82b3b16499c4252a57e03c4a005bb5f",
       "version_major": 2,
       "version_minor": 0
      },
      "text/plain": [
       "HBox(children=(IntProgress(value=0), HTML(value='')))"
      ]
     },
     "metadata": {},
     "output_type": "display_data"
    },
    {
     "name": "stdout",
     "output_type": "stream",
     "text": [
      "\n",
      "0\n",
      "epoch 610: training loss 0.013571536294184625\n"
     ]
    },
    {
     "data": {
      "application/vnd.jupyter.widget-view+json": {
       "model_id": "d742e85f838c4c53b4b9e61fac2acd25",
       "version_major": 2,
       "version_minor": 0
      },
      "text/plain": [
       "HBox(children=(IntProgress(value=0), HTML(value='')))"
      ]
     },
     "metadata": {},
     "output_type": "display_data"
    },
    {
     "name": "stdout",
     "output_type": "stream",
     "text": [
      "\n",
      "0\n",
      "epoch 611: training loss 0.01381662385072559\n"
     ]
    },
    {
     "data": {
      "application/vnd.jupyter.widget-view+json": {
       "model_id": "11da1d5ac27d47b3ba2893c2af879bca",
       "version_major": 2,
       "version_minor": 0
      },
      "text/plain": [
       "HBox(children=(IntProgress(value=0), HTML(value='')))"
      ]
     },
     "metadata": {},
     "output_type": "display_data"
    },
    {
     "name": "stdout",
     "output_type": "stream",
     "text": [
      "\n",
      "0\n",
      "epoch 612: training loss 0.0136016482161358\n"
     ]
    },
    {
     "data": {
      "application/vnd.jupyter.widget-view+json": {
       "model_id": "24e116977bfa4aa8b38b709068770a0e",
       "version_major": 2,
       "version_minor": 0
      },
      "text/plain": [
       "HBox(children=(IntProgress(value=0), HTML(value='')))"
      ]
     },
     "metadata": {},
     "output_type": "display_data"
    },
    {
     "name": "stdout",
     "output_type": "stream",
     "text": [
      "\n",
      "0\n",
      "epoch 613: training loss 0.013734349263831973\n"
     ]
    },
    {
     "data": {
      "application/vnd.jupyter.widget-view+json": {
       "model_id": "9049bd8cfb534bdea6e14fc37aabf2e3",
       "version_major": 2,
       "version_minor": 0
      },
      "text/plain": [
       "HBox(children=(IntProgress(value=0), HTML(value='')))"
      ]
     },
     "metadata": {},
     "output_type": "display_data"
    },
    {
     "name": "stdout",
     "output_type": "stream",
     "text": [
      "\n",
      "0\n",
      "epoch 614: training loss 0.013521212306804954\n"
     ]
    },
    {
     "data": {
      "application/vnd.jupyter.widget-view+json": {
       "model_id": "58b71379f8f44dfeb23d1d78ec46144b",
       "version_major": 2,
       "version_minor": 0
      },
      "text/plain": [
       "HBox(children=(IntProgress(value=0), HTML(value='')))"
      ]
     },
     "metadata": {},
     "output_type": "display_data"
    },
    {
     "name": "stdout",
     "output_type": "stream",
     "text": [
      "\n",
      "0\n",
      "epoch 615: training loss 0.013465721104294061\n"
     ]
    },
    {
     "data": {
      "application/vnd.jupyter.widget-view+json": {
       "model_id": "3db73165becd4b1088fe8a025a8db118",
       "version_major": 2,
       "version_minor": 0
      },
      "text/plain": [
       "HBox(children=(IntProgress(value=0), HTML(value='')))"
      ]
     },
     "metadata": {},
     "output_type": "display_data"
    },
    {
     "name": "stdout",
     "output_type": "stream",
     "text": [
      "\n",
      "0\n",
      "epoch 616: training loss 0.013346002572216093\n"
     ]
    },
    {
     "data": {
      "application/vnd.jupyter.widget-view+json": {
       "model_id": "2833b5df96f847fd828487667a6b20eb",
       "version_major": 2,
       "version_minor": 0
      },
      "text/plain": [
       "HBox(children=(IntProgress(value=0), HTML(value='')))"
      ]
     },
     "metadata": {},
     "output_type": "display_data"
    },
    {
     "name": "stdout",
     "output_type": "stream",
     "text": [
      "\n",
      "0\n",
      "epoch 617: training loss 0.013573063318617642\n"
     ]
    },
    {
     "data": {
      "application/vnd.jupyter.widget-view+json": {
       "model_id": "aa3f166aa2814b3db5f59bf9c3f3c9f1",
       "version_major": 2,
       "version_minor": 0
      },
      "text/plain": [
       "HBox(children=(IntProgress(value=0), HTML(value='')))"
      ]
     },
     "metadata": {},
     "output_type": "display_data"
    },
    {
     "name": "stdout",
     "output_type": "stream",
     "text": [
      "\n",
      "0\n",
      "epoch 618: training loss 0.013346203248947858\n"
     ]
    },
    {
     "data": {
      "application/vnd.jupyter.widget-view+json": {
       "model_id": "53d3db1a29d541fe9761e5d9a94b79f4",
       "version_major": 2,
       "version_minor": 0
      },
      "text/plain": [
       "HBox(children=(IntProgress(value=0), HTML(value='')))"
      ]
     },
     "metadata": {},
     "output_type": "display_data"
    },
    {
     "name": "stdout",
     "output_type": "stream",
     "text": [
      "\n",
      "0\n",
      "epoch 619: training loss 0.013132173549383879\n"
     ]
    },
    {
     "data": {
      "application/vnd.jupyter.widget-view+json": {
       "model_id": "560de52fa7e643319f652fe5c8b44f1a",
       "version_major": 2,
       "version_minor": 0
      },
      "text/plain": [
       "HBox(children=(IntProgress(value=0), HTML(value='')))"
      ]
     },
     "metadata": {},
     "output_type": "display_data"
    },
    {
     "name": "stdout",
     "output_type": "stream",
     "text": [
      "\n",
      "0\n",
      "epoch 620: training loss 0.013356574806384741\n"
     ]
    },
    {
     "data": {
      "application/vnd.jupyter.widget-view+json": {
       "model_id": "e61db5ea31cf4f5ca5ddab52919d6acb",
       "version_major": 2,
       "version_minor": 0
      },
      "text/plain": [
       "HBox(children=(IntProgress(value=0), HTML(value='')))"
      ]
     },
     "metadata": {},
     "output_type": "display_data"
    },
    {
     "name": "stdout",
     "output_type": "stream",
     "text": [
      "\n",
      "0\n",
      "epoch 621: training loss 0.013064671708270907\n"
     ]
    },
    {
     "data": {
      "application/vnd.jupyter.widget-view+json": {
       "model_id": "3c6b6df704c84411a8e40ba51d88c48d",
       "version_major": 2,
       "version_minor": 0
      },
      "text/plain": [
       "HBox(children=(IntProgress(value=0), HTML(value='')))"
      ]
     },
     "metadata": {},
     "output_type": "display_data"
    },
    {
     "name": "stdout",
     "output_type": "stream",
     "text": [
      "\n",
      "0\n",
      "epoch 622: training loss 0.013315604757517576\n"
     ]
    },
    {
     "data": {
      "application/vnd.jupyter.widget-view+json": {
       "model_id": "0aab706d23974d169db7ef405fc1cf40",
       "version_major": 2,
       "version_minor": 0
      },
      "text/plain": [
       "HBox(children=(IntProgress(value=0), HTML(value='')))"
      ]
     },
     "metadata": {},
     "output_type": "display_data"
    },
    {
     "name": "stdout",
     "output_type": "stream",
     "text": [
      "\n",
      "0\n",
      "epoch 623: training loss 0.012906995434314013\n"
     ]
    },
    {
     "data": {
      "application/vnd.jupyter.widget-view+json": {
       "model_id": "cdde36bd466d45878be87e3223bf12d3",
       "version_major": 2,
       "version_minor": 0
      },
      "text/plain": [
       "HBox(children=(IntProgress(value=0), HTML(value='')))"
      ]
     },
     "metadata": {},
     "output_type": "display_data"
    },
    {
     "name": "stdout",
     "output_type": "stream",
     "text": [
      "\n",
      "0\n",
      "epoch 624: training loss 0.013377919152844697\n"
     ]
    },
    {
     "data": {
      "application/vnd.jupyter.widget-view+json": {
       "model_id": "86f284270c2c42ad9b199e76e835f8ed",
       "version_major": 2,
       "version_minor": 0
      },
      "text/plain": [
       "HBox(children=(IntProgress(value=0), HTML(value='')))"
      ]
     },
     "metadata": {},
     "output_type": "display_data"
    },
    {
     "name": "stdout",
     "output_type": "stream",
     "text": [
      "\n",
      "0\n",
      "epoch 625: training loss 0.012786287008784711\n"
     ]
    },
    {
     "data": {
      "application/vnd.jupyter.widget-view+json": {
       "model_id": "69021a53ae6c44c987b2db2158c05337",
       "version_major": 2,
       "version_minor": 0
      },
      "text/plain": [
       "HBox(children=(IntProgress(value=0), HTML(value='')))"
      ]
     },
     "metadata": {},
     "output_type": "display_data"
    },
    {
     "name": "stdout",
     "output_type": "stream",
     "text": [
      "\n",
      "0\n",
      "epoch 626: training loss 0.012861003377474844\n"
     ]
    },
    {
     "data": {
      "application/vnd.jupyter.widget-view+json": {
       "model_id": "57b6f30420724c7cbe7eaf1fa9ce40d8",
       "version_major": 2,
       "version_minor": 0
      },
      "text/plain": [
       "HBox(children=(IntProgress(value=0), HTML(value='')))"
      ]
     },
     "metadata": {},
     "output_type": "display_data"
    },
    {
     "name": "stdout",
     "output_type": "stream",
     "text": [
      "\n",
      "0\n",
      "epoch 627: training loss 0.012730811941437423\n"
     ]
    },
    {
     "data": {
      "application/vnd.jupyter.widget-view+json": {
       "model_id": "6b9bb377a8cf4e4087c7b9cca40de149",
       "version_major": 2,
       "version_minor": 0
      },
      "text/plain": [
       "HBox(children=(IntProgress(value=0), HTML(value='')))"
      ]
     },
     "metadata": {},
     "output_type": "display_data"
    },
    {
     "name": "stdout",
     "output_type": "stream",
     "text": [
      "\n",
      "0\n",
      "epoch 628: training loss 0.013098473849240691\n"
     ]
    },
    {
     "data": {
      "application/vnd.jupyter.widget-view+json": {
       "model_id": "2d933896f1d74f95972d45b5d5993a6b",
       "version_major": 2,
       "version_minor": 0
      },
      "text/plain": [
       "HBox(children=(IntProgress(value=0), HTML(value='')))"
      ]
     },
     "metadata": {},
     "output_type": "display_data"
    },
    {
     "name": "stdout",
     "output_type": "stream",
     "text": [
      "\n",
      "0\n",
      "epoch 629: training loss 0.012789219613187014\n"
     ]
    },
    {
     "data": {
      "application/vnd.jupyter.widget-view+json": {
       "model_id": "909b52332587458b897dc7b6d567c431",
       "version_major": 2,
       "version_minor": 0
      },
      "text/plain": [
       "HBox(children=(IntProgress(value=0), HTML(value='')))"
      ]
     },
     "metadata": {},
     "output_type": "display_data"
    },
    {
     "name": "stdout",
     "output_type": "stream",
     "text": [
      "\n",
      "0\n",
      "epoch 630: training loss 0.012759508932940661\n"
     ]
    },
    {
     "data": {
      "application/vnd.jupyter.widget-view+json": {
       "model_id": "2f7bafc68b8b41a5a1e559241f175a12",
       "version_major": 2,
       "version_minor": 0
      },
      "text/plain": [
       "HBox(children=(IntProgress(value=0), HTML(value='')))"
      ]
     },
     "metadata": {},
     "output_type": "display_data"
    },
    {
     "name": "stdout",
     "output_type": "stream",
     "text": [
      "\n",
      "0\n",
      "epoch 631: training loss 0.012648772117681801\n"
     ]
    },
    {
     "data": {
      "application/vnd.jupyter.widget-view+json": {
       "model_id": "d995601005e64d1bb008b06ae6465066",
       "version_major": 2,
       "version_minor": 0
      },
      "text/plain": [
       "HBox(children=(IntProgress(value=0), HTML(value='')))"
      ]
     },
     "metadata": {},
     "output_type": "display_data"
    },
    {
     "name": "stdout",
     "output_type": "stream",
     "text": [
      "\n",
      "0\n",
      "epoch 632: training loss 0.012549074729904533\n"
     ]
    },
    {
     "data": {
      "application/vnd.jupyter.widget-view+json": {
       "model_id": "10be939c994a42ed972b6fe59f3bb3bb",
       "version_major": 2,
       "version_minor": 0
      },
      "text/plain": [
       "HBox(children=(IntProgress(value=0), HTML(value='')))"
      ]
     },
     "metadata": {},
     "output_type": "display_data"
    },
    {
     "name": "stdout",
     "output_type": "stream",
     "text": [
      "\n",
      "0\n",
      "epoch 633: training loss 0.012761263479478657\n"
     ]
    },
    {
     "data": {
      "application/vnd.jupyter.widget-view+json": {
       "model_id": "e96b6e7610234dc7bdebd64d1f32c5b0",
       "version_major": 2,
       "version_minor": 0
      },
      "text/plain": [
       "HBox(children=(IntProgress(value=0), HTML(value='')))"
      ]
     },
     "metadata": {},
     "output_type": "display_data"
    },
    {
     "name": "stdout",
     "output_type": "stream",
     "text": [
      "\n",
      "0\n",
      "epoch 634: training loss 0.012512622880749405\n"
     ]
    },
    {
     "data": {
      "application/vnd.jupyter.widget-view+json": {
       "model_id": "8725749ad42d4fdb819c6aa607a9c6fb",
       "version_major": 2,
       "version_minor": 0
      },
      "text/plain": [
       "HBox(children=(IntProgress(value=0), HTML(value='')))"
      ]
     },
     "metadata": {},
     "output_type": "display_data"
    },
    {
     "name": "stdout",
     "output_type": "stream",
     "text": [
      "\n",
      "0\n",
      "epoch 635: training loss 0.012612848631106318\n"
     ]
    },
    {
     "data": {
      "application/vnd.jupyter.widget-view+json": {
       "model_id": "061823adb6ac4b539b2b53be59234812",
       "version_major": 2,
       "version_minor": 0
      },
      "text/plain": [
       "HBox(children=(IntProgress(value=0), HTML(value='')))"
      ]
     },
     "metadata": {},
     "output_type": "display_data"
    },
    {
     "name": "stdout",
     "output_type": "stream",
     "text": [
      "\n",
      "0\n",
      "epoch 636: training loss 0.012243130465503783\n"
     ]
    },
    {
     "data": {
      "application/vnd.jupyter.widget-view+json": {
       "model_id": "f551056702f145bc9612f114ee048f93",
       "version_major": 2,
       "version_minor": 0
      },
      "text/plain": [
       "HBox(children=(IntProgress(value=0), HTML(value='')))"
      ]
     },
     "metadata": {},
     "output_type": "display_data"
    },
    {
     "name": "stdout",
     "output_type": "stream",
     "text": [
      "\n",
      "0\n",
      "epoch 637: training loss 0.012555798483081162\n"
     ]
    },
    {
     "data": {
      "application/vnd.jupyter.widget-view+json": {
       "model_id": "35927c35d95d47c9940570f7fcc0daf2",
       "version_major": 2,
       "version_minor": 0
      },
      "text/plain": [
       "HBox(children=(IntProgress(value=0), HTML(value='')))"
      ]
     },
     "metadata": {},
     "output_type": "display_data"
    },
    {
     "name": "stdout",
     "output_type": "stream",
     "text": [
      "\n",
      "0\n",
      "epoch 638: training loss 0.012412796155549586\n"
     ]
    },
    {
     "data": {
      "application/vnd.jupyter.widget-view+json": {
       "model_id": "d3b4dd36296d40c08bf815bc601f861f",
       "version_major": 2,
       "version_minor": 0
      },
      "text/plain": [
       "HBox(children=(IntProgress(value=0), HTML(value='')))"
      ]
     },
     "metadata": {},
     "output_type": "display_data"
    },
    {
     "name": "stdout",
     "output_type": "stream",
     "text": [
      "\n",
      "0\n",
      "epoch 639: training loss 0.01229122030781582\n"
     ]
    },
    {
     "data": {
      "application/vnd.jupyter.widget-view+json": {
       "model_id": "f0b06a4d8b09499c8303a8a404d114a7",
       "version_major": 2,
       "version_minor": 0
      },
      "text/plain": [
       "HBox(children=(IntProgress(value=0), HTML(value='')))"
      ]
     },
     "metadata": {},
     "output_type": "display_data"
    },
    {
     "name": "stdout",
     "output_type": "stream",
     "text": [
      "\n",
      "0\n",
      "epoch 640: training loss 0.01216807980556041\n"
     ]
    },
    {
     "data": {
      "application/vnd.jupyter.widget-view+json": {
       "model_id": "ca274104abee484e88edfeb908b75642",
       "version_major": 2,
       "version_minor": 0
      },
      "text/plain": [
       "HBox(children=(IntProgress(value=0), HTML(value='')))"
      ]
     },
     "metadata": {},
     "output_type": "display_data"
    },
    {
     "name": "stdout",
     "output_type": "stream",
     "text": [
      "\n",
      "0\n",
      "epoch 641: training loss 0.012211980770807714\n"
     ]
    },
    {
     "data": {
      "application/vnd.jupyter.widget-view+json": {
       "model_id": "5e1df2ff46444440bfae557a78757aaf",
       "version_major": 2,
       "version_minor": 0
      },
      "text/plain": [
       "HBox(children=(IntProgress(value=0), HTML(value='')))"
      ]
     },
     "metadata": {},
     "output_type": "display_data"
    },
    {
     "name": "stdout",
     "output_type": "stream",
     "text": [
      "\n",
      "0\n",
      "epoch 642: training loss 0.01231565437745303\n"
     ]
    },
    {
     "data": {
      "application/vnd.jupyter.widget-view+json": {
       "model_id": "3fa3bec8656f478c91285debc599dfe3",
       "version_major": 2,
       "version_minor": 0
      },
      "text/plain": [
       "HBox(children=(IntProgress(value=0), HTML(value='')))"
      ]
     },
     "metadata": {},
     "output_type": "display_data"
    },
    {
     "name": "stdout",
     "output_type": "stream",
     "text": [
      "\n",
      "0\n",
      "epoch 643: training loss 0.011986104489769786\n"
     ]
    },
    {
     "data": {
      "application/vnd.jupyter.widget-view+json": {
       "model_id": "6363d415384c4cc6ab059002d8a2ebd7",
       "version_major": 2,
       "version_minor": 0
      },
      "text/plain": [
       "HBox(children=(IntProgress(value=0), HTML(value='')))"
      ]
     },
     "metadata": {},
     "output_type": "display_data"
    },
    {
     "name": "stdout",
     "output_type": "stream",
     "text": [
      "\n",
      "0\n",
      "epoch 644: training loss 0.012367340014316141\n"
     ]
    },
    {
     "data": {
      "application/vnd.jupyter.widget-view+json": {
       "model_id": "16f53cd424ff43b8af66d7dd38c6637b",
       "version_major": 2,
       "version_minor": 0
      },
      "text/plain": [
       "HBox(children=(IntProgress(value=0), HTML(value='')))"
      ]
     },
     "metadata": {},
     "output_type": "display_data"
    },
    {
     "name": "stdout",
     "output_type": "stream",
     "text": [
      "\n",
      "0\n",
      "epoch 645: training loss 0.011957437607925385\n"
     ]
    },
    {
     "data": {
      "application/vnd.jupyter.widget-view+json": {
       "model_id": "5b6fbf8d035440ca8a1912a51c4f4c18",
       "version_major": 2,
       "version_minor": 0
      },
      "text/plain": [
       "HBox(children=(IntProgress(value=0), HTML(value='')))"
      ]
     },
     "metadata": {},
     "output_type": "display_data"
    },
    {
     "name": "stdout",
     "output_type": "stream",
     "text": [
      "\n",
      "0\n",
      "epoch 646: training loss 0.012022109143435955\n"
     ]
    },
    {
     "data": {
      "application/vnd.jupyter.widget-view+json": {
       "model_id": "f2c252722ca94b2381182aded764616c",
       "version_major": 2,
       "version_minor": 0
      },
      "text/plain": [
       "HBox(children=(IntProgress(value=0), HTML(value='')))"
      ]
     },
     "metadata": {},
     "output_type": "display_data"
    },
    {
     "name": "stdout",
     "output_type": "stream",
     "text": [
      "\n",
      "0\n",
      "epoch 647: training loss 0.01206411512568593\n"
     ]
    },
    {
     "data": {
      "application/vnd.jupyter.widget-view+json": {
       "model_id": "6ac36b265e584b478417a9e71f40bd12",
       "version_major": 2,
       "version_minor": 0
      },
      "text/plain": [
       "HBox(children=(IntProgress(value=0), HTML(value='')))"
      ]
     },
     "metadata": {},
     "output_type": "display_data"
    },
    {
     "name": "stdout",
     "output_type": "stream",
     "text": [
      "\n",
      "0\n",
      "epoch 648: training loss 0.01179637569002807\n"
     ]
    },
    {
     "data": {
      "application/vnd.jupyter.widget-view+json": {
       "model_id": "b52958dcc01d41ec9c0aaa0a0ba5485c",
       "version_major": 2,
       "version_minor": 0
      },
      "text/plain": [
       "HBox(children=(IntProgress(value=0), HTML(value='')))"
      ]
     },
     "metadata": {},
     "output_type": "display_data"
    },
    {
     "name": "stdout",
     "output_type": "stream",
     "text": [
      "\n",
      "0\n",
      "epoch 649: training loss 0.011855152775533498\n"
     ]
    },
    {
     "data": {
      "application/vnd.jupyter.widget-view+json": {
       "model_id": "08353eb5f08245669f50f43db77d9583",
       "version_major": 2,
       "version_minor": 0
      },
      "text/plain": [
       "HBox(children=(IntProgress(value=0), HTML(value='')))"
      ]
     },
     "metadata": {},
     "output_type": "display_data"
    },
    {
     "name": "stdout",
     "output_type": "stream",
     "text": [
      "\n",
      "0\n",
      "epoch 650: training loss 0.011968113300390541\n"
     ]
    },
    {
     "data": {
      "application/vnd.jupyter.widget-view+json": {
       "model_id": "46c059d0307041d9bbe42f1d700ff784",
       "version_major": 2,
       "version_minor": 0
      },
      "text/plain": [
       "HBox(children=(IntProgress(value=0), HTML(value='')))"
      ]
     },
     "metadata": {},
     "output_type": "display_data"
    },
    {
     "name": "stdout",
     "output_type": "stream",
     "text": [
      "\n",
      "0\n",
      "epoch 651: training loss 0.011694996894802898\n"
     ]
    },
    {
     "data": {
      "application/vnd.jupyter.widget-view+json": {
       "model_id": "7a8350a6df96477f9a9277d5ca2c013d",
       "version_major": 2,
       "version_minor": 0
      },
      "text/plain": [
       "HBox(children=(IntProgress(value=0), HTML(value='')))"
      ]
     },
     "metadata": {},
     "output_type": "display_data"
    },
    {
     "name": "stdout",
     "output_type": "stream",
     "text": [
      "\n",
      "0\n",
      "epoch 652: training loss 0.01179623738862574\n"
     ]
    },
    {
     "data": {
      "application/vnd.jupyter.widget-view+json": {
       "model_id": "c66a3f71002a44b1982000c886d2e323",
       "version_major": 2,
       "version_minor": 0
      },
      "text/plain": [
       "HBox(children=(IntProgress(value=0), HTML(value='')))"
      ]
     },
     "metadata": {},
     "output_type": "display_data"
    },
    {
     "name": "stdout",
     "output_type": "stream",
     "text": [
      "\n",
      "0\n",
      "epoch 653: training loss 0.011779894742649049\n"
     ]
    },
    {
     "data": {
      "application/vnd.jupyter.widget-view+json": {
       "model_id": "762bb66a54014404bbefb7372c497085",
       "version_major": 2,
       "version_minor": 0
      },
      "text/plain": [
       "HBox(children=(IntProgress(value=0), HTML(value='')))"
      ]
     },
     "metadata": {},
     "output_type": "display_data"
    },
    {
     "name": "stdout",
     "output_type": "stream",
     "text": [
      "\n",
      "0\n",
      "epoch 654: training loss 0.011631646745372563\n"
     ]
    },
    {
     "data": {
      "application/vnd.jupyter.widget-view+json": {
       "model_id": "f670bf31a1124fe98acc11e7d38d9574",
       "version_major": 2,
       "version_minor": 0
      },
      "text/plain": [
       "HBox(children=(IntProgress(value=0), HTML(value='')))"
      ]
     },
     "metadata": {},
     "output_type": "display_data"
    },
    {
     "name": "stdout",
     "output_type": "stream",
     "text": [
      "\n",
      "0\n",
      "epoch 655: training loss 0.011797048025764525\n"
     ]
    },
    {
     "data": {
      "application/vnd.jupyter.widget-view+json": {
       "model_id": "a04ede62e8714827b15469862220fc4f",
       "version_major": 2,
       "version_minor": 0
      },
      "text/plain": [
       "HBox(children=(IntProgress(value=0), HTML(value='')))"
      ]
     },
     "metadata": {},
     "output_type": "display_data"
    },
    {
     "name": "stdout",
     "output_type": "stream",
     "text": [
      "\n",
      "0\n",
      "epoch 656: training loss 0.011451228242367505\n"
     ]
    },
    {
     "data": {
      "application/vnd.jupyter.widget-view+json": {
       "model_id": "fff5685a77d94fa8ad3edad03450c610",
       "version_major": 2,
       "version_minor": 0
      },
      "text/plain": [
       "HBox(children=(IntProgress(value=0), HTML(value='')))"
      ]
     },
     "metadata": {},
     "output_type": "display_data"
    },
    {
     "name": "stdout",
     "output_type": "stream",
     "text": [
      "\n",
      "0\n",
      "epoch 657: training loss 0.01140289693372324\n"
     ]
    },
    {
     "data": {
      "application/vnd.jupyter.widget-view+json": {
       "model_id": "1ed7741a680c4a7983e8cbe4ce2910bb",
       "version_major": 2,
       "version_minor": 0
      },
      "text/plain": [
       "HBox(children=(IntProgress(value=0), HTML(value='')))"
      ]
     },
     "metadata": {},
     "output_type": "display_data"
    },
    {
     "name": "stdout",
     "output_type": "stream",
     "text": [
      "\n",
      "0\n",
      "epoch 658: training loss 0.011772208677139134\n"
     ]
    },
    {
     "data": {
      "application/vnd.jupyter.widget-view+json": {
       "model_id": "76eb2d1fd0c94a029deb1c3693cd31ce",
       "version_major": 2,
       "version_minor": 0
      },
      "text/plain": [
       "HBox(children=(IntProgress(value=0), HTML(value='')))"
      ]
     },
     "metadata": {},
     "output_type": "display_data"
    },
    {
     "name": "stdout",
     "output_type": "stream",
     "text": [
      "\n",
      "0\n",
      "epoch 659: training loss 0.011418451047502458\n"
     ]
    },
    {
     "data": {
      "application/vnd.jupyter.widget-view+json": {
       "model_id": "7d537e23df7b4ddc8f66766b57948435",
       "version_major": 2,
       "version_minor": 0
      },
      "text/plain": [
       "HBox(children=(IntProgress(value=0), HTML(value='')))"
      ]
     },
     "metadata": {},
     "output_type": "display_data"
    },
    {
     "name": "stdout",
     "output_type": "stream",
     "text": [
      "\n",
      "0\n",
      "epoch 660: training loss 0.011448732085991651\n"
     ]
    },
    {
     "data": {
      "application/vnd.jupyter.widget-view+json": {
       "model_id": "aaf6ce93a0a648cb94607f66b3299d8d",
       "version_major": 2,
       "version_minor": 0
      },
      "text/plain": [
       "HBox(children=(IntProgress(value=0), HTML(value='')))"
      ]
     },
     "metadata": {},
     "output_type": "display_data"
    },
    {
     "name": "stdout",
     "output_type": "stream",
     "text": [
      "\n",
      "0\n",
      "epoch 661: training loss 0.01119530065683648\n"
     ]
    },
    {
     "data": {
      "application/vnd.jupyter.widget-view+json": {
       "model_id": "3e7b877ab3444bec986e0ddeef7a35e3",
       "version_major": 2,
       "version_minor": 0
      },
      "text/plain": [
       "HBox(children=(IntProgress(value=0), HTML(value='')))"
      ]
     },
     "metadata": {},
     "output_type": "display_data"
    },
    {
     "name": "stdout",
     "output_type": "stream",
     "text": [
      "\n",
      "0\n",
      "epoch 662: training loss 0.011473811015021056\n"
     ]
    },
    {
     "data": {
      "application/vnd.jupyter.widget-view+json": {
       "model_id": "2c197b67d458496c9668a055a5004705",
       "version_major": 2,
       "version_minor": 0
      },
      "text/plain": [
       "HBox(children=(IntProgress(value=0), HTML(value='')))"
      ]
     },
     "metadata": {},
     "output_type": "display_data"
    },
    {
     "name": "stdout",
     "output_type": "stream",
     "text": [
      "\n",
      "0\n",
      "epoch 663: training loss 0.011341253886930644\n"
     ]
    },
    {
     "data": {
      "application/vnd.jupyter.widget-view+json": {
       "model_id": "a4028f6deeff48a194eb48a561453590",
       "version_major": 2,
       "version_minor": 0
      },
      "text/plain": [
       "HBox(children=(IntProgress(value=0), HTML(value='')))"
      ]
     },
     "metadata": {},
     "output_type": "display_data"
    },
    {
     "name": "stdout",
     "output_type": "stream",
     "text": [
      "\n",
      "0\n",
      "epoch 664: training loss 0.011101498254574835\n"
     ]
    },
    {
     "data": {
      "application/vnd.jupyter.widget-view+json": {
       "model_id": "db27472d279c493ba201c82f982c18f3",
       "version_major": 2,
       "version_minor": 0
      },
      "text/plain": [
       "HBox(children=(IntProgress(value=0), HTML(value='')))"
      ]
     },
     "metadata": {},
     "output_type": "display_data"
    },
    {
     "name": "stdout",
     "output_type": "stream",
     "text": [
      "\n",
      "0\n",
      "epoch 665: training loss 0.011375977490097285\n"
     ]
    },
    {
     "data": {
      "application/vnd.jupyter.widget-view+json": {
       "model_id": "2bf737c8ac4b470f80236e20a9cbf294",
       "version_major": 2,
       "version_minor": 0
      },
      "text/plain": [
       "HBox(children=(IntProgress(value=0), HTML(value='')))"
      ]
     },
     "metadata": {},
     "output_type": "display_data"
    },
    {
     "name": "stdout",
     "output_type": "stream",
     "text": [
      "\n",
      "0\n",
      "epoch 666: training loss 0.011304482610430568\n"
     ]
    },
    {
     "data": {
      "application/vnd.jupyter.widget-view+json": {
       "model_id": "c251576001f844f3ab08f41f0f07e9f6",
       "version_major": 2,
       "version_minor": 0
      },
      "text/plain": [
       "HBox(children=(IntProgress(value=0), HTML(value='')))"
      ]
     },
     "metadata": {},
     "output_type": "display_data"
    },
    {
     "name": "stdout",
     "output_type": "stream",
     "text": [
      "\n",
      "0\n",
      "epoch 667: training loss 0.011023662174120546\n"
     ]
    },
    {
     "data": {
      "application/vnd.jupyter.widget-view+json": {
       "model_id": "663a9ef35ce64d60a40e35afd30c7771",
       "version_major": 2,
       "version_minor": 0
      },
      "text/plain": [
       "HBox(children=(IntProgress(value=0), HTML(value='')))"
      ]
     },
     "metadata": {},
     "output_type": "display_data"
    },
    {
     "name": "stdout",
     "output_type": "stream",
     "text": [
      "\n",
      "0\n",
      "epoch 668: training loss 0.011107979621738196\n"
     ]
    },
    {
     "data": {
      "application/vnd.jupyter.widget-view+json": {
       "model_id": "b3d4de287ce8401d8a7289877dccb49e",
       "version_major": 2,
       "version_minor": 0
      },
      "text/plain": [
       "HBox(children=(IntProgress(value=0), HTML(value='')))"
      ]
     },
     "metadata": {},
     "output_type": "display_data"
    },
    {
     "name": "stdout",
     "output_type": "stream",
     "text": [
      "\n",
      "0\n",
      "epoch 669: training loss 0.011180923138745129\n"
     ]
    },
    {
     "data": {
      "application/vnd.jupyter.widget-view+json": {
       "model_id": "8988dadf6d324ebb8557b40537607735",
       "version_major": 2,
       "version_minor": 0
      },
      "text/plain": [
       "HBox(children=(IntProgress(value=0), HTML(value='')))"
      ]
     },
     "metadata": {},
     "output_type": "display_data"
    },
    {
     "name": "stdout",
     "output_type": "stream",
     "text": [
      "\n",
      "0\n",
      "epoch 670: training loss 0.010954984237905592\n"
     ]
    },
    {
     "data": {
      "application/vnd.jupyter.widget-view+json": {
       "model_id": "857536165931400cade72fa302985847",
       "version_major": 2,
       "version_minor": 0
      },
      "text/plain": [
       "HBox(children=(IntProgress(value=0), HTML(value='')))"
      ]
     },
     "metadata": {},
     "output_type": "display_data"
    },
    {
     "name": "stdout",
     "output_type": "stream",
     "text": [
      "\n",
      "0\n",
      "epoch 671: training loss 0.010916623519733548\n"
     ]
    },
    {
     "data": {
      "application/vnd.jupyter.widget-view+json": {
       "model_id": "f27fd39deaa141a597e77d2fe2963989",
       "version_major": 2,
       "version_minor": 0
      },
      "text/plain": [
       "HBox(children=(IntProgress(value=0), HTML(value='')))"
      ]
     },
     "metadata": {},
     "output_type": "display_data"
    },
    {
     "name": "stdout",
     "output_type": "stream",
     "text": [
      "\n",
      "0\n",
      "epoch 672: training loss 0.011069650859571994\n"
     ]
    },
    {
     "data": {
      "application/vnd.jupyter.widget-view+json": {
       "model_id": "6527f2fa96e548fb9d529b9f294aeea1",
       "version_major": 2,
       "version_minor": 0
      },
      "text/plain": [
       "HBox(children=(IntProgress(value=0), HTML(value='')))"
      ]
     },
     "metadata": {},
     "output_type": "display_data"
    },
    {
     "name": "stdout",
     "output_type": "stream",
     "text": [
      "\n",
      "0\n",
      "epoch 673: training loss 0.010830470719374716\n"
     ]
    },
    {
     "data": {
      "application/vnd.jupyter.widget-view+json": {
       "model_id": "8df49638ca5a4d3da22e84350aca90a8",
       "version_major": 2,
       "version_minor": 0
      },
      "text/plain": [
       "HBox(children=(IntProgress(value=0), HTML(value='')))"
      ]
     },
     "metadata": {},
     "output_type": "display_data"
    },
    {
     "name": "stdout",
     "output_type": "stream",
     "text": [
      "\n",
      "0\n",
      "epoch 674: training loss 0.010993516601156444\n"
     ]
    },
    {
     "data": {
      "application/vnd.jupyter.widget-view+json": {
       "model_id": "594831a17867431d958baf8af188f1b8",
       "version_major": 2,
       "version_minor": 0
      },
      "text/plain": [
       "HBox(children=(IntProgress(value=0), HTML(value='')))"
      ]
     },
     "metadata": {},
     "output_type": "display_data"
    },
    {
     "name": "stdout",
     "output_type": "stream",
     "text": [
      "\n",
      "0\n",
      "epoch 675: training loss 0.01075172060634941\n"
     ]
    },
    {
     "data": {
      "application/vnd.jupyter.widget-view+json": {
       "model_id": "58be028cd28843d2a05e6c89eff661e7",
       "version_major": 2,
       "version_minor": 0
      },
      "text/plain": [
       "HBox(children=(IntProgress(value=0), HTML(value='')))"
      ]
     },
     "metadata": {},
     "output_type": "display_data"
    },
    {
     "name": "stdout",
     "output_type": "stream",
     "text": [
      "\n",
      "0\n",
      "epoch 676: training loss 0.010806305231526495\n"
     ]
    },
    {
     "data": {
      "application/vnd.jupyter.widget-view+json": {
       "model_id": "f535a121b21b43eeace3ce4692d68b6b",
       "version_major": 2,
       "version_minor": 0
      },
      "text/plain": [
       "HBox(children=(IntProgress(value=0), HTML(value='')))"
      ]
     },
     "metadata": {},
     "output_type": "display_data"
    },
    {
     "name": "stdout",
     "output_type": "stream",
     "text": [
      "\n",
      "0\n",
      "epoch 677: training loss 0.010898445362690835\n"
     ]
    },
    {
     "data": {
      "application/vnd.jupyter.widget-view+json": {
       "model_id": "7e53d726dece4a73a9af693125791328",
       "version_major": 2,
       "version_minor": 0
      },
      "text/plain": [
       "HBox(children=(IntProgress(value=0), HTML(value='')))"
      ]
     },
     "metadata": {},
     "output_type": "display_data"
    },
    {
     "name": "stdout",
     "output_type": "stream",
     "text": [
      "\n",
      "0\n",
      "epoch 678: training loss 0.010712787138763814\n"
     ]
    },
    {
     "data": {
      "application/vnd.jupyter.widget-view+json": {
       "model_id": "fa7a5a7efa2b4fb9bff8e3b45405ef1b",
       "version_major": 2,
       "version_minor": 0
      },
      "text/plain": [
       "HBox(children=(IntProgress(value=0), HTML(value='')))"
      ]
     },
     "metadata": {},
     "output_type": "display_data"
    },
    {
     "name": "stdout",
     "output_type": "stream",
     "text": [
      "\n",
      "0\n",
      "epoch 679: training loss 0.010612066767644137\n"
     ]
    },
    {
     "data": {
      "application/vnd.jupyter.widget-view+json": {
       "model_id": "0533ae3fa2fd464aa8cc33dbc31426ba",
       "version_major": 2,
       "version_minor": 0
      },
      "text/plain": [
       "HBox(children=(IntProgress(value=0), HTML(value='')))"
      ]
     },
     "metadata": {},
     "output_type": "display_data"
    },
    {
     "name": "stdout",
     "output_type": "stream",
     "text": [
      "\n",
      "0\n",
      "epoch 680: training loss 0.010563962252344936\n"
     ]
    },
    {
     "data": {
      "application/vnd.jupyter.widget-view+json": {
       "model_id": "17fff8ae304548f08e7364bde5d02088",
       "version_major": 2,
       "version_minor": 0
      },
      "text/plain": [
       "HBox(children=(IntProgress(value=0), HTML(value='')))"
      ]
     },
     "metadata": {},
     "output_type": "display_data"
    },
    {
     "name": "stdout",
     "output_type": "stream",
     "text": [
      "\n",
      "0\n",
      "epoch 681: training loss 0.010769573817960919\n"
     ]
    },
    {
     "data": {
      "application/vnd.jupyter.widget-view+json": {
       "model_id": "0b3fb15938bb4274b956d70f5a658f12",
       "version_major": 2,
       "version_minor": 0
      },
      "text/plain": [
       "HBox(children=(IntProgress(value=0), HTML(value='')))"
      ]
     },
     "metadata": {},
     "output_type": "display_data"
    },
    {
     "name": "stdout",
     "output_type": "stream",
     "text": [
      "\n",
      "0\n",
      "epoch 682: training loss 0.010635714032687246\n"
     ]
    },
    {
     "data": {
      "application/vnd.jupyter.widget-view+json": {
       "model_id": "1a99be1ffc5b43a9a2dcb99bb0ea30b3",
       "version_major": 2,
       "version_minor": 0
      },
      "text/plain": [
       "HBox(children=(IntProgress(value=0), HTML(value='')))"
      ]
     },
     "metadata": {},
     "output_type": "display_data"
    },
    {
     "name": "stdout",
     "output_type": "stream",
     "text": [
      "\n",
      "0\n",
      "epoch 683: training loss 0.010586342930328101\n"
     ]
    },
    {
     "data": {
      "application/vnd.jupyter.widget-view+json": {
       "model_id": "83ea94d545f54cf980bbaf6df5454fa1",
       "version_major": 2,
       "version_minor": 0
      },
      "text/plain": [
       "HBox(children=(IntProgress(value=0), HTML(value='')))"
      ]
     },
     "metadata": {},
     "output_type": "display_data"
    },
    {
     "name": "stdout",
     "output_type": "stream",
     "text": [
      "\n",
      "0\n",
      "epoch 684: training loss 0.010441380185075105\n"
     ]
    },
    {
     "data": {
      "application/vnd.jupyter.widget-view+json": {
       "model_id": "c3562644d7e144139940af43c8e71317",
       "version_major": 2,
       "version_minor": 0
      },
      "text/plain": [
       "HBox(children=(IntProgress(value=0), HTML(value='')))"
      ]
     },
     "metadata": {},
     "output_type": "display_data"
    },
    {
     "name": "stdout",
     "output_type": "stream",
     "text": [
      "\n",
      "0\n",
      "epoch 685: training loss 0.010310240124817937\n"
     ]
    },
    {
     "data": {
      "application/vnd.jupyter.widget-view+json": {
       "model_id": "0e869a1f482347568ebecf71abb375dc",
       "version_major": 2,
       "version_minor": 0
      },
      "text/plain": [
       "HBox(children=(IntProgress(value=0), HTML(value='')))"
      ]
     },
     "metadata": {},
     "output_type": "display_data"
    },
    {
     "name": "stdout",
     "output_type": "stream",
     "text": [
      "\n",
      "0\n",
      "epoch 686: training loss 0.01072764242067933\n"
     ]
    },
    {
     "data": {
      "application/vnd.jupyter.widget-view+json": {
       "model_id": "2b95a250f4ff4caabaa263a53194ed9c",
       "version_major": 2,
       "version_minor": 0
      },
      "text/plain": [
       "HBox(children=(IntProgress(value=0), HTML(value='')))"
      ]
     },
     "metadata": {},
     "output_type": "display_data"
    },
    {
     "name": "stdout",
     "output_type": "stream",
     "text": [
      "\n",
      "0\n",
      "epoch 687: training loss 0.01029563055606559\n"
     ]
    },
    {
     "data": {
      "application/vnd.jupyter.widget-view+json": {
       "model_id": "53eb070d78af417588d07bf37208c208",
       "version_major": 2,
       "version_minor": 0
      },
      "text/plain": [
       "HBox(children=(IntProgress(value=0), HTML(value='')))"
      ]
     },
     "metadata": {},
     "output_type": "display_data"
    },
    {
     "name": "stdout",
     "output_type": "stream",
     "text": [
      "\n",
      "0\n",
      "epoch 688: training loss 0.010408671202603727\n"
     ]
    },
    {
     "data": {
      "application/vnd.jupyter.widget-view+json": {
       "model_id": "34f4e850e3b24309bdcd2a82487f4098",
       "version_major": 2,
       "version_minor": 0
      },
      "text/plain": [
       "HBox(children=(IntProgress(value=0), HTML(value='')))"
      ]
     },
     "metadata": {},
     "output_type": "display_data"
    },
    {
     "name": "stdout",
     "output_type": "stream",
     "text": [
      "\n",
      "0\n",
      "epoch 689: training loss 0.010191245684400201\n"
     ]
    },
    {
     "data": {
      "application/vnd.jupyter.widget-view+json": {
       "model_id": "0f2f2116106149c78bd783f33228976f",
       "version_major": 2,
       "version_minor": 0
      },
      "text/plain": [
       "HBox(children=(IntProgress(value=0), HTML(value='')))"
      ]
     },
     "metadata": {},
     "output_type": "display_data"
    },
    {
     "name": "stdout",
     "output_type": "stream",
     "text": [
      "\n",
      "0\n",
      "epoch 690: training loss 0.010452537275850772\n"
     ]
    },
    {
     "data": {
      "application/vnd.jupyter.widget-view+json": {
       "model_id": "8e98736ab7db40deb1c298ad52a7bf91",
       "version_major": 2,
       "version_minor": 0
      },
      "text/plain": [
       "HBox(children=(IntProgress(value=0), HTML(value='')))"
      ]
     },
     "metadata": {},
     "output_type": "display_data"
    },
    {
     "name": "stdout",
     "output_type": "stream",
     "text": [
      "\n",
      "0\n",
      "epoch 691: training loss 0.01019082314800471\n"
     ]
    },
    {
     "data": {
      "application/vnd.jupyter.widget-view+json": {
       "model_id": "5737c92d03af450392a22f2e8b667077",
       "version_major": 2,
       "version_minor": 0
      },
      "text/plain": [
       "HBox(children=(IntProgress(value=0), HTML(value='')))"
      ]
     },
     "metadata": {},
     "output_type": "display_data"
    },
    {
     "name": "stdout",
     "output_type": "stream",
     "text": [
      "\n",
      "0\n",
      "epoch 692: training loss 0.010420801052823662\n"
     ]
    },
    {
     "data": {
      "application/vnd.jupyter.widget-view+json": {
       "model_id": "8c5f5e4dea1b4ee69d092f10d396c2a1",
       "version_major": 2,
       "version_minor": 0
      },
      "text/plain": [
       "HBox(children=(IntProgress(value=0), HTML(value='')))"
      ]
     },
     "metadata": {},
     "output_type": "display_data"
    },
    {
     "name": "stdout",
     "output_type": "stream",
     "text": [
      "\n",
      "0\n",
      "epoch 693: training loss 0.010131016452796758\n"
     ]
    },
    {
     "data": {
      "application/vnd.jupyter.widget-view+json": {
       "model_id": "ed282d6b5c374824a768eb43a8e59ecd",
       "version_major": 2,
       "version_minor": 0
      },
      "text/plain": [
       "HBox(children=(IntProgress(value=0), HTML(value='')))"
      ]
     },
     "metadata": {},
     "output_type": "display_data"
    },
    {
     "name": "stdout",
     "output_type": "stream",
     "text": [
      "\n",
      "0\n",
      "epoch 694: training loss 0.01023942620959133\n"
     ]
    },
    {
     "data": {
      "application/vnd.jupyter.widget-view+json": {
       "model_id": "8826d9a1a15a413d8d3c95a889e18bb9",
       "version_major": 2,
       "version_minor": 0
      },
      "text/plain": [
       "HBox(children=(IntProgress(value=0), HTML(value='')))"
      ]
     },
     "metadata": {},
     "output_type": "display_data"
    },
    {
     "name": "stdout",
     "output_type": "stream",
     "text": [
      "\n",
      "0\n",
      "epoch 695: training loss 0.01009310134453699\n"
     ]
    },
    {
     "data": {
      "application/vnd.jupyter.widget-view+json": {
       "model_id": "461c4c502ab84fc981dfca00f0501097",
       "version_major": 2,
       "version_minor": 0
      },
      "text/plain": [
       "HBox(children=(IntProgress(value=0), HTML(value='')))"
      ]
     },
     "metadata": {},
     "output_type": "display_data"
    },
    {
     "name": "stdout",
     "output_type": "stream",
     "text": [
      "\n",
      "0\n",
      "epoch 696: training loss 0.010237739183939993\n"
     ]
    },
    {
     "data": {
      "application/vnd.jupyter.widget-view+json": {
       "model_id": "71ad5a25cd2b4e838f3099ccbc24bdb5",
       "version_major": 2,
       "version_minor": 0
      },
      "text/plain": [
       "HBox(children=(IntProgress(value=0), HTML(value='')))"
      ]
     },
     "metadata": {},
     "output_type": "display_data"
    },
    {
     "name": "stdout",
     "output_type": "stream",
     "text": [
      "\n",
      "0\n",
      "epoch 697: training loss 0.01000788226025179\n"
     ]
    },
    {
     "data": {
      "application/vnd.jupyter.widget-view+json": {
       "model_id": "7384f4304b874dc7b94c613b707bec3e",
       "version_major": 2,
       "version_minor": 0
      },
      "text/plain": [
       "HBox(children=(IntProgress(value=0), HTML(value='')))"
      ]
     },
     "metadata": {},
     "output_type": "display_data"
    },
    {
     "name": "stdout",
     "output_type": "stream",
     "text": [
      "\n",
      "0\n",
      "epoch 698: training loss 0.009982292281929404\n"
     ]
    },
    {
     "data": {
      "application/vnd.jupyter.widget-view+json": {
       "model_id": "93142331b02a4ae789a7a3cab284a1d4",
       "version_major": 2,
       "version_minor": 0
      },
      "text/plain": [
       "HBox(children=(IntProgress(value=0), HTML(value='')))"
      ]
     },
     "metadata": {},
     "output_type": "display_data"
    },
    {
     "name": "stdout",
     "output_type": "stream",
     "text": [
      "\n",
      "0\n",
      "epoch 699: training loss 0.010025725048035384\n"
     ]
    },
    {
     "data": {
      "application/vnd.jupyter.widget-view+json": {
       "model_id": "f0bb3e7f3f9e4244bd1d50020c506a33",
       "version_major": 2,
       "version_minor": 0
      },
      "text/plain": [
       "HBox(children=(IntProgress(value=0), HTML(value='')))"
      ]
     },
     "metadata": {},
     "output_type": "display_data"
    },
    {
     "name": "stdout",
     "output_type": "stream",
     "text": [
      "\n",
      "0\n",
      "epoch 700: training loss 0.010056786891072988\n"
     ]
    },
    {
     "data": {
      "application/vnd.jupyter.widget-view+json": {
       "model_id": "eefd03325c9842aea655d804bfd4dfd4",
       "version_major": 2,
       "version_minor": 0
      },
      "text/plain": [
       "HBox(children=(IntProgress(value=0), HTML(value='')))"
      ]
     },
     "metadata": {},
     "output_type": "display_data"
    },
    {
     "name": "stdout",
     "output_type": "stream",
     "text": [
      "\n",
      "0\n",
      "epoch 701: training loss 0.009818328912369906\n"
     ]
    },
    {
     "data": {
      "application/vnd.jupyter.widget-view+json": {
       "model_id": "d46e5a3a6b464421819669a61d5c2af5",
       "version_major": 2,
       "version_minor": 0
      },
      "text/plain": [
       "HBox(children=(IntProgress(value=0), HTML(value='')))"
      ]
     },
     "metadata": {},
     "output_type": "display_data"
    },
    {
     "name": "stdout",
     "output_type": "stream",
     "text": [
      "\n",
      "0\n",
      "epoch 702: training loss 0.009915239191614092\n"
     ]
    },
    {
     "data": {
      "application/vnd.jupyter.widget-view+json": {
       "model_id": "72bb2fe8ec7443279f842a289537f2e1",
       "version_major": 2,
       "version_minor": 0
      },
      "text/plain": [
       "HBox(children=(IntProgress(value=0), HTML(value='')))"
      ]
     },
     "metadata": {},
     "output_type": "display_data"
    },
    {
     "name": "stdout",
     "output_type": "stream",
     "text": [
      "\n",
      "0\n",
      "epoch 703: training loss 0.009984442270360888\n"
     ]
    },
    {
     "data": {
      "application/vnd.jupyter.widget-view+json": {
       "model_id": "eae00d22857043328f5c28daeeab1217",
       "version_major": 2,
       "version_minor": 0
      },
      "text/plain": [
       "HBox(children=(IntProgress(value=0), HTML(value='')))"
      ]
     },
     "metadata": {},
     "output_type": "display_data"
    },
    {
     "name": "stdout",
     "output_type": "stream",
     "text": [
      "\n",
      "0\n",
      "epoch 704: training loss 0.009736913405358791\n"
     ]
    },
    {
     "data": {
      "application/vnd.jupyter.widget-view+json": {
       "model_id": "66a92daabfeb418b99feaf01b621d111",
       "version_major": 2,
       "version_minor": 0
      },
      "text/plain": [
       "HBox(children=(IntProgress(value=0), HTML(value='')))"
      ]
     },
     "metadata": {},
     "output_type": "display_data"
    },
    {
     "name": "stdout",
     "output_type": "stream",
     "text": [
      "\n",
      "0\n",
      "epoch 705: training loss 0.009744830864947289\n"
     ]
    },
    {
     "data": {
      "application/vnd.jupyter.widget-view+json": {
       "model_id": "1652977da0694795b044750dc00a9bd8",
       "version_major": 2,
       "version_minor": 0
      },
      "text/plain": [
       "HBox(children=(IntProgress(value=0), HTML(value='')))"
      ]
     },
     "metadata": {},
     "output_type": "display_data"
    },
    {
     "name": "stdout",
     "output_type": "stream",
     "text": [
      "\n",
      "0\n",
      "epoch 706: training loss 0.009826551654841751\n"
     ]
    },
    {
     "data": {
      "application/vnd.jupyter.widget-view+json": {
       "model_id": "c211f529acd34c569bb4cc531e0cb2b4",
       "version_major": 2,
       "version_minor": 0
      },
      "text/plain": [
       "HBox(children=(IntProgress(value=0), HTML(value='')))"
      ]
     },
     "metadata": {},
     "output_type": "display_data"
    },
    {
     "name": "stdout",
     "output_type": "stream",
     "text": [
      "\n",
      "0\n",
      "epoch 707: training loss 0.009851652015931904\n"
     ]
    },
    {
     "data": {
      "application/vnd.jupyter.widget-view+json": {
       "model_id": "5bb49d0974a942348334869924eee5d7",
       "version_major": 2,
       "version_minor": 0
      },
      "text/plain": [
       "HBox(children=(IntProgress(value=0), HTML(value='')))"
      ]
     },
     "metadata": {},
     "output_type": "display_data"
    },
    {
     "name": "stdout",
     "output_type": "stream",
     "text": [
      "\n",
      "0\n",
      "epoch 708: training loss 0.009798582413932309\n"
     ]
    },
    {
     "data": {
      "application/vnd.jupyter.widget-view+json": {
       "model_id": "046ab80e1ba44e7cb014a5f01a37430d",
       "version_major": 2,
       "version_minor": 0
      },
      "text/plain": [
       "HBox(children=(IntProgress(value=0), HTML(value='')))"
      ]
     },
     "metadata": {},
     "output_type": "display_data"
    },
    {
     "name": "stdout",
     "output_type": "stream",
     "text": [
      "\n",
      "0\n",
      "epoch 709: training loss 0.00959659408312291\n"
     ]
    },
    {
     "data": {
      "application/vnd.jupyter.widget-view+json": {
       "model_id": "cf6fc5fc285b42cba7d6caf3022a366d",
       "version_major": 2,
       "version_minor": 0
      },
      "text/plain": [
       "HBox(children=(IntProgress(value=0), HTML(value='')))"
      ]
     },
     "metadata": {},
     "output_type": "display_data"
    },
    {
     "name": "stdout",
     "output_type": "stream",
     "text": [
      "\n",
      "0\n",
      "epoch 710: training loss 0.009742407917510718\n"
     ]
    },
    {
     "data": {
      "application/vnd.jupyter.widget-view+json": {
       "model_id": "ae283978ac6c46bebf325d3e31ef0293",
       "version_major": 2,
       "version_minor": 0
      },
      "text/plain": [
       "HBox(children=(IntProgress(value=0), HTML(value='')))"
      ]
     },
     "metadata": {},
     "output_type": "display_data"
    },
    {
     "name": "stdout",
     "output_type": "stream",
     "text": [
      "\n",
      "0\n",
      "epoch 711: training loss 0.009391186439897866\n"
     ]
    },
    {
     "data": {
      "application/vnd.jupyter.widget-view+json": {
       "model_id": "c08a3f977ec64ad1930d7eb17eaaf40b",
       "version_major": 2,
       "version_minor": 0
      },
      "text/plain": [
       "HBox(children=(IntProgress(value=0), HTML(value='')))"
      ]
     },
     "metadata": {},
     "output_type": "display_data"
    },
    {
     "name": "stdout",
     "output_type": "stream",
     "text": [
      "\n",
      "0\n",
      "epoch 712: training loss 0.00964676181320101\n"
     ]
    },
    {
     "data": {
      "application/vnd.jupyter.widget-view+json": {
       "model_id": "42275b39baeb4fb3993134c835c2f470",
       "version_major": 2,
       "version_minor": 0
      },
      "text/plain": [
       "HBox(children=(IntProgress(value=0), HTML(value='')))"
      ]
     },
     "metadata": {},
     "output_type": "display_data"
    },
    {
     "name": "stdout",
     "output_type": "stream",
     "text": [
      "\n",
      "0\n",
      "epoch 713: training loss 0.00970039883395657\n"
     ]
    },
    {
     "data": {
      "application/vnd.jupyter.widget-view+json": {
       "model_id": "2bf353e587554ce3baea86b61c59a24e",
       "version_major": 2,
       "version_minor": 0
      },
      "text/plain": [
       "HBox(children=(IntProgress(value=0), HTML(value='')))"
      ]
     },
     "metadata": {},
     "output_type": "display_data"
    },
    {
     "name": "stdout",
     "output_type": "stream",
     "text": [
      "\n",
      "0\n",
      "epoch 714: training loss 0.009625826872652397\n"
     ]
    },
    {
     "data": {
      "application/vnd.jupyter.widget-view+json": {
       "model_id": "b1507928f44544649b73c96121cb8710",
       "version_major": 2,
       "version_minor": 0
      },
      "text/plain": [
       "HBox(children=(IntProgress(value=0), HTML(value='')))"
      ]
     },
     "metadata": {},
     "output_type": "display_data"
    },
    {
     "name": "stdout",
     "output_type": "stream",
     "text": [
      "\n",
      "0\n",
      "epoch 715: training loss 0.009338876865804195\n"
     ]
    },
    {
     "data": {
      "application/vnd.jupyter.widget-view+json": {
       "model_id": "7c9fe683790a40a4859d3f5c9e5f62a0",
       "version_major": 2,
       "version_minor": 0
      },
      "text/plain": [
       "HBox(children=(IntProgress(value=0), HTML(value='')))"
      ]
     },
     "metadata": {},
     "output_type": "display_data"
    },
    {
     "name": "stdout",
     "output_type": "stream",
     "text": [
      "\n",
      "0\n",
      "epoch 716: training loss 0.009370548322331161\n"
     ]
    },
    {
     "data": {
      "application/vnd.jupyter.widget-view+json": {
       "model_id": "d0d99873e34349b19fdaad221693820e",
       "version_major": 2,
       "version_minor": 0
      },
      "text/plain": [
       "HBox(children=(IntProgress(value=0), HTML(value='')))"
      ]
     },
     "metadata": {},
     "output_type": "display_data"
    },
    {
     "name": "stdout",
     "output_type": "stream",
     "text": [
      "\n",
      "0\n",
      "epoch 717: training loss 0.009685733527876437\n"
     ]
    },
    {
     "data": {
      "application/vnd.jupyter.widget-view+json": {
       "model_id": "b2b88a5ed6ed4c1bac15f8fc032bb6fd",
       "version_major": 2,
       "version_minor": 0
      },
      "text/plain": [
       "HBox(children=(IntProgress(value=0), HTML(value='')))"
      ]
     },
     "metadata": {},
     "output_type": "display_data"
    },
    {
     "name": "stdout",
     "output_type": "stream",
     "text": [
      "\n",
      "0\n",
      "epoch 718: training loss 0.0092579235159792\n"
     ]
    },
    {
     "data": {
      "application/vnd.jupyter.widget-view+json": {
       "model_id": "4181b297a91f40e4a480cfb135e7010b",
       "version_major": 2,
       "version_minor": 0
      },
      "text/plain": [
       "HBox(children=(IntProgress(value=0), HTML(value='')))"
      ]
     },
     "metadata": {},
     "output_type": "display_data"
    },
    {
     "name": "stdout",
     "output_type": "stream",
     "text": [
      "\n",
      "0\n",
      "epoch 719: training loss 0.009390838840045036\n"
     ]
    },
    {
     "data": {
      "application/vnd.jupyter.widget-view+json": {
       "model_id": "56e0fd74897e4dd5855e98c8d93c47fa",
       "version_major": 2,
       "version_minor": 0
      },
      "text/plain": [
       "HBox(children=(IntProgress(value=0), HTML(value='')))"
      ]
     },
     "metadata": {},
     "output_type": "display_data"
    },
    {
     "name": "stdout",
     "output_type": "stream",
     "text": [
      "\n",
      "0\n",
      "epoch 720: training loss 0.00942199811572209\n"
     ]
    },
    {
     "data": {
      "application/vnd.jupyter.widget-view+json": {
       "model_id": "32ff5d01422a4a359a1fe197f0d40bbb",
       "version_major": 2,
       "version_minor": 0
      },
      "text/plain": [
       "HBox(children=(IntProgress(value=0), HTML(value='')))"
      ]
     },
     "metadata": {},
     "output_type": "display_data"
    },
    {
     "name": "stdout",
     "output_type": "stream",
     "text": [
      "\n",
      "0\n",
      "epoch 721: training loss 0.009386207929346711\n"
     ]
    },
    {
     "data": {
      "application/vnd.jupyter.widget-view+json": {
       "model_id": "dff58ac70bd641ddb4acc52cd27cac26",
       "version_major": 2,
       "version_minor": 0
      },
      "text/plain": [
       "HBox(children=(IntProgress(value=0), HTML(value='')))"
      ]
     },
     "metadata": {},
     "output_type": "display_data"
    },
    {
     "name": "stdout",
     "output_type": "stream",
     "text": [
      "\n",
      "0\n",
      "epoch 722: training loss 0.009249494674149901\n"
     ]
    },
    {
     "data": {
      "application/vnd.jupyter.widget-view+json": {
       "model_id": "f6c2b14e776946d7899e24c6d77bd42d",
       "version_major": 2,
       "version_minor": 0
      },
      "text/plain": [
       "HBox(children=(IntProgress(value=0), HTML(value='')))"
      ]
     },
     "metadata": {},
     "output_type": "display_data"
    },
    {
     "name": "stdout",
     "output_type": "stream",
     "text": [
      "\n",
      "0\n",
      "epoch 723: training loss 0.009304728959687054\n"
     ]
    },
    {
     "data": {
      "application/vnd.jupyter.widget-view+json": {
       "model_id": "c97ade73d0564125830bb4b6b746fbef",
       "version_major": 2,
       "version_minor": 0
      },
      "text/plain": [
       "HBox(children=(IntProgress(value=0), HTML(value='')))"
      ]
     },
     "metadata": {},
     "output_type": "display_data"
    },
    {
     "name": "stdout",
     "output_type": "stream",
     "text": [
      "\n",
      "0\n",
      "epoch 724: training loss 0.009171920649241655\n"
     ]
    },
    {
     "data": {
      "application/vnd.jupyter.widget-view+json": {
       "model_id": "c433c5140125489f95c9ddb3219db462",
       "version_major": 2,
       "version_minor": 0
      },
      "text/plain": [
       "HBox(children=(IntProgress(value=0), HTML(value='')))"
      ]
     },
     "metadata": {},
     "output_type": "display_data"
    },
    {
     "name": "stdout",
     "output_type": "stream",
     "text": [
      "\n",
      "0\n",
      "epoch 725: training loss 0.009256410391535609\n"
     ]
    },
    {
     "data": {
      "application/vnd.jupyter.widget-view+json": {
       "model_id": "6775906c530944d8aa71b0b46677b011",
       "version_major": 2,
       "version_minor": 0
      },
      "text/plain": [
       "HBox(children=(IntProgress(value=0), HTML(value='')))"
      ]
     },
     "metadata": {},
     "output_type": "display_data"
    },
    {
     "name": "stdout",
     "output_type": "stream",
     "text": [
      "\n",
      "0\n",
      "epoch 726: training loss 0.009096177010796964\n"
     ]
    },
    {
     "data": {
      "application/vnd.jupyter.widget-view+json": {
       "model_id": "c6a112c7a5eb49f8b3c196178c798596",
       "version_major": 2,
       "version_minor": 0
      },
      "text/plain": [
       "HBox(children=(IntProgress(value=0), HTML(value='')))"
      ]
     },
     "metadata": {},
     "output_type": "display_data"
    },
    {
     "name": "stdout",
     "output_type": "stream",
     "text": [
      "\n",
      "0\n",
      "epoch 727: training loss 0.009132495408412069\n"
     ]
    },
    {
     "data": {
      "application/vnd.jupyter.widget-view+json": {
       "model_id": "33b75ccb21cc4d5399e6f70fdfb40529",
       "version_major": 2,
       "version_minor": 0
      },
      "text/plain": [
       "HBox(children=(IntProgress(value=0), HTML(value='')))"
      ]
     },
     "metadata": {},
     "output_type": "display_data"
    },
    {
     "name": "stdout",
     "output_type": "stream",
     "text": [
      "\n",
      "0\n",
      "epoch 728: training loss 0.009038004046306013\n"
     ]
    },
    {
     "data": {
      "application/vnd.jupyter.widget-view+json": {
       "model_id": "5147965bcc4a456cad799390c8c3a880",
       "version_major": 2,
       "version_minor": 0
      },
      "text/plain": [
       "HBox(children=(IntProgress(value=0), HTML(value='')))"
      ]
     },
     "metadata": {},
     "output_type": "display_data"
    },
    {
     "name": "stdout",
     "output_type": "stream",
     "text": [
      "\n",
      "0\n",
      "epoch 729: training loss 0.009258550209924579\n"
     ]
    },
    {
     "data": {
      "application/vnd.jupyter.widget-view+json": {
       "model_id": "01cc270f9dea4dedbfe4c71cc102bc33",
       "version_major": 2,
       "version_minor": 0
      },
      "text/plain": [
       "HBox(children=(IntProgress(value=0), HTML(value='')))"
      ]
     },
     "metadata": {},
     "output_type": "display_data"
    },
    {
     "name": "stdout",
     "output_type": "stream",
     "text": [
      "\n",
      "0\n",
      "epoch 730: training loss 0.009079429579433054\n"
     ]
    },
    {
     "data": {
      "application/vnd.jupyter.widget-view+json": {
       "model_id": "15f73f77170a4415a333572d89158cd9",
       "version_major": 2,
       "version_minor": 0
      },
      "text/plain": [
       "HBox(children=(IntProgress(value=0), HTML(value='')))"
      ]
     },
     "metadata": {},
     "output_type": "display_data"
    },
    {
     "name": "stdout",
     "output_type": "stream",
     "text": [
      "\n",
      "0\n",
      "epoch 731: training loss 0.008958490830846131\n"
     ]
    },
    {
     "data": {
      "application/vnd.jupyter.widget-view+json": {
       "model_id": "147d4f0681f0423c8ebbf11b0eb8d5e4",
       "version_major": 2,
       "version_minor": 0
      },
      "text/plain": [
       "HBox(children=(IntProgress(value=0), HTML(value='')))"
      ]
     },
     "metadata": {},
     "output_type": "display_data"
    },
    {
     "name": "stdout",
     "output_type": "stream",
     "text": [
      "\n",
      "0\n",
      "epoch 732: training loss 0.009102644040249288\n"
     ]
    },
    {
     "data": {
      "application/vnd.jupyter.widget-view+json": {
       "model_id": "db0672d6a3a5409588fa5d8de1b90bea",
       "version_major": 2,
       "version_minor": 0
      },
      "text/plain": [
       "HBox(children=(IntProgress(value=0), HTML(value='')))"
      ]
     },
     "metadata": {},
     "output_type": "display_data"
    },
    {
     "name": "stdout",
     "output_type": "stream",
     "text": [
      "\n",
      "0\n",
      "epoch 733: training loss 0.009033258692361414\n"
     ]
    },
    {
     "data": {
      "application/vnd.jupyter.widget-view+json": {
       "model_id": "5d40537437af4488b7b19b56394d22ea",
       "version_major": 2,
       "version_minor": 0
      },
      "text/plain": [
       "HBox(children=(IntProgress(value=0), HTML(value='')))"
      ]
     },
     "metadata": {},
     "output_type": "display_data"
    },
    {
     "name": "stdout",
     "output_type": "stream",
     "text": [
      "\n",
      "0\n",
      "epoch 734: training loss 0.008791750827804208\n"
     ]
    },
    {
     "data": {
      "application/vnd.jupyter.widget-view+json": {
       "model_id": "520c97d11d0e46b1a982e87ce822ccbe",
       "version_major": 2,
       "version_minor": 0
      },
      "text/plain": [
       "HBox(children=(IntProgress(value=0), HTML(value='')))"
      ]
     },
     "metadata": {},
     "output_type": "display_data"
    },
    {
     "name": "stdout",
     "output_type": "stream",
     "text": [
      "\n",
      "0\n",
      "epoch 735: training loss 0.008992618015035987\n"
     ]
    },
    {
     "data": {
      "application/vnd.jupyter.widget-view+json": {
       "model_id": "88d9eb05f8dd4954bf33b4e5b9a0033b",
       "version_major": 2,
       "version_minor": 0
      },
      "text/plain": [
       "HBox(children=(IntProgress(value=0), HTML(value='')))"
      ]
     },
     "metadata": {},
     "output_type": "display_data"
    },
    {
     "name": "stdout",
     "output_type": "stream",
     "text": [
      "\n",
      "0\n",
      "epoch 736: training loss 0.008889524866826832\n"
     ]
    },
    {
     "data": {
      "application/vnd.jupyter.widget-view+json": {
       "model_id": "9fcabd19577c41b58cf81aa7d389edc8",
       "version_major": 2,
       "version_minor": 0
      },
      "text/plain": [
       "HBox(children=(IntProgress(value=0), HTML(value='')))"
      ]
     },
     "metadata": {},
     "output_type": "display_data"
    },
    {
     "name": "stdout",
     "output_type": "stream",
     "text": [
      "\n",
      "0\n",
      "epoch 737: training loss 0.009003729083342477\n"
     ]
    },
    {
     "data": {
      "application/vnd.jupyter.widget-view+json": {
       "model_id": "ff45811b73224bb39ca91ddefe52aba3",
       "version_major": 2,
       "version_minor": 0
      },
      "text/plain": [
       "HBox(children=(IntProgress(value=0), HTML(value='')))"
      ]
     },
     "metadata": {},
     "output_type": "display_data"
    },
    {
     "name": "stdout",
     "output_type": "stream",
     "text": [
      "\n",
      "0\n",
      "epoch 738: training loss 0.008788861825596541\n"
     ]
    },
    {
     "data": {
      "application/vnd.jupyter.widget-view+json": {
       "model_id": "a454d17bb2c34958a07a633ae1649ae1",
       "version_major": 2,
       "version_minor": 0
      },
      "text/plain": [
       "HBox(children=(IntProgress(value=0), HTML(value='')))"
      ]
     },
     "metadata": {},
     "output_type": "display_data"
    },
    {
     "name": "stdout",
     "output_type": "stream",
     "text": [
      "\n",
      "0\n",
      "epoch 739: training loss 0.008753584361402318\n"
     ]
    },
    {
     "data": {
      "application/vnd.jupyter.widget-view+json": {
       "model_id": "d657dd50558141efafdeea49472cab10",
       "version_major": 2,
       "version_minor": 0
      },
      "text/plain": [
       "HBox(children=(IntProgress(value=0), HTML(value='')))"
      ]
     },
     "metadata": {},
     "output_type": "display_data"
    },
    {
     "name": "stdout",
     "output_type": "stream",
     "text": [
      "\n",
      "0\n",
      "epoch 740: training loss 0.008874325940851122\n"
     ]
    },
    {
     "data": {
      "application/vnd.jupyter.widget-view+json": {
       "model_id": "b7750e580d724649ba1cfd939807d014",
       "version_major": 2,
       "version_minor": 0
      },
      "text/plain": [
       "HBox(children=(IntProgress(value=0), HTML(value='')))"
      ]
     },
     "metadata": {},
     "output_type": "display_data"
    },
    {
     "name": "stdout",
     "output_type": "stream",
     "text": [
      "\n",
      "0\n",
      "epoch 741: training loss 0.008841346870176493\n"
     ]
    },
    {
     "data": {
      "application/vnd.jupyter.widget-view+json": {
       "model_id": "097e1005b2a6416d957605b5a711563e",
       "version_major": 2,
       "version_minor": 0
      },
      "text/plain": [
       "HBox(children=(IntProgress(value=0), HTML(value='')))"
      ]
     },
     "metadata": {},
     "output_type": "display_data"
    },
    {
     "name": "stdout",
     "output_type": "stream",
     "text": [
      "\n",
      "0\n",
      "epoch 742: training loss 0.008509087387938052\n"
     ]
    },
    {
     "data": {
      "application/vnd.jupyter.widget-view+json": {
       "model_id": "04db5eff360a4c8891af6ac5aab94d00",
       "version_major": 2,
       "version_minor": 0
      },
      "text/plain": [
       "HBox(children=(IntProgress(value=0), HTML(value='')))"
      ]
     },
     "metadata": {},
     "output_type": "display_data"
    },
    {
     "name": "stdout",
     "output_type": "stream",
     "text": [
      "\n",
      "0\n",
      "epoch 743: training loss 0.008873734775697813\n"
     ]
    },
    {
     "data": {
      "application/vnd.jupyter.widget-view+json": {
       "model_id": "387963683b3d464686efd4fdb83caeb7",
       "version_major": 2,
       "version_minor": 0
      },
      "text/plain": [
       "HBox(children=(IntProgress(value=0), HTML(value='')))"
      ]
     },
     "metadata": {},
     "output_type": "display_data"
    },
    {
     "name": "stdout",
     "output_type": "stream",
     "text": [
      "\n",
      "0\n",
      "epoch 744: training loss 0.008689489704556764\n"
     ]
    },
    {
     "data": {
      "application/vnd.jupyter.widget-view+json": {
       "model_id": "293eb7da520a401db6f8b0adf63a0632",
       "version_major": 2,
       "version_minor": 0
      },
      "text/plain": [
       "HBox(children=(IntProgress(value=0), HTML(value='')))"
      ]
     },
     "metadata": {},
     "output_type": "display_data"
    },
    {
     "name": "stdout",
     "output_type": "stream",
     "text": [
      "\n",
      "0\n",
      "epoch 745: training loss 0.008661751602776348\n"
     ]
    },
    {
     "data": {
      "application/vnd.jupyter.widget-view+json": {
       "model_id": "24c22cf8e4c64dc0b5af34052782dd2f",
       "version_major": 2,
       "version_minor": 0
      },
      "text/plain": [
       "HBox(children=(IntProgress(value=0), HTML(value='')))"
      ]
     },
     "metadata": {},
     "output_type": "display_data"
    },
    {
     "name": "stdout",
     "output_type": "stream",
     "text": [
      "\n",
      "0\n",
      "epoch 746: training loss 0.008662559883669018\n"
     ]
    },
    {
     "data": {
      "application/vnd.jupyter.widget-view+json": {
       "model_id": "6446c2fa51544ec193f1a94100800fe3",
       "version_major": 2,
       "version_minor": 0
      },
      "text/plain": [
       "HBox(children=(IntProgress(value=0), HTML(value='')))"
      ]
     },
     "metadata": {},
     "output_type": "display_data"
    },
    {
     "name": "stdout",
     "output_type": "stream",
     "text": [
      "\n",
      "0\n",
      "epoch 747: training loss 0.00863072793930769\n"
     ]
    },
    {
     "data": {
      "application/vnd.jupyter.widget-view+json": {
       "model_id": "8e6024c9240c45469999c40fe8fadf65",
       "version_major": 2,
       "version_minor": 0
      },
      "text/plain": [
       "HBox(children=(IntProgress(value=0), HTML(value='')))"
      ]
     },
     "metadata": {},
     "output_type": "display_data"
    },
    {
     "name": "stdout",
     "output_type": "stream",
     "text": [
      "\n",
      "0\n",
      "epoch 748: training loss 0.008565226785140111\n"
     ]
    },
    {
     "data": {
      "application/vnd.jupyter.widget-view+json": {
       "model_id": "9a2a95f83c354153affd056529ad2256",
       "version_major": 2,
       "version_minor": 0
      },
      "text/plain": [
       "HBox(children=(IntProgress(value=0), HTML(value='')))"
      ]
     },
     "metadata": {},
     "output_type": "display_data"
    },
    {
     "name": "stdout",
     "output_type": "stream",
     "text": [
      "\n",
      "0\n",
      "epoch 749: training loss 0.008543164876755327\n"
     ]
    },
    {
     "data": {
      "application/vnd.jupyter.widget-view+json": {
       "model_id": "99d511b7c6de406b8363ca6c4aa4c3ae",
       "version_major": 2,
       "version_minor": 0
      },
      "text/plain": [
       "HBox(children=(IntProgress(value=0), HTML(value='')))"
      ]
     },
     "metadata": {},
     "output_type": "display_data"
    },
    {
     "name": "stdout",
     "output_type": "stream",
     "text": [
      "\n",
      "0\n",
      "epoch 750: training loss 0.00861450432566926\n"
     ]
    },
    {
     "data": {
      "application/vnd.jupyter.widget-view+json": {
       "model_id": "3b1fcbe01c7543fab3f628cf5382bc23",
       "version_major": 2,
       "version_minor": 0
      },
      "text/plain": [
       "HBox(children=(IntProgress(value=0), HTML(value='')))"
      ]
     },
     "metadata": {},
     "output_type": "display_data"
    },
    {
     "name": "stdout",
     "output_type": "stream",
     "text": [
      "\n",
      "0\n",
      "epoch 751: training loss 0.008365399623289704\n"
     ]
    },
    {
     "data": {
      "application/vnd.jupyter.widget-view+json": {
       "model_id": "34b4b13f230a4002aa9c70ff3fcd8b3d",
       "version_major": 2,
       "version_minor": 0
      },
      "text/plain": [
       "HBox(children=(IntProgress(value=0), HTML(value='')))"
      ]
     },
     "metadata": {},
     "output_type": "display_data"
    },
    {
     "name": "stdout",
     "output_type": "stream",
     "text": [
      "\n",
      "0\n",
      "epoch 752: training loss 0.008506882258225233\n"
     ]
    },
    {
     "data": {
      "application/vnd.jupyter.widget-view+json": {
       "model_id": "485c333126ac4490b26ee9608d5cecb8",
       "version_major": 2,
       "version_minor": 0
      },
      "text/plain": [
       "HBox(children=(IntProgress(value=0), HTML(value='')))"
      ]
     },
     "metadata": {},
     "output_type": "display_data"
    },
    {
     "name": "stdout",
     "output_type": "stream",
     "text": [
      "\n",
      "0\n",
      "epoch 753: training loss 0.008535349515732378\n"
     ]
    },
    {
     "data": {
      "application/vnd.jupyter.widget-view+json": {
       "model_id": "73c654c6b4f4459da9c2bef3776a146a",
       "version_major": 2,
       "version_minor": 0
      },
      "text/plain": [
       "HBox(children=(IntProgress(value=0), HTML(value='')))"
      ]
     },
     "metadata": {},
     "output_type": "display_data"
    },
    {
     "name": "stdout",
     "output_type": "stream",
     "text": [
      "\n",
      "0\n",
      "epoch 754: training loss 0.008433917874936015\n"
     ]
    },
    {
     "data": {
      "application/vnd.jupyter.widget-view+json": {
       "model_id": "7d69d747806944ff96bea2ae98193914",
       "version_major": 2,
       "version_minor": 0
      },
      "text/plain": [
       "HBox(children=(IntProgress(value=0), HTML(value='')))"
      ]
     },
     "metadata": {},
     "output_type": "display_data"
    },
    {
     "name": "stdout",
     "output_type": "stream",
     "text": [
      "\n",
      "0\n",
      "epoch 755: training loss 0.00843003678601235\n"
     ]
    },
    {
     "data": {
      "application/vnd.jupyter.widget-view+json": {
       "model_id": "0df12ca7217445b0ae670d8dbec8b614",
       "version_major": 2,
       "version_minor": 0
      },
      "text/plain": [
       "HBox(children=(IntProgress(value=0), HTML(value='')))"
      ]
     },
     "metadata": {},
     "output_type": "display_data"
    },
    {
     "name": "stdout",
     "output_type": "stream",
     "text": [
      "\n",
      "0\n",
      "epoch 756: training loss 0.008363112399820238\n"
     ]
    },
    {
     "data": {
      "application/vnd.jupyter.widget-view+json": {
       "model_id": "077199ea070f4a629d61a6094b7aeb42",
       "version_major": 2,
       "version_minor": 0
      },
      "text/plain": [
       "HBox(children=(IntProgress(value=0), HTML(value='')))"
      ]
     },
     "metadata": {},
     "output_type": "display_data"
    },
    {
     "name": "stdout",
     "output_type": "stream",
     "text": [
      "\n",
      "0\n",
      "epoch 757: training loss 0.008369128061458469\n"
     ]
    },
    {
     "data": {
      "application/vnd.jupyter.widget-view+json": {
       "model_id": "1d5413ee0610430ea9f322f567c15b46",
       "version_major": 2,
       "version_minor": 0
      },
      "text/plain": [
       "HBox(children=(IntProgress(value=0), HTML(value='')))"
      ]
     },
     "metadata": {},
     "output_type": "display_data"
    },
    {
     "name": "stdout",
     "output_type": "stream",
     "text": [
      "\n",
      "0\n",
      "epoch 758: training loss 0.00832120472798124\n"
     ]
    },
    {
     "data": {
      "application/vnd.jupyter.widget-view+json": {
       "model_id": "7c0943d4eee34dfcba6046b395714835",
       "version_major": 2,
       "version_minor": 0
      },
      "text/plain": [
       "HBox(children=(IntProgress(value=0), HTML(value='')))"
      ]
     },
     "metadata": {},
     "output_type": "display_data"
    },
    {
     "name": "stdout",
     "output_type": "stream",
     "text": [
      "\n",
      "0\n",
      "epoch 759: training loss 0.008291122984373941\n"
     ]
    },
    {
     "data": {
      "application/vnd.jupyter.widget-view+json": {
       "model_id": "860c777d3367425a85c21c1e02350724",
       "version_major": 2,
       "version_minor": 0
      },
      "text/plain": [
       "HBox(children=(IntProgress(value=0), HTML(value='')))"
      ]
     },
     "metadata": {},
     "output_type": "display_data"
    },
    {
     "name": "stdout",
     "output_type": "stream",
     "text": [
      "\n",
      "0\n",
      "epoch 760: training loss 0.008315483785700052\n"
     ]
    },
    {
     "data": {
      "application/vnd.jupyter.widget-view+json": {
       "model_id": "5fb99e41ebf94238bb68a731ee15b345",
       "version_major": 2,
       "version_minor": 0
      },
      "text/plain": [
       "HBox(children=(IntProgress(value=0), HTML(value='')))"
      ]
     },
     "metadata": {},
     "output_type": "display_data"
    },
    {
     "name": "stdout",
     "output_type": "stream",
     "text": [
      "\n",
      "0\n",
      "epoch 761: training loss 0.008336022400762887\n"
     ]
    },
    {
     "data": {
      "application/vnd.jupyter.widget-view+json": {
       "model_id": "e584030dab1d4e4e8b378c632742097f",
       "version_major": 2,
       "version_minor": 0
      },
      "text/plain": [
       "HBox(children=(IntProgress(value=0), HTML(value='')))"
      ]
     },
     "metadata": {},
     "output_type": "display_data"
    },
    {
     "name": "stdout",
     "output_type": "stream",
     "text": [
      "\n",
      "0\n",
      "epoch 762: training loss 0.008172565875574946\n"
     ]
    },
    {
     "data": {
      "application/vnd.jupyter.widget-view+json": {
       "model_id": "fcaad108fe3145f6a04d4dac5beefb7f",
       "version_major": 2,
       "version_minor": 0
      },
      "text/plain": [
       "HBox(children=(IntProgress(value=0), HTML(value='')))"
      ]
     },
     "metadata": {},
     "output_type": "display_data"
    },
    {
     "name": "stdout",
     "output_type": "stream",
     "text": [
      "\n",
      "0\n",
      "epoch 763: training loss 0.008213723341468722\n"
     ]
    },
    {
     "data": {
      "application/vnd.jupyter.widget-view+json": {
       "model_id": "b339e5f2fb0a45fc827c3d6e147cdd33",
       "version_major": 2,
       "version_minor": 0
      },
      "text/plain": [
       "HBox(children=(IntProgress(value=0), HTML(value='')))"
      ]
     },
     "metadata": {},
     "output_type": "display_data"
    },
    {
     "name": "stdout",
     "output_type": "stream",
     "text": [
      "\n",
      "0\n",
      "epoch 764: training loss 0.008160990970209241\n"
     ]
    },
    {
     "data": {
      "application/vnd.jupyter.widget-view+json": {
       "model_id": "a0d60eb898d34270bd8a1f36ff264653",
       "version_major": 2,
       "version_minor": 0
      },
      "text/plain": [
       "HBox(children=(IntProgress(value=0), HTML(value='')))"
      ]
     },
     "metadata": {},
     "output_type": "display_data"
    },
    {
     "name": "stdout",
     "output_type": "stream",
     "text": [
      "\n",
      "0\n",
      "epoch 765: training loss 0.008230824542697518\n"
     ]
    },
    {
     "data": {
      "application/vnd.jupyter.widget-view+json": {
       "model_id": "2aa2037d0719456da4d626cf0d747e0c",
       "version_major": 2,
       "version_minor": 0
      },
      "text/plain": [
       "HBox(children=(IntProgress(value=0), HTML(value='')))"
      ]
     },
     "metadata": {},
     "output_type": "display_data"
    },
    {
     "name": "stdout",
     "output_type": "stream",
     "text": [
      "\n",
      "0\n",
      "epoch 766: training loss 0.008159969388507306\n"
     ]
    },
    {
     "data": {
      "application/vnd.jupyter.widget-view+json": {
       "model_id": "80c09397743945e799c0c1ca982d5e69",
       "version_major": 2,
       "version_minor": 0
      },
      "text/plain": [
       "HBox(children=(IntProgress(value=0), HTML(value='')))"
      ]
     },
     "metadata": {},
     "output_type": "display_data"
    },
    {
     "name": "stdout",
     "output_type": "stream",
     "text": [
      "\n",
      "0\n",
      "epoch 767: training loss 0.007974637526785955\n"
     ]
    },
    {
     "data": {
      "application/vnd.jupyter.widget-view+json": {
       "model_id": "610c240c56774c05b3e19b91816c73ae",
       "version_major": 2,
       "version_minor": 0
      },
      "text/plain": [
       "HBox(children=(IntProgress(value=0), HTML(value='')))"
      ]
     },
     "metadata": {},
     "output_type": "display_data"
    },
    {
     "name": "stdout",
     "output_type": "stream",
     "text": [
      "\n",
      "0\n",
      "epoch 768: training loss 0.00820233129314147\n"
     ]
    },
    {
     "data": {
      "application/vnd.jupyter.widget-view+json": {
       "model_id": "9cedbc12f1274bce802593283902578c",
       "version_major": 2,
       "version_minor": 0
      },
      "text/plain": [
       "HBox(children=(IntProgress(value=0), HTML(value='')))"
      ]
     },
     "metadata": {},
     "output_type": "display_data"
    },
    {
     "name": "stdout",
     "output_type": "stream",
     "text": [
      "\n",
      "0\n",
      "epoch 769: training loss 0.008029633917612956\n"
     ]
    },
    {
     "data": {
      "application/vnd.jupyter.widget-view+json": {
       "model_id": "3dab2765278246c0939e72567b9eba14",
       "version_major": 2,
       "version_minor": 0
      },
      "text/plain": [
       "HBox(children=(IntProgress(value=0), HTML(value='')))"
      ]
     },
     "metadata": {},
     "output_type": "display_data"
    },
    {
     "name": "stdout",
     "output_type": "stream",
     "text": [
      "\n",
      "0\n",
      "epoch 770: training loss 0.008018064259085805\n"
     ]
    },
    {
     "data": {
      "application/vnd.jupyter.widget-view+json": {
       "model_id": "5c14676e487445beb237f8a7bb80dae2",
       "version_major": 2,
       "version_minor": 0
      },
      "text/plain": [
       "HBox(children=(IntProgress(value=0), HTML(value='')))"
      ]
     },
     "metadata": {},
     "output_type": "display_data"
    },
    {
     "name": "stdout",
     "output_type": "stream",
     "text": [
      "\n",
      "0\n",
      "epoch 771: training loss 0.00813241360709071\n"
     ]
    },
    {
     "data": {
      "application/vnd.jupyter.widget-view+json": {
       "model_id": "5c33fe2bc3994897baad0455e8d1bf60",
       "version_major": 2,
       "version_minor": 0
      },
      "text/plain": [
       "HBox(children=(IntProgress(value=0), HTML(value='')))"
      ]
     },
     "metadata": {},
     "output_type": "display_data"
    },
    {
     "name": "stdout",
     "output_type": "stream",
     "text": [
      "\n",
      "0\n",
      "epoch 772: training loss 0.00800587672740221\n"
     ]
    },
    {
     "data": {
      "application/vnd.jupyter.widget-view+json": {
       "model_id": "699135794419433499528fd142bb027a",
       "version_major": 2,
       "version_minor": 0
      },
      "text/plain": [
       "HBox(children=(IntProgress(value=0), HTML(value='')))"
      ]
     },
     "metadata": {},
     "output_type": "display_data"
    },
    {
     "name": "stdout",
     "output_type": "stream",
     "text": [
      "\n",
      "0\n",
      "epoch 773: training loss 0.008041751002892852\n"
     ]
    },
    {
     "data": {
      "application/vnd.jupyter.widget-view+json": {
       "model_id": "976d9e261f644ac7809efe14f1061e99",
       "version_major": 2,
       "version_minor": 0
      },
      "text/plain": [
       "HBox(children=(IntProgress(value=0), HTML(value='')))"
      ]
     },
     "metadata": {},
     "output_type": "display_data"
    },
    {
     "name": "stdout",
     "output_type": "stream",
     "text": [
      "\n",
      "0\n",
      "epoch 774: training loss 0.008047186920884996\n"
     ]
    },
    {
     "data": {
      "application/vnd.jupyter.widget-view+json": {
       "model_id": "eba05aadc6bf4d8cb5bb667bdc817a68",
       "version_major": 2,
       "version_minor": 0
      },
      "text/plain": [
       "HBox(children=(IntProgress(value=0), HTML(value='')))"
      ]
     },
     "metadata": {},
     "output_type": "display_data"
    },
    {
     "name": "stdout",
     "output_type": "stream",
     "text": [
      "\n",
      "0\n",
      "epoch 775: training loss 0.007862694088835269\n"
     ]
    },
    {
     "data": {
      "application/vnd.jupyter.widget-view+json": {
       "model_id": "8c658882f67f4e888e1ea451d921a55d",
       "version_major": 2,
       "version_minor": 0
      },
      "text/plain": [
       "HBox(children=(IntProgress(value=0), HTML(value='')))"
      ]
     },
     "metadata": {},
     "output_type": "display_data"
    },
    {
     "name": "stdout",
     "output_type": "stream",
     "text": [
      "\n",
      "0\n",
      "epoch 776: training loss 0.00787728235591203\n"
     ]
    },
    {
     "data": {
      "application/vnd.jupyter.widget-view+json": {
       "model_id": "7f6007653d91469f82c05b954e49e9eb",
       "version_major": 2,
       "version_minor": 0
      },
      "text/plain": [
       "HBox(children=(IntProgress(value=0), HTML(value='')))"
      ]
     },
     "metadata": {},
     "output_type": "display_data"
    },
    {
     "name": "stdout",
     "output_type": "stream",
     "text": [
      "\n",
      "0\n",
      "epoch 777: training loss 0.007907959939911962\n"
     ]
    },
    {
     "data": {
      "application/vnd.jupyter.widget-view+json": {
       "model_id": "9101559962ed404082faac8aa7b28a39",
       "version_major": 2,
       "version_minor": 0
      },
      "text/plain": [
       "HBox(children=(IntProgress(value=0), HTML(value='')))"
      ]
     },
     "metadata": {},
     "output_type": "display_data"
    },
    {
     "name": "stdout",
     "output_type": "stream",
     "text": [
      "\n",
      "0\n",
      "epoch 778: training loss 0.007799651068635285\n"
     ]
    },
    {
     "data": {
      "application/vnd.jupyter.widget-view+json": {
       "model_id": "9a1cb57bf40c4dcabb1a34bd9ea313c8",
       "version_major": 2,
       "version_minor": 0
      },
      "text/plain": [
       "HBox(children=(IntProgress(value=0), HTML(value='')))"
      ]
     },
     "metadata": {},
     "output_type": "display_data"
    },
    {
     "name": "stdout",
     "output_type": "stream",
     "text": [
      "\n",
      "0\n",
      "epoch 779: training loss 0.007922688985709102\n"
     ]
    },
    {
     "data": {
      "application/vnd.jupyter.widget-view+json": {
       "model_id": "41d3881bddf445b1bfa76486aa7723b7",
       "version_major": 2,
       "version_minor": 0
      },
      "text/plain": [
       "HBox(children=(IntProgress(value=0), HTML(value='')))"
      ]
     },
     "metadata": {},
     "output_type": "display_data"
    },
    {
     "name": "stdout",
     "output_type": "stream",
     "text": [
      "\n",
      "0\n",
      "epoch 780: training loss 0.007760001067072153\n"
     ]
    },
    {
     "data": {
      "application/vnd.jupyter.widget-view+json": {
       "model_id": "37a06f228c2143ff9b41561fbf72d9c8",
       "version_major": 2,
       "version_minor": 0
      },
      "text/plain": [
       "HBox(children=(IntProgress(value=0), HTML(value='')))"
      ]
     },
     "metadata": {},
     "output_type": "display_data"
    },
    {
     "name": "stdout",
     "output_type": "stream",
     "text": [
      "\n",
      "0\n",
      "epoch 781: training loss 0.007871964914957062\n"
     ]
    },
    {
     "data": {
      "application/vnd.jupyter.widget-view+json": {
       "model_id": "a10ca52412444564abaf0f4a8b4f67df",
       "version_major": 2,
       "version_minor": 0
      },
      "text/plain": [
       "HBox(children=(IntProgress(value=0), HTML(value='')))"
      ]
     },
     "metadata": {},
     "output_type": "display_data"
    },
    {
     "name": "stdout",
     "output_type": "stream",
     "text": [
      "\n",
      "0\n",
      "epoch 782: training loss 0.007777287480421364\n"
     ]
    },
    {
     "data": {
      "application/vnd.jupyter.widget-view+json": {
       "model_id": "ed303f442264421a9fd20ec07676c76d",
       "version_major": 2,
       "version_minor": 0
      },
      "text/plain": [
       "HBox(children=(IntProgress(value=0), HTML(value='')))"
      ]
     },
     "metadata": {},
     "output_type": "display_data"
    },
    {
     "name": "stdout",
     "output_type": "stream",
     "text": [
      "\n",
      "0\n",
      "epoch 783: training loss 0.00773684568470344\n"
     ]
    },
    {
     "data": {
      "application/vnd.jupyter.widget-view+json": {
       "model_id": "7ee695215855449f9617babd79cbfbc4",
       "version_major": 2,
       "version_minor": 0
      },
      "text/plain": [
       "HBox(children=(IntProgress(value=0), HTML(value='')))"
      ]
     },
     "metadata": {},
     "output_type": "display_data"
    },
    {
     "name": "stdout",
     "output_type": "stream",
     "text": [
      "\n",
      "0\n",
      "epoch 784: training loss 0.007763343416154384\n"
     ]
    },
    {
     "data": {
      "application/vnd.jupyter.widget-view+json": {
       "model_id": "75f36506f7f541e0a88fb354846f148c",
       "version_major": 2,
       "version_minor": 0
      },
      "text/plain": [
       "HBox(children=(IntProgress(value=0), HTML(value='')))"
      ]
     },
     "metadata": {},
     "output_type": "display_data"
    },
    {
     "name": "stdout",
     "output_type": "stream",
     "text": [
      "\n",
      "0\n",
      "epoch 785: training loss 0.0076869050273671745\n"
     ]
    },
    {
     "data": {
      "application/vnd.jupyter.widget-view+json": {
       "model_id": "75abbf1fc2de4df5a45d94ea0446469e",
       "version_major": 2,
       "version_minor": 0
      },
      "text/plain": [
       "HBox(children=(IntProgress(value=0), HTML(value='')))"
      ]
     },
     "metadata": {},
     "output_type": "display_data"
    },
    {
     "name": "stdout",
     "output_type": "stream",
     "text": [
      "\n",
      "0\n",
      "epoch 786: training loss 0.007632860662415624\n"
     ]
    },
    {
     "data": {
      "application/vnd.jupyter.widget-view+json": {
       "model_id": "83ee53c7371d411cae908cf1989bce60",
       "version_major": 2,
       "version_minor": 0
      },
      "text/plain": [
       "HBox(children=(IntProgress(value=0), HTML(value='')))"
      ]
     },
     "metadata": {},
     "output_type": "display_data"
    },
    {
     "name": "stdout",
     "output_type": "stream",
     "text": [
      "\n",
      "0\n",
      "epoch 787: training loss 0.007661665584892035\n"
     ]
    },
    {
     "data": {
      "application/vnd.jupyter.widget-view+json": {
       "model_id": "d130ab15a1fc49778027b49d9d9fff42",
       "version_major": 2,
       "version_minor": 0
      },
      "text/plain": [
       "HBox(children=(IntProgress(value=0), HTML(value='')))"
      ]
     },
     "metadata": {},
     "output_type": "display_data"
    },
    {
     "name": "stdout",
     "output_type": "stream",
     "text": [
      "\n",
      "0\n",
      "epoch 788: training loss 0.00775944484397769\n"
     ]
    },
    {
     "data": {
      "application/vnd.jupyter.widget-view+json": {
       "model_id": "99aab170ac724d7ea9469d829527015d",
       "version_major": 2,
       "version_minor": 0
      },
      "text/plain": [
       "HBox(children=(IntProgress(value=0), HTML(value='')))"
      ]
     },
     "metadata": {},
     "output_type": "display_data"
    },
    {
     "name": "stdout",
     "output_type": "stream",
     "text": [
      "\n",
      "0\n",
      "epoch 789: training loss 0.007575134669896216\n"
     ]
    },
    {
     "data": {
      "application/vnd.jupyter.widget-view+json": {
       "model_id": "883cd5d357554665a123f5b24036b0e6",
       "version_major": 2,
       "version_minor": 0
      },
      "text/plain": [
       "HBox(children=(IntProgress(value=0), HTML(value='')))"
      ]
     },
     "metadata": {},
     "output_type": "display_data"
    },
    {
     "name": "stdout",
     "output_type": "stream",
     "text": [
      "\n",
      "0\n",
      "epoch 790: training loss 0.007670955639332533\n"
     ]
    },
    {
     "data": {
      "application/vnd.jupyter.widget-view+json": {
       "model_id": "3c4dfa5e817645558cf29e4f3e3845dd",
       "version_major": 2,
       "version_minor": 0
      },
      "text/plain": [
       "HBox(children=(IntProgress(value=0), HTML(value='')))"
      ]
     },
     "metadata": {},
     "output_type": "display_data"
    },
    {
     "name": "stdout",
     "output_type": "stream",
     "text": [
      "\n",
      "0\n",
      "epoch 791: training loss 0.00750459261587821\n"
     ]
    },
    {
     "data": {
      "application/vnd.jupyter.widget-view+json": {
       "model_id": "f4f4becc0b7f4395b3ec82dabf89abe9",
       "version_major": 2,
       "version_minor": 0
      },
      "text/plain": [
       "HBox(children=(IntProgress(value=0), HTML(value='')))"
      ]
     },
     "metadata": {},
     "output_type": "display_data"
    },
    {
     "name": "stdout",
     "output_type": "stream",
     "text": [
      "\n",
      "0\n",
      "epoch 792: training loss 0.0076879148068837826\n"
     ]
    },
    {
     "data": {
      "application/vnd.jupyter.widget-view+json": {
       "model_id": "df1dbad75711443da6393301ff397651",
       "version_major": 2,
       "version_minor": 0
      },
      "text/plain": [
       "HBox(children=(IntProgress(value=0), HTML(value='')))"
      ]
     },
     "metadata": {},
     "output_type": "display_data"
    },
    {
     "name": "stdout",
     "output_type": "stream",
     "text": [
      "\n",
      "0\n",
      "epoch 793: training loss 0.007490856267977506\n"
     ]
    },
    {
     "data": {
      "application/vnd.jupyter.widget-view+json": {
       "model_id": "de44edc3e4434bb2bed42b6c24f4a565",
       "version_major": 2,
       "version_minor": 0
      },
      "text/plain": [
       "HBox(children=(IntProgress(value=0), HTML(value='')))"
      ]
     },
     "metadata": {},
     "output_type": "display_data"
    },
    {
     "name": "stdout",
     "output_type": "stream",
     "text": [
      "\n",
      "0\n",
      "epoch 794: training loss 0.007575125822331757\n"
     ]
    },
    {
     "data": {
      "application/vnd.jupyter.widget-view+json": {
       "model_id": "3cfef2616aaa481ca60237c4067aa49a",
       "version_major": 2,
       "version_minor": 0
      },
      "text/plain": [
       "HBox(children=(IntProgress(value=0), HTML(value='')))"
      ]
     },
     "metadata": {},
     "output_type": "display_data"
    },
    {
     "name": "stdout",
     "output_type": "stream",
     "text": [
      "\n",
      "0\n",
      "epoch 795: training loss 0.007461250156629831\n"
     ]
    },
    {
     "data": {
      "application/vnd.jupyter.widget-view+json": {
       "model_id": "687371a29c23480882dc7e71d8778823",
       "version_major": 2,
       "version_minor": 0
      },
      "text/plain": [
       "HBox(children=(IntProgress(value=0), HTML(value='')))"
      ]
     },
     "metadata": {},
     "output_type": "display_data"
    },
    {
     "name": "stdout",
     "output_type": "stream",
     "text": [
      "\n",
      "0\n",
      "epoch 796: training loss 0.007504849133547395\n"
     ]
    },
    {
     "data": {
      "application/vnd.jupyter.widget-view+json": {
       "model_id": "b3a4c98acc694efdba5fbaee25971b66",
       "version_major": 2,
       "version_minor": 0
      },
      "text/plain": [
       "HBox(children=(IntProgress(value=0), HTML(value='')))"
      ]
     },
     "metadata": {},
     "output_type": "display_data"
    },
    {
     "name": "stdout",
     "output_type": "stream",
     "text": [
      "\n",
      "0\n",
      "epoch 797: training loss 0.007476390276569873\n"
     ]
    },
    {
     "data": {
      "application/vnd.jupyter.widget-view+json": {
       "model_id": "e55e17e9756e47b8af9a1957ac916842",
       "version_major": 2,
       "version_minor": 0
      },
      "text/plain": [
       "HBox(children=(IntProgress(value=0), HTML(value='')))"
      ]
     },
     "metadata": {},
     "output_type": "display_data"
    },
    {
     "name": "stdout",
     "output_type": "stream",
     "text": [
      "\n",
      "0\n",
      "epoch 798: training loss 0.0074289184040389955\n"
     ]
    },
    {
     "data": {
      "application/vnd.jupyter.widget-view+json": {
       "model_id": "fb870220e7a94112897a3072f7a8e134",
       "version_major": 2,
       "version_minor": 0
      },
      "text/plain": [
       "HBox(children=(IntProgress(value=0), HTML(value='')))"
      ]
     },
     "metadata": {},
     "output_type": "display_data"
    },
    {
     "name": "stdout",
     "output_type": "stream",
     "text": [
      "\n",
      "0\n",
      "epoch 799: training loss 0.007438786486163735\n"
     ]
    },
    {
     "data": {
      "application/vnd.jupyter.widget-view+json": {
       "model_id": "d6cf60ad3ffd4f7094f1beb9b881f1c8",
       "version_major": 2,
       "version_minor": 0
      },
      "text/plain": [
       "HBox(children=(IntProgress(value=0), HTML(value='')))"
      ]
     },
     "metadata": {},
     "output_type": "display_data"
    },
    {
     "name": "stdout",
     "output_type": "stream",
     "text": [
      "\n",
      "0\n",
      "epoch 800: training loss 0.007311854115687311\n"
     ]
    },
    {
     "data": {
      "application/vnd.jupyter.widget-view+json": {
       "model_id": "4553faa6a5004a5aa976472bbac374a4",
       "version_major": 2,
       "version_minor": 0
      },
      "text/plain": [
       "HBox(children=(IntProgress(value=0), HTML(value='')))"
      ]
     },
     "metadata": {},
     "output_type": "display_data"
    },
    {
     "name": "stdout",
     "output_type": "stream",
     "text": [
      "\n",
      "0\n",
      "epoch 801: training loss 0.007557540640700609\n"
     ]
    },
    {
     "data": {
      "application/vnd.jupyter.widget-view+json": {
       "model_id": "33e096171f984439a59c7f0d3445c52b",
       "version_major": 2,
       "version_minor": 0
      },
      "text/plain": [
       "HBox(children=(IntProgress(value=0), HTML(value='')))"
      ]
     },
     "metadata": {},
     "output_type": "display_data"
    },
    {
     "name": "stdout",
     "output_type": "stream",
     "text": [
      "\n",
      "0\n",
      "epoch 802: training loss 0.007225477083120495\n"
     ]
    },
    {
     "data": {
      "application/vnd.jupyter.widget-view+json": {
       "model_id": "26e85539f2364d0cb7a516becffd0c72",
       "version_major": 2,
       "version_minor": 0
      },
      "text/plain": [
       "HBox(children=(IntProgress(value=0), HTML(value='')))"
      ]
     },
     "metadata": {},
     "output_type": "display_data"
    },
    {
     "name": "stdout",
     "output_type": "stream",
     "text": [
      "\n",
      "0\n",
      "epoch 803: training loss 0.007329318430274725\n"
     ]
    },
    {
     "data": {
      "application/vnd.jupyter.widget-view+json": {
       "model_id": "9244d943969d492f9786cb0f75b50e6a",
       "version_major": 2,
       "version_minor": 0
      },
      "text/plain": [
       "HBox(children=(IntProgress(value=0), HTML(value='')))"
      ]
     },
     "metadata": {},
     "output_type": "display_data"
    },
    {
     "name": "stdout",
     "output_type": "stream",
     "text": [
      "\n",
      "0\n",
      "epoch 804: training loss 0.007416526316665113\n"
     ]
    },
    {
     "data": {
      "application/vnd.jupyter.widget-view+json": {
       "model_id": "4126d4dbfe004c5d8a97bbbb4c24c49b",
       "version_major": 2,
       "version_minor": 0
      },
      "text/plain": [
       "HBox(children=(IntProgress(value=0), HTML(value='')))"
      ]
     },
     "metadata": {},
     "output_type": "display_data"
    },
    {
     "name": "stdout",
     "output_type": "stream",
     "text": [
      "\n",
      "0\n",
      "epoch 805: training loss 0.007260271089617163\n"
     ]
    },
    {
     "data": {
      "application/vnd.jupyter.widget-view+json": {
       "model_id": "84be41385f874cb7b4c3e5c0b446fc36",
       "version_major": 2,
       "version_minor": 0
      },
      "text/plain": [
       "HBox(children=(IntProgress(value=0), HTML(value='')))"
      ]
     },
     "metadata": {},
     "output_type": "display_data"
    },
    {
     "name": "stdout",
     "output_type": "stream",
     "text": [
      "\n",
      "0\n",
      "epoch 806: training loss 0.0072716937330551444\n"
     ]
    },
    {
     "data": {
      "application/vnd.jupyter.widget-view+json": {
       "model_id": "77c8c26f8e204f91800f2a23214ccc7f",
       "version_major": 2,
       "version_minor": 0
      },
      "text/plain": [
       "HBox(children=(IntProgress(value=0), HTML(value='')))"
      ]
     },
     "metadata": {},
     "output_type": "display_data"
    },
    {
     "name": "stdout",
     "output_type": "stream",
     "text": [
      "\n",
      "0\n",
      "epoch 807: training loss 0.007251693136058748\n"
     ]
    },
    {
     "data": {
      "application/vnd.jupyter.widget-view+json": {
       "model_id": "a8b92c27531c413abb4631f4b76a35ad",
       "version_major": 2,
       "version_minor": 0
      },
      "text/plain": [
       "HBox(children=(IntProgress(value=0), HTML(value='')))"
      ]
     },
     "metadata": {},
     "output_type": "display_data"
    },
    {
     "name": "stdout",
     "output_type": "stream",
     "text": [
      "\n",
      "0\n",
      "epoch 808: training loss 0.007260988405905664\n"
     ]
    },
    {
     "data": {
      "application/vnd.jupyter.widget-view+json": {
       "model_id": "4e1e1d3976ee46729c91ba13e5936e19",
       "version_major": 2,
       "version_minor": 0
      },
      "text/plain": [
       "HBox(children=(IntProgress(value=0), HTML(value='')))"
      ]
     },
     "metadata": {},
     "output_type": "display_data"
    },
    {
     "name": "stdout",
     "output_type": "stream",
     "text": [
      "\n",
      "0\n",
      "epoch 809: training loss 0.0072383781406097115\n"
     ]
    },
    {
     "data": {
      "application/vnd.jupyter.widget-view+json": {
       "model_id": "b9c80cb5070a42d5a58476e02b48b95c",
       "version_major": 2,
       "version_minor": 0
      },
      "text/plain": [
       "HBox(children=(IntProgress(value=0), HTML(value='')))"
      ]
     },
     "metadata": {},
     "output_type": "display_data"
    },
    {
     "name": "stdout",
     "output_type": "stream",
     "text": [
      "\n",
      "0\n",
      "epoch 810: training loss 0.007208764343522489\n"
     ]
    },
    {
     "data": {
      "application/vnd.jupyter.widget-view+json": {
       "model_id": "cc85a37df8d64958908e6c8d9cb8df1a",
       "version_major": 2,
       "version_minor": 0
      },
      "text/plain": [
       "HBox(children=(IntProgress(value=0), HTML(value='')))"
      ]
     },
     "metadata": {},
     "output_type": "display_data"
    },
    {
     "name": "stdout",
     "output_type": "stream",
     "text": [
      "\n",
      "0\n",
      "epoch 811: training loss 0.007196916593238711\n"
     ]
    },
    {
     "data": {
      "application/vnd.jupyter.widget-view+json": {
       "model_id": "049a64699f1c44649fb8d6f1a1557da6",
       "version_major": 2,
       "version_minor": 0
      },
      "text/plain": [
       "HBox(children=(IntProgress(value=0), HTML(value='')))"
      ]
     },
     "metadata": {},
     "output_type": "display_data"
    },
    {
     "name": "stdout",
     "output_type": "stream",
     "text": [
      "\n",
      "0\n",
      "epoch 812: training loss 0.00719121930655092\n"
     ]
    },
    {
     "data": {
      "application/vnd.jupyter.widget-view+json": {
       "model_id": "fafdc245e6cf4d529ef7373dac1b5373",
       "version_major": 2,
       "version_minor": 0
      },
      "text/plain": [
       "HBox(children=(IntProgress(value=0), HTML(value='')))"
      ]
     },
     "metadata": {},
     "output_type": "display_data"
    },
    {
     "name": "stdout",
     "output_type": "stream",
     "text": [
      "\n",
      "0\n",
      "epoch 813: training loss 0.007131234514527023\n"
     ]
    },
    {
     "data": {
      "application/vnd.jupyter.widget-view+json": {
       "model_id": "6d25819e52c04aeea62c199e104fe10f",
       "version_major": 2,
       "version_minor": 0
      },
      "text/plain": [
       "HBox(children=(IntProgress(value=0), HTML(value='')))"
      ]
     },
     "metadata": {},
     "output_type": "display_data"
    },
    {
     "name": "stdout",
     "output_type": "stream",
     "text": [
      "\n",
      "0\n",
      "epoch 814: training loss 0.007057907951530069\n"
     ]
    },
    {
     "data": {
      "application/vnd.jupyter.widget-view+json": {
       "model_id": "ee62dc7edfe747368ddd95fd21dffd36",
       "version_major": 2,
       "version_minor": 0
      },
      "text/plain": [
       "HBox(children=(IntProgress(value=0), HTML(value='')))"
      ]
     },
     "metadata": {},
     "output_type": "display_data"
    },
    {
     "name": "stdout",
     "output_type": "stream",
     "text": [
      "\n",
      "0\n",
      "epoch 815: training loss 0.0071217049867846076\n"
     ]
    },
    {
     "data": {
      "application/vnd.jupyter.widget-view+json": {
       "model_id": "16ca8d822b354214bc893be1cd08ee0e",
       "version_major": 2,
       "version_minor": 0
      },
      "text/plain": [
       "HBox(children=(IntProgress(value=0), HTML(value='')))"
      ]
     },
     "metadata": {},
     "output_type": "display_data"
    },
    {
     "name": "stdout",
     "output_type": "stream",
     "text": [
      "\n",
      "0\n",
      "epoch 816: training loss 0.007143823013175279\n"
     ]
    },
    {
     "data": {
      "application/vnd.jupyter.widget-view+json": {
       "model_id": "850fa6a4eaba433e986c5829079a450d",
       "version_major": 2,
       "version_minor": 0
      },
      "text/plain": [
       "HBox(children=(IntProgress(value=0), HTML(value='')))"
      ]
     },
     "metadata": {},
     "output_type": "display_data"
    },
    {
     "name": "stdout",
     "output_type": "stream",
     "text": [
      "\n",
      "0\n",
      "epoch 817: training loss 0.0071729563630651685\n"
     ]
    },
    {
     "data": {
      "application/vnd.jupyter.widget-view+json": {
       "model_id": "65274c01619744f38880aec158b3f1f1",
       "version_major": 2,
       "version_minor": 0
      },
      "text/plain": [
       "HBox(children=(IntProgress(value=0), HTML(value='')))"
      ]
     },
     "metadata": {},
     "output_type": "display_data"
    },
    {
     "name": "stdout",
     "output_type": "stream",
     "text": [
      "\n",
      "0\n",
      "epoch 818: training loss 0.006962351743131876\n"
     ]
    },
    {
     "data": {
      "application/vnd.jupyter.widget-view+json": {
       "model_id": "e1f68c1c6f414337b5738307d7748434",
       "version_major": 2,
       "version_minor": 0
      },
      "text/plain": [
       "HBox(children=(IntProgress(value=0), HTML(value='')))"
      ]
     },
     "metadata": {},
     "output_type": "display_data"
    },
    {
     "name": "stdout",
     "output_type": "stream",
     "text": [
      "\n",
      "0\n",
      "epoch 819: training loss 0.007022843458689749\n"
     ]
    },
    {
     "data": {
      "application/vnd.jupyter.widget-view+json": {
       "model_id": "2b6fa8e393914d5f857fce55213ac56a",
       "version_major": 2,
       "version_minor": 0
      },
      "text/plain": [
       "HBox(children=(IntProgress(value=0), HTML(value='')))"
      ]
     },
     "metadata": {},
     "output_type": "display_data"
    },
    {
     "name": "stdout",
     "output_type": "stream",
     "text": [
      "\n",
      "0\n",
      "epoch 820: training loss 0.0071224967681337145\n"
     ]
    },
    {
     "data": {
      "application/vnd.jupyter.widget-view+json": {
       "model_id": "7b2a73fe1a5e448b8b0b197b308943f2",
       "version_major": 2,
       "version_minor": 0
      },
      "text/plain": [
       "HBox(children=(IntProgress(value=0), HTML(value='')))"
      ]
     },
     "metadata": {},
     "output_type": "display_data"
    },
    {
     "name": "stdout",
     "output_type": "stream",
     "text": [
      "\n",
      "0\n",
      "epoch 821: training loss 0.00697422195225954\n"
     ]
    },
    {
     "data": {
      "application/vnd.jupyter.widget-view+json": {
       "model_id": "96fcc73a326a420a8a39f94031815351",
       "version_major": 2,
       "version_minor": 0
      },
      "text/plain": [
       "HBox(children=(IntProgress(value=0), HTML(value='')))"
      ]
     },
     "metadata": {},
     "output_type": "display_data"
    },
    {
     "name": "stdout",
     "output_type": "stream",
     "text": [
      "\n",
      "0\n",
      "epoch 822: training loss 0.006855760910548269\n"
     ]
    },
    {
     "data": {
      "application/vnd.jupyter.widget-view+json": {
       "model_id": "152a45ac80534480b0395b4580f95884",
       "version_major": 2,
       "version_minor": 0
      },
      "text/plain": [
       "HBox(children=(IntProgress(value=0), HTML(value='')))"
      ]
     },
     "metadata": {},
     "output_type": "display_data"
    },
    {
     "name": "stdout",
     "output_type": "stream",
     "text": [
      "\n",
      "0\n",
      "epoch 823: training loss 0.007036202842136845\n"
     ]
    },
    {
     "data": {
      "application/vnd.jupyter.widget-view+json": {
       "model_id": "3d1a001245294904b9d9c2bba92608f9",
       "version_major": 2,
       "version_minor": 0
      },
      "text/plain": [
       "HBox(children=(IntProgress(value=0), HTML(value='')))"
      ]
     },
     "metadata": {},
     "output_type": "display_data"
    },
    {
     "name": "stdout",
     "output_type": "stream",
     "text": [
      "\n",
      "0\n",
      "epoch 824: training loss 0.006982066440396011\n"
     ]
    },
    {
     "data": {
      "application/vnd.jupyter.widget-view+json": {
       "model_id": "0cdb224daea74f01b6b2c5818bc468ae",
       "version_major": 2,
       "version_minor": 0
      },
      "text/plain": [
       "HBox(children=(IntProgress(value=0), HTML(value='')))"
      ]
     },
     "metadata": {},
     "output_type": "display_data"
    },
    {
     "name": "stdout",
     "output_type": "stream",
     "text": [
      "\n",
      "0\n",
      "epoch 825: training loss 0.006915219153743237\n"
     ]
    },
    {
     "data": {
      "application/vnd.jupyter.widget-view+json": {
       "model_id": "77f8ccad89aa42a08eb62756712d0df3",
       "version_major": 2,
       "version_minor": 0
      },
      "text/plain": [
       "HBox(children=(IntProgress(value=0), HTML(value='')))"
      ]
     },
     "metadata": {},
     "output_type": "display_data"
    },
    {
     "name": "stdout",
     "output_type": "stream",
     "text": [
      "\n",
      "0\n",
      "epoch 826: training loss 0.006946316236862913\n"
     ]
    },
    {
     "data": {
      "application/vnd.jupyter.widget-view+json": {
       "model_id": "3a658a7baf3147929a85900e89ff2a8e",
       "version_major": 2,
       "version_minor": 0
      },
      "text/plain": [
       "HBox(children=(IntProgress(value=0), HTML(value='')))"
      ]
     },
     "metadata": {},
     "output_type": "display_data"
    },
    {
     "name": "stdout",
     "output_type": "stream",
     "text": [
      "\n",
      "0\n",
      "epoch 827: training loss 0.006851419927552342\n"
     ]
    },
    {
     "data": {
      "application/vnd.jupyter.widget-view+json": {
       "model_id": "41c6dae992a3453cbe19674c77849a49",
       "version_major": 2,
       "version_minor": 0
      },
      "text/plain": [
       "HBox(children=(IntProgress(value=0), HTML(value='')))"
      ]
     },
     "metadata": {},
     "output_type": "display_data"
    },
    {
     "name": "stdout",
     "output_type": "stream",
     "text": [
      "\n",
      "0\n",
      "epoch 828: training loss 0.006845507628750056\n"
     ]
    },
    {
     "data": {
      "application/vnd.jupyter.widget-view+json": {
       "model_id": "e81064b2419042cc806f49e1d987f1b6",
       "version_major": 2,
       "version_minor": 0
      },
      "text/plain": [
       "HBox(children=(IntProgress(value=0), HTML(value='')))"
      ]
     },
     "metadata": {},
     "output_type": "display_data"
    },
    {
     "name": "stdout",
     "output_type": "stream",
     "text": [
      "\n",
      "0\n",
      "epoch 829: training loss 0.006945040232967586\n"
     ]
    },
    {
     "data": {
      "application/vnd.jupyter.widget-view+json": {
       "model_id": "b7187571ca4248efad732c65b2c65007",
       "version_major": 2,
       "version_minor": 0
      },
      "text/plain": [
       "HBox(children=(IntProgress(value=0), HTML(value='')))"
      ]
     },
     "metadata": {},
     "output_type": "display_data"
    },
    {
     "name": "stdout",
     "output_type": "stream",
     "text": [
      "\n",
      "0\n",
      "epoch 830: training loss 0.006791605640901252\n"
     ]
    },
    {
     "data": {
      "application/vnd.jupyter.widget-view+json": {
       "model_id": "9ca2383023cd40cb8f948706d1d94478",
       "version_major": 2,
       "version_minor": 0
      },
      "text/plain": [
       "HBox(children=(IntProgress(value=0), HTML(value='')))"
      ]
     },
     "metadata": {},
     "output_type": "display_data"
    },
    {
     "name": "stdout",
     "output_type": "stream",
     "text": [
      "\n",
      "0\n",
      "epoch 831: training loss 0.006965897909831256\n"
     ]
    },
    {
     "data": {
      "application/vnd.jupyter.widget-view+json": {
       "model_id": "4684de2a78c1499f8327817bfca79d57",
       "version_major": 2,
       "version_minor": 0
      },
      "text/plain": [
       "HBox(children=(IntProgress(value=0), HTML(value='')))"
      ]
     },
     "metadata": {},
     "output_type": "display_data"
    },
    {
     "name": "stdout",
     "output_type": "stream",
     "text": [
      "\n",
      "0\n",
      "epoch 832: training loss 0.0067068856908008454\n"
     ]
    },
    {
     "data": {
      "application/vnd.jupyter.widget-view+json": {
       "model_id": "8e0b4fa2f59f49c3ab17ad2f6deb4028",
       "version_major": 2,
       "version_minor": 0
      },
      "text/plain": [
       "HBox(children=(IntProgress(value=0), HTML(value='')))"
      ]
     },
     "metadata": {},
     "output_type": "display_data"
    },
    {
     "name": "stdout",
     "output_type": "stream",
     "text": [
      "\n",
      "0\n",
      "epoch 833: training loss 0.0067800289671868085\n"
     ]
    },
    {
     "data": {
      "application/vnd.jupyter.widget-view+json": {
       "model_id": "a5c068ca2d5b48cfa59a18a416849007",
       "version_major": 2,
       "version_minor": 0
      },
      "text/plain": [
       "HBox(children=(IntProgress(value=0), HTML(value='')))"
      ]
     },
     "metadata": {},
     "output_type": "display_data"
    },
    {
     "name": "stdout",
     "output_type": "stream",
     "text": [
      "\n",
      "0\n",
      "epoch 834: training loss 0.006771884275367484\n"
     ]
    },
    {
     "data": {
      "application/vnd.jupyter.widget-view+json": {
       "model_id": "e7cae6822616443cb1b4b636d498e945",
       "version_major": 2,
       "version_minor": 0
      },
      "text/plain": [
       "HBox(children=(IntProgress(value=0), HTML(value='')))"
      ]
     },
     "metadata": {},
     "output_type": "display_data"
    },
    {
     "name": "stdout",
     "output_type": "stream",
     "text": [
      "\n",
      "0\n",
      "epoch 835: training loss 0.006716261103283614\n"
     ]
    },
    {
     "data": {
      "application/vnd.jupyter.widget-view+json": {
       "model_id": "aa6e96d55d6b49ddbc6a5f8b241564f6",
       "version_major": 2,
       "version_minor": 0
      },
      "text/plain": [
       "HBox(children=(IntProgress(value=0), HTML(value='')))"
      ]
     },
     "metadata": {},
     "output_type": "display_data"
    },
    {
     "name": "stdout",
     "output_type": "stream",
     "text": [
      "\n",
      "0\n",
      "epoch 836: training loss 0.006763842669315636\n"
     ]
    },
    {
     "data": {
      "application/vnd.jupyter.widget-view+json": {
       "model_id": "3948648ff7eb40a38447c26d0f5ada88",
       "version_major": 2,
       "version_minor": 0
      },
      "text/plain": [
       "HBox(children=(IntProgress(value=0), HTML(value='')))"
      ]
     },
     "metadata": {},
     "output_type": "display_data"
    },
    {
     "name": "stdout",
     "output_type": "stream",
     "text": [
      "\n",
      "0\n",
      "epoch 837: training loss 0.006659541258122772\n"
     ]
    },
    {
     "data": {
      "application/vnd.jupyter.widget-view+json": {
       "model_id": "5ca7ee77a84640ad85199f35da4c1fc8",
       "version_major": 2,
       "version_minor": 0
      },
      "text/plain": [
       "HBox(children=(IntProgress(value=0), HTML(value='')))"
      ]
     },
     "metadata": {},
     "output_type": "display_data"
    },
    {
     "name": "stdout",
     "output_type": "stream",
     "text": [
      "\n",
      "0\n",
      "epoch 838: training loss 0.006741560866357759\n"
     ]
    },
    {
     "data": {
      "application/vnd.jupyter.widget-view+json": {
       "model_id": "285d2e6131f040cc9b3387ff92b8080a",
       "version_major": 2,
       "version_minor": 0
      },
      "text/plain": [
       "HBox(children=(IntProgress(value=0), HTML(value='')))"
      ]
     },
     "metadata": {},
     "output_type": "display_data"
    },
    {
     "name": "stdout",
     "output_type": "stream",
     "text": [
      "\n",
      "0\n",
      "epoch 839: training loss 0.006622964276466518\n"
     ]
    },
    {
     "data": {
      "application/vnd.jupyter.widget-view+json": {
       "model_id": "363d357b4daf418fa3b8f07527c772a3",
       "version_major": 2,
       "version_minor": 0
      },
      "text/plain": [
       "HBox(children=(IntProgress(value=0), HTML(value='')))"
      ]
     },
     "metadata": {},
     "output_type": "display_data"
    },
    {
     "name": "stdout",
     "output_type": "stream",
     "text": [
      "\n",
      "0\n",
      "epoch 840: training loss 0.0067310066020581875\n"
     ]
    },
    {
     "data": {
      "application/vnd.jupyter.widget-view+json": {
       "model_id": "2c4451afcd144cbd8ac0aad771e5a34c",
       "version_major": 2,
       "version_minor": 0
      },
      "text/plain": [
       "HBox(children=(IntProgress(value=0), HTML(value='')))"
      ]
     },
     "metadata": {},
     "output_type": "display_data"
    },
    {
     "name": "stdout",
     "output_type": "stream",
     "text": [
      "\n",
      "0\n",
      "epoch 841: training loss 0.006620594367850572\n"
     ]
    },
    {
     "data": {
      "application/vnd.jupyter.widget-view+json": {
       "model_id": "a0edc11157e848bcbb8f854dd8a133f1",
       "version_major": 2,
       "version_minor": 0
      },
      "text/plain": [
       "HBox(children=(IntProgress(value=0), HTML(value='')))"
      ]
     },
     "metadata": {},
     "output_type": "display_data"
    },
    {
     "name": "stdout",
     "output_type": "stream",
     "text": [
      "\n",
      "0\n",
      "epoch 842: training loss 0.006672933520749211\n"
     ]
    },
    {
     "data": {
      "application/vnd.jupyter.widget-view+json": {
       "model_id": "1c47ecea6e5c41eb9a425239fd785365",
       "version_major": 2,
       "version_minor": 0
      },
      "text/plain": [
       "HBox(children=(IntProgress(value=0), HTML(value='')))"
      ]
     },
     "metadata": {},
     "output_type": "display_data"
    },
    {
     "name": "stdout",
     "output_type": "stream",
     "text": [
      "\n",
      "0\n",
      "epoch 843: training loss 0.006603419404709712\n"
     ]
    },
    {
     "data": {
      "application/vnd.jupyter.widget-view+json": {
       "model_id": "9c55039dbbc44bc5930c9ae1bdb1fe2b",
       "version_major": 2,
       "version_minor": 0
      },
      "text/plain": [
       "HBox(children=(IntProgress(value=0), HTML(value='')))"
      ]
     },
     "metadata": {},
     "output_type": "display_data"
    },
    {
     "name": "stdout",
     "output_type": "stream",
     "text": [
      "\n",
      "0\n",
      "epoch 844: training loss 0.006584118565078825\n"
     ]
    },
    {
     "data": {
      "application/vnd.jupyter.widget-view+json": {
       "model_id": "7267949709724d128238a684fef889cf",
       "version_major": 2,
       "version_minor": 0
      },
      "text/plain": [
       "HBox(children=(IntProgress(value=0), HTML(value='')))"
      ]
     },
     "metadata": {},
     "output_type": "display_data"
    },
    {
     "name": "stdout",
     "output_type": "stream",
     "text": [
      "\n",
      "0\n",
      "epoch 845: training loss 0.0065368028357625\n"
     ]
    },
    {
     "data": {
      "application/vnd.jupyter.widget-view+json": {
       "model_id": "7ec96426a98a491f876cf8c3ce34486d",
       "version_major": 2,
       "version_minor": 0
      },
      "text/plain": [
       "HBox(children=(IntProgress(value=0), HTML(value='')))"
      ]
     },
     "metadata": {},
     "output_type": "display_data"
    },
    {
     "name": "stdout",
     "output_type": "stream",
     "text": [
      "\n",
      "0\n",
      "epoch 846: training loss 0.006604504443239421\n"
     ]
    },
    {
     "data": {
      "application/vnd.jupyter.widget-view+json": {
       "model_id": "5ef5c05db0264982b4db1507dc6513f1",
       "version_major": 2,
       "version_minor": 0
      },
      "text/plain": [
       "HBox(children=(IntProgress(value=0), HTML(value='')))"
      ]
     },
     "metadata": {},
     "output_type": "display_data"
    },
    {
     "name": "stdout",
     "output_type": "stream",
     "text": [
      "\n",
      "0\n",
      "epoch 847: training loss 0.006535532306879759\n"
     ]
    },
    {
     "data": {
      "application/vnd.jupyter.widget-view+json": {
       "model_id": "347fdcadeff7498cb1d570828a9bea71",
       "version_major": 2,
       "version_minor": 0
      },
      "text/plain": [
       "HBox(children=(IntProgress(value=0), HTML(value='')))"
      ]
     },
     "metadata": {},
     "output_type": "display_data"
    },
    {
     "name": "stdout",
     "output_type": "stream",
     "text": [
      "\n",
      "0\n",
      "epoch 848: training loss 0.006502739975694567\n"
     ]
    },
    {
     "data": {
      "application/vnd.jupyter.widget-view+json": {
       "model_id": "c7727f01f3b548eabcfcf5fb77e3ac61",
       "version_major": 2,
       "version_minor": 0
      },
      "text/plain": [
       "HBox(children=(IntProgress(value=0), HTML(value='')))"
      ]
     },
     "metadata": {},
     "output_type": "display_data"
    },
    {
     "name": "stdout",
     "output_type": "stream",
     "text": [
      "\n",
      "0\n",
      "epoch 849: training loss 0.006543512168573216\n"
     ]
    },
    {
     "data": {
      "application/vnd.jupyter.widget-view+json": {
       "model_id": "32ebba0236d74da1b9dec7eda8459618",
       "version_major": 2,
       "version_minor": 0
      },
      "text/plain": [
       "HBox(children=(IntProgress(value=0), HTML(value='')))"
      ]
     },
     "metadata": {},
     "output_type": "display_data"
    },
    {
     "name": "stdout",
     "output_type": "stream",
     "text": [
      "\n",
      "0\n",
      "epoch 850: training loss 0.006611802228726447\n"
     ]
    },
    {
     "data": {
      "application/vnd.jupyter.widget-view+json": {
       "model_id": "084b702c9d47493abf8148fa3ccfc73c",
       "version_major": 2,
       "version_minor": 0
      },
      "text/plain": [
       "HBox(children=(IntProgress(value=0), HTML(value='')))"
      ]
     },
     "metadata": {},
     "output_type": "display_data"
    },
    {
     "name": "stdout",
     "output_type": "stream",
     "text": [
      "\n",
      "0\n",
      "epoch 851: training loss 0.006369449397316203\n"
     ]
    },
    {
     "data": {
      "application/vnd.jupyter.widget-view+json": {
       "model_id": "e396f9829d994f5caf952bf11c392072",
       "version_major": 2,
       "version_minor": 0
      },
      "text/plain": [
       "HBox(children=(IntProgress(value=0), HTML(value='')))"
      ]
     },
     "metadata": {},
     "output_type": "display_data"
    },
    {
     "name": "stdout",
     "output_type": "stream",
     "text": [
      "\n",
      "0\n",
      "epoch 852: training loss 0.006500248735537752\n"
     ]
    },
    {
     "data": {
      "application/vnd.jupyter.widget-view+json": {
       "model_id": "25a7888d6af14b2fa89366de29bfdc29",
       "version_major": 2,
       "version_minor": 0
      },
      "text/plain": [
       "HBox(children=(IntProgress(value=0), HTML(value='')))"
      ]
     },
     "metadata": {},
     "output_type": "display_data"
    },
    {
     "ename": "KeyboardInterrupt",
     "evalue": "",
     "output_type": "error",
     "traceback": [
      "\u001b[1;31m---------------------------------------------------------------------------\u001b[0m",
      "\u001b[1;31mKeyboardInterrupt\u001b[0m                         Traceback (most recent call last)",
      "\u001b[1;32m<ipython-input-18-6211f5f3b240>\u001b[0m in \u001b[0;36m<module>\u001b[1;34m()\u001b[0m\n\u001b[0;32m     27\u001b[0m \u001b[1;33m\u001b[0m\u001b[0m\n\u001b[0;32m     28\u001b[0m \u001b[1;33m\u001b[0m\u001b[0m\n\u001b[1;32m---> 29\u001b[1;33m         \u001b[0mx_batch\u001b[0m\u001b[1;33m,\u001b[0m \u001b[0my_batch\u001b[0m \u001b[1;33m=\u001b[0m \u001b[0mnext\u001b[0m\u001b[1;33m(\u001b[0m\u001b[0mtrain_gen\u001b[0m\u001b[1;33m)\u001b[0m \u001b[1;31m#我們是用yield來寫generator,所以用next取得下一筆資料\u001b[0m\u001b[1;33m\u001b[0m\u001b[0m\n\u001b[0m\u001b[0;32m     30\u001b[0m \u001b[1;33m\u001b[0m\u001b[0m\n\u001b[0;32m     31\u001b[0m         tr_pred, training_loss_batch, _ = sess.run([y_pred, loss, update], feed_dict={\n",
      "\u001b[1;32m<ipython-input-4-2df751d30cab>\u001b[0m in \u001b[0;36msimpson_train_batch_generator\u001b[1;34m(x, y, bs, shape)\u001b[0m\n\u001b[0;32m     11\u001b[0m             \u001b[0mdir_img\u001b[0m \u001b[1;33m=\u001b[0m  \u001b[0mx\u001b[0m\u001b[1;33m.\u001b[0m\u001b[0mimg\u001b[0m\u001b[1;33m.\u001b[0m\u001b[0miloc\u001b[0m\u001b[1;33m[\u001b[0m\u001b[0mi\u001b[0m\u001b[1;33m]\u001b[0m\u001b[1;33m\u001b[0m\u001b[0m\n\u001b[0;32m     12\u001b[0m             \u001b[0mname\u001b[0m \u001b[1;33m=\u001b[0m \u001b[0mx\u001b[0m\u001b[1;33m.\u001b[0m\u001b[0mtake\u001b[0m\u001b[1;33m(\u001b[0m\u001b[1;33m[\u001b[0m\u001b[0mi\u001b[0m\u001b[1;33m]\u001b[0m\u001b[1;33m)\u001b[0m\u001b[1;33m[\u001b[0m\u001b[1;34m'img'\u001b[0m\u001b[1;33m]\u001b[0m\u001b[1;33m\u001b[0m\u001b[0m\n\u001b[1;32m---> 13\u001b[1;33m             \u001b[0mimg\u001b[0m \u001b[1;33m=\u001b[0m \u001b[0mcv2\u001b[0m\u001b[1;33m.\u001b[0m\u001b[0mimread\u001b[0m\u001b[1;33m(\u001b[0m\u001b[0mdir_img\u001b[0m\u001b[1;33m,\u001b[0m\u001b[1;36m0\u001b[0m\u001b[1;33m)\u001b[0m\u001b[1;33m\u001b[0m\u001b[0m\n\u001b[0m\u001b[0;32m     14\u001b[0m             \u001b[0mimg\u001b[0m \u001b[1;33m=\u001b[0m \u001b[0mcv2\u001b[0m\u001b[1;33m.\u001b[0m\u001b[0mresize\u001b[0m\u001b[1;33m(\u001b[0m\u001b[0mimg\u001b[0m\u001b[1;33m,\u001b[0m \u001b[1;33m(\u001b[0m\u001b[1;36m100\u001b[0m\u001b[1;33m,\u001b[0m\u001b[1;36m100\u001b[0m\u001b[1;33m)\u001b[0m\u001b[1;33m)\u001b[0m\u001b[1;33m\u001b[0m\u001b[0m\n\u001b[0;32m     15\u001b[0m             \u001b[0mx_train\u001b[0m \u001b[1;33m=\u001b[0m \u001b[0mnp\u001b[0m\u001b[1;33m.\u001b[0m\u001b[0mrow_stack\u001b[0m\u001b[1;33m(\u001b[0m\u001b[1;33m[\u001b[0m\u001b[0mx_train\u001b[0m\u001b[1;33m,\u001b[0m \u001b[0mimg\u001b[0m\u001b[1;33m.\u001b[0m\u001b[0mflatten\u001b[0m\u001b[1;33m(\u001b[0m\u001b[1;33m)\u001b[0m\u001b[1;33m]\u001b[0m\u001b[1;33m)\u001b[0m\u001b[1;33m\u001b[0m\u001b[0m\n",
      "\u001b[1;31mKeyboardInterrupt\u001b[0m: "
     ]
    }
   ],
   "source": [
    "from tqdm import tqdm_notebook #用來顯示進度條的套件\n",
    "from sklearn.metrics import accuracy_score\n",
    "\n",
    "\n",
    "#epoch = 50 #要跑多少epoch\n",
    "epoch = 0\n",
    "bs = 32 #設定看過幾筆資料走一次更新(batch size)\n",
    "update_per_epoch = 100 #一個epoch要跑幾個batch\n",
    "'''因為我們現在是用generator產生新的batch，所以我們要自行給定一個epoch要跑幾個batch,\n",
    "當然也可以另外修改程式讓generator回傳適合的batch數(total number of data/batch size)'''\n",
    "\n",
    "tr_loss = list() #準備一個空的list用來存training過程中的loss值\n",
    "tr_acc = list() #準備一個空的list用來存training過程中的準確率\n",
    "train_gen = simpson_train_batch_generator(x_train_list, y_train, bs, img2.shape[0])\n",
    "\n",
    "print('start modelling!')\n",
    "\n",
    "#for i in range(epoch):\n",
    "while True:    \n",
    "    #### calculate training loss & update variables ####\n",
    "    training_loss = 0 #用來計算epoch內所有batch loss的平均值，所以在每個epoch一開始要歸零\n",
    "    training_acc = 0#用來計算epoch內所有batch acc的平均值，所以在每個epoch一開始要歸零\n",
    "    bar = tqdm_notebook(range(update_per_epoch)) #外面的tqdm是進度條的function\n",
    "    batch_num = 0\n",
    "    epoch += 1\n",
    "    for j in bar:\n",
    "        \n",
    "        \n",
    "        x_batch, y_batch = next(train_gen) #我們是用yield來寫generator,所以用next取得下一筆資料\n",
    "        \n",
    "        tr_pred, training_loss_batch, _ = sess.run([y_pred, loss, update], feed_dict={\n",
    "            input_data:x_batch,\n",
    "            y_true:y_batch\n",
    "        })\n",
    "        \n",
    "        training_loss += training_loss_batch\n",
    "        \n",
    "        #training_acc_batch = accuracy_score(np.argmax(y_batch, axis=1), np.argmax(tr_pred, axis=1))\n",
    "        training_acc_batch = f1_score(np.argmax(y_batch, axis=1), np.argmax(tr_pred, axis=1), average='binary')\n",
    "        if sum(np.argmax(tr_pred, axis=1)) == bs:\n",
    "            batch_num += 1\n",
    "        \n",
    "        training_acc += training_acc_batch\n",
    "        \n",
    "        if j % 5 == 0:\n",
    "            bar.set_description('loss: %.4g' % training_loss_batch) \n",
    "            #每5次batch更新顯示的batch loss(進度條前面)\n",
    "\n",
    "    training_loss /= update_per_epoch\n",
    "    training_acc /= update_per_epoch\n",
    "    \n",
    "    tr_loss.append(training_loss)\n",
    "    tr_acc.append(training_acc)\n",
    "    print(str(batch_num))\n",
    "    print('epoch {epochs}: training loss {training_loss}'.format(\n",
    "            epochs=epoch, \n",
    "            training_loss=training_loss))#每個epoch結束後顯示目前的的training loss\n",
    "    if epoch%200==0:\n",
    "        saver = tf.train.Saver()\n",
    "        #先指定主路徑\n",
    "        maindir=\"D:/TruckDriver/darkflow/mlp-training/\"\n",
    "        if not os.path.isdir(maindir):\n",
    "            os.makedirs(maindir)\n",
    "            os.chdir(maindir)\n",
    "        else:\n",
    "            os.chdir(maindir)\n",
    "        #再指定存檔相對路徑存檔\n",
    "        saver.save(sess, \"saved_models/model\"+\"-\"+str(epoch)+\".ckpt\")\n",
    "    if epoch == 2000:\n",
    "        break\n",
    "    \n"
   ]
  },
  {
   "cell_type": "code",
   "execution_count": 19,
   "metadata": {},
   "outputs": [
    {
     "data": {
      "text/plain": [
       "Text(0.5,1,'Accuracy')"
      ]
     },
     "execution_count": 19,
     "metadata": {},
     "output_type": "execute_result"
    },
    {
     "data": {
      "image/png": "[encoded data removed]",
      "text/plain": [
       "<Figure size 432x288 with 2 Axes>"
      ]
     },
     "metadata": {
      "needs_background": "light"
     },
     "output_type": "display_data"
    }
   ],
   "source": [
    "plt.figure(1)\n",
    "plt.subplot(121)\n",
    "plt.plot(range(len(tr_loss)), tr_loss, label='training')\n",
    "plt.title('Loss')\n",
    "plt.legend(loc='best')\n",
    "\n",
    "plt.subplot(122)\n",
    "plt.plot(range(len(tr_acc)), tr_acc, label='training')\n",
    "plt.title('Accuracy')"
   ]
  },
  {
   "cell_type": "code",
   "execution_count": 18,
   "metadata": {},
   "outputs": [
    {
     "data": {
      "text/plain": [
       "'saved_models/model.ckpt'"
      ]
     },
     "execution_count": 18,
     "metadata": {},
     "output_type": "execute_result"
    }
   ],
   "source": [
    "saver = tf.train.Saver()\n",
    "#先指定主路徑\n",
    "maindir=\"D:/TruckDriver/darkflow/mlp-training/\"\n",
    "if not os.path.isdir(maindir):\n",
    "    os.makedirs(maindir)\n",
    "    os.chdir(maindir)\n",
    "else:\n",
    "    os.chdir(maindir)\n",
    "#再指定存檔相對路徑存檔\n",
    "saver.save(sess, \"saved_models/model.ckpt\")"
   ]
  },
  {
   "cell_type": "markdown",
   "metadata": {},
   "source": [
    "# Test data"
   ]
  },
  {
   "cell_type": "code",
   "execution_count": 24,
   "metadata": {},
   "outputs": [
    {
     "name": "stdout",
     "output_type": "stream",
     "text": [
      "INFO:tensorflow:Restoring parameters from D:/TruckDriver/darkflow/mlp-training/saved_models/model-800.ckpt\n"
     ]
    }
   ],
   "source": [
    "'''rerun the graph first:\n",
    "先回到上面將一開始和graph有關的cell先重新執行一遍，將graph架構先建立起來(這樣讀進來的參數才有對應位置存放)'''\n",
    "\n",
    "path = \"D:/TruckDriver/darkflow/mlp-training/\"\n",
    "sess = tf.Session()\n",
    "saver = tf.train.Saver()\n",
    "saver.restore(sess, path+\"saved_models/model-800.ckpt\") #到我們剛剛存檔的路徑將檔案叫出來，放入graph中對應的參數位置"
   ]
  },
  {
   "cell_type": "code",
   "execution_count": 25,
   "metadata": {},
   "outputs": [
    {
     "data": {
      "text/plain": [
       "[<tf.Variable 'hidden1/kernel:0' shape=(10000, 256) dtype=float32_ref>,\n",
       " <tf.Variable 'hidden1/bias:0' shape=(256,) dtype=float32_ref>,\n",
       " <tf.Variable 'hidden2/kernel:0' shape=(256, 128) dtype=float32_ref>,\n",
       " <tf.Variable 'hidden2/bias:0' shape=(128,) dtype=float32_ref>,\n",
       " <tf.Variable 'hidden3/kernel:0' shape=(128, 64) dtype=float32_ref>,\n",
       " <tf.Variable 'hidden3/bias:0' shape=(64,) dtype=float32_ref>,\n",
       " <tf.Variable 'output/kernel:0' shape=(64, 2) dtype=float32_ref>,\n",
       " <tf.Variable 'output/bias:0' shape=(2,) dtype=float32_ref>]"
      ]
     },
     "execution_count": 25,
     "metadata": {},
     "output_type": "execute_result"
    }
   ],
   "source": [
    "tf.global_variables()"
   ]
  },
  {
   "cell_type": "code",
   "execution_count": 26,
   "metadata": {},
   "outputs": [],
   "source": [
    "\n",
    "# count = 0\n",
    "# for f in os.listdir(path):\n",
    "#     if 'jpg' in f:\n",
    "#         img5 = cv2.imread(path+f,0)\n",
    "#         img5 = cv2.resize(img5, (100,100))\n",
    "#         img5 = img5.flatten()\n",
    "#         test1 = np.array([]).reshape((0 ,img5.shape[0]))\n",
    "#         test1 = np.row_stack([test1, img5.flatten()])\n",
    "#         #test1 = img4\n",
    "#         test1 /= 255.\n",
    "#         #test1\n",
    "#         #testy1 = np.array([]).reshape((0 ,y_train.shape[1]))\n",
    "#         #testy1 = np.row_stack([testy1, class_y[0]])\n",
    "#         tr_pred = sess.run([y_pred], feed_dict={input_data:test1,})\n",
    "#         #print(f)\n",
    "#         #print(str(count)+\" : \"+str(tr_pred))\n",
    "#         print(f+\" : \"+str(tr_pred))\n",
    "#         count+=1"
   ]
  },
  {
   "cell_type": "code",
   "execution_count": 27,
   "metadata": {},
   "outputs": [
    {
     "name": "stdout",
     "output_type": "stream",
     "text": [
      "paper-20180626_10_10.jpg [-1.4722905   0.81789076] [0 1]\n",
      "cellphone-133.jpg [ 4.623906 -4.614324] [1 0]\n",
      "paper-20180625_1_7.jpg [-4.845351   3.8122292] [0 1]\n",
      "cup-20180628_0_2.jpg [-4.204884   3.2457898] [0 1]\n",
      "cellphone-80.jpg [ 4.2766986 -4.3123565] [1 0]\n",
      "cup-20180627_19_46.jpg [-3.395431   2.5198302] [0 1]\n",
      "cellphone-96.jpg [ 3.3933024 -3.5230143] [1 0]\n",
      "cellphone-31.jpg [ 3.8414583 -3.9219112] [1 0]\n",
      "paper-20180626_2_48.jpg [-2.850533  2.048392] [0 1]\n",
      "cellphone-125.jpg [ 4.701471  -4.6838584] [1 0]\n",
      "cellphone-163.jpg [ 4.170058  -4.2173853] [1 0]\n",
      "cellphone-92.jpg [ 3.1225512 -3.288376 ] [1 0]\n",
      "cellphone-67.jpg [ 3.4985456 -3.618363 ] [1 0]\n",
      "paper-20180625_5_78.jpg [-4.172176   3.2189152] [0 1]\n",
      "paper-20180626_12_17.jpg [-3.3136265  2.455203 ] [0 1]\n",
      "cellphone-148.jpg [ 2.3825212 -2.6225355] [1 0]\n",
      "cup-20180628_5_78.jpg [-6.2270684  5.0260396] [0 1]\n",
      "cup-20180628_2_51.jpg [-4.270013   3.3035448] [0 1]\n",
      "paper-20180630_10_9.jpg [-3.6877532  2.787015 ] [0 1]\n",
      "cellphone-172.jpg [ 3.8917987 -3.9647903] [1 0]\n",
      "cellphone-168.jpg [ 1.567577  -1.8968216] [1 0]\n",
      "cellphone-6.jpg [ 3.0380335 -3.2006254] [1 0]\n",
      "cup-20180628_11_15.jpg [-2.4880872  1.7185861] [0 1]\n",
      "cellphone-46.jpg [ 2.7980347 -2.9954638] [1 0]\n",
      "cup-20180628_10_10.jpg [-2.9987874  2.1691322] [0 1]\n",
      "paper-20180629_24_68.jpg [-0.04480101 -0.44407868] [0 1]\n",
      "cellphone-17.jpg [ 3.489672 -3.612606] [1 0]\n",
      "paper-20180630_12_16.jpg [-3.2988749  2.437502 ] [0 1]\n",
      "cellphone-106.jpg [ 3.0825026 -3.2468503] [1 0]\n",
      "cup-20180628_22_63.jpg [-5.9771266  4.807342 ] [0 1]\n",
      "paper-20180626_13_20.jpg [-3.5508113  2.6632087] [0 1]\n",
      "cup-20180628_17_36.jpg [-3.3742783  2.5038471] [0 1]\n",
      "paper-20180628_23_64.jpg [-1.1149248  0.4961947] [0 1]\n",
      "cellphone-42.jpg [ 3.657504  -3.7548296] [1 0]\n",
      "paper-20180630_17_39.jpg [-4.3658104  3.3887053] [0 1]\n",
      "cellphone-167.jpg [ 4.334205  -4.3621054] [1 0]\n",
      "cup-20180628_2_48.jpg [-4.464804   3.4753077] [0 1]\n",
      "paper-20180625_14_25.jpg [-4.467505   3.4767506] [0 1]\n",
      "cellphone-52.jpg [ 2.9302454 -3.113862 ] [1 0]\n",
      "cellphone-169.jpg [ 1.1688495 -1.5446761] [1 0]\n",
      "paper-20180626_10_11.jpg [-2.0657864  1.3468045] [0 1]\n",
      "cellphone-21.jpg [ 2.1536043 -2.424183 ] [1 0]\n",
      "cup-20180627_16_32.jpg [-3.5084825  2.6271214] [0 1]\n",
      "cellphone-164.jpg [ 4.621672  -4.6180096] [1 0]\n",
      "cellphone-79.jpg [ 1.6353766 -1.9598055] [1 0]\n",
      "cellphone-166.jpg [ 4.3994703 -4.4211345] [1 0]\n",
      "cellphone-161.jpg [ 3.9859169 -4.055425 ] [1 0]\n",
      "cup-20180628_14_25.jpg [-3.9947035  3.0591605] [0 1]\n",
      "paper-20180629_22_63.jpg [-1.3552775   0.70436954] [0 1]\n",
      "cup-20180628_6_81.jpg [-6.3062644  5.0943036] [0 1]\n",
      "cup-20180628_1_5.jpg [-4.873667  3.838041] [0 1]\n",
      "cellphone-128.jpg [ 4.51832   -4.5230484] [1 0]\n",
      "cup-20180628_16_35.jpg [-4.11778    3.1661701] [0 1]\n",
      "paper-20180625_13_20.jpg [-4.315618  3.345739] [0 1]\n",
      "paper-20180627_21_58.jpg [-3.6215436  2.7180707] [0 1]\n",
      "paper-20180629_21_58.jpg [-1.3078983   0.67312676] [0 1]\n",
      "cellphone-108.jpg [ 3.2446368 -3.3926811] [1 0]\n",
      "paper-20180626_21_57.jpg [-4.0488367  3.1037135] [0 1]\n",
      "cellphone-111.jpg [ 2.0705981 -2.3456948] [1 0]\n",
      "paper-20180630_10_8.jpg [-3.808455  2.891959] [0 1]\n",
      "paper-20180625_12_18.jpg [-4.19014    3.2274954] [0 1]\n",
      "cellphone-0.jpg [ 3.1647468 -3.3245242] [1 0]\n",
      "cellphone-115.jpg [ 2.3364615 -2.584665 ] [1 0]\n",
      "paper-20180629_22_61.jpg [-1.3131853  0.6712668] [0 1]\n",
      "paper-20180625_0_2.jpg [-4.160635   3.2048006] [0 1]\n",
      "cellphone-149.jpg [ 3.6544526 -3.752469 ] [1 0]\n",
      "cup-20180627_17_39.jpg [-3.104824   2.2692947] [0 1]\n",
      "paper-20180626_15_28.jpg [-3.191458   2.3460944] [0 1]\n",
      "paper-20180625_0_1.jpg [-4.1445875  3.1929812] [0 1]\n",
      "cup-20180627_22_62.jpg [-6.4343605  5.2173758] [0 1]\n",
      "paper-20180625_10_10.jpg [-3.0670354  2.2308195] [0 1]\n",
      "paper-20180626_3_69.jpg [-3.0697978  2.2339542] [0 1]\n",
      "cellphone-120.jpg [ 4.451892 -4.464241] [1 0]\n",
      "paper-20180625_8_91.jpg [-4.2700734  3.304576 ] [0 1]\n",
      "cup-20180627_21_56.jpg [-5.5978985  4.474282 ] [0 1]\n",
      "paper-20180627_22_62.jpg [-3.461743   2.5860913] [0 1]\n",
      "cellphone-136.jpg [ 4.165735 -4.211272] [1 0]\n",
      "cup-20180627_14_27.jpg [-2.4086082  1.6449193] [0 1]\n",
      "paper-20180630_12_17.jpg [-3.3765461  2.5070431] [0 1]\n",
      "cellphone-45.jpg [ 0.58150685 -1.0145483 ] [1 0]\n",
      "paper-20180625_7_85.jpg [-4.4368687  3.4516244] [0 1]\n",
      "cup-20180628_4_75.jpg [-6.28063    5.0694385] [0 1]\n",
      "paper-20180625_8_92.jpg [-4.425181  3.44118 ] [0 1]\n",
      "cellphone-118.jpg [ 1.2331927 -1.6009948] [1 0]\n",
      "cellphone-14.jpg [-0.783472    0.19272974] [1 0]\n",
      "paper-20180630_10_10.jpg [-3.6728535  2.7726886] [0 1]\n",
      "paper-20180630_3_71.jpg [-3.071656   2.2374227] [0 1]\n",
      "cellphone-64.jpg [ 2.331895 -2.578608] [1 0]\n",
      "cellphone-24.jpg [ 2.8852196 -3.0653107] [1 0]\n",
      "cellphone-15.jpg [ 3.3452272 -3.4787025] [1 0]\n",
      "cellphone-8.jpg [ 2.489597 -2.713251] [1 0]\n",
      "cellphone-12.jpg [ 1.7482952 -2.0580046] [1 0]\n",
      "cellphone-113.jpg [ 2.099466  -2.3777142] [1 0]\n",
      "cellphone-158.jpg [ 0.97167593 -1.364704  ] [1 0]\n",
      "paper-20180625_10_11.jpg [-3.647769   2.7504206] [0 1]\n",
      "paper-20180627_23_64.jpg [-0.7334476   0.15423203] [0 1]\n",
      "cellphone-126.jpg [ 4.15758   -4.2024574] [1 0]\n",
      "cellphone-174.jpg [ 3.0958166 -3.2612295] [1 0]\n",
      "paper-20180629_21_56.jpg [-1.4404678   0.79168206] [0 1]\n",
      "cellphone-54.jpg [-1.4068825  0.7530943] [1 0]\n",
      "paper-20180630_15_30.jpg [-1.4881299  0.8227886] [0 1]\n",
      "paper-20180625_6_81.jpg [-4.137411   3.1862864] [0 1]\n",
      "cellphone-25.jpg [ 2.971727 -3.15287 ] [1 0]\n",
      "cup-20180628_16_34.jpg [-3.102011  2.268321] [0 1]\n",
      "paper-20180625_5_77.jpg [-4.2967906  3.3275764] [0 1]\n",
      "paper-20180626_14_26.jpg [-2.8881617  2.0749443] [0 1]\n",
      "paper-20180627_14_27.jpg [-1.2973554  0.6586747] [0 1]\n",
      "cup-20180628_14_27.jpg [-3.922992  2.994585] [0 1]\n",
      "cellphone-34.jpg [ 2.8655183 -3.0543857] [1 0]\n",
      "paper-20180626_11_12.jpg [-1.8264087  1.1336395] [0 1]\n",
      "cellphone-102.jpg [ 3.4515245 -3.5727994] [1 0]\n",
      "cellphone-139.jpg [ 2.9875798 -3.161782 ] [1 0]\n",
      "cup-20180627_15_28.jpg [-3.552297  2.664283] [0 1]\n",
      "cellphone-59.jpg [ 3.7054396 -3.8055196] [1 0]\n",
      "f1-score: 0.9767441860465116\n"
     ]
    }
   ],
   "source": [
    "predict = []\n",
    "for i in range(len(x_test)):\n",
    "    img = cv2.imread(x_test.img.iloc[i],0)\n",
    "    img = cv2.resize(img,(100,100))\n",
    "    img = img.flatten()\n",
    "    x = np.array([]).reshape((0,img.shape[0]))\n",
    "    x = np.row_stack([x, img])\n",
    "    x /= 255\n",
    "    tr_pred = sess.run([y_pred], feed_dict={input_data:x})\n",
    "    print(x_test.img.iloc[i], tr_pred[0][0], y_test[i])\n",
    "    #print(x_test.img.iloc[i], tr_pred, y_test[i])\n",
    "    predict.append(np.argmax(tr_pred[0][0], axis=0))\n",
    "    \n",
    "acc = f1_score(np.argmax(y_test, axis=1),predict,average='binary')\n",
    "#print(predict)\n",
    "#print('-------------')\n",
    "#print(np.argmax(y_test, axis=1))\n",
    "print('f1-score:', acc)"
   ]
  },
  {
   "cell_type": "code",
   "execution_count": 33,
   "metadata": {},
   "outputs": [
    {
     "name": "stdout",
     "output_type": "stream",
     "text": [
      "20180625_0_0.jpg\n",
      "0 : [array([[-1.239364 ,  1.5875891]], dtype=float32)]\n",
      "20180625_0_1.jpg\n",
      "1 : [array([[-1.1156284,  1.4538001]], dtype=float32)]\n",
      "20180625_0_2.jpg\n",
      "2 : [array([[-1.2309467,  1.5774527]], dtype=float32)]\n",
      "20180625_0_3.jpg\n",
      "3 : [array([[-1.0982678,  1.4380491]], dtype=float32)]\n",
      "20180625_10_10.jpg\n",
      "4 : [array([[-1.6372783,  2.0249305]], dtype=float32)]\n",
      "20180625_10_11.jpg\n",
      "5 : [array([[-1.3872126,  1.7410325]], dtype=float32)]\n",
      "20180625_10_8.jpg\n",
      "6 : [array([[-1.4798462,  1.8443989]], dtype=float32)]\n",
      "20180625_10_9.jpg\n",
      "7 : [array([[-1.1318674,  1.4710613]], dtype=float32)]\n",
      "20180625_11_12.jpg\n",
      "8 : [array([[-1.2338104,  1.5779198]], dtype=float32)]\n",
      "20180625_11_13.jpg\n",
      "9 : [array([[-1.3472869,  1.7012212]], dtype=float32)]\n",
      "20180625_11_14.jpg\n",
      "10 : [array([[-0.11688039,  0.4021288 ]], dtype=float32)]\n",
      "20180625_11_15.jpg\n",
      "11 : [array([[-1.4613402,  1.8271477]], dtype=float32)]\n",
      "20180625_12_16.jpg\n",
      "12 : [array([[-1.2076211,  1.5632044]], dtype=float32)]\n",
      "20180625_12_17.jpg\n",
      "13 : [array([[-1.3309538,  1.6930174]], dtype=float32)]\n",
      "20180625_12_18.jpg\n",
      "14 : [array([[-0.61350673,  0.9039344 ]], dtype=float32)]\n",
      "20180625_12_19.jpg\n",
      "15 : [array([[-1.7869512,  2.1789973]], dtype=float32)]\n",
      "20180625_13_20.jpg\n",
      "16 : [array([[-1.3931999,  1.7565446]], dtype=float32)]\n",
      "20180625_13_21.jpg\n",
      "17 : [array([[-1.7022904,  2.092385 ]], dtype=float32)]\n",
      "20180625_13_22.jpg\n",
      "18 : [array([[-1.12315  ,  1.4660087]], dtype=float32)]\n",
      "20180625_13_23.jpg\n",
      "19 : [array([[-1.7268887,  2.1021407]], dtype=float32)]\n",
      "20180625_14_24.jpg\n",
      "20 : [array([[-1.6951287,  2.0766425]], dtype=float32)]\n",
      "20180625_14_25.jpg\n",
      "21 : [array([[-0.39407164,  0.67843246]], dtype=float32)]\n",
      "20180625_14_26.jpg\n",
      "22 : [array([[-1.4855982,  1.8461286]], dtype=float32)]\n",
      "20180625_14_27.jpg\n",
      "23 : [array([[-1.1939641,  1.5433805]], dtype=float32)]\n",
      "20180625_15_28.jpg\n",
      "24 : [array([[-1.7319759,  2.118467 ]], dtype=float32)]\n",
      "20180625_15_29.jpg\n",
      "25 : [array([[-1.7841566,  2.1709664]], dtype=float32)]\n",
      "20180625_15_30.jpg\n",
      "26 : [array([[-0.7601658,  1.0683256]], dtype=float32)]\n",
      "20180625_15_31.jpg\n",
      "27 : [array([[-1.17347  ,  1.5185436]], dtype=float32)]\n",
      "20180625_16_32.jpg\n",
      "28 : [array([[-1.3814676,  1.7370867]], dtype=float32)]\n",
      "20180625_16_33.jpg\n",
      "29 : [array([[-1.5204508,  1.8812593]], dtype=float32)]\n",
      "20180625_16_34.jpg\n",
      "30 : [array([[-1.4771585,  1.8493904]], dtype=float32)]\n",
      "20180625_16_35.jpg\n",
      "31 : [array([[-0.45542365,  0.7499889 ]], dtype=float32)]\n",
      "20180625_17_36.jpg\n",
      "32 : [array([[0.21799643, 0.04098081]], dtype=float32)]\n",
      "20180625_17_37.jpg\n",
      "33 : [array([[-0.82124835,  1.1437104 ]], dtype=float32)]\n",
      "20180625_17_38.jpg\n",
      "34 : [array([[-0.8827148,  1.2045188]], dtype=float32)]\n",
      "20180625_17_39.jpg\n",
      "35 : [array([[-1.3499424,  1.7031479]], dtype=float32)]\n",
      "20180625_18_40.jpg\n",
      "36 : [array([[-1.5940243,  1.9669961]], dtype=float32)]\n",
      "20180625_1_4.jpg\n",
      "37 : [array([[-0.5233118,  0.815302 ]], dtype=float32)]\n",
      "20180625_1_5.jpg\n",
      "38 : [array([[-1.3690794,  1.7253512]], dtype=float32)]\n",
      "20180625_1_6.jpg\n",
      "39 : [array([[-1.1558702,  1.4983404]], dtype=float32)]\n",
      "20180625_1_7.jpg\n",
      "40 : [array([[-1.9221371,  2.330656 ]], dtype=float32)]\n",
      "20180625_2_48.jpg\n",
      "41 : [array([[-1.2605995,  1.6048115]], dtype=float32)]\n",
      "20180625_2_49.jpg\n",
      "42 : [array([[-1.0924175,  1.4286066]], dtype=float32)]\n",
      "20180625_2_50.jpg\n",
      "43 : [array([[-1.1962928,  1.5406857]], dtype=float32)]\n",
      "20180625_2_51.jpg\n",
      "44 : [array([[-1.1247593,  1.471932 ]], dtype=float32)]\n",
      "20180625_3_69.jpg\n",
      "45 : [array([[-1.0085967,  1.3414567]], dtype=float32)]\n",
      "20180625_3_70.jpg\n",
      "46 : [array([[-0.66115355,  0.9695784 ]], dtype=float32)]\n",
      "20180625_3_71.jpg\n",
      "47 : [array([[-1.3047429,  1.6644204]], dtype=float32)]\n",
      "20180625_3_72.jpg\n",
      "48 : [array([[-1.6404268,  2.0247316]], dtype=float32)]\n",
      "20180625_4_73.jpg\n",
      "49 : [array([[-1.6672058,  2.0463538]], dtype=float32)]\n",
      "20180625_4_74.jpg\n",
      "50 : [array([[-1.3130971,  1.663754 ]], dtype=float32)]\n",
      "20180625_4_75.jpg\n",
      "51 : [array([[-1.6947125,  2.0855567]], dtype=float32)]\n",
      "20180625_4_76.jpg\n",
      "52 : [array([[-0.6149075,  0.9118407]], dtype=float32)]\n",
      "20180625_5_77.jpg\n",
      "53 : [array([[-1.1330639,  1.4755408]], dtype=float32)]\n",
      "20180625_5_78.jpg\n",
      "54 : [array([[-0.11145274,  0.38572854]], dtype=float32)]\n",
      "20180625_5_79.jpg\n",
      "55 : [array([[-1.3558629,  1.7075744]], dtype=float32)]\n",
      "20180625_5_80.jpg\n",
      "56 : [array([[-0.11474085,  0.3885507 ]], dtype=float32)]\n",
      "20180625_6_81.jpg\n",
      "57 : [array([[-1.3875192,  1.7499146]], dtype=float32)]\n",
      "20180625_6_82.jpg\n",
      "58 : [array([[-1.5019858,  1.8640761]], dtype=float32)]\n",
      "20180625_6_83.jpg\n",
      "59 : [array([[-1.0599575,  1.3764113]], dtype=float32)]\n",
      "20180625_6_84.jpg\n",
      "60 : [array([[-1.2174017,  1.5578684]], dtype=float32)]\n",
      "20180625_7_85.jpg\n",
      "61 : [array([[-0.5040296,  0.8048501]], dtype=float32)]\n",
      "20180625_7_86.jpg\n",
      "62 : [array([[-1.4987366,  1.8667616]], dtype=float32)]\n",
      "20180625_7_87.jpg\n",
      "63 : [array([[-1.0021054,  1.332527 ]], dtype=float32)]\n",
      "20180625_7_88.jpg\n",
      "64 : [array([[-1.6248726,  2.0077775]], dtype=float32)]\n",
      "20180625_8_89.jpg\n",
      "65 : [array([[-0.9469334,  1.2838513]], dtype=float32)]\n",
      "20180625_8_90.jpg\n",
      "66 : [array([[-1.2598225,  1.6093255]], dtype=float32)]\n",
      "20180625_8_91.jpg\n",
      "67 : [array([[-1.0287421,  1.3627628]], dtype=float32)]\n",
      "20180625_8_92.jpg\n",
      "68 : [array([[-1.4046677,  1.7712222]], dtype=float32)]\n",
      "20180625_9_93.jpg\n",
      "69 : [array([[-1.0676948,  1.4148241]], dtype=float32)]\n",
      "20180625_9_94.jpg\n",
      "70 : [array([[-1.4113264,  1.7776691]], dtype=float32)]\n",
      "20180625_9_95.jpg\n",
      "71 : [array([[-1.7436606,  2.126999 ]], dtype=float32)]\n",
      "20180625_9_96.jpg\n",
      "72 : [array([[-1.0865355,  1.4187461]], dtype=float32)]\n",
      "20180626_10_10.jpg\n",
      "73 : [array([[-1.550716 ,  1.9242672]], dtype=float32)]\n",
      "20180626_10_11.jpg\n",
      "74 : [array([[-1.1286157,  1.4682407]], dtype=float32)]\n",
      "20180626_10_8.jpg\n",
      "75 : [array([[-1.7186397,  2.1087503]], dtype=float32)]\n",
      "20180626_10_9.jpg\n",
      "76 : [array([[-1.7892858,  2.183616 ]], dtype=float32)]\n",
      "20180626_11_12.jpg\n",
      "77 : [array([[-0.94789195,  1.2724693 ]], dtype=float32)]\n",
      "20180626_11_13.jpg\n",
      "78 : [array([[-1.2840767,  1.6342012]], dtype=float32)]\n",
      "20180626_11_14.jpg\n",
      "79 : [array([[-1.1095479,  1.4586123]], dtype=float32)]\n",
      "20180626_11_15.jpg\n",
      "80 : [array([[-1.2904911,  1.6389663]], dtype=float32)]\n",
      "20180626_12_16.jpg\n",
      "81 : [array([[-1.0283486,  1.3494678]], dtype=float32)]\n",
      "20180626_12_17.jpg\n",
      "82 : [array([[-1.5472361,  1.913894 ]], dtype=float32)]\n",
      "20180626_12_18.jpg\n",
      "83 : [array([[-1.1469783,  1.4850063]], dtype=float32)]\n",
      "20180626_12_19.jpg\n",
      "84 : [array([[-1.1220188,  1.4614857]], dtype=float32)]\n",
      "20180626_13_20.jpg\n",
      "85 : [array([[-1.4466481,  1.8086182]], dtype=float32)]\n",
      "20180626_13_21.jpg\n",
      "86 : [array([[-1.4787102,  1.8451723]], dtype=float32)]\n",
      "20180626_13_22.jpg\n",
      "87 : [array([[-0.37435377,  0.66857696]], dtype=float32)]\n",
      "20180626_13_23.jpg\n",
      "88 : [array([[-1.46729  ,  1.8287629]], dtype=float32)]\n",
      "20180626_14_24.jpg\n",
      "89 : [array([[-1.2545184,  1.6007923]], dtype=float32)]\n",
      "20180626_14_25.jpg\n",
      "90 : [array([[-1.6559612,  2.0455148]], dtype=float32)]\n",
      "20180626_14_26.jpg\n",
      "91 : [array([[-1.6874565,  2.072204 ]], dtype=float32)]\n",
      "20180626_14_27.jpg\n",
      "92 : [array([[-1.5895562,  1.960991 ]], dtype=float32)]\n",
      "20180626_15_28.jpg\n",
      "93 : [array([[-0.21426614,  0.4998676 ]], dtype=float32)]\n",
      "20180626_15_29.jpg\n",
      "94 : [array([[-0.9578732,  1.2789086]], dtype=float32)]\n",
      "20180626_15_30.jpg\n",
      "95 : [array([[-1.2531351,  1.5916092]], dtype=float32)]\n",
      "20180626_15_31.jpg\n",
      "96 : [array([[-1.0989566,  1.436879 ]], dtype=float32)]\n",
      "20180626_16_32.jpg\n",
      "97 : [array([[-0.9513748,  1.2858559]], dtype=float32)]\n",
      "20180626_16_33.jpg\n",
      "98 : [array([[-1.2688322,  1.6156647]], dtype=float32)]\n",
      "20180626_16_34.jpg\n",
      "99 : [array([[-1.35397  ,  1.7048397]], dtype=float32)]\n",
      "20180626_16_35.jpg\n",
      "100 : [array([[-0.86610925,  1.1732603 ]], dtype=float32)]\n",
      "20180626_17_36.jpg\n",
      "101 : [array([[-0.60101193,  0.90129375]], dtype=float32)]\n",
      "20180626_17_37.jpg\n",
      "102 : [array([[-0.84126526,  1.1641467 ]], dtype=float32)]\n",
      "20180626_17_38.jpg\n",
      "103 : [array([[-1.132007 ,  1.4640101]], dtype=float32)]\n",
      "20180626_17_39.jpg\n",
      "104 : [array([[-0.9784694,  1.2930468]], dtype=float32)]\n",
      "20180626_18_40.jpg\n",
      "105 : [array([[-1.5063611,  1.8765254]], dtype=float32)]\n",
      "20180626_18_41.jpg\n",
      "106 : [array([[-1.166937 ,  1.5108553]], dtype=float32)]\n",
      "20180626_18_42.jpg\n",
      "107 : [array([[-1.2610838,  1.6046498]], dtype=float32)]\n",
      "20180626_18_43.jpg\n",
      "108 : [array([[-1.4957407,  1.8635815]], dtype=float32)]\n",
      "20180626_19_44.jpg\n",
      "109 : [array([[-0.8986108,  1.2065831]], dtype=float32)]\n",
      "20180626_19_45.jpg\n",
      "110 : [array([[-1.431637,  1.80563 ]], dtype=float32)]\n",
      "20180626_19_46.jpg\n",
      "111 : [array([[-1.3174789,  1.6651735]], dtype=float32)]\n",
      "20180626_19_47.jpg\n",
      "112 : [array([[-1.6070088,  1.9835564]], dtype=float32)]\n",
      "20180626_20_52.jpg\n",
      "113 : [array([[-1.1744329,  1.5204296]], dtype=float32)]\n",
      "20180626_20_53.jpg\n",
      "114 : [array([[-1.4267038,  1.7846009]], dtype=float32)]\n",
      "20180626_20_54.jpg\n",
      "115 : [array([[-1.3434249,  1.7155837]], dtype=float32)]\n",
      "20180626_20_55.jpg\n",
      "116 : [array([[-1.190623 ,  1.5421201]], dtype=float32)]\n",
      "20180626_21_56.jpg\n",
      "117 : [array([[-0.7662914,  1.0756073]], dtype=float32)]\n",
      "20180626_21_57.jpg\n",
      "118 : [array([[-1.1291126,  1.4855521]], dtype=float32)]\n",
      "20180626_21_58.jpg\n",
      "119 : [array([[-1.1117202,  1.4595271]], dtype=float32)]\n",
      "20180626_21_59.jpg\n",
      "120 : [array([[-1.0426571,  1.3988284]], dtype=float32)]\n",
      "20180626_22_60.jpg\n",
      "121 : [array([[-0.8099186,  1.132379 ]], dtype=float32)]\n",
      "20180626_22_61.jpg\n",
      "122 : [array([[-1.1192311,  1.4656646]], dtype=float32)]\n",
      "20180626_22_62.jpg\n",
      "123 : [array([[-1.0246375,  1.374104 ]], dtype=float32)]\n",
      "20180626_22_63.jpg\n",
      "124 : [array([[-0.67255485,  0.98076   ]], dtype=float32)]\n",
      "20180626_23_64.jpg\n",
      "125 : [array([[-1.1252922,  1.4716451]], dtype=float32)]\n",
      "20180626_23_65.jpg\n",
      "126 : [array([[-1.4993588,  1.87026  ]], dtype=float32)]\n",
      "20180626_23_66.jpg\n",
      "127 : [array([[-1.4442546,  1.7990063]], dtype=float32)]\n",
      "20180626_23_67.jpg\n",
      "128 : [array([[0.24032986, 0.02767333]], dtype=float32)]\n",
      "20180626_24_68.jpg\n",
      "129 : [array([[-0.7887846,  1.1377807]], dtype=float32)]\n",
      "20180626_2_48.jpg\n",
      "130 : [array([[-1.3606955,  1.7095505]], dtype=float32)]\n",
      "20180626_3_69.jpg\n",
      "131 : [array([[-1.6860021,  2.0778458]], dtype=float32)]\n",
      "20180626_3_70.jpg\n",
      "132 : [array([[-1.407587 ,  1.7715592]], dtype=float32)]\n",
      "20180626_3_71.jpg\n",
      "133 : [array([[-0.9894897,  1.320243 ]], dtype=float32)]\n",
      "20180626_3_72.jpg\n",
      "134 : [array([[-1.3262515,  1.6832539]], dtype=float32)]\n",
      "20180626_4_73.jpg\n",
      "135 : [array([[-0.71795565,  1.0376658 ]], dtype=float32)]\n",
      "20180626_4_74.jpg\n",
      "136 : [array([[-1.5120219,  1.8819879]], dtype=float32)]\n",
      "20180626_4_75.jpg\n",
      "137 : [array([[-1.2848198,  1.634455 ]], dtype=float32)]\n",
      "20180626_4_76.jpg\n",
      "138 : [array([[-1.1461376,  1.4926678]], dtype=float32)]\n",
      "20180626_5_77.jpg\n",
      "139 : [array([[-0.6135123,  0.9284941]], dtype=float32)]\n",
      "20180626_5_78.jpg\n",
      "140 : [array([[-1.0717311,  1.402907 ]], dtype=float32)]\n",
      "20180626_5_79.jpg\n",
      "141 : [array([[-1.4242904,  1.787576 ]], dtype=float32)]\n",
      "20180626_5_80.jpg\n",
      "142 : [array([[-1.2918308,  1.6359831]], dtype=float32)]\n",
      "20180626_6_81.jpg\n",
      "143 : [array([[-1.2949419,  1.650028 ]], dtype=float32)]\n",
      "20180626_6_82.jpg\n",
      "144 : [array([[-1.6599852,  2.051782 ]], dtype=float32)]\n",
      "20180626_6_83.jpg\n",
      "145 : [array([[-0.18417369,  0.46345162]], dtype=float32)]\n",
      "20180626_6_84.jpg\n",
      "146 : [array([[-1.3940153,  1.7501657]], dtype=float32)]\n",
      "20180626_7_85.jpg\n",
      "147 : [array([[-1.2911782,  1.642696 ]], dtype=float32)]\n",
      "20180626_7_86.jpg\n",
      "148 : [array([[-1.3723581,  1.7327157]], dtype=float32)]\n",
      "20180626_7_87.jpg\n",
      "149 : [array([[-1.4265959,  1.7900183]], dtype=float32)]\n",
      "20180626_7_88.jpg\n",
      "150 : [array([[-0.8267957,  1.1313635]], dtype=float32)]\n",
      "20180626_8_89.jpg\n",
      "151 : [array([[-1.3762723,  1.7269819]], dtype=float32)]\n",
      "20180626_8_90.jpg\n",
      "152 : [array([[-1.4372618,  1.8065885]], dtype=float32)]\n",
      "20180626_8_91.jpg\n",
      "153 : [array([[-1.0263953,  1.3508831]], dtype=float32)]\n",
      "20180626_8_92.jpg\n",
      "154 : [array([[-1.2329243,  1.5869526]], dtype=float32)]\n",
      "20180626_9_93.jpg\n",
      "155 : [array([[-0.74470085,  1.0526408 ]], dtype=float32)]\n",
      "20180626_9_94.jpg\n",
      "156 : [array([[-1.3152046,  1.662346 ]], dtype=float32)]\n",
      "20180626_9_95.jpg\n",
      "157 : [array([[-1.2541411,  1.6001204]], dtype=float32)]\n",
      "20180626_9_96.jpg\n",
      "158 : [array([[-1.1038126,  1.4463333]], dtype=float32)]\n",
      "20180627_13_23.jpg\n",
      "159 : [array([[-1.4641799,  1.8317729]], dtype=float32)]\n",
      "20180627_14_24.jpg\n",
      "160 : [array([[-0.0539625,  0.3339191]], dtype=float32)]\n",
      "20180627_14_25.jpg\n",
      "161 : [array([[-0.84787464,  1.1698115 ]], dtype=float32)]\n",
      "20180627_14_26.jpg\n",
      "162 : [array([[-1.1443527,  1.4868984]], dtype=float32)]\n",
      "20180627_14_27.jpg\n",
      "163 : [array([[-1.3963933,  1.753363 ]], dtype=float32)]\n",
      "20180627_15_28.jpg\n",
      "164 : [array([[-0.59555846,  0.90912175]], dtype=float32)]\n",
      "20180627_15_29.jpg\n",
      "165 : [array([[-1.3539941,  1.7088356]], dtype=float32)]\n",
      "20180627_15_30.jpg\n",
      "166 : [array([[-1.0325779,  1.3620265]], dtype=float32)]\n",
      "20180627_15_31.jpg\n",
      "167 : [array([[-1.3687148,  1.7256825]], dtype=float32)]\n",
      "20180627_16_32.jpg\n",
      "168 : [array([[-1.4069945,  1.7631761]], dtype=float32)]\n",
      "20180627_16_33.jpg\n",
      "169 : [array([[-1.3449317,  1.7013292]], dtype=float32)]\n",
      "20180627_16_34.jpg\n",
      "170 : [array([[-1.2515075,  1.5929316]], dtype=float32)]\n",
      "20180627_16_35.jpg\n",
      "171 : [array([[-1.5247809,  1.8982403]], dtype=float32)]\n",
      "20180627_17_36.jpg\n",
      "172 : [array([[-1.2017716,  1.541571 ]], dtype=float32)]\n",
      "20180627_17_37.jpg\n",
      "173 : [array([[-1.095763 ,  1.4339114]], dtype=float32)]\n",
      "20180627_17_38.jpg\n",
      "174 : [array([[-1.4579233,  1.8309796]], dtype=float32)]\n",
      "20180627_17_39.jpg\n",
      "175 : [array([[-1.2322296,  1.5754502]], dtype=float32)]\n",
      "20180627_18_40.jpg\n",
      "176 : [array([[-1.0932432,  1.4370812]], dtype=float32)]\n",
      "20180627_18_41.jpg\n",
      "177 : [array([[-0.9695898,  1.2940638]], dtype=float32)]\n",
      "20180627_18_42.jpg\n",
      "178 : [array([[-1.4938216,  1.8689888]], dtype=float32)]\n",
      "20180627_18_43.jpg\n",
      "179 : [array([[-1.0013024,  1.3356369]], dtype=float32)]\n",
      "20180627_19_44.jpg\n",
      "180 : [array([[-1.6810116,  2.0579562]], dtype=float32)]\n",
      "20180627_19_45.jpg\n",
      "181 : [array([[-0.9955354,  1.3234335]], dtype=float32)]\n",
      "20180627_19_46.jpg\n",
      "182 : [array([[-1.1645823,  1.5134177]], dtype=float32)]\n",
      "20180627_19_47.jpg\n",
      "183 : [array([[-1.3795273,  1.7370204]], dtype=float32)]\n",
      "20180627_20_52.jpg\n",
      "184 : [array([[-1.5995059,  1.9783322]], dtype=float32)]\n",
      "20180627_20_53.jpg\n",
      "185 : [array([[-1.4485164,  1.8114761]], dtype=float32)]\n",
      "20180627_20_54.jpg\n",
      "186 : [array([[-1.1357877,  1.4751581]], dtype=float32)]\n",
      "20180627_20_55.jpg\n",
      "187 : [array([[-0.48903853,  0.81699014]], dtype=float32)]\n",
      "20180627_21_56.jpg\n",
      "188 : [array([[-1.850364 ,  2.2507434]], dtype=float32)]\n",
      "20180627_21_57.jpg\n",
      "189 : [array([[-1.2661264,  1.6248786]], dtype=float32)]\n",
      "20180627_21_58.jpg\n",
      "190 : [array([[-0.42955276,  0.7438892 ]], dtype=float32)]\n",
      "20180627_21_59.jpg\n",
      "191 : [array([[-1.3662281,  1.7200897]], dtype=float32)]\n",
      "20180627_22_60.jpg\n",
      "192 : [array([[-1.0445195,  1.3827134]], dtype=float32)]\n",
      "20180627_22_61.jpg\n",
      "193 : [array([[-1.467284 ,  1.8349744]], dtype=float32)]\n",
      "20180627_22_62.jpg\n",
      "194 : [array([[-1.3585204,  1.7358855]], dtype=float32)]\n",
      "20180627_22_63.jpg\n",
      "195 : [array([[-1.513455,  1.90211 ]], dtype=float32)]\n",
      "20180627_23_64.jpg\n",
      "196 : [array([[-1.4506776,  1.8316456]], dtype=float32)]\n",
      "20180627_23_65.jpg\n",
      "197 : [array([[-1.8606869,  2.2800026]], dtype=float32)]\n",
      "20180627_23_66.jpg\n",
      "198 : [array([[-1.9139307,  2.3277118]], dtype=float32)]\n",
      "20180627_23_67.jpg\n",
      "199 : [array([[-0.29856506,  0.6060851 ]], dtype=float32)]\n",
      "20180627_24_68.jpg\n",
      "200 : [array([[-0.8033339,  1.1443993]], dtype=float32)]\n",
      "20180628_0_0.jpg\n",
      "201 : [array([[-1.4365557,  1.795726 ]], dtype=float32)]\n",
      "20180628_0_1.jpg\n",
      "202 : [array([[-1.1690582,  1.502641 ]], dtype=float32)]\n",
      "20180628_0_2.jpg\n",
      "203 : [array([[-1.2818782,  1.6405098]], dtype=float32)]\n",
      "20180628_0_3.jpg\n",
      "204 : [array([[-1.3199229,  1.6874787]], dtype=float32)]\n",
      "20180628_10_10.jpg\n",
      "205 : [array([[-1.1470118,  1.4810313]], dtype=float32)]\n",
      "20180628_10_11.jpg\n",
      "206 : [array([[-0.99761057,  1.3364606 ]], dtype=float32)]\n",
      "20180628_10_8.jpg\n",
      "207 : [array([[-1.3503175,  1.7097337]], dtype=float32)]\n",
      "20180628_10_9.jpg\n",
      "208 : [array([[-1.0805615,  1.4158772]], dtype=float32)]\n",
      "20180628_11_12.jpg\n",
      "209 : [array([[-1.1434603,  1.4859577]], dtype=float32)]\n",
      "20180628_11_13.jpg\n",
      "210 : [array([[-1.5003709,  1.8696736]], dtype=float32)]\n",
      "20180628_11_14.jpg\n",
      "211 : [array([[-0.37343377,  0.6578172 ]], dtype=float32)]\n",
      "20180628_11_15.jpg\n",
      "212 : [array([[-0.4315841 ,  0.72590506]], dtype=float32)]\n",
      "20180628_12_16.jpg\n",
      "213 : [array([[-0.40305582,  0.70623684]], dtype=float32)]\n",
      "20180628_12_17.jpg\n",
      "214 : [array([[-1.5315385,  1.9064273]], dtype=float32)]\n",
      "20180628_12_18.jpg\n",
      "215 : [array([[-1.4392195,  1.7963142]], dtype=float32)]\n",
      "20180628_12_19.jpg\n",
      "216 : [array([[0.24513538, 0.01591529]], dtype=float32)]\n",
      "20180628_13_20.jpg\n"
     ]
    },
    {
     "name": "stdout",
     "output_type": "stream",
     "text": [
      "217 : [array([[-0.7599095,  1.073611 ]], dtype=float32)]\n",
      "20180628_13_21.jpg\n",
      "218 : [array([[-1.2595049,  1.6089123]], dtype=float32)]\n",
      "20180628_13_22.jpg\n",
      "219 : [array([[-1.257551 ,  1.6089233]], dtype=float32)]\n",
      "20180628_13_23.jpg\n",
      "220 : [array([[-1.2915468,  1.6408548]], dtype=float32)]\n",
      "20180628_14_24.jpg\n",
      "221 : [array([[-1.3260206,  1.6753997]], dtype=float32)]\n",
      "20180628_14_25.jpg\n",
      "222 : [array([[-1.1342663,  1.4670119]], dtype=float32)]\n",
      "20180628_14_26.jpg\n",
      "223 : [array([[-1.131784 ,  1.4780612]], dtype=float32)]\n",
      "20180628_14_27.jpg\n",
      "224 : [array([[-0.74288523,  1.0420551 ]], dtype=float32)]\n",
      "20180628_15_28.jpg\n",
      "225 : [array([[-0.97433794,  1.3065729 ]], dtype=float32)]\n",
      "20180628_15_29.jpg\n",
      "226 : [array([[-1.2591848,  1.605193 ]], dtype=float32)]\n",
      "20180628_15_30.jpg\n",
      "227 : [array([[-0.9452312,  1.2687935]], dtype=float32)]\n",
      "20180628_15_31.jpg\n",
      "228 : [array([[-0.8483841,  1.1589681]], dtype=float32)]\n",
      "20180628_16_32.jpg\n",
      "229 : [array([[-1.0081447,  1.336622 ]], dtype=float32)]\n",
      "20180628_16_33.jpg\n",
      "230 : [array([[-1.1906779,  1.5289966]], dtype=float32)]\n",
      "20180628_16_34.jpg\n",
      "231 : [array([[-0.9647597,  1.2959471]], dtype=float32)]\n",
      "20180628_16_35.jpg\n",
      "232 : [array([[-1.4886923,  1.8626364]], dtype=float32)]\n",
      "20180628_17_36.jpg\n",
      "233 : [array([[-1.4327774,  1.7930701]], dtype=float32)]\n",
      "20180628_17_37.jpg\n",
      "234 : [array([[-0.71948135,  1.0323347 ]], dtype=float32)]\n",
      "20180628_17_38.jpg\n",
      "235 : [array([[-1.628113 ,  2.0162315]], dtype=float32)]\n",
      "20180628_17_39.jpg\n",
      "236 : [array([[-1.5808406,  1.9586838]], dtype=float32)]\n",
      "20180628_18_40.jpg\n",
      "237 : [array([[-1.1239568,  1.4648769]], dtype=float32)]\n",
      "20180628_18_41.jpg\n",
      "238 : [array([[-1.311921 ,  1.6623974]], dtype=float32)]\n",
      "20180628_18_42.jpg\n",
      "239 : [array([[-1.364893 ,  1.7179666]], dtype=float32)]\n",
      "20180628_18_43.jpg\n",
      "240 : [array([[-1.057429 ,  1.3805088]], dtype=float32)]\n",
      "20180628_19_44.jpg\n",
      "241 : [array([[-0.64681315,  0.96061516]], dtype=float32)]\n",
      "20180628_19_45.jpg\n",
      "242 : [array([[-1.001918 ,  1.3282461]], dtype=float32)]\n",
      "20180628_19_46.jpg\n",
      "243 : [array([[-1.0857402,  1.4258903]], dtype=float32)]\n",
      "20180628_19_47.jpg\n",
      "244 : [array([[-1.4838109,  1.8458259]], dtype=float32)]\n",
      "20180628_1_4.jpg\n",
      "245 : [array([[-1.5755804,  1.9544019]], dtype=float32)]\n",
      "20180628_1_5.jpg\n",
      "246 : [array([[-1.3040694,  1.6500119]], dtype=float32)]\n",
      "20180628_1_6.jpg\n",
      "247 : [array([[-1.2681985,  1.6179229]], dtype=float32)]\n",
      "20180628_1_7.jpg\n",
      "248 : [array([[-1.554064,  1.92794 ]], dtype=float32)]\n",
      "20180628_20_52.jpg\n",
      "249 : [array([[-1.0617876,  1.3969164]], dtype=float32)]\n",
      "20180628_20_53.jpg\n",
      "250 : [array([[-0.8280004,  1.1478032]], dtype=float32)]\n",
      "20180628_20_54.jpg\n",
      "251 : [array([[-0.9887587,  1.3133985]], dtype=float32)]\n",
      "20180628_20_55.jpg\n",
      "252 : [array([[0.02321643, 0.27221295]], dtype=float32)]\n",
      "20180628_21_56.jpg\n",
      "253 : [array([[-1.3041326,  1.6646111]], dtype=float32)]\n",
      "20180628_21_57.jpg\n",
      "254 : [array([[-0.5742135,  0.8944885]], dtype=float32)]\n",
      "20180628_21_58.jpg\n",
      "255 : [array([[-1.791769 ,  2.1897655]], dtype=float32)]\n",
      "20180628_21_59.jpg\n",
      "256 : [array([[-1.2850816,  1.6362834]], dtype=float32)]\n",
      "20180628_22_60.jpg\n",
      "257 : [array([[-1.4426135,  1.8188926]], dtype=float32)]\n",
      "20180628_22_61.jpg\n",
      "258 : [array([[-1.0240383,  1.3722252]], dtype=float32)]\n",
      "20180628_22_62.jpg\n",
      "259 : [array([[-0.45721105,  0.7861352 ]], dtype=float32)]\n",
      "20180628_22_63.jpg\n",
      "260 : [array([[-1.3354963,  1.6919919]], dtype=float32)]\n",
      "20180628_23_64.jpg\n",
      "261 : [array([[-1.1929442,  1.5514305]], dtype=float32)]\n",
      "20180628_23_65.jpg\n",
      "262 : [array([[-0.5030298 ,  0.81948054]], dtype=float32)]\n",
      "20180628_23_66.jpg\n",
      "263 : [array([[-0.92857504,  1.2584399 ]], dtype=float32)]\n",
      "20180628_23_67.jpg\n",
      "264 : [array([[-1.3784924,  1.7373296]], dtype=float32)]\n",
      "20180628_24_68.jpg\n",
      "265 : [array([[-0.43301386,  0.75162864]], dtype=float32)]\n",
      "20180628_2_48.jpg\n",
      "266 : [array([[-1.5066861,  1.8706241]], dtype=float32)]\n",
      "20180628_2_49.jpg\n",
      "267 : [array([[-1.0637723,  1.3998232]], dtype=float32)]\n",
      "20180628_2_50.jpg\n",
      "268 : [array([[-1.1601171,  1.5027658]], dtype=float32)]\n",
      "20180628_2_51.jpg\n",
      "269 : [array([[-1.2325375,  1.5742495]], dtype=float32)]\n",
      "20180628_3_69.jpg\n",
      "270 : [array([[-0.9551022,  1.2966716]], dtype=float32)]\n",
      "20180628_3_70.jpg\n",
      "271 : [array([[-1.1040274,  1.439237 ]], dtype=float32)]\n",
      "20180628_3_71.jpg\n",
      "272 : [array([[-1.6183889,  1.9949473]], dtype=float32)]\n",
      "20180628_3_72.jpg\n",
      "273 : [array([[-0.73194075,  1.0348831 ]], dtype=float32)]\n",
      "20180628_4_73.jpg\n",
      "274 : [array([[-1.3428138,  1.693921 ]], dtype=float32)]\n",
      "20180628_4_74.jpg\n",
      "275 : [array([[-1.3736835,  1.7327944]], dtype=float32)]\n",
      "20180628_4_75.jpg\n",
      "276 : [array([[-1.2159244,  1.5762327]], dtype=float32)]\n",
      "20180628_4_76.jpg\n",
      "277 : [array([[-0.7207856,  1.0317721]], dtype=float32)]\n",
      "20180628_5_77.jpg\n",
      "278 : [array([[-1.1613667,  1.5043895]], dtype=float32)]\n",
      "20180628_5_78.jpg\n",
      "279 : [array([[-1.7957686,  2.1904335]], dtype=float32)]\n",
      "20180628_5_79.jpg\n",
      "280 : [array([[-0.50822884,  0.8007085 ]], dtype=float32)]\n",
      "20180628_5_80.jpg\n",
      "281 : [array([[-0.73229706,  1.0420791 ]], dtype=float32)]\n",
      "20180628_6_81.jpg\n",
      "282 : [array([[-1.261983 ,  1.5985143]], dtype=float32)]\n",
      "20180628_6_82.jpg\n",
      "283 : [array([[-1.4138324,  1.7699426]], dtype=float32)]\n",
      "20180628_6_83.jpg\n",
      "284 : [array([[-1.3319741,  1.6905288]], dtype=float32)]\n",
      "20180628_6_84.jpg\n",
      "285 : [array([[-1.4228991,  1.7911234]], dtype=float32)]\n",
      "20180628_7_85.jpg\n",
      "286 : [array([[-1.2125474,  1.5675365]], dtype=float32)]\n",
      "20180628_7_86.jpg\n",
      "287 : [array([[-1.4303801,  1.7852588]], dtype=float32)]\n",
      "20180628_7_87.jpg\n",
      "288 : [array([[-1.800382 ,  2.2055032]], dtype=float32)]\n",
      "20180628_7_88.jpg\n",
      "289 : [array([[-1.160264 ,  1.5111787]], dtype=float32)]\n",
      "20180628_8_89.jpg\n",
      "290 : [array([[-1.3237473,  1.6730807]], dtype=float32)]\n",
      "20180628_8_90.jpg\n",
      "291 : [array([[-1.3949242,  1.7620193]], dtype=float32)]\n",
      "20180628_8_91.jpg\n",
      "292 : [array([[-1.224523 ,  1.5795963]], dtype=float32)]\n",
      "20180628_8_92.jpg\n",
      "293 : [array([[-1.0962992,  1.4283885]], dtype=float32)]\n",
      "20180628_9_93.jpg\n",
      "294 : [array([[-0.96526563,  1.2961564 ]], dtype=float32)]\n",
      "20180628_9_94.jpg\n",
      "295 : [array([[-1.3992685,  1.7478496]], dtype=float32)]\n",
      "20180628_9_95.jpg\n",
      "296 : [array([[-0.5582164 ,  0.85973054]], dtype=float32)]\n",
      "20180628_9_96.jpg\n",
      "297 : [array([[-1.2717245,  1.6211603]], dtype=float32)]\n",
      "20180629_20_54.jpg\n",
      "298 : [array([[-1.456639 ,  1.8288853]], dtype=float32)]\n",
      "20180629_20_55.jpg\n",
      "299 : [array([[-1.469149 ,  1.8361467]], dtype=float32)]\n",
      "20180629_21_56.jpg\n",
      "300 : [array([[-1.150221 ,  1.4980882]], dtype=float32)]\n",
      "20180629_21_57.jpg\n",
      "301 : [array([[-1.3648399,  1.7397852]], dtype=float32)]\n",
      "20180629_21_58.jpg\n",
      "302 : [array([[-0.7222564,  1.0562404]], dtype=float32)]\n",
      "20180629_21_59.jpg\n",
      "303 : [array([[-1.9433732,  2.3449712]], dtype=float32)]\n",
      "20180629_22_60.jpg\n",
      "304 : [array([[-0.6819938,  1.0056548]], dtype=float32)]\n",
      "20180629_22_61.jpg\n",
      "305 : [array([[-1.4973097,  1.8676151]], dtype=float32)]\n",
      "20180629_22_62.jpg\n",
      "306 : [array([[-1.5485406,  1.9501216]], dtype=float32)]\n",
      "20180629_22_63.jpg\n",
      "307 : [array([[-0.94911253,  1.2936238 ]], dtype=float32)]\n",
      "20180629_23_64.jpg\n",
      "308 : [array([[-1.371821 ,  1.7444302]], dtype=float32)]\n",
      "20180629_23_65.jpg\n",
      "309 : [array([[-1.2847447,  1.6591173]], dtype=float32)]\n",
      "20180629_23_66.jpg\n",
      "310 : [array([[-0.63716227,  0.9685079 ]], dtype=float32)]\n",
      "20180629_23_67.jpg\n",
      "311 : [array([[-1.0984426,  1.443207 ]], dtype=float32)]\n",
      "20180629_24_68.jpg\n",
      "312 : [array([[-1.2262897,  1.5893195]], dtype=float32)]\n",
      "20180630_0_0.jpg\n",
      "313 : [array([[-1.4840235,  1.8464688]], dtype=float32)]\n",
      "20180630_0_1.jpg\n",
      "314 : [array([[-1.2521201,  1.6074921]], dtype=float32)]\n",
      "20180630_0_2.jpg\n",
      "315 : [array([[-1.5469117,  1.9231099]], dtype=float32)]\n",
      "20180630_0_3.jpg\n",
      "316 : [array([[-1.019659,  1.3513  ]], dtype=float32)]\n",
      "20180630_10_10.jpg\n",
      "317 : [array([[-1.3165038,  1.665194 ]], dtype=float32)]\n",
      "20180630_10_11.jpg\n",
      "318 : [array([[-0.43701306,  0.73584026]], dtype=float32)]\n",
      "20180630_10_8.jpg\n",
      "319 : [array([[-1.7546407,  2.1597998]], dtype=float32)]\n",
      "20180630_10_9.jpg\n",
      "320 : [array([[-1.6625105,  2.048961 ]], dtype=float32)]\n",
      "20180630_11_12.jpg\n",
      "321 : [array([[-1.4462619,  1.8168151]], dtype=float32)]\n",
      "20180630_11_13.jpg\n",
      "322 : [array([[-1.0489595,  1.3813585]], dtype=float32)]\n",
      "20180630_11_14.jpg\n",
      "323 : [array([[-1.9538969,  2.3637304]], dtype=float32)]\n",
      "20180630_11_15.jpg\n",
      "324 : [array([[-1.9064858,  2.3142514]], dtype=float32)]\n",
      "20180630_12_16.jpg\n",
      "325 : [array([[-0.60879594,  0.90433294]], dtype=float32)]\n",
      "20180630_12_17.jpg\n",
      "326 : [array([[-1.6714393,  2.0531828]], dtype=float32)]\n",
      "20180630_12_18.jpg\n",
      "327 : [array([[-0.01977744,  0.2910231 ]], dtype=float32)]\n",
      "20180630_12_19.jpg\n",
      "328 : [array([[-0.24238923,  0.52515864]], dtype=float32)]\n",
      "20180630_13_20.jpg\n",
      "329 : [array([[-1.5407263,  1.911014 ]], dtype=float32)]\n",
      "20180630_13_21.jpg\n",
      "330 : [array([[-1.3574579,  1.7089425]], dtype=float32)]\n",
      "20180630_13_22.jpg\n",
      "331 : [array([[-1.145716 ,  1.4897352]], dtype=float32)]\n",
      "20180630_13_23.jpg\n",
      "332 : [array([[-1.3218526,  1.6722382]], dtype=float32)]\n",
      "20180630_14_24.jpg\n",
      "333 : [array([[-1.3218008,  1.6778585]], dtype=float32)]\n",
      "20180630_14_25.jpg\n",
      "334 : [array([[-1.1327043,  1.4680798]], dtype=float32)]\n",
      "20180630_14_26.jpg\n",
      "335 : [array([[-1.9054718,  2.3116555]], dtype=float32)]\n",
      "20180630_14_27.jpg\n",
      "336 : [array([[-1.3800418,  1.734948 ]], dtype=float32)]\n",
      "20180630_15_28.jpg\n",
      "337 : [array([[-1.6272681,  2.0206184]], dtype=float32)]\n",
      "20180630_15_29.jpg\n",
      "338 : [array([[-1.5175053,  1.8802818]], dtype=float32)]\n",
      "20180630_15_30.jpg\n",
      "339 : [array([[-1.3406826,  1.6913033]], dtype=float32)]\n",
      "20180630_15_31.jpg\n",
      "340 : [array([[-1.2296317,  1.5775405]], dtype=float32)]\n",
      "20180630_16_32.jpg\n",
      "341 : [array([[-1.0571094,  1.385219 ]], dtype=float32)]\n",
      "20180630_16_33.jpg\n",
      "342 : [array([[-1.5258613,  1.9023391]], dtype=float32)]\n",
      "20180630_16_34.jpg\n",
      "343 : [array([[-1.4290919,  1.7856895]], dtype=float32)]\n",
      "20180630_16_35.jpg\n",
      "344 : [array([[-1.3229648,  1.6713763]], dtype=float32)]\n",
      "20180630_17_36.jpg\n",
      "345 : [array([[-0.8435923,  1.165293 ]], dtype=float32)]\n",
      "20180630_17_37.jpg\n",
      "346 : [array([[-1.7655104,  2.1643004]], dtype=float32)]\n",
      "20180630_17_38.jpg\n",
      "347 : [array([[-0.5758882,  0.8657157]], dtype=float32)]\n",
      "20180630_17_39.jpg\n",
      "348 : [array([[-1.3770323,  1.7365658]], dtype=float32)]\n",
      "20180630_18_40.jpg\n",
      "349 : [array([[-1.3555139,  1.7167523]], dtype=float32)]\n",
      "20180630_18_41.jpg\n",
      "350 : [array([[-1.3266414,  1.6778986]], dtype=float32)]\n",
      "20180630_18_42.jpg\n",
      "351 : [array([[-1.2764003,  1.6300706]], dtype=float32)]\n",
      "20180630_18_43.jpg\n",
      "352 : [array([[-1.0088396,  1.342442 ]], dtype=float32)]\n",
      "20180630_19_44.jpg\n",
      "353 : [array([[-1.2487893,  1.6042405]], dtype=float32)]\n",
      "20180630_19_45.jpg\n",
      "354 : [array([[-1.6265594,  1.9991783]], dtype=float32)]\n",
      "20180630_19_46.jpg\n",
      "355 : [array([[-0.9158389,  1.2475429]], dtype=float32)]\n",
      "20180630_19_47.jpg\n",
      "356 : [array([[-1.3257236,  1.6905715]], dtype=float32)]\n",
      "20180630_1_4.jpg\n",
      "357 : [array([[-1.731166,  2.120624]], dtype=float32)]\n",
      "20180630_1_5.jpg\n",
      "358 : [array([[-1.4101006,  1.7702035]], dtype=float32)]\n",
      "20180630_1_6.jpg\n",
      "359 : [array([[-1.3855428,  1.7394754]], dtype=float32)]\n",
      "20180630_1_7.jpg\n",
      "360 : [array([[-0.6419451,  0.9384711]], dtype=float32)]\n",
      "20180630_20_52.jpg\n",
      "361 : [array([[-1.3507932,  1.7037206]], dtype=float32)]\n",
      "20180630_20_53.jpg\n",
      "362 : [array([[-1.0314342,  1.3598714]], dtype=float32)]\n",
      "20180630_20_54.jpg\n",
      "363 : [array([[-0.8953301,  1.2123013]], dtype=float32)]\n",
      "20180630_20_55.jpg\n",
      "364 : [array([[-1.4066325,  1.7716231]], dtype=float32)]\n",
      "20180630_21_56.jpg\n",
      "365 : [array([[-1.4752941,  1.8271648]], dtype=float32)]\n",
      "20180630_21_57.jpg\n",
      "366 : [array([[-1.2410061,  1.6111166]], dtype=float32)]\n",
      "20180630_21_58.jpg\n",
      "367 : [array([[-1.342398,  1.704513]], dtype=float32)]\n",
      "20180630_21_59.jpg\n",
      "368 : [array([[-0.07619828,  0.36399886]], dtype=float32)]\n",
      "20180630_22_60.jpg\n",
      "369 : [array([[-0.7455773,  1.081867 ]], dtype=float32)]\n",
      "20180630_22_61.jpg\n",
      "370 : [array([[-1.087297 ,  1.4350456]], dtype=float32)]\n",
      "20180630_22_62.jpg\n",
      "371 : [array([[-1.9665872,  2.3891757]], dtype=float32)]\n",
      "20180630_22_63.jpg\n",
      "372 : [array([[-0.8968372,  1.222791 ]], dtype=float32)]\n",
      "20180630_23_64.jpg\n",
      "373 : [array([[-1.1862983,  1.537774 ]], dtype=float32)]\n",
      "20180630_23_65.jpg\n",
      "374 : [array([[-1.7992579,  2.1964014]], dtype=float32)]\n",
      "20180630_23_66.jpg\n",
      "375 : [array([[-1.3993303,  1.7662822]], dtype=float32)]\n",
      "20180630_23_67.jpg\n",
      "376 : [array([[-1.91816  ,  2.3331175]], dtype=float32)]\n",
      "20180630_24_68.jpg\n",
      "377 : [array([[-1.2993864,  1.6608905]], dtype=float32)]\n",
      "20180630_2_48.jpg\n",
      "378 : [array([[-1.5483133,  1.9225208]], dtype=float32)]\n",
      "20180630_2_49.jpg\n",
      "379 : [array([[-1.521924 ,  1.9000823]], dtype=float32)]\n",
      "20180630_2_50.jpg\n",
      "380 : [array([[-1.1653463,  1.5041097]], dtype=float32)]\n",
      "20180630_2_51.jpg\n",
      "381 : [array([[-0.8227622,  1.1530974]], dtype=float32)]\n",
      "20180630_3_69.jpg\n",
      "382 : [array([[-0.72309935,  1.0396951 ]], dtype=float32)]\n",
      "20180630_3_70.jpg\n",
      "383 : [array([[-1.3073967,  1.6584785]], dtype=float32)]\n",
      "20180630_3_71.jpg\n",
      "384 : [array([[-1.5414016,  1.9144245]], dtype=float32)]\n",
      "20180630_3_72.jpg\n",
      "385 : [array([[-1.1511642,  1.4949296]], dtype=float32)]\n",
      "20180630_4_73.jpg\n",
      "386 : [array([[-1.6771935,  2.0621   ]], dtype=float32)]\n",
      "20180630_4_74.jpg\n",
      "387 : [array([[-1.0544709,  1.392903 ]], dtype=float32)]\n",
      "20180630_4_75.jpg\n",
      "388 : [array([[0.13070872, 0.134259  ]], dtype=float32)]\n",
      "20180630_4_76.jpg\n",
      "389 : [array([[-1.1254739,  1.4683322]], dtype=float32)]\n",
      "20180630_5_77.jpg\n",
      "390 : [array([[-0.9692155,  1.2971681]], dtype=float32)]\n",
      "20180630_5_78.jpg\n",
      "391 : [array([[-0.45825782,  0.75595963]], dtype=float32)]\n",
      "20180630_5_79.jpg\n",
      "392 : [array([[-1.7704132,  2.1633518]], dtype=float32)]\n",
      "20180630_5_80.jpg\n",
      "393 : [array([[-0.3684404,  0.6538563]], dtype=float32)]\n",
      "20180630_6_81.jpg\n",
      "394 : [array([[-0.9185213,  1.2396619]], dtype=float32)]\n",
      "20180630_6_82.jpg\n",
      "395 : [array([[-1.2965785,  1.6450896]], dtype=float32)]\n",
      "20180630_6_83.jpg\n",
      "396 : [array([[-1.4525676,  1.8156114]], dtype=float32)]\n",
      "20180630_6_84.jpg\n",
      "397 : [array([[-1.4302565,  1.7833362]], dtype=float32)]\n",
      "20180630_7_85.jpg\n",
      "398 : [array([[-1.3722844,  1.7270495]], dtype=float32)]\n",
      "20180630_7_86.jpg\n",
      "399 : [array([[-1.5373243,  1.9106131]], dtype=float32)]\n",
      "20180630_7_87.jpg\n",
      "400 : [array([[-1.3378264,  1.6910461]], dtype=float32)]\n",
      "20180630_7_88.jpg\n",
      "401 : [array([[-1.3762827,  1.7300271]], dtype=float32)]\n",
      "20180630_8_89.jpg\n",
      "402 : [array([[-1.7518374,  2.145616 ]], dtype=float32)]\n",
      "20180630_8_90.jpg\n",
      "403 : [array([[-1.4254904,  1.7840997]], dtype=float32)]\n",
      "20180630_8_91.jpg\n",
      "404 : [array([[-1.3258102,  1.675776 ]], dtype=float32)]\n",
      "20180630_8_92.jpg\n",
      "405 : [array([[0.02357104, 0.2530132 ]], dtype=float32)]\n",
      "20180630_9_93.jpg\n",
      "406 : [array([[-1.7864243,  2.1835282]], dtype=float32)]\n",
      "20180630_9_94.jpg\n",
      "407 : [array([[-1.6025645,  1.9791578]], dtype=float32)]\n",
      "20180630_9_95.jpg\n",
      "408 : [array([[-1.3752946,  1.7306999]], dtype=float32)]\n",
      "20180630_9_96.jpg\n",
      "409 : [array([[-0.9185557,  1.2536554]], dtype=float32)]\n",
      "cellphone-0.jpg\n",
      "410 : [array([[-0.12911229,  0.40865478]], dtype=float32)]\n",
      "cellphone-1.jpg\n",
      "411 : [array([[-0.06881621,  0.3440044 ]], dtype=float32)]\n",
      "cellphone-10.jpg\n",
      "412 : [array([[ 0.54499763, -0.3031316 ]], dtype=float32)]\n",
      "cellphone-100.jpg\n",
      "413 : [array([[-0.63869697,  0.9423062 ]], dtype=float32)]\n",
      "cellphone-101.jpg\n",
      "414 : [array([[-0.14802954,  0.422482  ]], dtype=float32)]\n",
      "cellphone-102.jpg\n",
      "415 : [array([[ 0.3980304 , -0.13448566]], dtype=float32)]\n",
      "cellphone-103.jpg\n",
      "416 : [array([[0.1179892 , 0.15823634]], dtype=float32)]\n",
      "cellphone-104.jpg\n",
      "417 : [array([[ 0.29113972, -0.02348438]], dtype=float32)]\n",
      "cellphone-105.jpg\n",
      "418 : [array([[0.23412885, 0.03426804]], dtype=float32)]\n",
      "cellphone-106.jpg\n",
      "419 : [array([[ 0.2808421 , -0.01293686]], dtype=float32)]\n",
      "cellphone-107.jpg\n",
      "420 : [array([[ 0.6153785 , -0.37904438]], dtype=float32)]\n",
      "cellphone-108.jpg\n",
      "421 : [array([[ 0.37485322, -0.11390699]], dtype=float32)]\n",
      "cellphone-109.jpg\n",
      "422 : [array([[ 0.40088904, -0.1413221 ]], dtype=float32)]\n",
      "cellphone-11.jpg\n",
      "423 : [array([[0.19231565, 0.07506096]], dtype=float32)]\n",
      "cellphone-110.jpg\n",
      "424 : [array([[-1.0366106,  1.3723813]], dtype=float32)]\n",
      "cellphone-111.jpg\n",
      "425 : [array([[-1.1764394,  1.5195435]], dtype=float32)]\n",
      "cellphone-112.jpg\n",
      "426 : [array([[-0.1555623 ,  0.43271443]], dtype=float32)]\n",
      "cellphone-113.jpg\n",
      "427 : [array([[-0.42825007,  0.713126  ]], dtype=float32)]\n",
      "cellphone-114.jpg\n",
      "428 : [array([[-0.74361104,  1.0472786 ]], dtype=float32)]\n",
      "cellphone-115.jpg\n",
      "429 : [array([[-0.90294266,  1.2175835 ]], dtype=float32)]\n",
      "cellphone-116.jpg\n",
      "430 : [array([[-1.218351 ,  1.5580283]], dtype=float32)]\n",
      "cellphone-117.jpg\n",
      "431 : [array([[-0.67710835,  0.9901154 ]], dtype=float32)]\n",
      "cellphone-118.jpg\n",
      "432 : [array([[-0.69490856,  1.0090741 ]], dtype=float32)]\n",
      "cellphone-119.jpg\n"
     ]
    },
    {
     "name": "stdout",
     "output_type": "stream",
     "text": [
      "433 : [array([[-0.7259011,  1.0401636]], dtype=float32)]\n",
      "cellphone-12.jpg\n",
      "434 : [array([[ 0.395679  , -0.14072216]], dtype=float32)]\n",
      "cellphone-120.jpg\n",
      "435 : [array([[ 0.42773893, -0.1881621 ]], dtype=float32)]\n",
      "cellphone-121.jpg\n",
      "436 : [array([[-0.8651055,  1.1889058]], dtype=float32)]\n",
      "cellphone-122.jpg\n",
      "437 : [array([[-0.10500652,  0.3748406 ]], dtype=float32)]\n",
      "cellphone-123.jpg\n",
      "438 : [array([[0.24033137, 0.0141126 ]], dtype=float32)]\n",
      "cellphone-124.jpg\n",
      "439 : [array([[ 0.4073762 , -0.16032733]], dtype=float32)]\n",
      "cellphone-125.jpg\n",
      "440 : [array([[ 0.51065344, -0.2713757 ]], dtype=float32)]\n",
      "cellphone-126.jpg\n",
      "441 : [array([[ 0.43297216, -0.19200082]], dtype=float32)]\n",
      "cellphone-127.jpg\n",
      "442 : [array([[ 0.4556128 , -0.21016733]], dtype=float32)]\n",
      "cellphone-128.jpg\n",
      "443 : [array([[ 0.56200755, -0.3275432 ]], dtype=float32)]\n",
      "cellphone-129.jpg\n",
      "444 : [array([[ 0.32215077, -0.07021409]], dtype=float32)]\n",
      "cellphone-13.jpg\n",
      "445 : [array([[-0.6429329,  0.9448004]], dtype=float32)]\n",
      "cellphone-130.jpg\n",
      "446 : [array([[ 0.5292232 , -0.29075918]], dtype=float32)]\n",
      "cellphone-131.jpg\n",
      "447 : [array([[ 0.4767748 , -0.23617478]], dtype=float32)]\n",
      "cellphone-132.jpg\n",
      "448 : [array([[ 0.4407424 , -0.19179735]], dtype=float32)]\n",
      "cellphone-133.jpg\n",
      "449 : [array([[ 0.6790499, -0.4468731]], dtype=float32)]\n",
      "cellphone-134.jpg\n",
      "450 : [array([[ 0.66538507, -0.4349257 ]], dtype=float32)]\n",
      "cellphone-135.jpg\n",
      "451 : [array([[ 0.4111889 , -0.16732256]], dtype=float32)]\n",
      "cellphone-136.jpg\n",
      "452 : [array([[ 0.46997997, -0.22700699]], dtype=float32)]\n",
      "cellphone-137.jpg\n",
      "453 : [array([[ 0.54781026, -0.30659825]], dtype=float32)]\n",
      "cellphone-138.jpg\n",
      "454 : [array([[ 0.61000043, -0.37946358]], dtype=float32)]\n",
      "cellphone-139.jpg\n",
      "455 : [array([[0.1659882, 0.096817 ]], dtype=float32)]\n",
      "cellphone-14.jpg\n",
      "456 : [array([[-1.21198  ,  1.5464056]], dtype=float32)]\n",
      "cellphone-140.jpg\n",
      "457 : [array([[ 0.575563 , -0.3433905]], dtype=float32)]\n",
      "cellphone-141.jpg\n",
      "458 : [array([[ 0.38474014, -0.13085684]], dtype=float32)]\n",
      "cellphone-142.jpg\n",
      "459 : [array([[ 0.49337247, -0.25208634]], dtype=float32)]\n",
      "cellphone-143.jpg\n",
      "460 : [array([[0.08085704, 0.18560298]], dtype=float32)]\n",
      "cellphone-144.jpg\n",
      "461 : [array([[0.21949865, 0.04127606]], dtype=float32)]\n",
      "cellphone-145.jpg\n",
      "462 : [array([[-0.40705034,  0.70926034]], dtype=float32)]\n",
      "cellphone-146.jpg\n",
      "463 : [array([[-0.6871321,  1.0066557]], dtype=float32)]\n",
      "cellphone-147.jpg\n",
      "464 : [array([[-0.37401268,  0.67201793]], dtype=float32)]\n",
      "cellphone-148.jpg\n",
      "465 : [array([[0.03777223, 0.23564173]], dtype=float32)]\n",
      "cellphone-149.jpg\n",
      "466 : [array([[ 0.47073835, -0.21301006]], dtype=float32)]\n",
      "cellphone-15.jpg\n",
      "467 : [array([[0.09434992, 0.18346892]], dtype=float32)]\n",
      "cellphone-150.jpg\n",
      "468 : [array([[ 0.66774863, -0.42730358]], dtype=float32)]\n",
      "cellphone-151.jpg\n",
      "469 : [array([[ 0.53312236, -0.2890104 ]], dtype=float32)]\n",
      "cellphone-152.jpg\n",
      "470 : [array([[ 0.5105289 , -0.27215698]], dtype=float32)]\n",
      "cellphone-153.jpg\n",
      "471 : [array([[ 0.43117845, -0.18484218]], dtype=float32)]\n",
      "cellphone-154.jpg\n",
      "472 : [array([[ 0.33493918, -0.07662961]], dtype=float32)]\n",
      "cellphone-155.jpg\n",
      "473 : [array([[ 0.69558316, -0.4729562 ]], dtype=float32)]\n",
      "cellphone-156.jpg\n",
      "474 : [array([[ 0.615851 , -0.3759159]], dtype=float32)]\n",
      "cellphone-157.jpg\n",
      "475 : [array([[ 0.4256951 , -0.17605695]], dtype=float32)]\n",
      "cellphone-158.jpg\n",
      "476 : [array([[-0.525342 ,  0.8306142]], dtype=float32)]\n",
      "cellphone-159.jpg\n",
      "477 : [array([[-0.19295736,  0.4915001 ]], dtype=float32)]\n",
      "cellphone-16.jpg\n",
      "478 : [array([[-0.8568705,  1.1733634]], dtype=float32)]\n",
      "cellphone-160.jpg\n",
      "479 : [array([[-1.0276461,  1.3689935]], dtype=float32)]\n",
      "cellphone-161.jpg\n",
      "480 : [array([[ 0.33113798, -0.07655829]], dtype=float32)]\n",
      "cellphone-162.jpg\n",
      "481 : [array([[ 0.34318054, -0.08999084]], dtype=float32)]\n",
      "cellphone-163.jpg\n",
      "482 : [array([[ 0.56311876, -0.3224054 ]], dtype=float32)]\n",
      "cellphone-164.jpg\n",
      "483 : [array([[ 0.8198869, -0.6045623]], dtype=float32)]\n",
      "cellphone-165.jpg\n",
      "484 : [array([[ 0.49568927, -0.2516559 ]], dtype=float32)]\n",
      "cellphone-166.jpg\n",
      "485 : [array([[ 0.6789382 , -0.44848117]], dtype=float32)]\n",
      "cellphone-167.jpg\n",
      "486 : [array([[ 0.8225419, -0.6073804]], dtype=float32)]\n",
      "cellphone-168.jpg\n",
      "487 : [array([[0.15276465, 0.11399958]], dtype=float32)]\n",
      "cellphone-169.jpg\n",
      "488 : [array([[-0.22347641,  0.5218122 ]], dtype=float32)]\n",
      "cellphone-17.jpg\n",
      "489 : [array([[-0.36369023,  0.6510436 ]], dtype=float32)]\n",
      "cellphone-170.jpg\n",
      "490 : [array([[0.24068004, 0.03115791]], dtype=float32)]\n",
      "cellphone-171.jpg\n",
      "491 : [array([[-0.121849  ,  0.39911482]], dtype=float32)]\n",
      "cellphone-172.jpg\n",
      "492 : [array([[ 0.38307837, -0.12481429]], dtype=float32)]\n",
      "cellphone-173.jpg\n",
      "493 : [array([[ 0.4504677 , -0.19229452]], dtype=float32)]\n",
      "cellphone-174.jpg\n",
      "494 : [array([[ 0.4338271 , -0.17509665]], dtype=float32)]\n",
      "cellphone-175.jpg\n",
      "495 : [array([[ 0.41036925, -0.14948094]], dtype=float32)]\n",
      "cellphone-18.jpg\n",
      "496 : [array([[ 0.29191488, -0.04335273]], dtype=float32)]\n",
      "cellphone-19.jpg\n",
      "497 : [array([[ 0.4048904 , -0.14082593]], dtype=float32)]\n",
      "cellphone-2.jpg\n",
      "498 : [array([[ 0.61303604, -0.36942875]], dtype=float32)]\n",
      "cellphone-20.jpg\n",
      "499 : [array([[0.24276455, 0.02596772]], dtype=float32)]\n",
      "cellphone-21.jpg\n",
      "500 : [array([[0.25586653, 0.01118847]], dtype=float32)]\n",
      "cellphone-22.jpg\n",
      "501 : [array([[ 0.3541255 , -0.08679284]], dtype=float32)]\n",
      "cellphone-23.jpg\n",
      "502 : [array([[0.04633835, 0.23348285]], dtype=float32)]\n",
      "cellphone-24.jpg\n",
      "503 : [array([[-0.04728416,  0.33959344]], dtype=float32)]\n",
      "cellphone-25.jpg\n",
      "504 : [array([[ 0.4328684, -0.1756611]], dtype=float32)]\n",
      "cellphone-26.jpg\n",
      "505 : [array([[0.1750059 , 0.09609483]], dtype=float32)]\n",
      "cellphone-27.jpg\n",
      "506 : [array([[0.08062842, 0.182337  ]], dtype=float32)]\n",
      "cellphone-28.jpg\n",
      "507 : [array([[0.03211185, 0.23301502]], dtype=float32)]\n",
      "cellphone-29.jpg\n",
      "508 : [array([[ 0.3668236 , -0.10403574]], dtype=float32)]\n",
      "cellphone-3.jpg\n",
      "509 : [array([[ 0.4369461, -0.1727607]], dtype=float32)]\n",
      "cellphone-30.jpg\n",
      "510 : [array([[ 0.4909744 , -0.23647329]], dtype=float32)]\n",
      "cellphone-31.jpg\n",
      "511 : [array([[ 0.32933164, -0.06444588]], dtype=float32)]\n",
      "cellphone-32.jpg\n",
      "512 : [array([[-0.02364397,  0.29248267]], dtype=float32)]\n",
      "cellphone-33.jpg\n",
      "513 : [array([[ 0.29092422, -0.04250506]], dtype=float32)]\n",
      "cellphone-34.jpg\n",
      "514 : [array([[-0.05231218,  0.32873866]], dtype=float32)]\n",
      "cellphone-35.jpg\n",
      "515 : [array([[ 0.4021394 , -0.14821878]], dtype=float32)]\n",
      "cellphone-36.jpg\n",
      "516 : [array([[ 0.8372881 , -0.61984336]], dtype=float32)]\n",
      "cellphone-37.jpg\n",
      "517 : [array([[ 0.8283227, -0.6069562]], dtype=float32)]\n",
      "cellphone-38.jpg\n",
      "518 : [array([[ 0.5465417 , -0.29971042]], dtype=float32)]\n",
      "cellphone-39.jpg\n",
      "519 : [array([[ 0.537979  , -0.29179457]], dtype=float32)]\n",
      "cellphone-4.jpg\n",
      "520 : [array([[ 0.6646702, -0.4237757]], dtype=float32)]\n",
      "cellphone-40.jpg\n",
      "521 : [array([[ 0.6387683 , -0.39914382]], dtype=float32)]\n",
      "cellphone-41.jpg\n",
      "522 : [array([[ 0.5800557 , -0.33381477]], dtype=float32)]\n",
      "cellphone-42.jpg\n",
      "523 : [array([[ 0.6048585 , -0.35806537]], dtype=float32)]\n",
      "cellphone-43.jpg\n",
      "524 : [array([[-0.22008705,  0.51624024]], dtype=float32)]\n",
      "cellphone-44.jpg\n",
      "525 : [array([[ 0.72451603, -0.4977527 ]], dtype=float32)]\n",
      "cellphone-45.jpg\n",
      "526 : [array([[-0.42308715,  0.7343209 ]], dtype=float32)]\n",
      "cellphone-46.jpg\n",
      "527 : [array([[ 0.6442853, -0.4051421]], dtype=float32)]\n",
      "cellphone-47.jpg\n",
      "528 : [array([[ 0.6362146, -0.388634 ]], dtype=float32)]\n",
      "cellphone-48.jpg\n",
      "529 : [array([[ 0.57304883, -0.3245074 ]], dtype=float32)]\n",
      "cellphone-49.jpg\n",
      "530 : [array([[ 0.6252067, -0.3925207]], dtype=float32)]\n",
      "cellphone-5.jpg\n",
      "531 : [array([[ 0.46871245, -0.21387364]], dtype=float32)]\n",
      "cellphone-50.jpg\n",
      "532 : [array([[ 0.7186919, -0.4862582]], dtype=float32)]\n",
      "cellphone-51.jpg\n",
      "533 : [array([[ 0.5275597 , -0.28109634]], dtype=float32)]\n",
      "cellphone-52.jpg\n",
      "534 : [array([[ 0.666064 , -0.4340315]], dtype=float32)]\n",
      "cellphone-53.jpg\n",
      "535 : [array([[ 0.656098  , -0.41429734]], dtype=float32)]\n",
      "cellphone-54.jpg\n",
      "536 : [array([[-0.29554  ,  0.5733321]], dtype=float32)]\n",
      "cellphone-55.jpg\n",
      "537 : [array([[ 0.5432382, -0.3071542]], dtype=float32)]\n",
      "cellphone-56.jpg\n",
      "538 : [array([[ 0.66531557, -0.43857157]], dtype=float32)]\n",
      "cellphone-57.jpg\n",
      "539 : [array([[-0.8523241,  1.1634011]], dtype=float32)]\n",
      "cellphone-58.jpg\n",
      "540 : [array([[ 0.9973286 , -0.79552454]], dtype=float32)]\n",
      "cellphone-59.jpg\n",
      "541 : [array([[ 0.67773145, -0.45214254]], dtype=float32)]\n",
      "cellphone-6.jpg\n",
      "542 : [array([[ 0.43774542, -0.17941742]], dtype=float32)]\n",
      "cellphone-60.jpg\n",
      "543 : [array([[ 0.43826914, -0.19941403]], dtype=float32)]\n",
      "cellphone-61.jpg\n",
      "544 : [array([[ 0.77297324, -0.55331814]], dtype=float32)]\n",
      "cellphone-62.jpg\n",
      "545 : [array([[ 0.67954755, -0.45470986]], dtype=float32)]\n",
      "cellphone-63.jpg\n",
      "546 : [array([[ 0.26747122, -0.01270838]], dtype=float32)]\n",
      "cellphone-64.jpg\n",
      "547 : [array([[-0.41586304,  0.70596206]], dtype=float32)]\n",
      "cellphone-65.jpg\n",
      "548 : [array([[0.17593922, 0.08092175]], dtype=float32)]\n",
      "cellphone-66.jpg\n",
      "549 : [array([[-0.27298352,  0.55961037]], dtype=float32)]\n",
      "cellphone-67.jpg\n",
      "550 : [array([[ 0.4078662 , -0.15905301]], dtype=float32)]\n",
      "cellphone-68.jpg\n",
      "551 : [array([[ 0.88480234, -0.6727546 ]], dtype=float32)]\n",
      "cellphone-69.jpg\n",
      "552 : [array([[ 0.48884994, -0.2519664 ]], dtype=float32)]\n",
      "cellphone-7.jpg\n",
      "553 : [array([[0.26330948, 0.01224897]], dtype=float32)]\n",
      "cellphone-70.jpg\n",
      "554 : [array([[0.15023588, 0.12567867]], dtype=float32)]\n",
      "cellphone-71.jpg\n",
      "555 : [array([[0.07770862, 0.20903194]], dtype=float32)]\n",
      "cellphone-72.jpg\n",
      "556 : [array([[ 0.3772287 , -0.11077318]], dtype=float32)]\n",
      "cellphone-73.jpg\n",
      "557 : [array([[ 0.8144091, -0.598962 ]], dtype=float32)]\n",
      "cellphone-74.jpg\n",
      "558 : [array([[ 0.28524086, -0.01451131]], dtype=float32)]\n",
      "cellphone-75.jpg\n",
      "559 : [array([[ 0.34797278, -0.08133905]], dtype=float32)]\n",
      "cellphone-76.jpg\n",
      "560 : [array([[-0.05925526,  0.35769364]], dtype=float32)]\n",
      "cellphone-77.jpg\n",
      "561 : [array([[ 0.29078403, -0.03699536]], dtype=float32)]\n",
      "cellphone-78.jpg\n",
      "562 : [array([[ 0.55579364, -0.31605402]], dtype=float32)]\n",
      "cellphone-79.jpg\n",
      "563 : [array([[0.24010488, 0.0197535 ]], dtype=float32)]\n",
      "cellphone-8.jpg\n",
      "564 : [array([[ 0.3974125 , -0.13294965]], dtype=float32)]\n",
      "cellphone-80.jpg\n",
      "565 : [array([[ 0.98579293, -0.77942455]], dtype=float32)]\n",
      "cellphone-81.jpg\n",
      "566 : [array([[ 0.6277045 , -0.39513877]], dtype=float32)]\n",
      "cellphone-82.jpg\n",
      "567 : [array([[ 0.45227292, -0.20575227]], dtype=float32)]\n",
      "cellphone-83.jpg\n",
      "568 : [array([[0.23581974, 0.02340556]], dtype=float32)]\n",
      "cellphone-84.jpg\n",
      "569 : [array([[0.12710638, 0.13581957]], dtype=float32)]\n",
      "cellphone-85.jpg\n",
      "570 : [array([[ 0.64064693, -0.40779373]], dtype=float32)]\n",
      "cellphone-86.jpg\n",
      "571 : [array([[ 0.36490145, -0.11305372]], dtype=float32)]\n",
      "cellphone-87.jpg\n",
      "572 : [array([[ 0.4581287, -0.2134761]], dtype=float32)]\n",
      "cellphone-88.jpg\n",
      "573 : [array([[-0.2614611 ,  0.54683614]], dtype=float32)]\n",
      "cellphone-89.jpg\n",
      "574 : [array([[ 0.27784166, -0.0225471 ]], dtype=float32)]\n",
      "cellphone-9.jpg\n",
      "575 : [array([[ 0.64520055, -0.4063604 ]], dtype=float32)]\n",
      "cellphone-90.jpg\n",
      "576 : [array([[ 0.68896985, -0.45953628]], dtype=float32)]\n",
      "cellphone-91.jpg\n",
      "577 : [array([[ 0.7957995 , -0.57715446]], dtype=float32)]\n",
      "cellphone-92.jpg\n",
      "578 : [array([[ 0.6276915, -0.3971387]], dtype=float32)]\n",
      "cellphone-93.jpg\n",
      "579 : [array([[ 0.5787071 , -0.35015762]], dtype=float32)]\n",
      "cellphone-94.jpg\n",
      "580 : [array([[ 0.5945968 , -0.36334118]], dtype=float32)]\n",
      "cellphone-95.jpg\n",
      "581 : [array([[ 0.41342616, -0.16699956]], dtype=float32)]\n",
      "cellphone-96.jpg\n",
      "582 : [array([[-0.45215315,  0.7565872 ]], dtype=float32)]\n",
      "cellphone-97.jpg\n",
      "583 : [array([[-1.2294548,  1.587654 ]], dtype=float32)]\n",
      "cellphone-98.jpg\n",
      "584 : [array([[ 0.37227413, -0.12136766]], dtype=float32)]\n",
      "cellphone-99.jpg\n",
      "585 : [array([[-1.1649879,  1.5165329]], dtype=float32)]\n",
      "cup-20180627_13_23.jpg\n",
      "586 : [array([[-0.69316816,  1.0139581 ]], dtype=float32)]\n",
      "cup-20180627_14_24.jpg\n",
      "587 : [array([[-0.7812332,  1.1050348]], dtype=float32)]\n",
      "cup-20180627_14_25.jpg\n",
      "588 : [array([[-0.64635307,  0.9605426 ]], dtype=float32)]\n",
      "cup-20180627_14_26.jpg\n",
      "589 : [array([[-0.46542025,  0.77014583]], dtype=float32)]\n",
      "cup-20180627_14_27.jpg\n",
      "590 : [array([[-0.49208516,  0.79926294]], dtype=float32)]\n",
      "cup-20180627_15_28.jpg\n",
      "591 : [array([[-0.64797467,  0.9616957 ]], dtype=float32)]\n",
      "cup-20180627_15_29.jpg\n",
      "592 : [array([[-0.64026344,  0.9522742 ]], dtype=float32)]\n",
      "cup-20180627_15_30.jpg\n",
      "593 : [array([[-0.83399045,  1.1621308 ]], dtype=float32)]\n",
      "cup-20180627_15_31.jpg\n",
      "594 : [array([[-0.63631105,  0.94790083]], dtype=float32)]\n",
      "cup-20180627_16_32.jpg\n",
      "595 : [array([[-0.7024668,  1.020686 ]], dtype=float32)]\n",
      "cup-20180627_16_33.jpg\n",
      "596 : [array([[-0.59107155,  0.90624523]], dtype=float32)]\n",
      "cup-20180627_16_34.jpg\n",
      "597 : [array([[-0.58386403,  0.8999466 ]], dtype=float32)]\n",
      "cup-20180627_16_35.jpg\n",
      "598 : [array([[-0.536295 ,  0.8464904]], dtype=float32)]\n",
      "cup-20180627_17_36.jpg\n",
      "599 : [array([[-0.6992187,  1.0157713]], dtype=float32)]\n",
      "cup-20180627_17_37.jpg\n",
      "600 : [array([[-0.71905446,  1.0374254 ]], dtype=float32)]\n",
      "cup-20180627_17_38.jpg\n",
      "601 : [array([[-0.64890516,  0.9670795 ]], dtype=float32)]\n",
      "cup-20180627_17_39.jpg\n",
      "602 : [array([[-0.59976  ,  0.9135686]], dtype=float32)]\n",
      "cup-20180627_18_40.jpg\n",
      "603 : [array([[-0.6970758,  1.015503 ]], dtype=float32)]\n",
      "cup-20180627_18_41.jpg\n",
      "604 : [array([[-0.3091757,  0.6045804]], dtype=float32)]\n",
      "cup-20180627_18_42.jpg\n",
      "605 : [array([[-0.32282147,  0.619267  ]], dtype=float32)]\n",
      "cup-20180627_18_43.jpg\n",
      "606 : [array([[-0.30678216,  0.60279495]], dtype=float32)]\n",
      "cup-20180627_19_44.jpg\n",
      "607 : [array([[-0.5732758 ,  0.87610996]], dtype=float32)]\n",
      "cup-20180627_19_45.jpg\n",
      "608 : [array([[-0.36711535,  0.6645955 ]], dtype=float32)]\n",
      "cup-20180627_19_46.jpg\n",
      "609 : [array([[-0.4407697 ,  0.74020827]], dtype=float32)]\n",
      "cup-20180627_19_47.jpg\n",
      "610 : [array([[-0.4537907,  0.7550293]], dtype=float32)]\n",
      "cup-20180627_20_52.jpg\n",
      "611 : [array([[-0.49535918,  0.8049791 ]], dtype=float32)]\n",
      "cup-20180627_20_53.jpg\n",
      "612 : [array([[-0.6286292,  0.9454018]], dtype=float32)]\n",
      "cup-20180627_21_56.jpg\n",
      "613 : [array([[-0.62097394,  0.9469188 ]], dtype=float32)]\n",
      "cup-20180627_21_57.jpg\n",
      "614 : [array([[-0.88426155,  1.2277888 ]], dtype=float32)]\n",
      "cup-20180627_21_58.jpg\n",
      "615 : [array([[-0.98369765,  1.3205142 ]], dtype=float32)]\n",
      "cup-20180627_21_59.jpg\n",
      "616 : [array([[-1.1240246,  1.4877245]], dtype=float32)]\n",
      "cup-20180627_22_60.jpg\n",
      "617 : [array([[-0.72204167,  1.057329  ]], dtype=float32)]\n",
      "cup-20180627_22_61.jpg\n",
      "618 : [array([[-0.9368246,  1.2845675]], dtype=float32)]\n",
      "cup-20180627_22_62.jpg\n",
      "619 : [array([[-1.4338324,  1.793107 ]], dtype=float32)]\n",
      "cup-20180627_22_63.jpg\n",
      "620 : [array([[-1.5744977,  1.949647 ]], dtype=float32)]\n",
      "cup-20180627_23_64.jpg\n",
      "621 : [array([[-1.5652823,  1.9289016]], dtype=float32)]\n",
      "cup-20180627_23_65.jpg\n",
      "622 : [array([[-1.3782827,  1.7306554]], dtype=float32)]\n",
      "cup-20180627_23_66.jpg\n",
      "623 : [array([[-1.1674507,  1.4961257]], dtype=float32)]\n",
      "cup-20180627_23_67.jpg\n",
      "624 : [array([[-1.2774175,  1.650431 ]], dtype=float32)]\n",
      "cup-20180627_24_68.jpg\n",
      "625 : [array([[-1.2378751,  1.5751832]], dtype=float32)]\n",
      "cup-20180628_0_0.jpg\n",
      "626 : [array([[-0.16097654,  0.45945752]], dtype=float32)]\n",
      "cup-20180628_0_1.jpg\n",
      "627 : [array([[-0.16960579,  0.46753606]], dtype=float32)]\n",
      "cup-20180628_0_2.jpg\n",
      "628 : [array([[-0.15601954,  0.45280433]], dtype=float32)]\n",
      "cup-20180628_0_3.jpg\n",
      "629 : [array([[-0.57808113,  0.89305115]], dtype=float32)]\n",
      "cup-20180628_10_10.jpg\n",
      "630 : [array([[-1.1066432,  1.4441978]], dtype=float32)]\n",
      "cup-20180628_10_11.jpg\n",
      "631 : [array([[-1.0817617,  1.4143673]], dtype=float32)]\n",
      "cup-20180628_10_8.jpg\n",
      "632 : [array([[-1.061408 ,  1.3978885]], dtype=float32)]\n",
      "cup-20180628_10_9.jpg\n",
      "633 : [array([[-1.1443484,  1.4825903]], dtype=float32)]\n",
      "cup-20180628_11_12.jpg\n",
      "634 : [array([[-1.1704775,  1.5119312]], dtype=float32)]\n",
      "cup-20180628_11_13.jpg\n",
      "635 : [array([[-1.0509837,  1.3858887]], dtype=float32)]\n",
      "cup-20180628_11_14.jpg\n",
      "636 : [array([[-1.1275849,  1.4673691]], dtype=float32)]\n",
      "cup-20180628_11_15.jpg\n",
      "637 : [array([[-1.1185193,  1.4614965]], dtype=float32)]\n",
      "cup-20180628_12_16.jpg\n",
      "638 : [array([[-1.2066581,  1.551704 ]], dtype=float32)]\n",
      "cup-20180628_12_17.jpg\n",
      "639 : [array([[-1.3982667,  1.7589891]], dtype=float32)]\n",
      "cup-20180628_12_18.jpg\n",
      "640 : [array([[-1.3372436,  1.6932636]], dtype=float32)]\n",
      "cup-20180628_12_19.jpg\n",
      "641 : [array([[-1.2846736,  1.6350545]], dtype=float32)]\n",
      "cup-20180628_13_20.jpg\n",
      "642 : [array([[-1.2891911,  1.642232 ]], dtype=float32)]\n",
      "cup-20180628_13_21.jpg\n",
      "643 : [array([[-1.4699172,  1.8379476]], dtype=float32)]\n",
      "cup-20180628_13_22.jpg\n",
      "644 : [array([[-1.4740955,  1.8393373]], dtype=float32)]\n",
      "cup-20180628_13_23.jpg\n"
     ]
    },
    {
     "name": "stdout",
     "output_type": "stream",
     "text": [
      "645 : [array([[-1.3041916,  1.6565531]], dtype=float32)]\n",
      "cup-20180628_14_24.jpg\n",
      "646 : [array([[-1.4370708,  1.8013006]], dtype=float32)]\n",
      "cup-20180628_14_25.jpg\n",
      "647 : [array([[-1.4028288,  1.7641765]], dtype=float32)]\n",
      "cup-20180628_14_26.jpg\n",
      "648 : [array([[-1.1156243,  1.4521463]], dtype=float32)]\n",
      "cup-20180628_14_27.jpg\n",
      "649 : [array([[-1.4661521,  1.8327897]], dtype=float32)]\n",
      "cup-20180628_15_28.jpg\n",
      "650 : [array([[-1.3895795,  1.7488565]], dtype=float32)]\n",
      "cup-20180628_15_29.jpg\n",
      "651 : [array([[-1.2834609,  1.6350952]], dtype=float32)]\n",
      "cup-20180628_15_30.jpg\n",
      "652 : [array([[-1.3464713,  1.7041411]], dtype=float32)]\n",
      "cup-20180628_15_31.jpg\n",
      "653 : [array([[-1.4158117,  1.7788905]], dtype=float32)]\n",
      "cup-20180628_16_32.jpg\n",
      "654 : [array([[-1.4207555,  1.7830113]], dtype=float32)]\n",
      "cup-20180628_16_33.jpg\n",
      "655 : [array([[-0.5171465,  0.8351196]], dtype=float32)]\n",
      "cup-20180628_16_34.jpg\n",
      "656 : [array([[-1.2404628,  1.5871758]], dtype=float32)]\n",
      "cup-20180628_16_35.jpg\n",
      "657 : [array([[-1.4476185,  1.8126515]], dtype=float32)]\n",
      "cup-20180628_17_36.jpg\n",
      "658 : [array([[-1.201548,  1.541546]], dtype=float32)]\n",
      "cup-20180628_17_37.jpg\n",
      "659 : [array([[-1.2870566,  1.639978 ]], dtype=float32)]\n",
      "cup-20180628_17_38.jpg\n",
      "660 : [array([[-1.4023101,  1.7637306]], dtype=float32)]\n",
      "cup-20180628_17_39.jpg\n",
      "661 : [array([[-1.5406127,  1.9131914]], dtype=float32)]\n",
      "cup-20180628_18_40.jpg\n",
      "662 : [array([[-1.3486499,  1.707927 ]], dtype=float32)]\n",
      "cup-20180628_18_41.jpg\n",
      "663 : [array([[-1.5519315,  1.9233094]], dtype=float32)]\n",
      "cup-20180628_18_42.jpg\n",
      "664 : [array([[-1.3637565,  1.7126156]], dtype=float32)]\n",
      "cup-20180628_18_43.jpg\n",
      "665 : [array([[-1.4036505,  1.7638079]], dtype=float32)]\n",
      "cup-20180628_19_44.jpg\n",
      "666 : [array([[-1.3038026,  1.6575817]], dtype=float32)]\n",
      "cup-20180628_19_45.jpg\n",
      "667 : [array([[-1.4277802,  1.790533 ]], dtype=float32)]\n",
      "cup-20180628_19_46.jpg\n",
      "668 : [array([[-1.2805007,  1.6305504]], dtype=float32)]\n",
      "cup-20180628_19_47.jpg\n",
      "669 : [array([[-1.1334649,  1.473775 ]], dtype=float32)]\n",
      "cup-20180628_1_4.jpg\n",
      "670 : [array([[-1.0586953,  1.4024357]], dtype=float32)]\n",
      "cup-20180628_1_5.jpg\n",
      "671 : [array([[-0.17309132,  0.47292235]], dtype=float32)]\n",
      "cup-20180628_1_6.jpg\n",
      "672 : [array([[-0.12868573,  0.42413273]], dtype=float32)]\n",
      "cup-20180628_1_7.jpg\n",
      "673 : [array([[-0.0279318 ,  0.31751785]], dtype=float32)]\n",
      "cup-20180628_20_52.jpg\n",
      "674 : [array([[-0.8459558,  1.1809305]], dtype=float32)]\n",
      "cup-20180628_20_53.jpg\n",
      "675 : [array([[-0.81357044,  1.1505066 ]], dtype=float32)]\n",
      "cup-20180628_20_54.jpg\n",
      "676 : [array([[-0.7856789,  1.1259559]], dtype=float32)]\n",
      "cup-20180628_20_55.jpg\n",
      "677 : [array([[-0.46397784,  0.78887415]], dtype=float32)]\n",
      "cup-20180628_21_56.jpg\n",
      "678 : [array([[-1.335472 ,  1.6927041]], dtype=float32)]\n",
      "cup-20180628_21_57.jpg\n",
      "679 : [array([[-0.788972 ,  1.1244668]], dtype=float32)]\n",
      "cup-20180628_21_58.jpg\n",
      "680 : [array([[-1.3020906,  1.6679614]], dtype=float32)]\n",
      "cup-20180628_21_59.jpg\n",
      "681 : [array([[-1.359283 ,  1.7188994]], dtype=float32)]\n",
      "cup-20180628_22_60.jpg\n",
      "682 : [array([[-1.4017235,  1.7542971]], dtype=float32)]\n",
      "cup-20180628_22_61.jpg\n",
      "683 : [array([[-1.1014948,  1.459302 ]], dtype=float32)]\n",
      "cup-20180628_22_62.jpg\n",
      "684 : [array([[-0.6632026,  0.9982282]], dtype=float32)]\n",
      "cup-20180628_22_63.jpg\n",
      "685 : [array([[-0.8209547,  1.1547475]], dtype=float32)]\n",
      "cup-20180628_23_64.jpg\n",
      "686 : [array([[-1.0580335,  1.3954952]], dtype=float32)]\n",
      "cup-20180628_23_65.jpg\n",
      "687 : [array([[-0.541766 ,  0.8717902]], dtype=float32)]\n",
      "cup-20180628_23_66.jpg\n",
      "688 : [array([[-1.201843 ,  1.5453887]], dtype=float32)]\n",
      "cup-20180628_23_67.jpg\n",
      "689 : [array([[-0.4565    ,  0.78096235]], dtype=float32)]\n",
      "cup-20180628_24_68.jpg\n",
      "690 : [array([[-0.21861994,  0.51646125]], dtype=float32)]\n",
      "cup-20180628_2_48.jpg\n",
      "691 : [array([[-0.27039465,  0.57255495]], dtype=float32)]\n",
      "cup-20180628_2_49.jpg\n",
      "692 : [array([[-0.26736897,  0.57292974]], dtype=float32)]\n",
      "cup-20180628_2_50.jpg\n",
      "693 : [array([[-0.2961053,  0.5992403]], dtype=float32)]\n",
      "cup-20180628_2_51.jpg\n",
      "694 : [array([[-0.11422575,  0.4099675 ]], dtype=float32)]\n",
      "cup-20180628_3_69.jpg\n",
      "695 : [array([[-0.18092555,  0.4795039 ]], dtype=float32)]\n",
      "cup-20180628_3_70.jpg\n",
      "696 : [array([[-1.1027169,  1.4377723]], dtype=float32)]\n",
      "cup-20180628_3_71.jpg\n",
      "697 : [array([[-0.88588053,  1.2019109 ]], dtype=float32)]\n",
      "cup-20180628_3_72.jpg\n",
      "698 : [array([[-1.1584275,  1.4950055]], dtype=float32)]\n",
      "cup-20180628_4_73.jpg\n",
      "699 : [array([[-1.1261759,  1.4600527]], dtype=float32)]\n",
      "cup-20180628_4_74.jpg\n",
      "700 : [array([[-1.0753622,  1.4037926]], dtype=float32)]\n",
      "cup-20180628_4_75.jpg\n",
      "701 : [array([[-0.9023013,  1.2323648]], dtype=float32)]\n",
      "cup-20180628_4_76.jpg\n",
      "702 : [array([[-0.94696766,  1.2841405 ]], dtype=float32)]\n",
      "cup-20180628_5_77.jpg\n",
      "703 : [array([[-0.90615726,  1.2358096 ]], dtype=float32)]\n",
      "cup-20180628_5_78.jpg\n",
      "704 : [array([[-0.8981912,  1.2270864]], dtype=float32)]\n",
      "cup-20180628_5_79.jpg\n",
      "705 : [array([[-0.9925448,  1.331933 ]], dtype=float32)]\n",
      "cup-20180628_5_80.jpg\n",
      "706 : [array([[-1.1296519,  1.4708525]], dtype=float32)]\n",
      "cup-20180628_6_81.jpg\n",
      "707 : [array([[-1.1933997,  1.5412314]], dtype=float32)]\n",
      "cup-20180628_6_82.jpg\n",
      "708 : [array([[-0.3390587 ,  0.63237476]], dtype=float32)]\n",
      "cup-20180628_6_83.jpg\n",
      "709 : [array([[-0.810114 ,  1.1350697]], dtype=float32)]\n",
      "paper-20180625_0_0.jpg\n",
      "710 : [array([[-0.921736 ,  1.2545681]], dtype=float32)]\n",
      "paper-20180625_0_1.jpg\n",
      "711 : [array([[-0.9933702,  1.3305736]], dtype=float32)]\n",
      "paper-20180625_0_2.jpg\n",
      "712 : [array([[-1.0096244,  1.3450801]], dtype=float32)]\n",
      "paper-20180625_0_3.jpg\n",
      "713 : [array([[-1.0134426,  1.3507897]], dtype=float32)]\n",
      "paper-20180625_10_10.jpg\n",
      "714 : [array([[-0.67543846,  0.9920807 ]], dtype=float32)]\n",
      "paper-20180625_10_11.jpg\n",
      "715 : [array([[-0.88194174,  1.2084951 ]], dtype=float32)]\n",
      "paper-20180625_10_8.jpg\n",
      "716 : [array([[-0.837961 ,  1.1632633]], dtype=float32)]\n",
      "paper-20180625_10_9.jpg\n",
      "717 : [array([[-0.92855424,  1.2596704 ]], dtype=float32)]\n",
      "paper-20180625_11_12.jpg\n",
      "718 : [array([[-0.8985226,  1.2263331]], dtype=float32)]\n",
      "paper-20180625_11_13.jpg\n",
      "719 : [array([[-0.13802223,  0.425708  ]], dtype=float32)]\n",
      "paper-20180625_11_14.jpg\n",
      "720 : [array([[-0.15787148,  0.44450012]], dtype=float32)]\n",
      "paper-20180625_11_15.jpg\n",
      "721 : [array([[-0.21985185,  0.5112174 ]], dtype=float32)]\n",
      "paper-20180625_12_16.jpg\n",
      "722 : [array([[-0.25106663,  0.54147863]], dtype=float32)]\n",
      "paper-20180625_12_17.jpg\n",
      "723 : [array([[-0.18253054,  0.47222158]], dtype=float32)]\n",
      "paper-20180625_12_18.jpg\n",
      "724 : [array([[-0.7625117,  1.0756385]], dtype=float32)]\n",
      "paper-20180625_12_19.jpg\n",
      "725 : [array([[-0.86649024,  1.1925213 ]], dtype=float32)]\n",
      "paper-20180625_13_20.jpg\n",
      "726 : [array([[-0.7651671,  1.0862092]], dtype=float32)]\n",
      "paper-20180625_13_21.jpg\n",
      "727 : [array([[-0.9231314,  1.2555331]], dtype=float32)]\n",
      "paper-20180625_13_22.jpg\n",
      "728 : [array([[-0.8898591,  1.21773  ]], dtype=float32)]\n",
      "paper-20180625_13_23.jpg\n",
      "729 : [array([[-0.8352847,  1.1598896]], dtype=float32)]\n",
      "paper-20180625_14_24.jpg\n",
      "730 : [array([[-0.9225098,  1.2537137]], dtype=float32)]\n",
      "paper-20180625_14_25.jpg\n",
      "731 : [array([[-0.83018714,  1.1534201 ]], dtype=float32)]\n",
      "paper-20180625_14_26.jpg\n",
      "732 : [array([[-0.9293657,  1.2605712]], dtype=float32)]\n",
      "paper-20180625_14_27.jpg\n",
      "733 : [array([[-0.99788475,  1.3323905 ]], dtype=float32)]\n",
      "paper-20180625_15_28.jpg\n",
      "734 : [array([[-0.77347195,  1.0981812 ]], dtype=float32)]\n",
      "paper-20180625_15_29.jpg\n",
      "735 : [array([[-0.8049882,  1.1275063]], dtype=float32)]\n",
      "paper-20180625_15_30.jpg\n",
      "736 : [array([[-0.8396845,  1.1680363]], dtype=float32)]\n",
      "paper-20180625_15_31.jpg\n",
      "737 : [array([[-0.8786399,  1.2065529]], dtype=float32)]\n",
      "paper-20180625_16_32.jpg\n",
      "738 : [array([[-1.0026642,  1.3359805]], dtype=float32)]\n",
      "paper-20180625_16_33.jpg\n",
      "739 : [array([[-0.87387097,  1.198833  ]], dtype=float32)]\n",
      "paper-20180625_16_34.jpg\n",
      "740 : [array([[-0.03922166,  0.32474142]], dtype=float32)]\n",
      "paper-20180625_16_35.jpg\n",
      "741 : [array([[-0.9305661,  1.2609202]], dtype=float32)]\n",
      "paper-20180625_17_36.jpg\n",
      "742 : [array([[-1.0196515,  1.3565886]], dtype=float32)]\n",
      "paper-20180625_17_37.jpg\n",
      "743 : [array([[-0.9407988,  1.273057 ]], dtype=float32)]\n",
      "paper-20180625_17_38.jpg\n",
      "744 : [array([[-0.937051 ,  1.2671455]], dtype=float32)]\n",
      "paper-20180625_17_39.jpg\n",
      "745 : [array([[-0.01023858,  0.2853655 ]], dtype=float32)]\n",
      "paper-20180625_18_40.jpg\n",
      "746 : [array([[0.25023267, 0.00744329]], dtype=float32)]\n",
      "paper-20180625_1_4.jpg\n",
      "747 : [array([[-1.0407728,  1.3816665]], dtype=float32)]\n",
      "paper-20180625_1_5.jpg\n",
      "748 : [array([[-0.9800644,  1.3195633]], dtype=float32)]\n",
      "paper-20180625_1_6.jpg\n",
      "749 : [array([[-0.9364336,  1.2640212]], dtype=float32)]\n",
      "paper-20180625_1_7.jpg\n",
      "750 : [array([[-1.1395017,  1.4854944]], dtype=float32)]\n",
      "paper-20180625_2_48.jpg\n",
      "751 : [array([[-1.0401129,  1.3823259]], dtype=float32)]\n",
      "paper-20180625_2_49.jpg\n",
      "752 : [array([[-1.0935298,  1.4373876]], dtype=float32)]\n",
      "paper-20180625_2_50.jpg\n",
      "753 : [array([[-1.0730925,  1.4111118]], dtype=float32)]\n",
      "paper-20180625_2_51.jpg\n",
      "754 : [array([[-0.9187359,  1.2529118]], dtype=float32)]\n",
      "paper-20180625_3_69.jpg\n",
      "755 : [array([[-1.0039488,  1.3446996]], dtype=float32)]\n",
      "paper-20180625_3_70.jpg\n",
      "756 : [array([[-0.9816282,  1.3178836]], dtype=float32)]\n",
      "paper-20180625_3_71.jpg\n",
      "757 : [array([[-0.6539672,  0.9655745]], dtype=float32)]\n",
      "paper-20180625_3_72.jpg\n",
      "758 : [array([[-0.6738735,  0.9935665]], dtype=float32)]\n",
      "paper-20180625_4_73.jpg\n",
      "759 : [array([[-0.68665767,  1.0009314 ]], dtype=float32)]\n",
      "paper-20180625_4_74.jpg\n",
      "760 : [array([[-1.4608898,  1.8235921]], dtype=float32)]\n",
      "paper-20180625_4_75.jpg\n",
      "761 : [array([[-1.0920032,  1.4334371]], dtype=float32)]\n",
      "paper-20180625_4_76.jpg\n",
      "762 : [array([[-1.0729146,  1.4162083]], dtype=float32)]\n",
      "paper-20180625_5_77.jpg\n",
      "763 : [array([[-0.89888865,  1.2260802 ]], dtype=float32)]\n",
      "paper-20180625_5_78.jpg\n",
      "764 : [array([[-1.0049204,  1.3431104]], dtype=float32)]\n",
      "paper-20180625_5_79.jpg\n",
      "765 : [array([[-1.1341432,  1.4793607]], dtype=float32)]\n",
      "paper-20180625_5_80.jpg\n",
      "766 : [array([[-1.0577959,  1.39569  ]], dtype=float32)]\n",
      "paper-20180625_6_81.jpg\n",
      "767 : [array([[-0.9622162,  1.2941576]], dtype=float32)]\n",
      "paper-20180625_6_82.jpg\n",
      "768 : [array([[-1.1137075,  1.4566551]], dtype=float32)]\n",
      "paper-20180625_6_83.jpg\n",
      "769 : [array([[-1.0569314,  1.3947126]], dtype=float32)]\n",
      "paper-20180625_6_84.jpg\n",
      "770 : [array([[-0.9517781,  1.2833593]], dtype=float32)]\n",
      "paper-20180625_7_85.jpg\n",
      "771 : [array([[-1.0433908,  1.3831673]], dtype=float32)]\n",
      "paper-20180625_7_86.jpg\n",
      "772 : [array([[-0.7957226,  1.1176696]], dtype=float32)]\n",
      "paper-20180625_7_87.jpg\n",
      "773 : [array([[-0.6202417,  0.9314744]], dtype=float32)]\n",
      "paper-20180625_7_88.jpg\n",
      "774 : [array([[-0.66207266,  0.9762281 ]], dtype=float32)]\n",
      "paper-20180625_8_89.jpg\n",
      "775 : [array([[-0.9535907,  1.2836884]], dtype=float32)]\n",
      "paper-20180625_8_90.jpg\n",
      "776 : [array([[-1.0545127,  1.391176 ]], dtype=float32)]\n",
      "paper-20180625_8_91.jpg\n",
      "777 : [array([[-1.0989815,  1.4404082]], dtype=float32)]\n",
      "paper-20180625_8_92.jpg\n",
      "778 : [array([[-1.0954492,  1.4362876]], dtype=float32)]\n",
      "paper-20180625_9_93.jpg\n",
      "779 : [array([[-0.6610715 ,  0.97557235]], dtype=float32)]\n",
      "paper-20180625_9_94.jpg\n",
      "780 : [array([[-0.85568553,  1.1839156 ]], dtype=float32)]\n",
      "paper-20180625_9_95.jpg\n",
      "781 : [array([[-0.63269466,  0.9489615 ]], dtype=float32)]\n",
      "paper-20180625_9_96.jpg\n",
      "782 : [array([[-0.765476 ,  1.0861472]], dtype=float32)]\n",
      "paper-20180626_10_10.jpg\n",
      "783 : [array([[-0.58607334,  0.89322877]], dtype=float32)]\n",
      "paper-20180626_10_11.jpg\n",
      "784 : [array([[-0.58001304,  0.8920537 ]], dtype=float32)]\n",
      "paper-20180626_10_8.jpg\n",
      "785 : [array([[-0.48437643,  0.79210424]], dtype=float32)]\n",
      "paper-20180626_10_9.jpg\n",
      "786 : [array([[-0.95137215,  1.2864438 ]], dtype=float32)]\n",
      "paper-20180626_11_12.jpg\n",
      "787 : [array([[-0.57486624,  0.8872892 ]], dtype=float32)]\n",
      "paper-20180626_11_13.jpg\n",
      "788 : [array([[-0.600062  ,  0.91258824]], dtype=float32)]\n",
      "paper-20180626_11_14.jpg\n",
      "789 : [array([[-0.6955836,  1.010538 ]], dtype=float32)]\n",
      "paper-20180626_12_17.jpg\n",
      "790 : [array([[-0.8591617,  1.1838574]], dtype=float32)]\n",
      "paper-20180626_12_18.jpg\n",
      "791 : [array([[-0.6861425,  0.9978093]], dtype=float32)]\n",
      "paper-20180626_12_19.jpg\n",
      "792 : [array([[-0.7466253,  1.0639316]], dtype=float32)]\n",
      "paper-20180626_13_20.jpg\n",
      "793 : [array([[-0.8500223,  1.1781099]], dtype=float32)]\n",
      "paper-20180626_13_21.jpg\n",
      "794 : [array([[-0.90427595,  1.233151  ]], dtype=float32)]\n",
      "paper-20180626_13_22.jpg\n",
      "795 : [array([[-0.932454 ,  1.2622048]], dtype=float32)]\n",
      "paper-20180626_13_23.jpg\n",
      "796 : [array([[-0.9600076,  1.2895261]], dtype=float32)]\n",
      "paper-20180626_14_24.jpg\n",
      "797 : [array([[-0.8552587,  1.1774307]], dtype=float32)]\n",
      "paper-20180626_14_25.jpg\n",
      "798 : [array([[-0.91953635,  1.2443684 ]], dtype=float32)]\n",
      "paper-20180626_14_26.jpg\n",
      "799 : [array([[-0.65976447,  0.9704361 ]], dtype=float32)]\n",
      "paper-20180626_14_27.jpg\n",
      "800 : [array([[-0.91398716,  1.2429202 ]], dtype=float32)]\n",
      "paper-20180626_15_28.jpg\n",
      "801 : [array([[-0.8689113,  1.1885858]], dtype=float32)]\n",
      "paper-20180626_15_29.jpg\n",
      "802 : [array([[-0.7962244,  1.1131105]], dtype=float32)]\n",
      "paper-20180626_15_30.jpg\n",
      "803 : [array([[-0.67664224,  0.9877777 ]], dtype=float32)]\n",
      "paper-20180626_15_31.jpg\n",
      "804 : [array([[-0.8380084,  1.1626352]], dtype=float32)]\n",
      "paper-20180626_16_32.jpg\n",
      "805 : [array([[-0.7630071,  1.0835973]], dtype=float32)]\n",
      "paper-20180626_16_33.jpg\n",
      "806 : [array([[-0.781092 ,  1.1040667]], dtype=float32)]\n",
      "paper-20180626_16_34.jpg\n",
      "807 : [array([[-0.87945044,  1.2139229 ]], dtype=float32)]\n",
      "paper-20180626_19_47.jpg\n",
      "808 : [array([[-0.6978618,  1.0160683]], dtype=float32)]\n",
      "paper-20180626_20_52.jpg\n",
      "809 : [array([[-0.81505823,  1.1399739 ]], dtype=float32)]\n",
      "paper-20180626_21_57.jpg\n",
      "810 : [array([[0.24731317, 0.02764482]], dtype=float32)]\n",
      "paper-20180626_22_63.jpg\n",
      "811 : [array([[-0.204828 ,  0.5014434]], dtype=float32)]\n",
      "paper-20180626_2_48.jpg\n",
      "812 : [array([[-1.151845 ,  1.4820138]], dtype=float32)]\n",
      "paper-20180626_3_69.jpg\n",
      "813 : [array([[-0.740664 ,  1.0646921]], dtype=float32)]\n",
      "paper-20180627_14_27.jpg\n",
      "814 : [array([[-0.671334 ,  0.9898999]], dtype=float32)]\n",
      "paper-20180627_21_58.jpg\n",
      "815 : [array([[-0.3938629 ,  0.70213825]], dtype=float32)]\n",
      "paper-20180627_21_59.jpg\n",
      "816 : [array([[-0.34056988,  0.6541625 ]], dtype=float32)]\n",
      "paper-20180627_22_60.jpg\n",
      "817 : [array([[-0.34577048,  0.64607096]], dtype=float32)]\n",
      "paper-20180627_22_61.jpg\n",
      "818 : [array([[-0.2736302,  0.582918 ]], dtype=float32)]\n",
      "paper-20180627_22_62.jpg\n",
      "819 : [array([[-0.35127574,  0.6649828 ]], dtype=float32)]\n",
      "paper-20180627_22_63.jpg\n",
      "820 : [array([[-0.18168664,  0.49013075]], dtype=float32)]\n",
      "paper-20180627_23_64.jpg\n",
      "821 : [array([[-0.04985476,  0.34363082]], dtype=float32)]\n",
      "paper-20180627_23_65.jpg\n",
      "822 : [array([[-0.13034375,  0.41341057]], dtype=float32)]\n",
      "paper-20180627_23_67.jpg\n",
      "823 : [array([[-0.03071312,  0.3250113 ]], dtype=float32)]\n",
      "paper-20180628_10_10.jpg\n",
      "824 : [array([[-1.1853353,  1.5376081]], dtype=float32)]\n",
      "paper-20180628_10_11.jpg\n",
      "825 : [array([[-1.179017 ,  1.5313662]], dtype=float32)]\n",
      "paper-20180628_11_13.jpg\n",
      "826 : [array([[-1.2527802,  1.6132776]], dtype=float32)]\n",
      "paper-20180628_12_19.jpg\n",
      "827 : [array([[-0.7019596,  1.0228558]], dtype=float32)]\n",
      "paper-20180628_13_23.jpg\n",
      "828 : [array([[-0.96393895,  1.2960688 ]], dtype=float32)]\n",
      "paper-20180628_22_62.jpg\n",
      "829 : [array([[-0.39673874,  0.6753303 ]], dtype=float32)]\n",
      "paper-20180628_22_63.jpg\n",
      "830 : [array([[-0.6360984,  0.9466753]], dtype=float32)]\n",
      "paper-20180628_23_64.jpg\n",
      "831 : [array([[-0.60928047,  0.9196749 ]], dtype=float32)]\n",
      "paper-20180628_23_65.jpg\n",
      "832 : [array([[-0.68547267,  1.0090275 ]], dtype=float32)]\n",
      "paper-20180628_23_66.jpg\n",
      "833 : [array([[-0.84783983,  1.1512636 ]], dtype=float32)]\n",
      "paper-20180628_23_67.jpg\n",
      "834 : [array([[ 0.41726428, -0.13233568]], dtype=float32)]\n",
      "paper-20180628_24_68.jpg\n",
      "835 : [array([[0.18098332, 0.11172339]], dtype=float32)]\n",
      "paper-20180628_3_70.jpg\n",
      "836 : [array([[-0.6554117,  0.9858477]], dtype=float32)]\n",
      "paper-20180629_21_56.jpg\n",
      "837 : [array([[0.00193862, 0.27561778]], dtype=float32)]\n",
      "paper-20180629_21_57.jpg\n",
      "838 : [array([[-0.3270978 ,  0.62417585]], dtype=float32)]\n",
      "paper-20180629_21_58.jpg\n",
      "839 : [array([[0.02365566, 0.26727608]], dtype=float32)]\n",
      "paper-20180629_21_59.jpg\n",
      "840 : [array([[ 0.3617307 , -0.10106158]], dtype=float32)]\n",
      "paper-20180629_22_60.jpg\n",
      "841 : [array([[ 0.36088943, -0.09604588]], dtype=float32)]\n",
      "paper-20180629_22_61.jpg\n",
      "842 : [array([[ 0.3657928 , -0.09400041]], dtype=float32)]\n",
      "paper-20180629_22_63.jpg\n",
      "843 : [array([[0.04261373, 0.24659784]], dtype=float32)]\n",
      "paper-20180629_23_66.jpg\n",
      "844 : [array([[-0.02292163,  0.31520435]], dtype=float32)]\n",
      "paper-20180629_23_67.jpg\n"
     ]
    },
    {
     "name": "stdout",
     "output_type": "stream",
     "text": [
      "845 : [array([[-0.16308224,  0.45230436]], dtype=float32)]\n",
      "paper-20180629_24_68.jpg\n",
      "846 : [array([[-0.13753253,  0.42823103]], dtype=float32)]\n",
      "paper-20180630_0_0.jpg\n",
      "847 : [array([[-0.965272 ,  1.2915962]], dtype=float32)]\n",
      "paper-20180630_0_1.jpg\n",
      "848 : [array([[-1.0306765,  1.3731645]], dtype=float32)]\n",
      "paper-20180630_0_2.jpg\n",
      "849 : [array([[-0.88288796,  1.2125    ]], dtype=float32)]\n",
      "paper-20180630_0_3.jpg\n",
      "850 : [array([[-0.9056346,  1.2316298]], dtype=float32)]\n",
      "paper-20180630_10_10.jpg\n",
      "851 : [array([[-1.089932 ,  1.4302689]], dtype=float32)]\n",
      "paper-20180630_10_11.jpg\n",
      "852 : [array([[-1.0220884,  1.3599321]], dtype=float32)]\n",
      "paper-20180630_10_8.jpg\n",
      "853 : [array([[-1.0731422,  1.4143358]], dtype=float32)]\n",
      "paper-20180630_10_9.jpg\n",
      "854 : [array([[-1.1015687,  1.4455788]], dtype=float32)]\n",
      "paper-20180630_11_12.jpg\n",
      "855 : [array([[-1.0448935,  1.384747 ]], dtype=float32)]\n",
      "paper-20180630_12_16.jpg\n",
      "856 : [array([[-1.0093195,  1.3425325]], dtype=float32)]\n",
      "paper-20180630_12_17.jpg\n",
      "857 : [array([[-1.022935 ,  1.3561977]], dtype=float32)]\n",
      "paper-20180630_13_21.jpg\n",
      "858 : [array([[-0.95625603,  1.2858595 ]], dtype=float32)]\n",
      "paper-20180630_15_30.jpg\n",
      "859 : [array([[0.10830453, 0.16339402]], dtype=float32)]\n",
      "paper-20180630_17_39.jpg\n",
      "860 : [array([[-1.3989289,  1.7591869]], dtype=float32)]\n",
      "paper-20180630_3_71.jpg\n",
      "861 : [array([[-0.93471766,  1.2651478 ]], dtype=float32)]\n",
      "paper-20180630_4_76.jpg\n",
      "862 : [array([[-1.0600841,  1.4013406]], dtype=float32)]\n",
      "paper-20180630_5_77.jpg\n",
      "863 : [array([[-1.073749 ,  1.4158906]], dtype=float32)]\n",
      "paper-20180630_7_88.jpg\n",
      "864 : [array([[-1.1953874,  1.5397369]], dtype=float32)]\n",
      "paper-20180630_9_95.jpg\n",
      "865 : [array([[-1.1839213,  1.5302538]], dtype=float32)]\n"
     ]
    }
   ],
   "source": [
    "path = \"D:/TruckDriver/darkflow/mlp-training/\"\n",
    "count = 0\n",
    "for f in os.listdir(path):\n",
    "    if 'jpg' in f:\n",
    "        img5 = cv2.imread(path+f,0)\n",
    "        img5 = cv2.resize(img5, (100,100))\n",
    "        img5 = img5.flatten()\n",
    "        test1 = np.array([]).reshape((0 ,img5.shape[0]))\n",
    "        test1 = np.row_stack([test1, img5.flatten()])\n",
    "        #test1 = img4\n",
    "        test1 /= 255.\n",
    "        #test1\n",
    "        #testy1 = np.array([]).reshape((0 ,y_train.shape[1]))\n",
    "        #testy1 = np.row_stack([testy1, class_y[0]])\n",
    "        tr_pred = sess.run([y_pred], feed_dict={input_data:test1,})\n",
    "        print(f)\n",
    "        print(str(count)+\" : \"+str(tr_pred))\n",
    "        count+=1"
   ]
  },
  {
   "cell_type": "code",
   "execution_count": 23,
   "metadata": {},
   "outputs": [
    {
     "data": {
      "text/plain": [
       "'saved_models/model.ckpt'"
      ]
     },
     "execution_count": 23,
     "metadata": {},
     "output_type": "execute_result"
    }
   ],
   "source": [
    "saver = tf.train.Saver()\n",
    "#先指定主路徑\n",
    "maindir=\"D:/TruckDriver/darkflow/mlp-training/\"\n",
    "if not os.path.isdir(maindir):\n",
    "    os.makedirs(maindir)\n",
    "    os.chdir(maindir)\n",
    "else:\n",
    "    os.chdir(maindir)\n",
    "#再指定存檔相對路徑存檔\n",
    "saver.save(sess, \"saved_models/model.ckpt\")"
   ]
  },
  {
   "cell_type": "code",
   "execution_count": null,
   "metadata": {},
   "outputs": [],
   "source": []
  },
  {
   "cell_type": "code",
   "execution_count": null,
   "metadata": {},
   "outputs": [],
   "source": []
  },
  {
   "cell_type": "code",
   "execution_count": null,
   "metadata": {},
   "outputs": [],
   "source": []
  },
  {
   "cell_type": "code",
   "execution_count": null,
   "metadata": {},
   "outputs": [],
   "source": []
  },
  {
   "cell_type": "code",
   "execution_count": null,
   "metadata": {},
   "outputs": [],
   "source": []
  }
 ],
 "metadata": {
  "kernelspec": {
   "display_name": "Python 3",
   "language": "python",
   "name": "python3"
  },
  "language_info": {
   "codemirror_mode": {
    "name": "ipython",
    "version": 3
   },
   "file_extension": ".py",
   "mimetype": "text/x-python",
   "name": "python",
   "nbconvert_exporter": "python",
   "pygments_lexer": "ipython3",
   "version": "3.6.6"
  }
 },
 "nbformat": 4,
 "nbformat_minor": 2
}
