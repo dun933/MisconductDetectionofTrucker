{
 "cells": [
  {
   "cell_type": "markdown",
   "metadata": {},
   "source": [
    "# Transformation of MLP training data from annotation"
   ]
  },
  {
   "cell_type": "code",
   "execution_count": 1,
   "metadata": {},
   "outputs": [],
   "source": [
    "import os,re,cv2\n",
    "import numpy as np"
   ]
  },
  {
   "cell_type": "markdown",
   "metadata": {},
   "source": [
    "## Setting"
   ]
  },
  {
   "cell_type": "code",
   "execution_count": 2,
   "metadata": {},
   "outputs": [],
   "source": [
    "path = '../yolo_truck_driver/'\n",
    "save_folder = 'mlp-training/'\n",
    "expansion_rate = 2"
   ]
  },
  {
   "cell_type": "markdown",
   "metadata": {},
   "source": [
    "## Run"
   ]
  },
  {
   "cell_type": "code",
   "execution_count": 3,
   "metadata": {},
   "outputs": [],
   "source": [
    "def expansion(img,bbox,rate):\n",
    "    width = bbox[1] - bbox[0]\n",
    "    height = bbox[3] - bbox[2]\n",
    "    center = [bbox[0]+width/2,bbox[2]+height/2]\n",
    "    \n",
    "    new_bbox = [round(center[0] - (width/2)*rate), \\\n",
    "                round(center[0] + (width/2)*rate), \\\n",
    "                round(center[1] - (height/2)*rate), \\\n",
    "                round(center[1] + (height/2)*rate) ]\n",
    "    img = img[new_bbox[2]:new_bbox[3], new_bbox[0]:new_bbox[1]]\n",
    "    #print(center)\n",
    "    #print(new_bbox)\n",
    "    return img\n",
    "    \n",
    "for file in os.listdir(path+'annotation/'):\n",
    "    label = 'cellphone-'\n",
    "    image_path = path + 'images/' + file[:file.index('.xml')] + '.jpg'\n",
    "    anno_path  = path + 'annotation/' + file\n",
    "    img = cv2.imread(image_path)\n",
    "    with open(anno_path,'r+') as f:\n",
    "        content = f.read()\n",
    "        \n",
    "        xmin = int(re.findall('<xmin>(.*?)</xmin>', content)[0])\n",
    "        xmax = int(re.findall('<xmax>(.*?)</xmax>', content)[0])\n",
    "        ymin = int(re.findall('<ymin>(.*?)</ymin>', content)[0])\n",
    "        ymax = int(re.findall('<ymax>(.*?)</ymax>', content)[0])\n",
    "        #print(file,[xmin,xmax,ymin,ymax])\n",
    "        img = expansion(img,[xmin,xmax,ymin,ymax],expansion_rate)\n",
    "        f.close()\n",
    "    #print(img[ymin:ymax,xmin:xmax])    \n",
    "    cv2.imwrite(save_folder+label+file[:file.index('.xml')]+'.jpg',img)"
   ]
  },
  {
   "cell_type": "code",
   "execution_count": null,
   "metadata": {},
   "outputs": [],
   "source": []
  },
  {
   "cell_type": "code",
   "execution_count": null,
   "metadata": {},
   "outputs": [],
   "source": []
  },
  {
   "cell_type": "code",
   "execution_count": null,
   "metadata": {},
   "outputs": [],
   "source": []
  },
  {
   "cell_type": "code",
   "execution_count": null,
   "metadata": {},
   "outputs": [],
   "source": []
  },
  {
   "cell_type": "code",
   "execution_count": null,
   "metadata": {},
   "outputs": [],
   "source": []
  }
 ],
 "metadata": {
  "kernelspec": {
   "display_name": "Python 3",
   "language": "python",
   "name": "python3"
  },
  "language_info": {
   "codemirror_mode": {
    "name": "ipython",
    "version": 3
   },
   "file_extension": ".py",
   "mimetype": "text/x-python",
   "name": "python",
   "nbconvert_exporter": "python",
   "pygments_lexer": "ipython3",
   "version": "3.6.6"
  }
 },
 "nbformat": 4,
 "nbformat_minor": 2
}
